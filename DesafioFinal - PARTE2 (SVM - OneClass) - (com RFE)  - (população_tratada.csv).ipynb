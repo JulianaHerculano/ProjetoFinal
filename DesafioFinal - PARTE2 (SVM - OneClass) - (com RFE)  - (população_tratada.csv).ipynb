{
 "cells": [
  {
   "cell_type": "code",
   "execution_count": 1,
   "metadata": {},
   "outputs": [],
   "source": [
    "# Importando as Bibliotecas\n",
    "import pandas as pd\n",
    "from sklearn.svm import OneClassSVM\n",
    "from sklearn.model_selection import train_test_split"
   ]
  },
  {
   "cell_type": "code",
   "execution_count": 2,
   "metadata": {},
   "outputs": [],
   "source": [
    "# Lendo os arquivos\n",
    "csv_populacao_tratada = pd.read_csv('dataframe_populacao_tratada.csv')\n",
    "csv_portfolio1 = pd.read_csv('portfolio1.csv')\n",
    "csv_portfolio2 = pd.read_csv('portfolio2.csv')\n",
    "csv_portfolio3 = pd.read_csv('portfolio3.csv')\n",
    "\n",
    "# Criando DataFrame para cada um dos arquivos\n",
    "df_populacao = pd.DataFrame(csv_populacao_tratada)\n",
    "df_portfolio1 = pd.DataFrame(csv_portfolio1)\n",
    "df_portfolio2 = pd.DataFrame(csv_portfolio2)\n",
    "df_portfolio3 = pd.DataFrame(csv_portfolio3)"
   ]
  },
  {
   "cell_type": "code",
   "execution_count": 3,
   "metadata": {},
   "outputs": [
    {
     "data": {
      "text/plain": [
       "(462298, 267)"
      ]
     },
     "execution_count": 3,
     "metadata": {},
     "output_type": "execute_result"
    }
   ],
   "source": [
    "df_populacao.shape"
   ]
  },
  {
   "cell_type": "code",
   "execution_count": 4,
   "metadata": {},
   "outputs": [
    {
     "data": {
      "text/plain": [
       "(555, 182)"
      ]
     },
     "execution_count": 4,
     "metadata": {},
     "output_type": "execute_result"
    }
   ],
   "source": [
    "df_portfolio1.shape"
   ]
  },
  {
   "cell_type": "code",
   "execution_count": 5,
   "metadata": {},
   "outputs": [
    {
     "data": {
      "text/plain": [
       "(566, 2)"
      ]
     },
     "execution_count": 5,
     "metadata": {},
     "output_type": "execute_result"
    }
   ],
   "source": [
    "df_portfolio2.shape"
   ]
  },
  {
   "cell_type": "code",
   "execution_count": 6,
   "metadata": {},
   "outputs": [
    {
     "data": {
      "text/plain": [
       "(265, 2)"
      ]
     },
     "execution_count": 6,
     "metadata": {},
     "output_type": "execute_result"
    }
   ],
   "source": [
    "df_portfolio3.shape"
   ]
  },
  {
   "cell_type": "markdown",
   "metadata": {},
   "source": [
    "## TREINO e TESTE"
   ]
  },
  {
   "cell_type": "code",
   "execution_count": 7,
   "metadata": {},
   "outputs": [],
   "source": [
    "# DataFrame (df_entrada): é o DataFrame criado a partir da lista de clientes do usuário (upload arquivo)\n",
    "# Queremos apenas o valor de \"id\". As outras colunas \"não interessam, pois já temos as informações na população\n",
    "df_entrada = pd.DataFrame(df_portfolio2['id'])\n",
    "\n",
    "# Criando a coluna \"target\" no DataFrame que recebemos de entrada (que contém a lista das empresas (portfolio))\n",
    "# E atribuindo o valor target = 1\n",
    "df_entrada['target'] = 1"
   ]
  },
  {
   "cell_type": "code",
   "execution_count": 8,
   "metadata": {},
   "outputs": [
    {
     "data": {
      "text/plain": [
       "Index(['id', 'target'], dtype='object')"
      ]
     },
     "execution_count": 8,
     "metadata": {},
     "output_type": "execute_result"
    }
   ],
   "source": [
    "df_entrada.columns"
   ]
  },
  {
   "cell_type": "code",
   "execution_count": 9,
   "metadata": {},
   "outputs": [],
   "source": [
    "df_completo = pd.merge(df_populacao, df_entrada, how='outer', on ='id')"
   ]
  },
  {
   "cell_type": "code",
   "execution_count": 10,
   "metadata": {},
   "outputs": [
    {
     "data": {
      "text/plain": [
       "(462298, 268)"
      ]
     },
     "execution_count": 10,
     "metadata": {},
     "output_type": "execute_result"
    }
   ],
   "source": [
    "df_completo.shape"
   ]
  },
  {
   "cell_type": "code",
   "execution_count": 11,
   "metadata": {},
   "outputs": [],
   "source": [
    "df_completo.drop(columns = 'Unnamed: 0', inplace = True)"
   ]
  },
  {
   "cell_type": "code",
   "execution_count": 12,
   "metadata": {},
   "outputs": [
    {
     "data": {
      "text/plain": [
       "(462298, 267)"
      ]
     },
     "execution_count": 12,
     "metadata": {},
     "output_type": "execute_result"
    }
   ],
   "source": [
    "df_completo.shape"
   ]
  },
  {
   "cell_type": "code",
   "execution_count": 13,
   "metadata": {},
   "outputs": [],
   "source": [
    "# Colocando zeros onde \"Target\" é NaN (ou seja, != 1)\n",
    "df_completo['target'].fillna(value = 0, inplace=True)"
   ]
  },
  {
   "cell_type": "code",
   "execution_count": 14,
   "metadata": {},
   "outputs": [
    {
     "data": {
      "text/plain": [
       "0"
      ]
     },
     "execution_count": 14,
     "metadata": {},
     "output_type": "execute_result"
    }
   ],
   "source": [
    "df_completo['target'].isna().sum()"
   ]
  },
  {
   "cell_type": "code",
   "execution_count": 15,
   "metadata": {},
   "outputs": [],
   "source": [
    "# Vamos trabalhar com o DataFrame (df_completo)"
   ]
  },
  {
   "cell_type": "markdown",
   "metadata": {},
   "source": [
    "## RFE !"
   ]
  },
  {
   "cell_type": "code",
   "execution_count": 16,
   "metadata": {},
   "outputs": [],
   "source": [
    "from sklearn.feature_selection import RFE\n",
    "from sklearn.linear_model import LinearRegression\n",
    "from sklearn.svm import SVR"
   ]
  },
  {
   "cell_type": "code",
   "execution_count": 17,
   "metadata": {},
   "outputs": [
    {
     "data": {
      "text/plain": [
       "(566, 2)"
      ]
     },
     "execution_count": 17,
     "metadata": {},
     "output_type": "execute_result"
    }
   ],
   "source": [
    "df_entrada.shape"
   ]
  },
  {
   "cell_type": "code",
   "execution_count": 18,
   "metadata": {},
   "outputs": [],
   "source": [
    "#df_completo_RFE = df_completo\n",
    "#df_completo_RFE.drop(columns= 'id', inplace = True)"
   ]
  },
  {
   "cell_type": "code",
   "execution_count": 19,
   "metadata": {},
   "outputs": [],
   "source": [
    "df_completo_RFE = pd.merge(df_entrada, df_populacao, how='inner', on ='id')"
   ]
  },
  {
   "cell_type": "code",
   "execution_count": 20,
   "metadata": {},
   "outputs": [],
   "source": [
    "salvando_ID = df_completo_RFE['id']"
   ]
  },
  {
   "cell_type": "code",
   "execution_count": 21,
   "metadata": {},
   "outputs": [
    {
     "data": {
      "text/html": [
       "<div>\n",
       "<style scoped>\n",
       "    .dataframe tbody tr th:only-of-type {\n",
       "        vertical-align: middle;\n",
       "    }\n",
       "\n",
       "    .dataframe tbody tr th {\n",
       "        vertical-align: top;\n",
       "    }\n",
       "\n",
       "    .dataframe thead th {\n",
       "        text-align: right;\n",
       "    }\n",
       "</style>\n",
       "<table border=\"1\" class=\"dataframe\">\n",
       "  <thead>\n",
       "    <tr style=\"text-align: right;\">\n",
       "      <th></th>\n",
       "      <th>id</th>\n",
       "    </tr>\n",
       "  </thead>\n",
       "  <tbody>\n",
       "    <tr>\n",
       "      <th>0</th>\n",
       "      <td>09e95c1a84049001d086470a8f320a19b076f955a89122...</td>\n",
       "    </tr>\n",
       "    <tr>\n",
       "      <th>1</th>\n",
       "      <td>dc9d155f5bcd3172031e2ec9431786e8871ff4b0ff4728...</td>\n",
       "    </tr>\n",
       "    <tr>\n",
       "      <th>2</th>\n",
       "      <td>16843c9ffb920170477118933798510d8d5f00f5c56c12...</td>\n",
       "    </tr>\n",
       "    <tr>\n",
       "      <th>3</th>\n",
       "      <td>ff045934d90aab184dd15e66daf3b3c97193bda5449298...</td>\n",
       "    </tr>\n",
       "    <tr>\n",
       "      <th>4</th>\n",
       "      <td>a0ce528caab2c62497a548d0ebd9e935143ef81ed7dbf0...</td>\n",
       "    </tr>\n",
       "  </tbody>\n",
       "</table>\n",
       "</div>"
      ],
      "text/plain": [
       "                                                  id\n",
       "0  09e95c1a84049001d086470a8f320a19b076f955a89122...\n",
       "1  dc9d155f5bcd3172031e2ec9431786e8871ff4b0ff4728...\n",
       "2  16843c9ffb920170477118933798510d8d5f00f5c56c12...\n",
       "3  ff045934d90aab184dd15e66daf3b3c97193bda5449298...\n",
       "4  a0ce528caab2c62497a548d0ebd9e935143ef81ed7dbf0..."
      ]
     },
     "execution_count": 21,
     "metadata": {},
     "output_type": "execute_result"
    }
   ],
   "source": [
    "df_ID = pd.DataFrame({'id': salvando_ID})\n",
    "df_ID.head()"
   ]
  },
  {
   "cell_type": "code",
   "execution_count": 22,
   "metadata": {},
   "outputs": [],
   "source": [
    "df_completo_RFE.drop(columns = 'id', inplace = True)"
   ]
  },
  {
   "cell_type": "code",
   "execution_count": 23,
   "metadata": {},
   "outputs": [
    {
     "data": {
      "text/plain": [
       "(566, 267)"
      ]
     },
     "execution_count": 23,
     "metadata": {},
     "output_type": "execute_result"
    }
   ],
   "source": [
    "df_completo_RFE.shape"
   ]
  },
  {
   "cell_type": "code",
   "execution_count": 24,
   "metadata": {},
   "outputs": [],
   "source": [
    "Y_treino_RFE = df_completo_RFE['target']\n",
    "X_treino_RFE = df_completo_RFE.drop(columns = 'target')"
   ]
  },
  {
   "cell_type": "code",
   "execution_count": 25,
   "metadata": {},
   "outputs": [],
   "source": [
    "#reg= LinearRegression()\n",
    "#reg.fit(X_train, y_train)\n",
    "#rfe = RFE(reg)\n",
    "#rfe.fit(X_train, y_train)"
   ]
  },
  {
   "cell_type": "code",
   "execution_count": 26,
   "metadata": {},
   "outputs": [],
   "source": [
    "estimator = SVR(kernel=\"linear\")"
   ]
  },
  {
   "cell_type": "code",
   "execution_count": 27,
   "metadata": {},
   "outputs": [],
   "source": [
    "selector = RFE(estimator)"
   ]
  },
  {
   "cell_type": "code",
   "execution_count": 28,
   "metadata": {},
   "outputs": [],
   "source": [
    "selecionadas = selector.fit(X_treino_RFE, Y_treino_RFE)"
   ]
  },
  {
   "cell_type": "code",
   "execution_count": 29,
   "metadata": {},
   "outputs": [
    {
     "data": {
      "text/plain": [
       "RFE(estimator=SVR(C=1.0, cache_size=200, coef0=0.0, degree=3, epsilon=0.1,\n",
       "                  gamma='scale', kernel='linear', max_iter=-1, shrinking=True,\n",
       "                  tol=0.001, verbose=False),\n",
       "    n_features_to_select=None, step=1, verbose=0)"
      ]
     },
     "execution_count": 29,
     "metadata": {},
     "output_type": "execute_result"
    }
   ],
   "source": [
    "selecionadas"
   ]
  },
  {
   "cell_type": "code",
   "execution_count": 30,
   "metadata": {},
   "outputs": [],
   "source": [
    "df_colunas_RFE_auxiliar = pd.DataFrame({'coluna': X_treino_RFE.columns, 'bool': selector.get_support()})\n",
    "lista_colunas_NAO_selecionadas = list(df_colunas_RFE_auxiliar[df_colunas_RFE_auxiliar['bool'] == False]['coluna'])"
   ]
  },
  {
   "cell_type": "code",
   "execution_count": 31,
   "metadata": {},
   "outputs": [
    {
     "data": {
      "text/plain": [
       "133"
      ]
     },
     "execution_count": 31,
     "metadata": {},
     "output_type": "execute_result"
    }
   ],
   "source": [
    "len(lista_colunas_NAO_selecionadas)"
   ]
  },
  {
   "cell_type": "markdown",
   "metadata": {},
   "source": [
    "### Preparando o dataFrame para usarmos!"
   ]
  },
  {
   "cell_type": "code",
   "execution_count": 32,
   "metadata": {},
   "outputs": [],
   "source": [
    "df_completo_AUX = df_completo"
   ]
  },
  {
   "cell_type": "code",
   "execution_count": 33,
   "metadata": {},
   "outputs": [
    {
     "data": {
      "text/plain": [
       "(462298, 267)"
      ]
     },
     "execution_count": 33,
     "metadata": {},
     "output_type": "execute_result"
    }
   ],
   "source": [
    "df_completo_AUX.shape"
   ]
  },
  {
   "cell_type": "code",
   "execution_count": 34,
   "metadata": {},
   "outputs": [],
   "source": [
    "lista_colunas_NAO_selecionadas.remove('Unnamed: 0')"
   ]
  },
  {
   "cell_type": "code",
   "execution_count": 35,
   "metadata": {},
   "outputs": [],
   "source": [
    "df_colunasSelecionadas = df_completo_AUX.drop(columns = lista_colunas_NAO_selecionadas)"
   ]
  },
  {
   "cell_type": "code",
   "execution_count": 36,
   "metadata": {},
   "outputs": [
    {
     "data": {
      "text/plain": [
       "(462298, 135)"
      ]
     },
     "execution_count": 36,
     "metadata": {},
     "output_type": "execute_result"
    }
   ],
   "source": [
    "df_colunasSelecionadas.shape"
   ]
  },
  {
   "cell_type": "code",
   "execution_count": 37,
   "metadata": {},
   "outputs": [
    {
     "data": {
      "text/plain": [
       "Index(['id', 'nm_divisao_AGRICULTURA PECUARIA E SERVICOS RELACIONADOS',\n",
       "       'nm_divisao_ALIMENTACAO', 'nm_divisao_ALOJAMENTO',\n",
       "       'nm_divisao_ALUGUEIS NAO IMOBILIARIOS E GESTAO DE ATIVOS INTANGIVEIS NAO FINANCEIROS',\n",
       "       'nm_divisao_ARMAZENAMENTO E ATIVIDADES AUXILIARES DOS TRANSPORTES',\n",
       "       'nm_divisao_ATIVIDADES ARTISTICAS CRIATIVAS E DE ESPETACULOS',\n",
       "       'nm_divisao_ATIVIDADES AUXILIARES DOS SERVICOS FINANCEIROS SEGUROS PREVIDENCIA COMPLEMENTAR E PLANOS DE SAUDE',\n",
       "       'nm_divisao_ATIVIDADES CINEMATOGRAFICAS PRODUCAO DE VIDEOS E DE PROGRAMAS DE TELEVISAO GRAVACAO DE SOM E EDICAO DE MUSICA',\n",
       "       'nm_divisao_ATIVIDADES DE APOIO A EXTRACAO DE MINERAIS',\n",
       "       ...\n",
       "       'de_faixa_faturamento_estimado_grupo_DE R$ 10.000.000,01 A R$ 30.000.000,00',\n",
       "       'de_faixa_faturamento_estimado_grupo_DE R$ 100.000.000,01 A R$ 300.000.000,00',\n",
       "       'de_faixa_faturamento_estimado_grupo_DE R$ 30.000.000,01 A R$ 100.000.000,00',\n",
       "       'de_faixa_faturamento_estimado_grupo_DE R$ 300.000.000,01 A R$ 500.000.000,00',\n",
       "       'de_faixa_faturamento_estimado_grupo_DE R$ 360.000,01 A R$ 1.500.000,00',\n",
       "       'de_faixa_faturamento_estimado_grupo_DE R$ 4.800.000,01 A R$ 10.000.000,00',\n",
       "       'de_faixa_faturamento_estimado_grupo_DE R$ 500.000.000,01 A 1 BILHAO DE REAIS',\n",
       "       'de_faixa_faturamento_estimado_grupo_DE R$ 81.000,01 A R$ 360.000,00',\n",
       "       'fl_optante_simples', 'target'],\n",
       "      dtype='object', length=135)"
      ]
     },
     "execution_count": 37,
     "metadata": {},
     "output_type": "execute_result"
    }
   ],
   "source": [
    "df_colunasSelecionadas.columns"
   ]
  },
  {
   "cell_type": "markdown",
   "metadata": {},
   "source": [
    "### Avaliando: SVM.OneClass : TREINO e TESTE + SVM.OneClass\n",
    "#### Vou juntar todas as partes aqui para conseguir avaliar o algoritmo com os portfolios passados!"
   ]
  },
  {
   "cell_type": "markdown",
   "metadata": {},
   "source": [
    "#### TREINO e TESTE"
   ]
  },
  {
   "cell_type": "code",
   "execution_count": 38,
   "metadata": {},
   "outputs": [],
   "source": [
    "df_completo = df_colunasSelecionadas"
   ]
  },
  {
   "cell_type": "code",
   "execution_count": 39,
   "metadata": {},
   "outputs": [
    {
     "data": {
      "text/plain": [
       "(462298, 135)"
      ]
     },
     "execution_count": 39,
     "metadata": {},
     "output_type": "execute_result"
    }
   ],
   "source": [
    "df_completo.shape"
   ]
  },
  {
   "cell_type": "code",
   "execution_count": 40,
   "metadata": {},
   "outputs": [],
   "source": [
    "# Salvando os valores de \"id\" em (ArmazenandoID)\n",
    "ArmazenandoID = df_completo['id']\n",
    "#df_completo.drop(columns = 'id', inplace=True)"
   ]
  },
  {
   "cell_type": "code",
   "execution_count": 41,
   "metadata": {},
   "outputs": [],
   "source": [
    "# Definindo a base de TREINO (portfolio): Y_treino, X_treino\n",
    "# Salvando em \"df_completo_TREINO\" as linhas do DataFrame que tem \"target = 1\"\n",
    "df_completo_TREINO = df_completo.loc[(df_completo['target'] == 1)]\n",
    "\n",
    "Y_treino = df_completo_TREINO['target']\n",
    "X_treino = df_completo_TREINO.drop(columns ='target')"
   ]
  },
  {
   "cell_type": "code",
   "execution_count": 42,
   "metadata": {},
   "outputs": [],
   "source": [
    "X_treino_split, X_teste_split, Y_treino_split, Y_teste_split = train_test_split(X_treino, Y_treino, test_size=0.2)"
   ]
  },
  {
   "cell_type": "code",
   "execution_count": 43,
   "metadata": {},
   "outputs": [
    {
     "data": {
      "text/plain": [
       "(452, 134)"
      ]
     },
     "execution_count": 43,
     "metadata": {},
     "output_type": "execute_result"
    }
   ],
   "source": [
    "X_treino_split.shape"
   ]
  },
  {
   "cell_type": "code",
   "execution_count": 44,
   "metadata": {},
   "outputs": [
    {
     "data": {
      "text/plain": [
       "(114, 134)"
      ]
     },
     "execution_count": 44,
     "metadata": {},
     "output_type": "execute_result"
    }
   ],
   "source": [
    "X_teste_split.shape"
   ]
  },
  {
   "cell_type": "code",
   "execution_count": 45,
   "metadata": {},
   "outputs": [
    {
     "data": {
      "text/plain": [
       "(452,)"
      ]
     },
     "execution_count": 45,
     "metadata": {},
     "output_type": "execute_result"
    }
   ],
   "source": [
    "Y_treino_split.shape"
   ]
  },
  {
   "cell_type": "code",
   "execution_count": 46,
   "metadata": {},
   "outputs": [
    {
     "data": {
      "text/plain": [
       "(114,)"
      ]
     },
     "execution_count": 46,
     "metadata": {},
     "output_type": "execute_result"
    }
   ],
   "source": [
    "Y_teste_split.shape"
   ]
  },
  {
   "cell_type": "code",
   "execution_count": 47,
   "metadata": {},
   "outputs": [],
   "source": [
    "Y_treino = Y_treino_split\n",
    "X_treino = X_treino_split"
   ]
  },
  {
   "cell_type": "code",
   "execution_count": 48,
   "metadata": {},
   "outputs": [],
   "source": [
    "lista_ID_X_TREINO = list(X_treino['id'])"
   ]
  },
  {
   "cell_type": "code",
   "execution_count": 49,
   "metadata": {},
   "outputs": [],
   "source": [
    "df_lista_ID_X_TREINO = pd.DataFrame({'id': lista_ID_X_TREINO})"
   ]
  },
  {
   "cell_type": "code",
   "execution_count": 50,
   "metadata": {},
   "outputs": [],
   "source": [
    "# Definindo a base de TEST: X_teste, Y_predito\n",
    "# (população, excluindo as empresas que fazem parte da lista da empresa, ou seja, \"target = 0\")\n",
    "# Salvando em \"df_result_0\" as linhas do DataFrame que tem \"target = 0\"\n",
    "df_completo_TESTE = df_completo.loc[(df_completo['target'] == 0)]\n",
    "X_teste = df_completo_TESTE.drop(columns ='target')\n",
    "# Y_predito: vai ser o resultado da previsão do Modelo"
   ]
  },
  {
   "cell_type": "code",
   "execution_count": 51,
   "metadata": {},
   "outputs": [
    {
     "data": {
      "text/plain": [
       "(114, 134)"
      ]
     },
     "execution_count": 51,
     "metadata": {},
     "output_type": "execute_result"
    }
   ],
   "source": [
    "X_teste_split.shape"
   ]
  },
  {
   "cell_type": "code",
   "execution_count": 52,
   "metadata": {},
   "outputs": [
    {
     "data": {
      "text/plain": [
       "(114,)"
      ]
     },
     "execution_count": 52,
     "metadata": {},
     "output_type": "execute_result"
    }
   ],
   "source": [
    "Y_teste_split.shape"
   ]
  },
  {
   "cell_type": "code",
   "execution_count": 53,
   "metadata": {},
   "outputs": [
    {
     "data": {
      "text/plain": [
       "Index(['id', 'nm_divisao_AGRICULTURA PECUARIA E SERVICOS RELACIONADOS',\n",
       "       'nm_divisao_ALIMENTACAO', 'nm_divisao_ALOJAMENTO',\n",
       "       'nm_divisao_ALUGUEIS NAO IMOBILIARIOS E GESTAO DE ATIVOS INTANGIVEIS NAO FINANCEIROS',\n",
       "       'nm_divisao_ARMAZENAMENTO E ATIVIDADES AUXILIARES DOS TRANSPORTES',\n",
       "       'nm_divisao_ATIVIDADES ARTISTICAS CRIATIVAS E DE ESPETACULOS',\n",
       "       'nm_divisao_ATIVIDADES AUXILIARES DOS SERVICOS FINANCEIROS SEGUROS PREVIDENCIA COMPLEMENTAR E PLANOS DE SAUDE',\n",
       "       'nm_divisao_ATIVIDADES CINEMATOGRAFICAS PRODUCAO DE VIDEOS E DE PROGRAMAS DE TELEVISAO GRAVACAO DE SOM E EDICAO DE MUSICA',\n",
       "       'nm_divisao_ATIVIDADES DE APOIO A EXTRACAO DE MINERAIS',\n",
       "       ...\n",
       "       'de_faixa_faturamento_estimado_grupo_DE R$ 1.500.000,01 A R$ 4.800.000,00',\n",
       "       'de_faixa_faturamento_estimado_grupo_DE R$ 10.000.000,01 A R$ 30.000.000,00',\n",
       "       'de_faixa_faturamento_estimado_grupo_DE R$ 100.000.000,01 A R$ 300.000.000,00',\n",
       "       'de_faixa_faturamento_estimado_grupo_DE R$ 30.000.000,01 A R$ 100.000.000,00',\n",
       "       'de_faixa_faturamento_estimado_grupo_DE R$ 300.000.000,01 A R$ 500.000.000,00',\n",
       "       'de_faixa_faturamento_estimado_grupo_DE R$ 360.000,01 A R$ 1.500.000,00',\n",
       "       'de_faixa_faturamento_estimado_grupo_DE R$ 4.800.000,01 A R$ 10.000.000,00',\n",
       "       'de_faixa_faturamento_estimado_grupo_DE R$ 500.000.000,01 A 1 BILHAO DE REAIS',\n",
       "       'de_faixa_faturamento_estimado_grupo_DE R$ 81.000,01 A R$ 360.000,00',\n",
       "       'fl_optante_simples'],\n",
       "      dtype='object', length=134)"
      ]
     },
     "execution_count": 53,
     "metadata": {},
     "output_type": "execute_result"
    }
   ],
   "source": [
    "X_teste.columns"
   ]
  },
  {
   "cell_type": "code",
   "execution_count": 54,
   "metadata": {},
   "outputs": [],
   "source": [
    "lista_X_ID_TESTE_split = list(X_teste_split['id'])\n",
    "lista_X_ID_TREINO_split = list(X_treino_split['id'])"
   ]
  },
  {
   "cell_type": "code",
   "execution_count": 55,
   "metadata": {},
   "outputs": [],
   "source": [
    "df_X_ID_TESTE_split = pd.DataFrame({'id': lista_X_ID_TESTE_split})\n",
    "df_X_ID_TREINO_split = pd.DataFrame({'id': lista_X_ID_TREINO_split})"
   ]
  },
  {
   "cell_type": "code",
   "execution_count": 56,
   "metadata": {},
   "outputs": [
    {
     "data": {
      "text/plain": [
       "(452, 1)"
      ]
     },
     "execution_count": 56,
     "metadata": {},
     "output_type": "execute_result"
    }
   ],
   "source": [
    "df_X_ID_TREINO_split.shape"
   ]
  },
  {
   "cell_type": "code",
   "execution_count": 57,
   "metadata": {},
   "outputs": [
    {
     "data": {
      "text/html": [
       "<div>\n",
       "<style scoped>\n",
       "    .dataframe tbody tr th:only-of-type {\n",
       "        vertical-align: middle;\n",
       "    }\n",
       "\n",
       "    .dataframe tbody tr th {\n",
       "        vertical-align: top;\n",
       "    }\n",
       "\n",
       "    .dataframe thead th {\n",
       "        text-align: right;\n",
       "    }\n",
       "</style>\n",
       "<table border=\"1\" class=\"dataframe\">\n",
       "  <thead>\n",
       "    <tr style=\"text-align: right;\">\n",
       "      <th></th>\n",
       "      <th>id</th>\n",
       "    </tr>\n",
       "  </thead>\n",
       "  <tbody>\n",
       "    <tr>\n",
       "      <th>0</th>\n",
       "      <td>2e133e2783fa227cc615aef93f4420f6d814f0b3bd1e1b...</td>\n",
       "    </tr>\n",
       "    <tr>\n",
       "      <th>1</th>\n",
       "      <td>50db4ee673eb3137a5cfb79a732a3f45a8d15f9f42e6b1...</td>\n",
       "    </tr>\n",
       "    <tr>\n",
       "      <th>2</th>\n",
       "      <td>f9657d3dca78c3d1a6f26f22379ef83aee9d4ecec19699...</td>\n",
       "    </tr>\n",
       "    <tr>\n",
       "      <th>3</th>\n",
       "      <td>3a2258e745f338ee08c5ef5ae655485273570afadfb467...</td>\n",
       "    </tr>\n",
       "    <tr>\n",
       "      <th>4</th>\n",
       "      <td>10091057bcba7164f6b45f10adc2bcc8f7a847bbabc09c...</td>\n",
       "    </tr>\n",
       "  </tbody>\n",
       "</table>\n",
       "</div>"
      ],
      "text/plain": [
       "                                                  id\n",
       "0  2e133e2783fa227cc615aef93f4420f6d814f0b3bd1e1b...\n",
       "1  50db4ee673eb3137a5cfb79a732a3f45a8d15f9f42e6b1...\n",
       "2  f9657d3dca78c3d1a6f26f22379ef83aee9d4ecec19699...\n",
       "3  3a2258e745f338ee08c5ef5ae655485273570afadfb467...\n",
       "4  10091057bcba7164f6b45f10adc2bcc8f7a847bbabc09c..."
      ]
     },
     "execution_count": 57,
     "metadata": {},
     "output_type": "execute_result"
    }
   ],
   "source": [
    "df_X_ID_TESTE_split.head()"
   ]
  },
  {
   "cell_type": "code",
   "execution_count": 58,
   "metadata": {},
   "outputs": [
    {
     "data": {
      "text/plain": [
       "(461732, 134)"
      ]
     },
     "execution_count": 58,
     "metadata": {},
     "output_type": "execute_result"
    }
   ],
   "source": [
    "X_teste.shape"
   ]
  },
  {
   "cell_type": "code",
   "execution_count": 59,
   "metadata": {},
   "outputs": [],
   "source": [
    "# (X_teste_split): DataFrame teste dos treino COM 20% do portfolio\n",
    "# (X_teste) com (df_X_teste_split)\n",
    "Frames = (X_teste, X_teste_split)\n",
    "X_teste_final = pd.concat(Frames)"
   ]
  },
  {
   "cell_type": "code",
   "execution_count": 60,
   "metadata": {},
   "outputs": [
    {
     "data": {
      "text/html": [
       "<div>\n",
       "<style scoped>\n",
       "    .dataframe tbody tr th:only-of-type {\n",
       "        vertical-align: middle;\n",
       "    }\n",
       "\n",
       "    .dataframe tbody tr th {\n",
       "        vertical-align: top;\n",
       "    }\n",
       "\n",
       "    .dataframe thead th {\n",
       "        text-align: right;\n",
       "    }\n",
       "</style>\n",
       "<table border=\"1\" class=\"dataframe\">\n",
       "  <thead>\n",
       "    <tr style=\"text-align: right;\">\n",
       "      <th></th>\n",
       "      <th>id</th>\n",
       "      <th>nm_divisao_AGRICULTURA PECUARIA E SERVICOS RELACIONADOS</th>\n",
       "      <th>nm_divisao_ALIMENTACAO</th>\n",
       "      <th>nm_divisao_ALOJAMENTO</th>\n",
       "      <th>nm_divisao_ALUGUEIS NAO IMOBILIARIOS E GESTAO DE ATIVOS INTANGIVEIS NAO FINANCEIROS</th>\n",
       "      <th>nm_divisao_ARMAZENAMENTO E ATIVIDADES AUXILIARES DOS TRANSPORTES</th>\n",
       "      <th>nm_divisao_ATIVIDADES ARTISTICAS CRIATIVAS E DE ESPETACULOS</th>\n",
       "      <th>nm_divisao_ATIVIDADES AUXILIARES DOS SERVICOS FINANCEIROS SEGUROS PREVIDENCIA COMPLEMENTAR E PLANOS DE SAUDE</th>\n",
       "      <th>nm_divisao_ATIVIDADES CINEMATOGRAFICAS PRODUCAO DE VIDEOS E DE PROGRAMAS DE TELEVISAO GRAVACAO DE SOM E EDICAO DE MUSICA</th>\n",
       "      <th>nm_divisao_ATIVIDADES DE APOIO A EXTRACAO DE MINERAIS</th>\n",
       "      <th>...</th>\n",
       "      <th>de_faixa_faturamento_estimado_grupo_DE R$ 1.500.000,01 A R$ 4.800.000,00</th>\n",
       "      <th>de_faixa_faturamento_estimado_grupo_DE R$ 10.000.000,01 A R$ 30.000.000,00</th>\n",
       "      <th>de_faixa_faturamento_estimado_grupo_DE R$ 100.000.000,01 A R$ 300.000.000,00</th>\n",
       "      <th>de_faixa_faturamento_estimado_grupo_DE R$ 30.000.000,01 A R$ 100.000.000,00</th>\n",
       "      <th>de_faixa_faturamento_estimado_grupo_DE R$ 300.000.000,01 A R$ 500.000.000,00</th>\n",
       "      <th>de_faixa_faturamento_estimado_grupo_DE R$ 360.000,01 A R$ 1.500.000,00</th>\n",
       "      <th>de_faixa_faturamento_estimado_grupo_DE R$ 4.800.000,01 A R$ 10.000.000,00</th>\n",
       "      <th>de_faixa_faturamento_estimado_grupo_DE R$ 500.000.000,01 A 1 BILHAO DE REAIS</th>\n",
       "      <th>de_faixa_faturamento_estimado_grupo_DE R$ 81.000,01 A R$ 360.000,00</th>\n",
       "      <th>fl_optante_simples</th>\n",
       "    </tr>\n",
       "  </thead>\n",
       "  <tbody>\n",
       "    <tr>\n",
       "      <th>0</th>\n",
       "      <td>a6984c3ae395090e3bee8ad63c3758b110de096d5d8195...</td>\n",
       "      <td>0</td>\n",
       "      <td>0</td>\n",
       "      <td>0</td>\n",
       "      <td>0</td>\n",
       "      <td>0</td>\n",
       "      <td>0</td>\n",
       "      <td>0</td>\n",
       "      <td>0</td>\n",
       "      <td>0</td>\n",
       "      <td>...</td>\n",
       "      <td>1</td>\n",
       "      <td>0</td>\n",
       "      <td>0</td>\n",
       "      <td>0</td>\n",
       "      <td>0</td>\n",
       "      <td>0</td>\n",
       "      <td>0</td>\n",
       "      <td>0</td>\n",
       "      <td>0</td>\n",
       "      <td>1</td>\n",
       "    </tr>\n",
       "    <tr>\n",
       "      <th>1</th>\n",
       "      <td>6178f41ade1365e44bc2c46654c2c8c0eaae27dcb476c4...</td>\n",
       "      <td>0</td>\n",
       "      <td>1</td>\n",
       "      <td>0</td>\n",
       "      <td>0</td>\n",
       "      <td>0</td>\n",
       "      <td>0</td>\n",
       "      <td>0</td>\n",
       "      <td>0</td>\n",
       "      <td>0</td>\n",
       "      <td>...</td>\n",
       "      <td>0</td>\n",
       "      <td>0</td>\n",
       "      <td>0</td>\n",
       "      <td>0</td>\n",
       "      <td>0</td>\n",
       "      <td>0</td>\n",
       "      <td>0</td>\n",
       "      <td>0</td>\n",
       "      <td>1</td>\n",
       "      <td>1</td>\n",
       "    </tr>\n",
       "    <tr>\n",
       "      <th>2</th>\n",
       "      <td>4a7e5069a397f12fdd7fd57111d6dc5d3ba558958efc02...</td>\n",
       "      <td>0</td>\n",
       "      <td>0</td>\n",
       "      <td>0</td>\n",
       "      <td>0</td>\n",
       "      <td>0</td>\n",
       "      <td>0</td>\n",
       "      <td>0</td>\n",
       "      <td>0</td>\n",
       "      <td>0</td>\n",
       "      <td>...</td>\n",
       "      <td>0</td>\n",
       "      <td>0</td>\n",
       "      <td>0</td>\n",
       "      <td>0</td>\n",
       "      <td>0</td>\n",
       "      <td>0</td>\n",
       "      <td>0</td>\n",
       "      <td>0</td>\n",
       "      <td>0</td>\n",
       "      <td>1</td>\n",
       "    </tr>\n",
       "    <tr>\n",
       "      <th>3</th>\n",
       "      <td>3348900fe63216a439d2e5238c79ddd46ede454df7b9d8...</td>\n",
       "      <td>0</td>\n",
       "      <td>0</td>\n",
       "      <td>0</td>\n",
       "      <td>0</td>\n",
       "      <td>0</td>\n",
       "      <td>0</td>\n",
       "      <td>0</td>\n",
       "      <td>0</td>\n",
       "      <td>0</td>\n",
       "      <td>...</td>\n",
       "      <td>0</td>\n",
       "      <td>0</td>\n",
       "      <td>0</td>\n",
       "      <td>0</td>\n",
       "      <td>0</td>\n",
       "      <td>0</td>\n",
       "      <td>0</td>\n",
       "      <td>0</td>\n",
       "      <td>1</td>\n",
       "      <td>1</td>\n",
       "    </tr>\n",
       "    <tr>\n",
       "      <th>4</th>\n",
       "      <td>1f9bcabc9d3173c1fe769899e4fac14b053037b953a1e4...</td>\n",
       "      <td>0</td>\n",
       "      <td>0</td>\n",
       "      <td>0</td>\n",
       "      <td>0</td>\n",
       "      <td>0</td>\n",
       "      <td>0</td>\n",
       "      <td>0</td>\n",
       "      <td>0</td>\n",
       "      <td>0</td>\n",
       "      <td>...</td>\n",
       "      <td>0</td>\n",
       "      <td>0</td>\n",
       "      <td>0</td>\n",
       "      <td>0</td>\n",
       "      <td>0</td>\n",
       "      <td>0</td>\n",
       "      <td>0</td>\n",
       "      <td>0</td>\n",
       "      <td>1</td>\n",
       "      <td>1</td>\n",
       "    </tr>\n",
       "    <tr>\n",
       "      <th>...</th>\n",
       "      <td>...</td>\n",
       "      <td>...</td>\n",
       "      <td>...</td>\n",
       "      <td>...</td>\n",
       "      <td>...</td>\n",
       "      <td>...</td>\n",
       "      <td>...</td>\n",
       "      <td>...</td>\n",
       "      <td>...</td>\n",
       "      <td>...</td>\n",
       "      <td>...</td>\n",
       "      <td>...</td>\n",
       "      <td>...</td>\n",
       "      <td>...</td>\n",
       "      <td>...</td>\n",
       "      <td>...</td>\n",
       "      <td>...</td>\n",
       "      <td>...</td>\n",
       "      <td>...</td>\n",
       "      <td>...</td>\n",
       "      <td>...</td>\n",
       "    </tr>\n",
       "    <tr>\n",
       "      <th>173799</th>\n",
       "      <td>17cf214c3114d1ebcc7b07f603ceda9e100788c0573555...</td>\n",
       "      <td>0</td>\n",
       "      <td>0</td>\n",
       "      <td>0</td>\n",
       "      <td>0</td>\n",
       "      <td>0</td>\n",
       "      <td>0</td>\n",
       "      <td>0</td>\n",
       "      <td>0</td>\n",
       "      <td>0</td>\n",
       "      <td>...</td>\n",
       "      <td>0</td>\n",
       "      <td>1</td>\n",
       "      <td>0</td>\n",
       "      <td>0</td>\n",
       "      <td>0</td>\n",
       "      <td>0</td>\n",
       "      <td>0</td>\n",
       "      <td>0</td>\n",
       "      <td>0</td>\n",
       "      <td>0</td>\n",
       "    </tr>\n",
       "    <tr>\n",
       "      <th>67168</th>\n",
       "      <td>87f6d7989c1ee4c59f3db38536222d5b3d909f65448313...</td>\n",
       "      <td>0</td>\n",
       "      <td>0</td>\n",
       "      <td>0</td>\n",
       "      <td>0</td>\n",
       "      <td>0</td>\n",
       "      <td>0</td>\n",
       "      <td>0</td>\n",
       "      <td>0</td>\n",
       "      <td>0</td>\n",
       "      <td>...</td>\n",
       "      <td>0</td>\n",
       "      <td>1</td>\n",
       "      <td>0</td>\n",
       "      <td>0</td>\n",
       "      <td>0</td>\n",
       "      <td>0</td>\n",
       "      <td>0</td>\n",
       "      <td>0</td>\n",
       "      <td>0</td>\n",
       "      <td>0</td>\n",
       "    </tr>\n",
       "    <tr>\n",
       "      <th>214552</th>\n",
       "      <td>0fab8c3fe5f91e5a495740c6129c5e9af830d1e0790162...</td>\n",
       "      <td>0</td>\n",
       "      <td>0</td>\n",
       "      <td>0</td>\n",
       "      <td>0</td>\n",
       "      <td>0</td>\n",
       "      <td>0</td>\n",
       "      <td>0</td>\n",
       "      <td>0</td>\n",
       "      <td>0</td>\n",
       "      <td>...</td>\n",
       "      <td>0</td>\n",
       "      <td>0</td>\n",
       "      <td>0</td>\n",
       "      <td>1</td>\n",
       "      <td>0</td>\n",
       "      <td>0</td>\n",
       "      <td>0</td>\n",
       "      <td>0</td>\n",
       "      <td>0</td>\n",
       "      <td>0</td>\n",
       "    </tr>\n",
       "    <tr>\n",
       "      <th>408455</th>\n",
       "      <td>75c5736fc78a378ceebcbd125927004f8b442f62425dfc...</td>\n",
       "      <td>0</td>\n",
       "      <td>0</td>\n",
       "      <td>0</td>\n",
       "      <td>0</td>\n",
       "      <td>0</td>\n",
       "      <td>0</td>\n",
       "      <td>0</td>\n",
       "      <td>0</td>\n",
       "      <td>0</td>\n",
       "      <td>...</td>\n",
       "      <td>0</td>\n",
       "      <td>0</td>\n",
       "      <td>1</td>\n",
       "      <td>0</td>\n",
       "      <td>0</td>\n",
       "      <td>0</td>\n",
       "      <td>0</td>\n",
       "      <td>0</td>\n",
       "      <td>0</td>\n",
       "      <td>0</td>\n",
       "    </tr>\n",
       "    <tr>\n",
       "      <th>54930</th>\n",
       "      <td>88ad6987ae7a20a00d0f823996b88a1db76b509a355cb1...</td>\n",
       "      <td>0</td>\n",
       "      <td>0</td>\n",
       "      <td>0</td>\n",
       "      <td>0</td>\n",
       "      <td>0</td>\n",
       "      <td>0</td>\n",
       "      <td>0</td>\n",
       "      <td>0</td>\n",
       "      <td>0</td>\n",
       "      <td>...</td>\n",
       "      <td>0</td>\n",
       "      <td>0</td>\n",
       "      <td>0</td>\n",
       "      <td>1</td>\n",
       "      <td>0</td>\n",
       "      <td>0</td>\n",
       "      <td>0</td>\n",
       "      <td>0</td>\n",
       "      <td>0</td>\n",
       "      <td>0</td>\n",
       "    </tr>\n",
       "  </tbody>\n",
       "</table>\n",
       "<p>461846 rows × 134 columns</p>\n",
       "</div>"
      ],
      "text/plain": [
       "                                                       id  \\\n",
       "0       a6984c3ae395090e3bee8ad63c3758b110de096d5d8195...   \n",
       "1       6178f41ade1365e44bc2c46654c2c8c0eaae27dcb476c4...   \n",
       "2       4a7e5069a397f12fdd7fd57111d6dc5d3ba558958efc02...   \n",
       "3       3348900fe63216a439d2e5238c79ddd46ede454df7b9d8...   \n",
       "4       1f9bcabc9d3173c1fe769899e4fac14b053037b953a1e4...   \n",
       "...                                                   ...   \n",
       "173799  17cf214c3114d1ebcc7b07f603ceda9e100788c0573555...   \n",
       "67168   87f6d7989c1ee4c59f3db38536222d5b3d909f65448313...   \n",
       "214552  0fab8c3fe5f91e5a495740c6129c5e9af830d1e0790162...   \n",
       "408455  75c5736fc78a378ceebcbd125927004f8b442f62425dfc...   \n",
       "54930   88ad6987ae7a20a00d0f823996b88a1db76b509a355cb1...   \n",
       "\n",
       "        nm_divisao_AGRICULTURA PECUARIA E SERVICOS RELACIONADOS  \\\n",
       "0                                                       0         \n",
       "1                                                       0         \n",
       "2                                                       0         \n",
       "3                                                       0         \n",
       "4                                                       0         \n",
       "...                                                   ...         \n",
       "173799                                                  0         \n",
       "67168                                                   0         \n",
       "214552                                                  0         \n",
       "408455                                                  0         \n",
       "54930                                                   0         \n",
       "\n",
       "        nm_divisao_ALIMENTACAO  nm_divisao_ALOJAMENTO  \\\n",
       "0                            0                      0   \n",
       "1                            1                      0   \n",
       "2                            0                      0   \n",
       "3                            0                      0   \n",
       "4                            0                      0   \n",
       "...                        ...                    ...   \n",
       "173799                       0                      0   \n",
       "67168                        0                      0   \n",
       "214552                       0                      0   \n",
       "408455                       0                      0   \n",
       "54930                        0                      0   \n",
       "\n",
       "        nm_divisao_ALUGUEIS NAO IMOBILIARIOS E GESTAO DE ATIVOS INTANGIVEIS NAO FINANCEIROS  \\\n",
       "0                                                       0                                     \n",
       "1                                                       0                                     \n",
       "2                                                       0                                     \n",
       "3                                                       0                                     \n",
       "4                                                       0                                     \n",
       "...                                                   ...                                     \n",
       "173799                                                  0                                     \n",
       "67168                                                   0                                     \n",
       "214552                                                  0                                     \n",
       "408455                                                  0                                     \n",
       "54930                                                   0                                     \n",
       "\n",
       "        nm_divisao_ARMAZENAMENTO E ATIVIDADES AUXILIARES DOS TRANSPORTES  \\\n",
       "0                                                       0                  \n",
       "1                                                       0                  \n",
       "2                                                       0                  \n",
       "3                                                       0                  \n",
       "4                                                       0                  \n",
       "...                                                   ...                  \n",
       "173799                                                  0                  \n",
       "67168                                                   0                  \n",
       "214552                                                  0                  \n",
       "408455                                                  0                  \n",
       "54930                                                   0                  \n",
       "\n",
       "        nm_divisao_ATIVIDADES ARTISTICAS CRIATIVAS E DE ESPETACULOS  \\\n",
       "0                                                       0             \n",
       "1                                                       0             \n",
       "2                                                       0             \n",
       "3                                                       0             \n",
       "4                                                       0             \n",
       "...                                                   ...             \n",
       "173799                                                  0             \n",
       "67168                                                   0             \n",
       "214552                                                  0             \n",
       "408455                                                  0             \n",
       "54930                                                   0             \n",
       "\n",
       "        nm_divisao_ATIVIDADES AUXILIARES DOS SERVICOS FINANCEIROS SEGUROS PREVIDENCIA COMPLEMENTAR E PLANOS DE SAUDE  \\\n",
       "0                                                       0                                                              \n",
       "1                                                       0                                                              \n",
       "2                                                       0                                                              \n",
       "3                                                       0                                                              \n",
       "4                                                       0                                                              \n",
       "...                                                   ...                                                              \n",
       "173799                                                  0                                                              \n",
       "67168                                                   0                                                              \n",
       "214552                                                  0                                                              \n",
       "408455                                                  0                                                              \n",
       "54930                                                   0                                                              \n",
       "\n",
       "        nm_divisao_ATIVIDADES CINEMATOGRAFICAS PRODUCAO DE VIDEOS E DE PROGRAMAS DE TELEVISAO GRAVACAO DE SOM E EDICAO DE MUSICA  \\\n",
       "0                                                       0                                                                          \n",
       "1                                                       0                                                                          \n",
       "2                                                       0                                                                          \n",
       "3                                                       0                                                                          \n",
       "4                                                       0                                                                          \n",
       "...                                                   ...                                                                          \n",
       "173799                                                  0                                                                          \n",
       "67168                                                   0                                                                          \n",
       "214552                                                  0                                                                          \n",
       "408455                                                  0                                                                          \n",
       "54930                                                   0                                                                          \n",
       "\n",
       "        nm_divisao_ATIVIDADES DE APOIO A EXTRACAO DE MINERAIS  ...  \\\n",
       "0                                                       0      ...   \n",
       "1                                                       0      ...   \n",
       "2                                                       0      ...   \n",
       "3                                                       0      ...   \n",
       "4                                                       0      ...   \n",
       "...                                                   ...      ...   \n",
       "173799                                                  0      ...   \n",
       "67168                                                   0      ...   \n",
       "214552                                                  0      ...   \n",
       "408455                                                  0      ...   \n",
       "54930                                                   0      ...   \n",
       "\n",
       "        de_faixa_faturamento_estimado_grupo_DE R$ 1.500.000,01 A R$ 4.800.000,00  \\\n",
       "0                                                       1                          \n",
       "1                                                       0                          \n",
       "2                                                       0                          \n",
       "3                                                       0                          \n",
       "4                                                       0                          \n",
       "...                                                   ...                          \n",
       "173799                                                  0                          \n",
       "67168                                                   0                          \n",
       "214552                                                  0                          \n",
       "408455                                                  0                          \n",
       "54930                                                   0                          \n",
       "\n",
       "        de_faixa_faturamento_estimado_grupo_DE R$ 10.000.000,01 A R$ 30.000.000,00  \\\n",
       "0                                                       0                            \n",
       "1                                                       0                            \n",
       "2                                                       0                            \n",
       "3                                                       0                            \n",
       "4                                                       0                            \n",
       "...                                                   ...                            \n",
       "173799                                                  1                            \n",
       "67168                                                   1                            \n",
       "214552                                                  0                            \n",
       "408455                                                  0                            \n",
       "54930                                                   0                            \n",
       "\n",
       "        de_faixa_faturamento_estimado_grupo_DE R$ 100.000.000,01 A R$ 300.000.000,00  \\\n",
       "0                                                       0                              \n",
       "1                                                       0                              \n",
       "2                                                       0                              \n",
       "3                                                       0                              \n",
       "4                                                       0                              \n",
       "...                                                   ...                              \n",
       "173799                                                  0                              \n",
       "67168                                                   0                              \n",
       "214552                                                  0                              \n",
       "408455                                                  1                              \n",
       "54930                                                   0                              \n",
       "\n",
       "        de_faixa_faturamento_estimado_grupo_DE R$ 30.000.000,01 A R$ 100.000.000,00  \\\n",
       "0                                                       0                             \n",
       "1                                                       0                             \n",
       "2                                                       0                             \n",
       "3                                                       0                             \n",
       "4                                                       0                             \n",
       "...                                                   ...                             \n",
       "173799                                                  0                             \n",
       "67168                                                   0                             \n",
       "214552                                                  1                             \n",
       "408455                                                  0                             \n",
       "54930                                                   1                             \n",
       "\n",
       "        de_faixa_faturamento_estimado_grupo_DE R$ 300.000.000,01 A R$ 500.000.000,00  \\\n",
       "0                                                       0                              \n",
       "1                                                       0                              \n",
       "2                                                       0                              \n",
       "3                                                       0                              \n",
       "4                                                       0                              \n",
       "...                                                   ...                              \n",
       "173799                                                  0                              \n",
       "67168                                                   0                              \n",
       "214552                                                  0                              \n",
       "408455                                                  0                              \n",
       "54930                                                   0                              \n",
       "\n",
       "        de_faixa_faturamento_estimado_grupo_DE R$ 360.000,01 A R$ 1.500.000,00  \\\n",
       "0                                                       0                        \n",
       "1                                                       0                        \n",
       "2                                                       0                        \n",
       "3                                                       0                        \n",
       "4                                                       0                        \n",
       "...                                                   ...                        \n",
       "173799                                                  0                        \n",
       "67168                                                   0                        \n",
       "214552                                                  0                        \n",
       "408455                                                  0                        \n",
       "54930                                                   0                        \n",
       "\n",
       "        de_faixa_faturamento_estimado_grupo_DE R$ 4.800.000,01 A R$ 10.000.000,00  \\\n",
       "0                                                       0                           \n",
       "1                                                       0                           \n",
       "2                                                       0                           \n",
       "3                                                       0                           \n",
       "4                                                       0                           \n",
       "...                                                   ...                           \n",
       "173799                                                  0                           \n",
       "67168                                                   0                           \n",
       "214552                                                  0                           \n",
       "408455                                                  0                           \n",
       "54930                                                   0                           \n",
       "\n",
       "        de_faixa_faturamento_estimado_grupo_DE R$ 500.000.000,01 A 1 BILHAO DE REAIS  \\\n",
       "0                                                       0                              \n",
       "1                                                       0                              \n",
       "2                                                       0                              \n",
       "3                                                       0                              \n",
       "4                                                       0                              \n",
       "...                                                   ...                              \n",
       "173799                                                  0                              \n",
       "67168                                                   0                              \n",
       "214552                                                  0                              \n",
       "408455                                                  0                              \n",
       "54930                                                   0                              \n",
       "\n",
       "        de_faixa_faturamento_estimado_grupo_DE R$ 81.000,01 A R$ 360.000,00  \\\n",
       "0                                                       0                     \n",
       "1                                                       1                     \n",
       "2                                                       0                     \n",
       "3                                                       1                     \n",
       "4                                                       1                     \n",
       "...                                                   ...                     \n",
       "173799                                                  0                     \n",
       "67168                                                   0                     \n",
       "214552                                                  0                     \n",
       "408455                                                  0                     \n",
       "54930                                                   0                     \n",
       "\n",
       "        fl_optante_simples  \n",
       "0                        1  \n",
       "1                        1  \n",
       "2                        1  \n",
       "3                        1  \n",
       "4                        1  \n",
       "...                    ...  \n",
       "173799                   0  \n",
       "67168                    0  \n",
       "214552                   0  \n",
       "408455                   0  \n",
       "54930                    0  \n",
       "\n",
       "[461846 rows x 134 columns]"
      ]
     },
     "execution_count": 60,
     "metadata": {},
     "output_type": "execute_result"
    }
   ],
   "source": [
    "X_teste_final"
   ]
  },
  {
   "cell_type": "code",
   "execution_count": 61,
   "metadata": {},
   "outputs": [],
   "source": [
    "lista_ID_X_teste_Final = list(X_teste_final['id'])"
   ]
  },
  {
   "cell_type": "code",
   "execution_count": 62,
   "metadata": {},
   "outputs": [],
   "source": [
    "# DataFrame com uma única coluna \"id\" com os ids de todos as colunas em \"TREINO\"\n",
    "df_lista_ID_X_teste_Final = pd.DataFrame({'id': lista_ID_X_teste_Final})"
   ]
  },
  {
   "cell_type": "code",
   "execution_count": 63,
   "metadata": {},
   "outputs": [
    {
     "data": {
      "text/plain": [
       "Index(['id'], dtype='object')"
      ]
     },
     "execution_count": 63,
     "metadata": {},
     "output_type": "execute_result"
    }
   ],
   "source": [
    "df_lista_ID_X_teste_Final.columns"
   ]
  },
  {
   "cell_type": "code",
   "execution_count": 64,
   "metadata": {},
   "outputs": [
    {
     "data": {
      "text/plain": [
       "(461846, 134)"
      ]
     },
     "execution_count": 64,
     "metadata": {},
     "output_type": "execute_result"
    }
   ],
   "source": [
    "X_teste_final.shape"
   ]
  },
  {
   "cell_type": "code",
   "execution_count": 65,
   "metadata": {},
   "outputs": [],
   "source": [
    "# Lembrando que os \"ids\" estão armazenados em (lista_ID_X_teste_Final)/(df_lista_ID_X_teste_Final)\n",
    "X_teste_final.drop(columns = 'id', inplace =True)"
   ]
  },
  {
   "cell_type": "code",
   "execution_count": 66,
   "metadata": {},
   "outputs": [
    {
     "data": {
      "text/plain": [
       "(461846, 133)"
      ]
     },
     "execution_count": 66,
     "metadata": {},
     "output_type": "execute_result"
    }
   ],
   "source": [
    "X_teste_final.shape"
   ]
  },
  {
   "cell_type": "code",
   "execution_count": 67,
   "metadata": {},
   "outputs": [],
   "source": [
    "# Lembrando que os \"ids\"estão armazenados em (lista_ID_X_TREINO)/(df_lista_ID_X_TREINO)\n",
    "X_treino.drop(columns = 'id', inplace =True)"
   ]
  },
  {
   "cell_type": "code",
   "execution_count": 68,
   "metadata": {},
   "outputs": [
    {
     "data": {
      "text/plain": [
       "(452, 133)"
      ]
     },
     "execution_count": 68,
     "metadata": {},
     "output_type": "execute_result"
    }
   ],
   "source": [
    "X_treino.shape"
   ]
  },
  {
   "cell_type": "code",
   "execution_count": 69,
   "metadata": {},
   "outputs": [
    {
     "data": {
      "text/plain": [
       "nm_divisao_AGRICULTURA PECUARIA E SERVICOS RELACIONADOS                                0\n",
       "nm_divisao_ALIMENTACAO                                                                 0\n",
       "nm_divisao_ALOJAMENTO                                                                  0\n",
       "nm_divisao_ALUGUEIS NAO IMOBILIARIOS E GESTAO DE ATIVOS INTANGIVEIS NAO FINANCEIROS    0\n",
       "nm_divisao_ARMAZENAMENTO E ATIVIDADES AUXILIARES DOS TRANSPORTES                       0\n",
       "                                                                                      ..\n",
       "de_faixa_faturamento_estimado_grupo_DE R$ 360.000,01 A R$ 1.500.000,00                 0\n",
       "de_faixa_faturamento_estimado_grupo_DE R$ 4.800.000,01 A R$ 10.000.000,00              0\n",
       "de_faixa_faturamento_estimado_grupo_DE R$ 500.000.000,01 A 1 BILHAO DE REAIS           0\n",
       "de_faixa_faturamento_estimado_grupo_DE R$ 81.000,01 A R$ 360.000,00                    0\n",
       "fl_optante_simples                                                                     0\n",
       "Length: 133, dtype: int64"
      ]
     },
     "execution_count": 69,
     "metadata": {},
     "output_type": "execute_result"
    }
   ],
   "source": [
    "X_teste_final.isna().sum()"
   ]
  },
  {
   "cell_type": "markdown",
   "metadata": {},
   "source": [
    "#### OneClass.SVM"
   ]
  },
  {
   "cell_type": "code",
   "execution_count": 70,
   "metadata": {},
   "outputs": [],
   "source": [
    "# OneClass.SVM\n",
    "one_class_SVM = OneClassSVM(kernel='rbf')\n",
    "resultado_OneClass_FIT = one_class_SVM.fit(X_treino)\n",
    "resultado_OneClass_PREDICT = one_class_SVM.predict(X_teste_final)"
   ]
  },
  {
   "cell_type": "markdown",
   "metadata": {},
   "source": [
    "#### Analisando o Resultado!"
   ]
  },
  {
   "cell_type": "code",
   "execution_count": 71,
   "metadata": {},
   "outputs": [],
   "source": [
    "# df_ArmazenandoID.head()"
   ]
  },
  {
   "cell_type": "code",
   "execution_count": 72,
   "metadata": {},
   "outputs": [],
   "source": [
    "# Criando o DataFrame (df_resultado) e igualamos ao (df_ArmazenandoID)\n",
    "# Falta: adicionar o (df_completo) ao (df_resultado)\n",
    "# Falta: adicionar o resultado predito! (df_resultado_OneClass_PREDICT, DataFrame com uma única coluna)\n",
    "df_resultado = pd.DataFrame(df_lista_ID_X_teste_Final)"
   ]
  },
  {
   "cell_type": "code",
   "execution_count": 73,
   "metadata": {},
   "outputs": [],
   "source": [
    "# Juntando o DataFrame (df_resultado) com com DataFrame (df_completo)\n",
    "# df_resultado = df_resultado.join(df_completo)"
   ]
  },
  {
   "cell_type": "code",
   "execution_count": 74,
   "metadata": {},
   "outputs": [],
   "source": [
    "# Criando um DataFrame com uma única coluna que contém o resultado predito!\n",
    "df_resultado_OneClass_PREDICT = pd.DataFrame({'resultado_OneClass_PREDICT': resultado_OneClass_PREDICT})"
   ]
  },
  {
   "cell_type": "code",
   "execution_count": 75,
   "metadata": {},
   "outputs": [],
   "source": [
    "# Juntando o DataFrame (df_resultado) com com DataFrame (resultado_OneClass_PREDICT)\n",
    "df_resultado = df_resultado.join(df_resultado_OneClass_PREDICT)"
   ]
  },
  {
   "cell_type": "code",
   "execution_count": 76,
   "metadata": {},
   "outputs": [
    {
     "data": {
      "text/html": [
       "<div>\n",
       "<style scoped>\n",
       "    .dataframe tbody tr th:only-of-type {\n",
       "        vertical-align: middle;\n",
       "    }\n",
       "\n",
       "    .dataframe tbody tr th {\n",
       "        vertical-align: top;\n",
       "    }\n",
       "\n",
       "    .dataframe thead th {\n",
       "        text-align: right;\n",
       "    }\n",
       "</style>\n",
       "<table border=\"1\" class=\"dataframe\">\n",
       "  <thead>\n",
       "    <tr style=\"text-align: right;\">\n",
       "      <th></th>\n",
       "      <th>id</th>\n",
       "      <th>resultado_OneClass_PREDICT</th>\n",
       "    </tr>\n",
       "  </thead>\n",
       "  <tbody>\n",
       "    <tr>\n",
       "      <th>0</th>\n",
       "      <td>a6984c3ae395090e3bee8ad63c3758b110de096d5d8195...</td>\n",
       "      <td>-1</td>\n",
       "    </tr>\n",
       "    <tr>\n",
       "      <th>1</th>\n",
       "      <td>6178f41ade1365e44bc2c46654c2c8c0eaae27dcb476c4...</td>\n",
       "      <td>-1</td>\n",
       "    </tr>\n",
       "    <tr>\n",
       "      <th>2</th>\n",
       "      <td>4a7e5069a397f12fdd7fd57111d6dc5d3ba558958efc02...</td>\n",
       "      <td>-1</td>\n",
       "    </tr>\n",
       "    <tr>\n",
       "      <th>3</th>\n",
       "      <td>3348900fe63216a439d2e5238c79ddd46ede454df7b9d8...</td>\n",
       "      <td>-1</td>\n",
       "    </tr>\n",
       "    <tr>\n",
       "      <th>4</th>\n",
       "      <td>1f9bcabc9d3173c1fe769899e4fac14b053037b953a1e4...</td>\n",
       "      <td>-1</td>\n",
       "    </tr>\n",
       "  </tbody>\n",
       "</table>\n",
       "</div>"
      ],
      "text/plain": [
       "                                                  id  \\\n",
       "0  a6984c3ae395090e3bee8ad63c3758b110de096d5d8195...   \n",
       "1  6178f41ade1365e44bc2c46654c2c8c0eaae27dcb476c4...   \n",
       "2  4a7e5069a397f12fdd7fd57111d6dc5d3ba558958efc02...   \n",
       "3  3348900fe63216a439d2e5238c79ddd46ede454df7b9d8...   \n",
       "4  1f9bcabc9d3173c1fe769899e4fac14b053037b953a1e4...   \n",
       "\n",
       "   resultado_OneClass_PREDICT  \n",
       "0                          -1  \n",
       "1                          -1  \n",
       "2                          -1  \n",
       "3                          -1  \n",
       "4                          -1  "
      ]
     },
     "execution_count": 76,
     "metadata": {},
     "output_type": "execute_result"
    }
   ],
   "source": [
    "df_resultado.head()"
   ]
  },
  {
   "cell_type": "code",
   "execution_count": 77,
   "metadata": {},
   "outputs": [],
   "source": [
    "# Pronto, agora temos um DataFrame (df_resultado) com os valores de: ID, resultadoPredict\n",
    "# Agora temos que avaliar qual a % dos valores do portfolio foram preditas!\n",
    "\n",
    "# Lembrando que (lista_X_teste_split)/(df_X_teste_split):\n",
    "# É a LISTA com 20% dos \"ids\" presente no portfolio de entrada que \"se juntaram a população\"\n",
    "# É o DataFrame com 20% dos \"ids\" presente no portfolio de entrada que \"se juntaram a população\""
   ]
  },
  {
   "cell_type": "code",
   "execution_count": 78,
   "metadata": {},
   "outputs": [],
   "source": [
    "# O DataFrame (df_X_TESTE_split) contém os \"ids\" ...\n",
    "# ... corresponde aos 20% dos \"ids\" presente no portfólio de entrada que estavam na população\n",
    "\n",
    "# OBJETIVO: Calcular\n",
    "# Como:\n",
    "# SOMAR: quantidade de '1'em df_vamosAnalisar['resultado_OneClass_PREDICT']\n",
    "# Calcular %: SomaDos1 / Tamanho total\n",
    "#df_vamosAnalisar = df_resultado.loc[df_resultado['id'] == lista_ID_70_portfolioEntrada]"
   ]
  },
  {
   "cell_type": "code",
   "execution_count": 79,
   "metadata": {},
   "outputs": [],
   "source": [
    "#df_X_TESTE_split"
   ]
  },
  {
   "cell_type": "code",
   "execution_count": 80,
   "metadata": {},
   "outputs": [
    {
     "data": {
      "text/plain": [
       "Index(['id', 'resultado_OneClass_PREDICT'], dtype='object')"
      ]
     },
     "execution_count": 80,
     "metadata": {},
     "output_type": "execute_result"
    }
   ],
   "source": [
    "df_resultado.columns"
   ]
  },
  {
   "cell_type": "code",
   "execution_count": 81,
   "metadata": {},
   "outputs": [
    {
     "data": {
      "text/plain": [
       "array([-1,  1])"
      ]
     },
     "execution_count": 81,
     "metadata": {},
     "output_type": "execute_result"
    }
   ],
   "source": [
    "# Os resultados de (resultado_OneClass_PREDICT) são (-1 e 1)\n",
    "df_resultado['resultado_OneClass_PREDICT'].unique()"
   ]
  },
  {
   "cell_type": "code",
   "execution_count": 82,
   "metadata": {},
   "outputs": [],
   "source": [
    "# Vamos substituir os valores -1 por 0\n",
    "df_resultado['resultado_OneClass_PREDICT'].replace({-1: 0}, inplace = True)"
   ]
  },
  {
   "cell_type": "code",
   "execution_count": 83,
   "metadata": {},
   "outputs": [
    {
     "data": {
      "text/plain": [
       "array([0, 1])"
      ]
     },
     "execution_count": 83,
     "metadata": {},
     "output_type": "execute_result"
    }
   ],
   "source": [
    "# Testando para ver se mudamos os valores resultado de (-1 e 1) para (0 e 1)\n",
    "# Resposta: Ficou ótimo :D\n",
    "df_resultado['resultado_OneClass_PREDICT'].unique()"
   ]
  },
  {
   "cell_type": "code",
   "execution_count": 84,
   "metadata": {},
   "outputs": [],
   "source": [
    "df_axu = pd.DataFrame()"
   ]
  },
  {
   "cell_type": "code",
   "execution_count": 85,
   "metadata": {},
   "outputs": [],
   "source": [
    "valorTotal = 0\n",
    "tamanho = len(lista_X_ID_TESTE_split)\n",
    "\n",
    "lista = []\n",
    "for x in lista_X_ID_TESTE_split:\n",
    "    # print('x',x)\n",
    "    valor = list(df_resultado[df_resultado['id'] == x]['resultado_OneClass_PREDICT'])\n",
    "    valorTotal = valorTotal + valor[0]\n"
   ]
  },
  {
   "cell_type": "code",
   "execution_count": 86,
   "metadata": {},
   "outputs": [
    {
     "name": "stdout",
     "output_type": "stream",
     "text": [
      "O % de acerto foi:  46.49122807017544\n"
     ]
    }
   ],
   "source": [
    "# Verificando % dos que eu já sabia que fazia parte!\n",
    "acerto = (valorTotal/tamanho)\n",
    "print('O % de acerto foi: ', acerto*100)"
   ]
  },
  {
   "cell_type": "code",
   "execution_count": null,
   "metadata": {},
   "outputs": [],
   "source": []
  },
  {
   "cell_type": "code",
   "execution_count": null,
   "metadata": {},
   "outputs": [],
   "source": []
  },
  {
   "cell_type": "code",
   "execution_count": null,
   "metadata": {},
   "outputs": [],
   "source": []
  },
  {
   "cell_type": "code",
   "execution_count": null,
   "metadata": {},
   "outputs": [],
   "source": []
  },
  {
   "cell_type": "code",
   "execution_count": null,
   "metadata": {},
   "outputs": [],
   "source": []
  }
 ],
 "metadata": {
  "kernelspec": {
   "display_name": "Python 3",
   "language": "python",
   "name": "python3"
  },
  "language_info": {
   "codemirror_mode": {
    "name": "ipython",
    "version": 3
   },
   "file_extension": ".py",
   "mimetype": "text/x-python",
   "name": "python",
   "nbconvert_exporter": "python",
   "pygments_lexer": "ipython3",
   "version": "3.7.6"
  }
 },
 "nbformat": 4,
 "nbformat_minor": 4
}
