{
 "cells": [
  {
   "cell_type": "markdown",
   "metadata": {},
   "source": [
    "# DESAFIO FINAL!"
   ]
  },
  {
   "cell_type": "code",
   "execution_count": 1,
   "metadata": {},
   "outputs": [],
   "source": [
    "# Importando as Bibliotecas\n",
    "\n",
    "import pandas as pd\n",
    "from pandas_profiling import ProfileReport\n",
    "from sklearn.feature_selection import RFE\n",
    "from sklearn.linear_model import LinearRegression\n",
    "from sklearn.tree import DecisionTreeClassifier\n",
    "from sklearn import svm"
   ]
  },
  {
   "cell_type": "code",
   "execution_count": 2,
   "metadata": {},
   "outputs": [],
   "source": [
    "# Lendo os arquivos\n",
    "csv_market = pd.read_csv('estaticos_market.csv')\n",
    "csv_portfolio1 = pd.read_csv('portfolio1.csv')\n",
    "csv_portfolio2 = pd.read_csv('portfolio2.csv')\n",
    "csv_portfolio3 = pd.read_csv('portfolio3.csv')\n",
    "\n",
    "# Criando DataFrame para cada um dos arquivos\n",
    "df_market = pd.DataFrame(csv_market)\n",
    "df_portfolio1 = pd.DataFrame(csv_portfolio1)\n",
    "df_portfolio2 = pd.DataFrame(csv_portfolio2)\n",
    "df_portfolio3 = pd.DataFrame(csv_portfolio3)"
   ]
  },
  {
   "cell_type": "markdown",
   "metadata": {},
   "source": [
    "### ENTENDENDO OS DADOS"
   ]
  },
  {
   "cell_type": "markdown",
   "metadata": {},
   "source": [
    "### Tratando os Dados: Modo Geral\n",
    "#### > Excluindo as colunas com mais de 70% dados faltantes\n",
    "#### > Pandas Profiling: \n",
    "##### - Verificando as colunas que são correlacionadas entre si e excluindo uma das opções;\n",
    "##### - Excluindo colunas que tem mais de 90% de zeros."
   ]
  },
  {
   "cell_type": "code",
   "execution_count": 3,
   "metadata": {},
   "outputs": [],
   "source": [
    "# Criando DataFrame auxiliar: verificar a consistência dos dados\n",
    "df_market_tamanho = df_market.shape[0]\n",
    "df_market_consistencia = pd.DataFrame({'COLUNAS': df_market.columns, 'TIPOS': df_market.dtypes, 'FALTANTES': df_market.isna().sum(), 'FALTANTES_PERCENTUAL': round(df_market.isna().sum()/df_market_tamanho,2)})"
   ]
  },
  {
   "cell_type": "code",
   "execution_count": 4,
   "metadata": {},
   "outputs": [
    {
     "data": {
      "text/plain": [
       "(462298, 182)"
      ]
     },
     "execution_count": 4,
     "metadata": {},
     "output_type": "execute_result"
    }
   ],
   "source": [
    "df_market.shape"
   ]
  },
  {
   "cell_type": "code",
   "execution_count": 5,
   "metadata": {},
   "outputs": [
    {
     "data": {
      "text/plain": [
       "(265, 2)"
      ]
     },
     "execution_count": 5,
     "metadata": {},
     "output_type": "execute_result"
    }
   ],
   "source": [
    "df_portfolio3.shape"
   ]
  },
  {
   "cell_type": "code",
   "execution_count": 6,
   "metadata": {},
   "outputs": [],
   "source": [
    "# Acrescentando uma coluna no DataFrame para informar se algum atrituto tem mais de 70% de dados faltantes\n",
    "df_market_consistencia['TemMaisDe70%Faltantes'] = ['sim' if x > 0.7 else 'nao' for x in df_market_consistencia['FALTANTES_PERCENTUAL']]"
   ]
  },
  {
   "cell_type": "code",
   "execution_count": 7,
   "metadata": {},
   "outputs": [
    {
     "data": {
      "text/html": [
       "<div>\n",
       "<style scoped>\n",
       "    .dataframe tbody tr th:only-of-type {\n",
       "        vertical-align: middle;\n",
       "    }\n",
       "\n",
       "    .dataframe tbody tr th {\n",
       "        vertical-align: top;\n",
       "    }\n",
       "\n",
       "    .dataframe thead th {\n",
       "        text-align: right;\n",
       "    }\n",
       "</style>\n",
       "<table border=\"1\" class=\"dataframe\">\n",
       "  <thead>\n",
       "    <tr style=\"text-align: right;\">\n",
       "      <th></th>\n",
       "      <th>COLUNAS</th>\n",
       "      <th>TIPOS</th>\n",
       "      <th>FALTANTES</th>\n",
       "      <th>FALTANTES_PERCENTUAL</th>\n",
       "      <th>TemMaisDe70%Faltantes</th>\n",
       "    </tr>\n",
       "  </thead>\n",
       "  <tbody>\n",
       "    <tr>\n",
       "      <th>Unnamed: 0</th>\n",
       "      <td>Unnamed: 0</td>\n",
       "      <td>int64</td>\n",
       "      <td>0</td>\n",
       "      <td>0.0</td>\n",
       "      <td>nao</td>\n",
       "    </tr>\n",
       "    <tr>\n",
       "      <th>id</th>\n",
       "      <td>id</td>\n",
       "      <td>object</td>\n",
       "      <td>0</td>\n",
       "      <td>0.0</td>\n",
       "      <td>nao</td>\n",
       "    </tr>\n",
       "    <tr>\n",
       "      <th>fl_matriz</th>\n",
       "      <td>fl_matriz</td>\n",
       "      <td>bool</td>\n",
       "      <td>0</td>\n",
       "      <td>0.0</td>\n",
       "      <td>nao</td>\n",
       "    </tr>\n",
       "    <tr>\n",
       "      <th>de_natureza_juridica</th>\n",
       "      <td>de_natureza_juridica</td>\n",
       "      <td>object</td>\n",
       "      <td>0</td>\n",
       "      <td>0.0</td>\n",
       "      <td>nao</td>\n",
       "    </tr>\n",
       "    <tr>\n",
       "      <th>sg_uf</th>\n",
       "      <td>sg_uf</td>\n",
       "      <td>object</td>\n",
       "      <td>0</td>\n",
       "      <td>0.0</td>\n",
       "      <td>nao</td>\n",
       "    </tr>\n",
       "  </tbody>\n",
       "</table>\n",
       "</div>"
      ],
      "text/plain": [
       "                                   COLUNAS   TIPOS  FALTANTES  \\\n",
       "Unnamed: 0                      Unnamed: 0   int64          0   \n",
       "id                                      id  object          0   \n",
       "fl_matriz                        fl_matriz    bool          0   \n",
       "de_natureza_juridica  de_natureza_juridica  object          0   \n",
       "sg_uf                                sg_uf  object          0   \n",
       "\n",
       "                      FALTANTES_PERCENTUAL TemMaisDe70%Faltantes  \n",
       "Unnamed: 0                             0.0                   nao  \n",
       "id                                     0.0                   nao  \n",
       "fl_matriz                              0.0                   nao  \n",
       "de_natureza_juridica                   0.0                   nao  \n",
       "sg_uf                                  0.0                   nao  "
      ]
     },
     "execution_count": 7,
     "metadata": {},
     "output_type": "execute_result"
    }
   ],
   "source": [
    "df_market_consistencia.head()"
   ]
  },
  {
   "cell_type": "code",
   "execution_count": 8,
   "metadata": {},
   "outputs": [],
   "source": [
    "# Excluindo as colunas que tem mais de 70% de dados faltantes\n",
    "manter_semFaltantes = list(df_market_consistencia[df_market_consistencia['TemMaisDe70%Faltantes'] == 'nao']['COLUNAS'])\n",
    "df_market = df_market[manter_semFaltantes]"
   ]
  },
  {
   "cell_type": "code",
   "execution_count": 9,
   "metadata": {},
   "outputs": [
    {
     "data": {
      "text/plain": [
       "(462298, 53)"
      ]
     },
     "execution_count": 9,
     "metadata": {},
     "output_type": "execute_result"
    }
   ],
   "source": [
    "# Verificando quantas colunas excluimos\n",
    "# Descartamos 129 variáveis!\n",
    "df_market.shape"
   ]
  },
  {
   "cell_type": "code",
   "execution_count": 10,
   "metadata": {},
   "outputs": [
    {
     "data": {
      "text/plain": [
       "object     26\n",
       "float64    16\n",
       "bool        9\n",
       "int64       2\n",
       "dtype: int64"
      ]
     },
     "execution_count": 10,
     "metadata": {},
     "output_type": "execute_result"
    }
   ],
   "source": [
    "df_market.dtypes.value_counts()"
   ]
  },
  {
   "cell_type": "code",
   "execution_count": 11,
   "metadata": {},
   "outputs": [],
   "source": [
    "#profile = ProfileReport(df_market, title=\"Pandas Profiling Report\", html={'style':{'full_width':True}})"
   ]
  },
  {
   "cell_type": "code",
   "execution_count": 12,
   "metadata": {
    "scrolled": false
   },
   "outputs": [],
   "source": [
    "#profile.to_notebook_iframe()"
   ]
  },
  {
   "cell_type": "code",
   "execution_count": 13,
   "metadata": {},
   "outputs": [],
   "source": [
    "#profile.to_file(\"report_sem_70_faltantes.html\")"
   ]
  },
  {
   "cell_type": "code",
   "execution_count": 14,
   "metadata": {},
   "outputs": [],
   "source": [
    "# Selecionando e excluindo colunas com as seguintes caracteristicas:\n",
    "# constantes, com mais de 90% de valor 'zero' e mais de 50% de dados faltantes\n",
    "lista_excluir_consEzerosE50faltantes = ['fl_epp', 'vl_total_veiculos_pesados_grupo', 'vl_total_veiculos_leves_grupo', 'qt_socios_pj', 'qt_filiais', 'qt_socios_feminino', 'qt_socios_masculino']\n",
    "df_market.drop(columns = lista_excluir_consEzerosE50faltantes, inplace=True)"
   ]
  },
  {
   "cell_type": "code",
   "execution_count": 15,
   "metadata": {},
   "outputs": [
    {
     "data": {
      "text/plain": [
       "(462298, 46)"
      ]
     },
     "execution_count": 15,
     "metadata": {},
     "output_type": "execute_result"
    }
   ],
   "source": [
    "# Fomos de 53 para 46 atributos\n",
    "df_market.shape"
   ]
  },
  {
   "cell_type": "code",
   "execution_count": 16,
   "metadata": {},
   "outputs": [],
   "source": [
    "# VERIFICAR: \n",
    "# idade_maxima_socios  <---> idade_media_socios (> idade_minima_socios > ?)\n",
    "# idade_minima_socios   ---> idade_media_socios\n",
    "# PENSAR: Qual excluir?"
   ]
  },
  {
   "cell_type": "code",
   "execution_count": 17,
   "metadata": {},
   "outputs": [
    {
     "data": {
      "text/html": [
       "<div>\n",
       "<style scoped>\n",
       "    .dataframe tbody tr th:only-of-type {\n",
       "        vertical-align: middle;\n",
       "    }\n",
       "\n",
       "    .dataframe tbody tr th {\n",
       "        vertical-align: top;\n",
       "    }\n",
       "\n",
       "    .dataframe thead th {\n",
       "        text-align: right;\n",
       "    }\n",
       "</style>\n",
       "<table border=\"1\" class=\"dataframe\">\n",
       "  <thead>\n",
       "    <tr style=\"text-align: right;\">\n",
       "      <th></th>\n",
       "      <th>idade_media_socios</th>\n",
       "      <th>idade_maxima_socios</th>\n",
       "      <th>idade_minima_socios</th>\n",
       "    </tr>\n",
       "  </thead>\n",
       "  <tbody>\n",
       "    <tr>\n",
       "      <th>0</th>\n",
       "      <td>44.0</td>\n",
       "      <td>47.0</td>\n",
       "      <td>41.0</td>\n",
       "    </tr>\n",
       "    <tr>\n",
       "      <th>1</th>\n",
       "      <td>27.0</td>\n",
       "      <td>27.0</td>\n",
       "      <td>27.0</td>\n",
       "    </tr>\n",
       "    <tr>\n",
       "      <th>2</th>\n",
       "      <td>32.0</td>\n",
       "      <td>32.0</td>\n",
       "      <td>32.0</td>\n",
       "    </tr>\n",
       "    <tr>\n",
       "      <th>3</th>\n",
       "      <td>36.0</td>\n",
       "      <td>36.0</td>\n",
       "      <td>36.0</td>\n",
       "    </tr>\n",
       "    <tr>\n",
       "      <th>4</th>\n",
       "      <td>NaN</td>\n",
       "      <td>NaN</td>\n",
       "      <td>NaN</td>\n",
       "    </tr>\n",
       "  </tbody>\n",
       "</table>\n",
       "</div>"
      ],
      "text/plain": [
       "   idade_media_socios  idade_maxima_socios  idade_minima_socios\n",
       "0                44.0                 47.0                 41.0\n",
       "1                27.0                 27.0                 27.0\n",
       "2                32.0                 32.0                 32.0\n",
       "3                36.0                 36.0                 36.0\n",
       "4                 NaN                  NaN                  NaN"
      ]
     },
     "execution_count": 17,
     "metadata": {},
     "output_type": "execute_result"
    }
   ],
   "source": [
    "df_market[['idade_media_socios', 'idade_maxima_socios', 'idade_minima_socios']].head()"
   ]
  },
  {
   "cell_type": "code",
   "execution_count": 18,
   "metadata": {},
   "outputs": [
    {
     "name": "stdout",
     "output_type": "stream",
     "text": [
      "UNICOS: media [44.         27.         32.         ... 60.71428571 74.83333333\n",
      " 43.55555556]\n",
      "UNICOS: min [ 41.  27.  32.  36.  nan  63.  40.  52.  62.  47.  34.  55.  64.  24.\n",
      "  45.  26.  23.  37.  44.  25.  68.  66.  28.  30.  33.  65.  35.  46.\n",
      "  48.  31.  43.  84.  42.  53.  29.  49.  54.  59.  57.  38.  22.  75.\n",
      "  19.  51.  58.  56.  39.  21.  60.  83.  85.  50.  86.  18.  69.  79.\n",
      "  74.  61.  20.  70.  87.  72.  78.  77.  11.  76.  71.  17.  73.  67.\n",
      "  15. 104.  81.  80.  92.   8.  88.  12.  96.  94.  82.  90.  93.  16.\n",
      "  10. 110.  13.  91.  89.  14.   2.   7. 106.  97.  99.   5. 100.  98.\n",
      "   4.   6.   9. 121. 108.  95. 102. 103. 117. 127. 101.   3. 105. 111.\n",
      "  -2. 109. 112.]\n",
      "UNICOS: max [ 47.  27.  32.  36.  nan  63.  40.  52.  62.  34.  55.  64.  24.  45.\n",
      "  26.  48.  23.  37.  73.  75.  25.  41.  68.  66.  28.  30.  33.  65.\n",
      "  35.  46.  44.  61.  31.  43.  84.  54.  67.  42.  57.  29.  49.  60.\n",
      "  59.  38.  19.  53.  56.  71.  39.  21.  51.  72.  83.  58.  50.  85.\n",
      "  74.  22.  86.  18.  78.  69.  79.  20.  80.  70.  87.  76.  82.  96.\n",
      "  77.  90.  81.  89.  88.  93. 104.  92.  94.  97. 118.  17.  91. 110.\n",
      "  16.   8.  13. 106.  99.   5. 100. 101.  98.   6.   9.  14.  10.  95.\n",
      " 121.  15.  12.  11. 108. 117. 102. 103.   7. 127.   4. 125. 111. 105.\n",
      " 123. 107. 109.  -2.   3. 120. 112.]\n"
     ]
    }
   ],
   "source": [
    "print('UNICOS: media',df_market['idade_media_socios'].unique())\n",
    "print('UNICOS: min',df_market['idade_minima_socios'].unique())\n",
    "print('UNICOS: max',df_market['idade_maxima_socios'].unique())"
   ]
  },
  {
   "cell_type": "code",
   "execution_count": 19,
   "metadata": {},
   "outputs": [],
   "source": [
    "# VERIFICAR: CORRELAÇÃO\n",
    "# idade_maxima_socios  <---> idade_media_socios (> idade_minima_socios > ?)\n",
    "# idade_minima_socios   ---> idade_media_socios\n",
    "# PENSAR: Qual excluir?\n",
    "# DECISÃO: Excluir (idade_maxima_socios, idade_minima_socios)\n",
    "\n",
    "lista_excluir_corr_idade = ['idade_maxima_socios', 'idade_minima_socios']\n",
    "df_market.drop(columns = lista_excluir_corr_idade, inplace=True)"
   ]
  },
  {
   "cell_type": "code",
   "execution_count": 20,
   "metadata": {},
   "outputs": [
    {
     "data": {
      "text/plain": [
       "(462298, 44)"
      ]
     },
     "execution_count": 20,
     "metadata": {},
     "output_type": "execute_result"
    }
   ],
   "source": [
    "# Fomos de 46 para 44 colunas!\n",
    "df_market.shape"
   ]
  },
  {
   "cell_type": "code",
   "execution_count": 21,
   "metadata": {},
   "outputs": [],
   "source": [
    "# VERIFICAR: CORRELAÇÃO\n",
    "# sg_uf_matriz <---> sg_uf (mais 2 correlações)\n",
    "# DECISÃO: excluir \"sg_uf_matriz\"\n",
    "lista_excluir_corr_UF = ['sg_uf_matriz']\n",
    "df_market.drop(columns = lista_excluir_corr_UF, inplace=True)"
   ]
  },
  {
   "cell_type": "code",
   "execution_count": 22,
   "metadata": {},
   "outputs": [
    {
     "data": {
      "text/plain": [
       "(462298, 43)"
      ]
     },
     "execution_count": 22,
     "metadata": {},
     "output_type": "execute_result"
    }
   ],
   "source": [
    "# Fomos de 44 para 43!\n",
    "df_market.shape"
   ]
  },
  {
   "cell_type": "code",
   "execution_count": 23,
   "metadata": {},
   "outputs": [],
   "source": [
    "df_correlacao = df_market.corr(method='pearson')"
   ]
  },
  {
   "cell_type": "code",
   "execution_count": 24,
   "metadata": {},
   "outputs": [
    {
     "data": {
      "text/plain": [
       "Unnamed: 0                               0.002565\n",
       "fl_matriz                               -0.230071\n",
       "idade_empresa_anos                       0.105316\n",
       "fl_me                                   -0.002700\n",
       "fl_sa                                    0.342961\n",
       "fl_mei                                  -0.148889\n",
       "fl_ltda                                  0.031683\n",
       "fl_st_especial                           0.000919\n",
       "fl_email                                -0.023276\n",
       "fl_telefone                             -0.042685\n",
       "nu_meses_rescencia                       0.017897\n",
       "empsetorcensitariofaixarendapopulacao    0.044481\n",
       "qt_socios                                0.986359\n",
       "qt_socios_pf                             0.988362\n",
       "idade_media_socios                       0.066835\n",
       "qt_socios_st_regular                     1.000000\n",
       "vl_faturamento_estimado_aux              0.033405\n",
       "vl_faturamento_estimado_grupo_aux        0.807327\n",
       "Name: qt_socios_st_regular, dtype: float64"
      ]
     },
     "execution_count": 24,
     "metadata": {},
     "output_type": "execute_result"
    }
   ],
   "source": [
    "# VERIFICAR: CORRELAÇÃO\n",
    "# Resultado: altamente correlacionados: qt_socios, qt_socios_st_regular, qt_socios_pf\n",
    "# Como: (method='pearson')\n",
    "# DECISÃO: excluir: qt_socios_st_regular, qt_socios_pf\n",
    "df_correlacao = df_market.corr(method='pearson')\n",
    "df_correlacao['qt_socios_st_regular']\n"
   ]
  },
  {
   "cell_type": "code",
   "execution_count": 25,
   "metadata": {},
   "outputs": [],
   "source": [
    "# VERIFICAR: CORRELAÇÃO\n",
    "# Resultado: altamente correlacionados: qt_socios, qt_socios_st_regular, qt_socios_pf\n",
    "# Como:\n",
    "# DECISÃO: excluir: qt_socios_st_regular, qt_socios_pf\n",
    "# Executando a decisão:\n",
    "lista_excluir_corr_socios = ['qt_socios_st_regular', 'qt_socios_pf']\n",
    "df_market.drop(columns = lista_excluir_corr_socios, inplace=True)"
   ]
  },
  {
   "cell_type": "code",
   "execution_count": 26,
   "metadata": {},
   "outputs": [
    {
     "data": {
      "text/plain": [
       "(462298, 41)"
      ]
     },
     "execution_count": 26,
     "metadata": {},
     "output_type": "execute_result"
    }
   ],
   "source": [
    "# Fomos de 43 colunas para 41\n",
    "df_market.shape"
   ]
  },
  {
   "cell_type": "code",
   "execution_count": 27,
   "metadata": {},
   "outputs": [
    {
     "data": {
      "text/plain": [
       "(462298, 40)"
      ]
     },
     "execution_count": 27,
     "metadata": {},
     "output_type": "execute_result"
    }
   ],
   "source": [
    "df_market.drop(columns = 'dt_situacao', inplace = True)\n",
    "df_market.shape"
   ]
  },
  {
   "cell_type": "code",
   "execution_count": 28,
   "metadata": {},
   "outputs": [
    {
     "data": {
      "text/plain": [
       "Unnamed: 0                                    0\n",
       "id                                            0\n",
       "fl_matriz                                     0\n",
       "de_natureza_juridica                          0\n",
       "sg_uf                                         0\n",
       "natureza_juridica_macro                       0\n",
       "de_ramo                                       0\n",
       "setor                                      1927\n",
       "idade_empresa_anos                            0\n",
       "idade_emp_cat                                 0\n",
       "fl_me                                         0\n",
       "fl_sa                                         0\n",
       "fl_mei                                        0\n",
       "fl_ltda                                       0\n",
       "fl_st_especial                                0\n",
       "fl_email                                      0\n",
       "fl_telefone                                   0\n",
       "fl_rm                                         0\n",
       "nm_divisao                                 1927\n",
       "nm_segmento                                1927\n",
       "fl_spa                                     1927\n",
       "fl_antt                                    1927\n",
       "fl_veiculo                                 1927\n",
       "fl_optante_simples                        82713\n",
       "fl_optante_simei                          82713\n",
       "de_saude_tributaria                       14851\n",
       "de_saude_rescencia                        14851\n",
       "nu_meses_rescencia                        45276\n",
       "de_nivel_atividade                        11168\n",
       "fl_simples_irregular                       1927\n",
       "empsetorcensitariofaixarendapopulacao    143829\n",
       "nm_meso_regiao                            58698\n",
       "nm_micro_regiao                           58698\n",
       "fl_passivel_iss                            1927\n",
       "qt_socios                                115091\n",
       "idade_media_socios                       151602\n",
       "de_faixa_faturamento_estimado             27513\n",
       "de_faixa_faturamento_estimado_grupo       27513\n",
       "vl_faturamento_estimado_aux               27513\n",
       "vl_faturamento_estimado_grupo_aux         27513\n",
       "dtype: int64"
      ]
     },
     "execution_count": 28,
     "metadata": {},
     "output_type": "execute_result"
    }
   ],
   "source": [
    "df_market.isna().sum()"
   ]
  },
  {
   "cell_type": "code",
   "execution_count": 29,
   "metadata": {},
   "outputs": [],
   "source": [
    "# Anotações do Pandas Profiling : o que fazer considerando os dados faltantes obervados acima!\n",
    "# OBS: o que esta entre parenteses é a quantidade de dados faltantes!\n",
    "# setor (1927) <---> de_ramo (0) : excluir a coluna \"setor\"\n",
    "# nm_meso_regiao (58698) ---> sg_uf (0) : excluir coluna \"nm_meso_regiao\"\n",
    "# nm_micro_regiao(58698) ---> sg_uf (0) : excluir coluna \"nm_micro_regiao\"\n",
    "# fl_rm (0) ---> nm_micro_regiao : ok\n",
    "# natureza_juridica_macro(0) <---> de_natureza_juridica(0) : ok (por enquanto nada)\n",
    "lista_excluir_OBJ = ['setor', 'nm_meso_regiao', 'nm_micro_regiao' ]"
   ]
  },
  {
   "cell_type": "code",
   "execution_count": 30,
   "metadata": {},
   "outputs": [],
   "source": [
    "# Excluindo o que foi definido acima!\n",
    "df_market.drop(columns = lista_excluir_OBJ, inplace = True)"
   ]
  },
  {
   "cell_type": "code",
   "execution_count": 31,
   "metadata": {},
   "outputs": [
    {
     "data": {
      "text/plain": [
       "(462298, 37)"
      ]
     },
     "execution_count": 31,
     "metadata": {},
     "output_type": "execute_result"
    }
   ],
   "source": [
    "df_market.shape"
   ]
  },
  {
   "cell_type": "code",
   "execution_count": 32,
   "metadata": {},
   "outputs": [],
   "source": [
    "# Analisando os dados unicos das colunas \"que sobraram\"\n",
    "# Resultado: Excluir as seguintes colunas:\n",
    "lista_excluir_unicosEmuitos = ['fl_me', 'fl_st_especial', 'qt_socios', 'empsetorcensitariofaixarendapopulacao', 'idade_media_socios', 'de_faixa_faturamento_estimado', 'vl_faturamento_estimado_grupo_aux','fl_spa', 'fl_antt', 'fl_veiculo', 'fl_simples_irregular', 'fl_passivel_iss', 'fl_optante_simei']\n",
    "df_market.drop(columns = lista_excluir_unicosEmuitos, inplace = True)\n"
   ]
  },
  {
   "cell_type": "code",
   "execution_count": 33,
   "metadata": {},
   "outputs": [
    {
     "data": {
      "text/plain": [
       "(462298, 24)"
      ]
     },
     "execution_count": 33,
     "metadata": {},
     "output_type": "execute_result"
    }
   ],
   "source": [
    "# Verificando a quantidade de colunas \"que sobrou\"\n",
    "# Resultado: diminuir bastante! de 37 para 21\n",
    "df_market.shape"
   ]
  },
  {
   "cell_type": "code",
   "execution_count": 34,
   "metadata": {},
   "outputs": [
    {
     "data": {
      "text/plain": [
       "Unnamed: 0                                 0\n",
       "id                                         0\n",
       "fl_matriz                                  0\n",
       "de_natureza_juridica                       0\n",
       "sg_uf                                      0\n",
       "natureza_juridica_macro                    0\n",
       "de_ramo                                    0\n",
       "idade_empresa_anos                         0\n",
       "idade_emp_cat                              0\n",
       "fl_sa                                      0\n",
       "fl_mei                                     0\n",
       "fl_ltda                                    0\n",
       "fl_email                                   0\n",
       "fl_telefone                                0\n",
       "fl_rm                                      0\n",
       "nm_divisao                              1927\n",
       "nm_segmento                             1927\n",
       "fl_optante_simples                     82713\n",
       "de_saude_tributaria                    14851\n",
       "de_saude_rescencia                     14851\n",
       "nu_meses_rescencia                     45276\n",
       "de_nivel_atividade                     11168\n",
       "de_faixa_faturamento_estimado_grupo    27513\n",
       "vl_faturamento_estimado_aux            27513\n",
       "dtype: int64"
      ]
     },
     "execution_count": 34,
     "metadata": {},
     "output_type": "execute_result"
    }
   ],
   "source": [
    "# Verificando a quantidade de dados faltantes de cada columa\n",
    "# Resultado: temos algumas colunas com dados faltantes! Precisamos imputar dados.\n",
    "df_market.isna().sum()"
   ]
  },
  {
   "cell_type": "markdown",
   "metadata": {},
   "source": [
    "### SEPARANDO AS COLUNAS POR TIPOS!"
   ]
  },
  {
   "cell_type": "code",
   "execution_count": 35,
   "metadata": {},
   "outputs": [
    {
     "data": {
      "text/plain": [
       "array([dtype('int64'), dtype('O'), dtype('bool'), dtype('float64')],\n",
       "      dtype=object)"
      ]
     },
     "execution_count": 35,
     "metadata": {},
     "output_type": "execute_result"
    }
   ],
   "source": [
    "# Verificando os tipos dos dados presente neste DataFrame\n",
    "df_market.dtypes.unique()"
   ]
  },
  {
   "cell_type": "code",
   "execution_count": 36,
   "metadata": {},
   "outputs": [
    {
     "data": {
      "text/html": [
       "<div>\n",
       "<style scoped>\n",
       "    .dataframe tbody tr th:only-of-type {\n",
       "        vertical-align: middle;\n",
       "    }\n",
       "\n",
       "    .dataframe tbody tr th {\n",
       "        vertical-align: top;\n",
       "    }\n",
       "\n",
       "    .dataframe thead th {\n",
       "        text-align: right;\n",
       "    }\n",
       "</style>\n",
       "<table border=\"1\" class=\"dataframe\">\n",
       "  <thead>\n",
       "    <tr style=\"text-align: right;\">\n",
       "      <th></th>\n",
       "      <th>colunas</th>\n",
       "      <th>tipos</th>\n",
       "    </tr>\n",
       "  </thead>\n",
       "  <tbody>\n",
       "    <tr>\n",
       "      <th>Unnamed: 0</th>\n",
       "      <td>Unnamed: 0</td>\n",
       "      <td>int64</td>\n",
       "    </tr>\n",
       "    <tr>\n",
       "      <th>id</th>\n",
       "      <td>id</td>\n",
       "      <td>object</td>\n",
       "    </tr>\n",
       "    <tr>\n",
       "      <th>fl_matriz</th>\n",
       "      <td>fl_matriz</td>\n",
       "      <td>bool</td>\n",
       "    </tr>\n",
       "    <tr>\n",
       "      <th>de_natureza_juridica</th>\n",
       "      <td>de_natureza_juridica</td>\n",
       "      <td>object</td>\n",
       "    </tr>\n",
       "    <tr>\n",
       "      <th>sg_uf</th>\n",
       "      <td>sg_uf</td>\n",
       "      <td>object</td>\n",
       "    </tr>\n",
       "  </tbody>\n",
       "</table>\n",
       "</div>"
      ],
      "text/plain": [
       "                                   colunas   tipos\n",
       "Unnamed: 0                      Unnamed: 0   int64\n",
       "id                                      id  object\n",
       "fl_matriz                        fl_matriz    bool\n",
       "de_natureza_juridica  de_natureza_juridica  object\n",
       "sg_uf                                sg_uf  object"
      ]
     },
     "execution_count": 36,
     "metadata": {},
     "output_type": "execute_result"
    }
   ],
   "source": [
    "df_market_tipos_aux = pd.DataFrame({'colunas': df_market.columns, 'tipos':df_market.dtypes})\n",
    "df_market_tipos_aux.head()"
   ]
  },
  {
   "cell_type": "code",
   "execution_count": 37,
   "metadata": {},
   "outputs": [],
   "source": [
    "# Separando os tipos em listas!\n",
    "lista_dadosNumericos = list(df_market_tipos_aux[(df_market_tipos_aux['tipos'] == 'int64') | (df_market_tipos_aux['tipos'] == 'float64')]['colunas'])\n",
    "lista_dadosBool = list(df_market_tipos_aux[(df_market_tipos_aux['tipos'] == 'bool')]['colunas'])\n",
    "lista_dadosObject = list(df_market_tipos_aux[(df_market_tipos_aux['tipos'] == 'object')]['colunas'])"
   ]
  },
  {
   "cell_type": "code",
   "execution_count": 38,
   "metadata": {},
   "outputs": [],
   "source": [
    "# Criando DataFrames de acordo com as listas acima!\n",
    "df_market_dadosNumericos = df_market[lista_dadosNumericos]\n",
    "df_market_dadosBool = df_market[lista_dadosBool]\n",
    "df_market_dadosObject = df_market[lista_dadosObject]\n",
    "\n",
    "# (df_market_todoNumerico)! É o DataFrame todo numérico para conseguirmos trabalhar!"
   ]
  },
  {
   "cell_type": "code",
   "execution_count": 39,
   "metadata": {},
   "outputs": [
    {
     "data": {
      "text/plain": [
       "Index(['id', 'de_natureza_juridica', 'sg_uf', 'natureza_juridica_macro',\n",
       "       'de_ramo', 'idade_emp_cat', 'fl_rm', 'nm_divisao', 'nm_segmento',\n",
       "       'fl_optante_simples', 'de_saude_tributaria', 'de_saude_rescencia',\n",
       "       'de_nivel_atividade', 'de_faixa_faturamento_estimado_grupo'],\n",
       "      dtype='object')"
      ]
     },
     "execution_count": 39,
     "metadata": {},
     "output_type": "execute_result"
    }
   ],
   "source": [
    "df_market_dadosObject.columns"
   ]
  },
  {
   "cell_type": "markdown",
   "metadata": {},
   "source": [
    "### Trabalhando com DADOS \"bool\""
   ]
  },
  {
   "cell_type": "code",
   "execution_count": 40,
   "metadata": {},
   "outputs": [
    {
     "data": {
      "text/html": [
       "<div>\n",
       "<style scoped>\n",
       "    .dataframe tbody tr th:only-of-type {\n",
       "        vertical-align: middle;\n",
       "    }\n",
       "\n",
       "    .dataframe tbody tr th {\n",
       "        vertical-align: top;\n",
       "    }\n",
       "\n",
       "    .dataframe thead th {\n",
       "        text-align: right;\n",
       "    }\n",
       "</style>\n",
       "<table border=\"1\" class=\"dataframe\">\n",
       "  <thead>\n",
       "    <tr style=\"text-align: right;\">\n",
       "      <th></th>\n",
       "      <th>fl_matriz</th>\n",
       "      <th>fl_sa</th>\n",
       "      <th>fl_mei</th>\n",
       "      <th>fl_ltda</th>\n",
       "      <th>fl_email</th>\n",
       "      <th>fl_telefone</th>\n",
       "    </tr>\n",
       "  </thead>\n",
       "  <tbody>\n",
       "    <tr>\n",
       "      <th>0</th>\n",
       "      <td>1</td>\n",
       "      <td>0</td>\n",
       "      <td>0</td>\n",
       "      <td>0</td>\n",
       "      <td>1</td>\n",
       "      <td>1</td>\n",
       "    </tr>\n",
       "    <tr>\n",
       "      <th>1</th>\n",
       "      <td>1</td>\n",
       "      <td>0</td>\n",
       "      <td>1</td>\n",
       "      <td>0</td>\n",
       "      <td>1</td>\n",
       "      <td>1</td>\n",
       "    </tr>\n",
       "    <tr>\n",
       "      <th>2</th>\n",
       "      <td>1</td>\n",
       "      <td>0</td>\n",
       "      <td>1</td>\n",
       "      <td>0</td>\n",
       "      <td>0</td>\n",
       "      <td>1</td>\n",
       "    </tr>\n",
       "    <tr>\n",
       "      <th>3</th>\n",
       "      <td>1</td>\n",
       "      <td>0</td>\n",
       "      <td>0</td>\n",
       "      <td>0</td>\n",
       "      <td>1</td>\n",
       "      <td>1</td>\n",
       "    </tr>\n",
       "    <tr>\n",
       "      <th>4</th>\n",
       "      <td>1</td>\n",
       "      <td>0</td>\n",
       "      <td>0</td>\n",
       "      <td>0</td>\n",
       "      <td>1</td>\n",
       "      <td>1</td>\n",
       "    </tr>\n",
       "  </tbody>\n",
       "</table>\n",
       "</div>"
      ],
      "text/plain": [
       "   fl_matriz  fl_sa  fl_mei  fl_ltda  fl_email  fl_telefone\n",
       "0          1      0       0        0         1            1\n",
       "1          1      0       1        0         1            1\n",
       "2          1      0       1        0         0            1\n",
       "3          1      0       0        0         1            1\n",
       "4          1      0       0        0         1            1"
      ]
     },
     "execution_count": 40,
     "metadata": {},
     "output_type": "execute_result"
    }
   ],
   "source": [
    "# Transformando os dados \"bool\" em \"int\"\n",
    "df_market_dadosBool_transformado = df_market_dadosBool.astype(int)\n",
    "df_market_dadosBool_transformado.head()"
   ]
  },
  {
   "cell_type": "code",
   "execution_count": 41,
   "metadata": {},
   "outputs": [],
   "source": [
    "# Adicionando (df_market_dadosBool_transformado) ao (df_market_todoNumerico)\n",
    "df_market_todoNumerico = df_market_dadosBool_transformado"
   ]
  },
  {
   "cell_type": "code",
   "execution_count": 42,
   "metadata": {},
   "outputs": [
    {
     "data": {
      "text/plain": [
       "(462298, 6)"
      ]
     },
     "execution_count": 42,
     "metadata": {},
     "output_type": "execute_result"
    }
   ],
   "source": [
    "# Verificando se o (df_market_dadosBool_transformado) foi adicionado corretamente em (df_market_todoNumerico)\n",
    "df_market_todoNumerico.shape"
   ]
  },
  {
   "cell_type": "code",
   "execution_count": 43,
   "metadata": {},
   "outputs": [
    {
     "data": {
      "text/plain": [
       "fl_matriz      0\n",
       "fl_sa          0\n",
       "fl_mei         0\n",
       "fl_ltda        0\n",
       "fl_email       0\n",
       "fl_telefone    0\n",
       "dtype: int64"
      ]
     },
     "execution_count": 43,
     "metadata": {},
     "output_type": "execute_result"
    }
   ],
   "source": [
    "# Verificando a quantidade de dados faltantes no (df_market_todoNumerico). Continua zerado. ÓTIMO!\n",
    "df_market_todoNumerico.isna().sum()"
   ]
  },
  {
   "cell_type": "markdown",
   "metadata": {},
   "source": [
    "### Trabalhando com DADOS NUMÉRICOS : \"int64\"e \"float64\""
   ]
  },
  {
   "cell_type": "code",
   "execution_count": 44,
   "metadata": {},
   "outputs": [
    {
     "data": {
      "text/plain": [
       "Index(['fl_matriz', 'fl_sa', 'fl_mei', 'fl_ltda', 'fl_email', 'fl_telefone'], dtype='object')"
      ]
     },
     "execution_count": 44,
     "metadata": {},
     "output_type": "execute_result"
    }
   ],
   "source": [
    "df_market_todoNumerico.columns"
   ]
  },
  {
   "cell_type": "code",
   "execution_count": 45,
   "metadata": {},
   "outputs": [
    {
     "data": {
      "text/plain": [
       "Unnamed: 0                         0\n",
       "idade_empresa_anos                 0\n",
       "nu_meses_rescencia             45276\n",
       "vl_faturamento_estimado_aux    27513\n",
       "dtype: int64"
      ]
     },
     "execution_count": 45,
     "metadata": {},
     "output_type": "execute_result"
    }
   ],
   "source": [
    "df_market_dadosNumericos.isna().sum()"
   ]
  },
  {
   "cell_type": "code",
   "execution_count": 46,
   "metadata": {},
   "outputs": [],
   "source": [
    "# Substituindo todos os dados numéricos faltantes por \"999999999\"\n",
    "# Dessa forma vamos conseguir usar algum algoritmo de classificacao e mesmo assim vamos saber que é NaN\n",
    "df_market_dadosNumericos = df_market_dadosNumericos.fillna(999999999)"
   ]
  },
  {
   "cell_type": "code",
   "execution_count": 47,
   "metadata": {},
   "outputs": [
    {
     "data": {
      "text/plain": [
       "Unnamed: 0                     0\n",
       "idade_empresa_anos             0\n",
       "nu_meses_rescencia             0\n",
       "vl_faturamento_estimado_aux    0\n",
       "dtype: int64"
      ]
     },
     "execution_count": 47,
     "metadata": {},
     "output_type": "execute_result"
    }
   ],
   "source": [
    "# Testando para ver se funcionou.\n",
    "# Verificando a quantidade de dados faltantes nas colunas numéricas. Total = 0, uhuuuL\n",
    "df_market_dadosNumericos.isna().sum()"
   ]
  },
  {
   "cell_type": "code",
   "execution_count": 48,
   "metadata": {},
   "outputs": [],
   "source": [
    "# Adicionando (df_market_dadosNumericos) ao (df_market_todoNumerico)\n",
    "df_market_todoNumerico = df_market_todoNumerico.join(df_market_dadosNumericos)"
   ]
  },
  {
   "cell_type": "code",
   "execution_count": 49,
   "metadata": {},
   "outputs": [
    {
     "data": {
      "text/plain": [
       "(462298, 10)"
      ]
     },
     "execution_count": 49,
     "metadata": {},
     "output_type": "execute_result"
    }
   ],
   "source": [
    "# Verificando o número de linhas e colunas no DataFrame (df_market_todoNumerico)\n",
    "df_market_todoNumerico.shape"
   ]
  },
  {
   "cell_type": "markdown",
   "metadata": {},
   "source": [
    "### >>> IMPUTANDO VALORES: 'int64' e 'float64' <<<"
   ]
  },
  {
   "cell_type": "code",
   "execution_count": 50,
   "metadata": {},
   "outputs": [],
   "source": [
    "from sklearn.linear_model import LinearRegression"
   ]
  },
  {
   "cell_type": "code",
   "execution_count": 51,
   "metadata": {},
   "outputs": [],
   "source": [
    "reg = LinearRegression()"
   ]
  },
  {
   "cell_type": "markdown",
   "metadata": {},
   "source": [
    "### Coluna: nu_meses_rescencia"
   ]
  },
  {
   "cell_type": "code",
   "execution_count": 52,
   "metadata": {},
   "outputs": [],
   "source": [
    "df_market_TN_treino = df_market_todoNumerico[df_market_todoNumerico['nu_meses_rescencia'] != 999999999]\n",
    "df_market_TN_teste = df_market_todoNumerico[df_market_todoNumerico['nu_meses_rescencia'] == 999999999]"
   ]
  },
  {
   "cell_type": "code",
   "execution_count": 53,
   "metadata": {},
   "outputs": [],
   "source": [
    "# Definindo o TREINO\n",
    "Y_TREINO_df_nu_meses_rescencia = df_market_TN_treino['nu_meses_rescencia']\n",
    "X_TREINO_df_nu_meses_rescencia = df_market_TN_treino.drop(columns = 'nu_meses_rescencia')\n",
    "\n",
    "# Definindo TESTE\n",
    "X_TESTE_df_nu_meses_rescencia = df_market_TN_teste.drop(columns = 'nu_meses_rescencia')"
   ]
  },
  {
   "cell_type": "code",
   "execution_count": 54,
   "metadata": {},
   "outputs": [],
   "source": [
    "reg.fit(X_TREINO_df_nu_meses_rescencia, Y_TREINO_df_nu_meses_rescencia)\n",
    "Y_PREDITO_nu_meses_rescencia = reg.predict(X_TESTE_df_nu_meses_rescencia)"
   ]
  },
  {
   "cell_type": "code",
   "execution_count": 55,
   "metadata": {},
   "outputs": [
    {
     "data": {
      "text/html": [
       "<div>\n",
       "<style scoped>\n",
       "    .dataframe tbody tr th:only-of-type {\n",
       "        vertical-align: middle;\n",
       "    }\n",
       "\n",
       "    .dataframe tbody tr th {\n",
       "        vertical-align: top;\n",
       "    }\n",
       "\n",
       "    .dataframe thead th {\n",
       "        text-align: right;\n",
       "    }\n",
       "</style>\n",
       "<table border=\"1\" class=\"dataframe\">\n",
       "  <thead>\n",
       "    <tr style=\"text-align: right;\">\n",
       "      <th></th>\n",
       "      <th>fl_matriz</th>\n",
       "      <th>fl_sa</th>\n",
       "      <th>fl_mei</th>\n",
       "      <th>fl_ltda</th>\n",
       "      <th>fl_email</th>\n",
       "      <th>fl_telefone</th>\n",
       "      <th>Unnamed: 0</th>\n",
       "      <th>idade_empresa_anos</th>\n",
       "      <th>nu_meses_rescencia</th>\n",
       "      <th>vl_faturamento_estimado_aux</th>\n",
       "    </tr>\n",
       "  </thead>\n",
       "  <tbody>\n",
       "    <tr>\n",
       "      <th>7</th>\n",
       "      <td>1</td>\n",
       "      <td>0</td>\n",
       "      <td>1</td>\n",
       "      <td>0</td>\n",
       "      <td>1</td>\n",
       "      <td>1</td>\n",
       "      <td>7</td>\n",
       "      <td>0.052055</td>\n",
       "      <td>999999999.0</td>\n",
       "      <td>999999999.0</td>\n",
       "    </tr>\n",
       "    <tr>\n",
       "      <th>30</th>\n",
       "      <td>1</td>\n",
       "      <td>0</td>\n",
       "      <td>1</td>\n",
       "      <td>0</td>\n",
       "      <td>1</td>\n",
       "      <td>1</td>\n",
       "      <td>30</td>\n",
       "      <td>0.742466</td>\n",
       "      <td>999999999.0</td>\n",
       "      <td>210000.0</td>\n",
       "    </tr>\n",
       "    <tr>\n",
       "      <th>32</th>\n",
       "      <td>1</td>\n",
       "      <td>0</td>\n",
       "      <td>1</td>\n",
       "      <td>0</td>\n",
       "      <td>0</td>\n",
       "      <td>1</td>\n",
       "      <td>32</td>\n",
       "      <td>0.161644</td>\n",
       "      <td>999999999.0</td>\n",
       "      <td>999999999.0</td>\n",
       "    </tr>\n",
       "    <tr>\n",
       "      <th>36</th>\n",
       "      <td>1</td>\n",
       "      <td>0</td>\n",
       "      <td>0</td>\n",
       "      <td>0</td>\n",
       "      <td>1</td>\n",
       "      <td>1</td>\n",
       "      <td>36</td>\n",
       "      <td>0.375342</td>\n",
       "      <td>999999999.0</td>\n",
       "      <td>999999999.0</td>\n",
       "    </tr>\n",
       "    <tr>\n",
       "      <th>39</th>\n",
       "      <td>0</td>\n",
       "      <td>0</td>\n",
       "      <td>0</td>\n",
       "      <td>0</td>\n",
       "      <td>1</td>\n",
       "      <td>1</td>\n",
       "      <td>39</td>\n",
       "      <td>0.082192</td>\n",
       "      <td>999999999.0</td>\n",
       "      <td>0.0</td>\n",
       "    </tr>\n",
       "  </tbody>\n",
       "</table>\n",
       "</div>"
      ],
      "text/plain": [
       "    fl_matriz  fl_sa  fl_mei  fl_ltda  fl_email  fl_telefone  Unnamed: 0  \\\n",
       "7           1      0       1        0         1            1           7   \n",
       "30          1      0       1        0         1            1          30   \n",
       "32          1      0       1        0         0            1          32   \n",
       "36          1      0       0        0         1            1          36   \n",
       "39          0      0       0        0         1            1          39   \n",
       "\n",
       "    idade_empresa_anos  nu_meses_rescencia  vl_faturamento_estimado_aux  \n",
       "7             0.052055         999999999.0                  999999999.0  \n",
       "30            0.742466         999999999.0                     210000.0  \n",
       "32            0.161644         999999999.0                  999999999.0  \n",
       "36            0.375342         999999999.0                  999999999.0  \n",
       "39            0.082192         999999999.0                          0.0  "
      ]
     },
     "execution_count": 55,
     "metadata": {},
     "output_type": "execute_result"
    }
   ],
   "source": [
    "# Valores de \"nu_meses_rescencia\" antes da substituição\n",
    "df_market_todoNumerico[df_market_todoNumerico['nu_meses_rescencia'] == 999999999].head()"
   ]
  },
  {
   "cell_type": "code",
   "execution_count": 56,
   "metadata": {},
   "outputs": [],
   "source": [
    "# Substituindo '999999999' pelos valores calculado' no dataFrame (df_market_todoNumerico)\n",
    "df_market_todoNumerico['nu_meses_rescencia'].replace({999999999: Y_PREDITO_nu_meses_rescencia}, inplace = True)"
   ]
  },
  {
   "cell_type": "code",
   "execution_count": 57,
   "metadata": {},
   "outputs": [],
   "source": [
    "# Salvando o resultado da imputacão de valores em: (df_market_dadosNumericos_Transformado)\n",
    "df_market_dadosNumericos_Transformado = pd.DataFrame(df_market_dadosNumericos)"
   ]
  },
  {
   "cell_type": "code",
   "execution_count": 58,
   "metadata": {},
   "outputs": [
    {
     "data": {
      "text/html": [
       "<div>\n",
       "<style scoped>\n",
       "    .dataframe tbody tr th:only-of-type {\n",
       "        vertical-align: middle;\n",
       "    }\n",
       "\n",
       "    .dataframe tbody tr th {\n",
       "        vertical-align: top;\n",
       "    }\n",
       "\n",
       "    .dataframe thead th {\n",
       "        text-align: right;\n",
       "    }\n",
       "</style>\n",
       "<table border=\"1\" class=\"dataframe\">\n",
       "  <thead>\n",
       "    <tr style=\"text-align: right;\">\n",
       "      <th></th>\n",
       "      <th>idade_empresa_anos</th>\n",
       "      <th>nu_meses_rescencia</th>\n",
       "      <th>vl_faturamento_estimado_aux</th>\n",
       "    </tr>\n",
       "  </thead>\n",
       "  <tbody>\n",
       "    <tr>\n",
       "      <th>0</th>\n",
       "      <td>14.457534</td>\n",
       "      <td>23.0</td>\n",
       "      <td>3132172.8</td>\n",
       "    </tr>\n",
       "    <tr>\n",
       "      <th>1</th>\n",
       "      <td>1.463014</td>\n",
       "      <td>9.0</td>\n",
       "      <td>210000.0</td>\n",
       "    </tr>\n",
       "    <tr>\n",
       "      <th>2</th>\n",
       "      <td>7.093151</td>\n",
       "      <td>26.0</td>\n",
       "      <td>50000.0</td>\n",
       "    </tr>\n",
       "    <tr>\n",
       "      <th>3</th>\n",
       "      <td>6.512329</td>\n",
       "      <td>26.0</td>\n",
       "      <td>210000.0</td>\n",
       "    </tr>\n",
       "    <tr>\n",
       "      <th>4</th>\n",
       "      <td>3.200000</td>\n",
       "      <td>27.0</td>\n",
       "      <td>210000.0</td>\n",
       "    </tr>\n",
       "    <tr>\n",
       "      <th>...</th>\n",
       "      <td>...</td>\n",
       "      <td>...</td>\n",
       "      <td>...</td>\n",
       "    </tr>\n",
       "    <tr>\n",
       "      <th>462293</th>\n",
       "      <td>3.254795</td>\n",
       "      <td>22.0</td>\n",
       "      <td>50000.0</td>\n",
       "    </tr>\n",
       "    <tr>\n",
       "      <th>462294</th>\n",
       "      <td>8.953425</td>\n",
       "      <td>23.0</td>\n",
       "      <td>210000.0</td>\n",
       "    </tr>\n",
       "    <tr>\n",
       "      <th>462295</th>\n",
       "      <td>20.745205</td>\n",
       "      <td>23.0</td>\n",
       "      <td>210000.0</td>\n",
       "    </tr>\n",
       "    <tr>\n",
       "      <th>462296</th>\n",
       "      <td>1.909589</td>\n",
       "      <td>20.0</td>\n",
       "      <td>432734.4</td>\n",
       "    </tr>\n",
       "    <tr>\n",
       "      <th>462297</th>\n",
       "      <td>0.797260</td>\n",
       "      <td>999999999.0</td>\n",
       "      <td>210000.0</td>\n",
       "    </tr>\n",
       "  </tbody>\n",
       "</table>\n",
       "<p>462298 rows × 3 columns</p>\n",
       "</div>"
      ],
      "text/plain": [
       "        idade_empresa_anos  nu_meses_rescencia  vl_faturamento_estimado_aux\n",
       "0                14.457534                23.0                    3132172.8\n",
       "1                 1.463014                 9.0                     210000.0\n",
       "2                 7.093151                26.0                      50000.0\n",
       "3                 6.512329                26.0                     210000.0\n",
       "4                 3.200000                27.0                     210000.0\n",
       "...                    ...                 ...                          ...\n",
       "462293            3.254795                22.0                      50000.0\n",
       "462294            8.953425                23.0                     210000.0\n",
       "462295           20.745205                23.0                     210000.0\n",
       "462296            1.909589                20.0                     432734.4\n",
       "462297            0.797260         999999999.0                     210000.0\n",
       "\n",
       "[462298 rows x 3 columns]"
      ]
     },
     "execution_count": 58,
     "metadata": {},
     "output_type": "execute_result"
    }
   ],
   "source": [
    "df_market_dadosNumericos_Transformado.drop(columns= 'Unnamed: 0')"
   ]
  },
  {
   "cell_type": "code",
   "execution_count": 59,
   "metadata": {},
   "outputs": [],
   "source": [
    "# Substituindo '999999999' pelos valores calculado' no DataFrame (df_market_dadosNumericos)\n",
    "df_market_dadosNumericos['nu_meses_rescencia'].replace({999999999: Y_PREDITO_nu_meses_rescencia}, inplace = True)"
   ]
  },
  {
   "cell_type": "code",
   "execution_count": 60,
   "metadata": {},
   "outputs": [],
   "source": [
    "# Substituindo '999999999' pelos valores calculado' no DataFrame (df_market_dadosNumericos)\n",
    "df_market_dadosNumericos_Transformado['nu_meses_rescencia'].replace({999999999: Y_PREDITO_nu_meses_rescencia}, inplace = True)"
   ]
  },
  {
   "cell_type": "code",
   "execution_count": 61,
   "metadata": {},
   "outputs": [
    {
     "data": {
      "text/plain": [
       "24.85954582565315"
      ]
     },
     "execution_count": 61,
     "metadata": {},
     "output_type": "execute_result"
    }
   ],
   "source": [
    "# Conferindo se a substituição ocorreu!\n",
    "df_market_todoNumerico['nu_meses_rescencia'][36]"
   ]
  },
  {
   "cell_type": "code",
   "execution_count": 62,
   "metadata": {},
   "outputs": [
    {
     "data": {
      "text/plain": [
       "array([False])"
      ]
     },
     "execution_count": 62,
     "metadata": {},
     "output_type": "execute_result"
    }
   ],
   "source": [
    "# Verificando se tem alum valor '999999999'(que no caso é NaN) na coluna \"nu_meses_rescencia\" no DataFrame(df_market_todoNumerico)\n",
    "(df_market_todoNumerico['nu_meses_rescencia']== 999999999).unique()"
   ]
  },
  {
   "cell_type": "markdown",
   "metadata": {},
   "source": [
    "### Coluna: vl_faturamento_estimado_aux"
   ]
  },
  {
   "cell_type": "code",
   "execution_count": 63,
   "metadata": {},
   "outputs": [],
   "source": [
    "df_market_TN_treino = df_market_todoNumerico[df_market_todoNumerico['vl_faturamento_estimado_aux'] != 999999999]\n",
    "df_market_TN_teste = df_market_todoNumerico[df_market_todoNumerico['vl_faturamento_estimado_aux'] == 999999999]"
   ]
  },
  {
   "cell_type": "code",
   "execution_count": 64,
   "metadata": {},
   "outputs": [],
   "source": [
    "# Definindo o TREINO\n",
    "Y_TREINO_df_vl_faturamento_estimado_aux = df_market_TN_treino['vl_faturamento_estimado_aux']\n",
    "X_TREINO_df_vl_faturamento_estimado_aux = df_market_TN_treino.drop(columns = 'vl_faturamento_estimado_aux')\n",
    "\n",
    "# Definindo TESTE\n",
    "X_TESTE_df_vl_faturamento_estimado_aux = df_market_TN_teste.drop(columns = 'vl_faturamento_estimado_aux')"
   ]
  },
  {
   "cell_type": "code",
   "execution_count": 65,
   "metadata": {},
   "outputs": [],
   "source": [
    "reg.fit(X_TREINO_df_vl_faturamento_estimado_aux, Y_TREINO_df_vl_faturamento_estimado_aux)\n",
    "Y_PREDITO_vl_faturamento_estimado_aux = reg.predict(X_TESTE_df_vl_faturamento_estimado_aux)"
   ]
  },
  {
   "cell_type": "code",
   "execution_count": 66,
   "metadata": {},
   "outputs": [
    {
     "data": {
      "text/plain": [
       "array([ 69450.64326316, 728844.04336684,  62596.69643725, ...,\n",
       "       740756.23828632,  38425.85289452,  48381.03323677])"
      ]
     },
     "execution_count": 66,
     "metadata": {},
     "output_type": "execute_result"
    }
   ],
   "source": [
    "Y_PREDITO_vl_faturamento_estimado_aux = Y_PREDITO_vl_faturamento_estimado_aux * (-1)\n",
    "Y_PREDITO_vl_faturamento_estimado_aux "
   ]
  },
  {
   "cell_type": "code",
   "execution_count": 67,
   "metadata": {},
   "outputs": [
    {
     "data": {
      "text/plain": [
       "0         3132172.8\n",
       "1          210000.0\n",
       "2           50000.0\n",
       "3          210000.0\n",
       "4          210000.0\n",
       "            ...    \n",
       "462293      50000.0\n",
       "462294     210000.0\n",
       "462295     210000.0\n",
       "462296     432734.4\n",
       "462297     210000.0\n",
       "Name: vl_faturamento_estimado_aux, Length: 462298, dtype: float64"
      ]
     },
     "execution_count": 67,
     "metadata": {},
     "output_type": "execute_result"
    }
   ],
   "source": [
    "# Valores de \"nu_meses_rescencia\" antes da substituição\n",
    "df_market_todoNumerico['vl_faturamento_estimado_aux']"
   ]
  },
  {
   "cell_type": "code",
   "execution_count": 68,
   "metadata": {},
   "outputs": [],
   "source": [
    "# Substituindo '999999999' pelos valores calculado'\n",
    "df_market_todoNumerico['vl_faturamento_estimado_aux'].replace({999999999: Y_PREDITO_vl_faturamento_estimado_aux}, inplace = True)"
   ]
  },
  {
   "cell_type": "code",
   "execution_count": 69,
   "metadata": {},
   "outputs": [],
   "source": [
    "# Substituindo '999999999' pelos valores calculado' no DataFrame (df_market_dadosNumericos_Transformado)\n",
    "df_market_dadosNumericos_Transformado['vl_faturamento_estimado_aux'].replace({999999999: Y_PREDITO_vl_faturamento_estimado_aux}, inplace = True)"
   ]
  },
  {
   "cell_type": "code",
   "execution_count": 70,
   "metadata": {},
   "outputs": [],
   "source": [
    "df_market_dadosNumericos_Transformado.drop(columns = 'Unnamed: 0', inplace = True)"
   ]
  },
  {
   "cell_type": "code",
   "execution_count": 71,
   "metadata": {},
   "outputs": [
    {
     "data": {
      "text/plain": [
       "728844.0433668448"
      ]
     },
     "execution_count": 71,
     "metadata": {},
     "output_type": "execute_result"
    }
   ],
   "source": [
    "# Conferindo se a substituição ocorreu!\n",
    "df_market_todoNumerico['vl_faturamento_estimado_aux'][32]"
   ]
  },
  {
   "cell_type": "code",
   "execution_count": 72,
   "metadata": {},
   "outputs": [
    {
     "data": {
      "text/plain": [
       "array([False])"
      ]
     },
     "execution_count": 72,
     "metadata": {},
     "output_type": "execute_result"
    }
   ],
   "source": [
    "# Verificando se tem alum valor '999999999'(que no caso é NaN) na coluna \"nu_meses_rescencia\" no DataFrame(df_market_todoNumerico)\n",
    "(df_market_todoNumerico['nu_meses_rescencia']== 999999999).unique()"
   ]
  },
  {
   "cell_type": "code",
   "execution_count": 73,
   "metadata": {},
   "outputs": [
    {
     "data": {
      "text/html": [
       "<div>\n",
       "<style scoped>\n",
       "    .dataframe tbody tr th:only-of-type {\n",
       "        vertical-align: middle;\n",
       "    }\n",
       "\n",
       "    .dataframe tbody tr th {\n",
       "        vertical-align: top;\n",
       "    }\n",
       "\n",
       "    .dataframe thead th {\n",
       "        text-align: right;\n",
       "    }\n",
       "</style>\n",
       "<table border=\"1\" class=\"dataframe\">\n",
       "  <thead>\n",
       "    <tr style=\"text-align: right;\">\n",
       "      <th></th>\n",
       "      <th>fl_matriz</th>\n",
       "      <th>fl_sa</th>\n",
       "      <th>fl_mei</th>\n",
       "      <th>fl_ltda</th>\n",
       "      <th>fl_email</th>\n",
       "      <th>fl_telefone</th>\n",
       "      <th>Unnamed: 0</th>\n",
       "      <th>idade_empresa_anos</th>\n",
       "      <th>nu_meses_rescencia</th>\n",
       "      <th>vl_faturamento_estimado_aux</th>\n",
       "    </tr>\n",
       "  </thead>\n",
       "  <tbody>\n",
       "    <tr>\n",
       "      <th>0</th>\n",
       "      <td>1</td>\n",
       "      <td>0</td>\n",
       "      <td>0</td>\n",
       "      <td>0</td>\n",
       "      <td>1</td>\n",
       "      <td>1</td>\n",
       "      <td>0</td>\n",
       "      <td>14.457534</td>\n",
       "      <td>23.000000</td>\n",
       "      <td>3132172.8</td>\n",
       "    </tr>\n",
       "    <tr>\n",
       "      <th>1</th>\n",
       "      <td>1</td>\n",
       "      <td>0</td>\n",
       "      <td>1</td>\n",
       "      <td>0</td>\n",
       "      <td>1</td>\n",
       "      <td>1</td>\n",
       "      <td>1</td>\n",
       "      <td>1.463014</td>\n",
       "      <td>9.000000</td>\n",
       "      <td>210000.0</td>\n",
       "    </tr>\n",
       "    <tr>\n",
       "      <th>2</th>\n",
       "      <td>1</td>\n",
       "      <td>0</td>\n",
       "      <td>1</td>\n",
       "      <td>0</td>\n",
       "      <td>0</td>\n",
       "      <td>1</td>\n",
       "      <td>2</td>\n",
       "      <td>7.093151</td>\n",
       "      <td>26.000000</td>\n",
       "      <td>50000.0</td>\n",
       "    </tr>\n",
       "    <tr>\n",
       "      <th>3</th>\n",
       "      <td>1</td>\n",
       "      <td>0</td>\n",
       "      <td>0</td>\n",
       "      <td>0</td>\n",
       "      <td>1</td>\n",
       "      <td>1</td>\n",
       "      <td>3</td>\n",
       "      <td>6.512329</td>\n",
       "      <td>26.000000</td>\n",
       "      <td>210000.0</td>\n",
       "    </tr>\n",
       "    <tr>\n",
       "      <th>4</th>\n",
       "      <td>1</td>\n",
       "      <td>0</td>\n",
       "      <td>0</td>\n",
       "      <td>0</td>\n",
       "      <td>1</td>\n",
       "      <td>1</td>\n",
       "      <td>4</td>\n",
       "      <td>3.200000</td>\n",
       "      <td>27.000000</td>\n",
       "      <td>210000.0</td>\n",
       "    </tr>\n",
       "    <tr>\n",
       "      <th>...</th>\n",
       "      <td>...</td>\n",
       "      <td>...</td>\n",
       "      <td>...</td>\n",
       "      <td>...</td>\n",
       "      <td>...</td>\n",
       "      <td>...</td>\n",
       "      <td>...</td>\n",
       "      <td>...</td>\n",
       "      <td>...</td>\n",
       "      <td>...</td>\n",
       "    </tr>\n",
       "    <tr>\n",
       "      <th>462293</th>\n",
       "      <td>1</td>\n",
       "      <td>0</td>\n",
       "      <td>1</td>\n",
       "      <td>0</td>\n",
       "      <td>1</td>\n",
       "      <td>1</td>\n",
       "      <td>462293</td>\n",
       "      <td>3.254795</td>\n",
       "      <td>22.000000</td>\n",
       "      <td>50000.0</td>\n",
       "    </tr>\n",
       "    <tr>\n",
       "      <th>462294</th>\n",
       "      <td>1</td>\n",
       "      <td>0</td>\n",
       "      <td>0</td>\n",
       "      <td>0</td>\n",
       "      <td>0</td>\n",
       "      <td>0</td>\n",
       "      <td>462294</td>\n",
       "      <td>8.953425</td>\n",
       "      <td>23.000000</td>\n",
       "      <td>210000.0</td>\n",
       "    </tr>\n",
       "    <tr>\n",
       "      <th>462295</th>\n",
       "      <td>1</td>\n",
       "      <td>0</td>\n",
       "      <td>0</td>\n",
       "      <td>0</td>\n",
       "      <td>0</td>\n",
       "      <td>0</td>\n",
       "      <td>462295</td>\n",
       "      <td>20.745205</td>\n",
       "      <td>23.000000</td>\n",
       "      <td>210000.0</td>\n",
       "    </tr>\n",
       "    <tr>\n",
       "      <th>462296</th>\n",
       "      <td>1</td>\n",
       "      <td>0</td>\n",
       "      <td>0</td>\n",
       "      <td>0</td>\n",
       "      <td>1</td>\n",
       "      <td>0</td>\n",
       "      <td>462296</td>\n",
       "      <td>1.909589</td>\n",
       "      <td>20.000000</td>\n",
       "      <td>432734.4</td>\n",
       "    </tr>\n",
       "    <tr>\n",
       "      <th>462297</th>\n",
       "      <td>1</td>\n",
       "      <td>0</td>\n",
       "      <td>1</td>\n",
       "      <td>0</td>\n",
       "      <td>1</td>\n",
       "      <td>1</td>\n",
       "      <td>462297</td>\n",
       "      <td>0.797260</td>\n",
       "      <td>21.587832</td>\n",
       "      <td>210000.0</td>\n",
       "    </tr>\n",
       "  </tbody>\n",
       "</table>\n",
       "<p>462298 rows × 10 columns</p>\n",
       "</div>"
      ],
      "text/plain": [
       "        fl_matriz  fl_sa  fl_mei  fl_ltda  fl_email  fl_telefone  Unnamed: 0  \\\n",
       "0               1      0       0        0         1            1           0   \n",
       "1               1      0       1        0         1            1           1   \n",
       "2               1      0       1        0         0            1           2   \n",
       "3               1      0       0        0         1            1           3   \n",
       "4               1      0       0        0         1            1           4   \n",
       "...           ...    ...     ...      ...       ...          ...         ...   \n",
       "462293          1      0       1        0         1            1      462293   \n",
       "462294          1      0       0        0         0            0      462294   \n",
       "462295          1      0       0        0         0            0      462295   \n",
       "462296          1      0       0        0         1            0      462296   \n",
       "462297          1      0       1        0         1            1      462297   \n",
       "\n",
       "        idade_empresa_anos  nu_meses_rescencia  vl_faturamento_estimado_aux  \n",
       "0                14.457534           23.000000                    3132172.8  \n",
       "1                 1.463014            9.000000                     210000.0  \n",
       "2                 7.093151           26.000000                      50000.0  \n",
       "3                 6.512329           26.000000                     210000.0  \n",
       "4                 3.200000           27.000000                     210000.0  \n",
       "...                    ...                 ...                          ...  \n",
       "462293            3.254795           22.000000                      50000.0  \n",
       "462294            8.953425           23.000000                     210000.0  \n",
       "462295           20.745205           23.000000                     210000.0  \n",
       "462296            1.909589           20.000000                     432734.4  \n",
       "462297            0.797260           21.587832                     210000.0  \n",
       "\n",
       "[462298 rows x 10 columns]"
      ]
     },
     "execution_count": 73,
     "metadata": {},
     "output_type": "execute_result"
    }
   ],
   "source": [
    "df_market_todoNumerico"
   ]
  },
  {
   "cell_type": "code",
   "execution_count": 74,
   "metadata": {},
   "outputs": [],
   "source": [
    "df_market_todoNumerico.drop (columns = 'Unnamed: 0', inplace = True)"
   ]
  },
  {
   "cell_type": "code",
   "execution_count": 75,
   "metadata": {},
   "outputs": [
    {
     "data": {
      "text/plain": [
       "Index(['fl_matriz', 'fl_sa', 'fl_mei', 'fl_ltda', 'fl_email', 'fl_telefone',\n",
       "       'idade_empresa_anos', 'nu_meses_rescencia',\n",
       "       'vl_faturamento_estimado_aux'],\n",
       "      dtype='object')"
      ]
     },
     "execution_count": 75,
     "metadata": {},
     "output_type": "execute_result"
    }
   ],
   "source": [
    "df_market_todoNumerico.columns"
   ]
  },
  {
   "cell_type": "markdown",
   "metadata": {},
   "source": [
    "### >>> IMPUTANDO VALORES: 'object' <<<"
   ]
  },
  {
   "cell_type": "code",
   "execution_count": 76,
   "metadata": {},
   "outputs": [],
   "source": [
    "# Lembrando que:\n",
    "# Nosso DataFrame resultado (até o momento) é: df_market_todoNumerico\n",
    "# O DataFrame (df_market_dadosObject) é o DataFrame com todos os dados do tipo \"object\"\n",
    "# A ideia é usar um algoritmo de Classificação (ex: Árvore de Decisão) para substituir os dados faltantes\n",
    "# Estamos assumindo que os dados faltantes serão representados por: \"souNulo\""
   ]
  },
  {
   "cell_type": "code",
   "execution_count": 77,
   "metadata": {},
   "outputs": [
    {
     "data": {
      "text/plain": [
       "Index(['fl_matriz', 'fl_sa', 'fl_mei', 'fl_ltda', 'fl_email', 'fl_telefone',\n",
       "       'idade_empresa_anos', 'nu_meses_rescencia',\n",
       "       'vl_faturamento_estimado_aux'],\n",
       "      dtype='object')"
      ]
     },
     "execution_count": 77,
     "metadata": {},
     "output_type": "execute_result"
    }
   ],
   "source": [
    "df_market_todoNumerico.columns"
   ]
  },
  {
   "cell_type": "code",
   "execution_count": 78,
   "metadata": {},
   "outputs": [
    {
     "data": {
      "text/plain": [
       "id                                         0\n",
       "de_natureza_juridica                       0\n",
       "sg_uf                                      0\n",
       "natureza_juridica_macro                    0\n",
       "de_ramo                                    0\n",
       "idade_emp_cat                              0\n",
       "fl_rm                                      0\n",
       "nm_divisao                              1927\n",
       "nm_segmento                             1927\n",
       "fl_optante_simples                     82713\n",
       "de_saude_tributaria                    14851\n",
       "de_saude_rescencia                     14851\n",
       "de_nivel_atividade                     11168\n",
       "de_faixa_faturamento_estimado_grupo    27513\n",
       "dtype: int64"
      ]
     },
     "execution_count": 78,
     "metadata": {},
     "output_type": "execute_result"
    }
   ],
   "source": [
    "df_market_dadosObject.isna().sum()"
   ]
  },
  {
   "cell_type": "code",
   "execution_count": 79,
   "metadata": {},
   "outputs": [],
   "source": [
    "# Verificando a quantidade de dados faltantes no DataFrame (df_market_dadosObject).\n",
    "# Conseguimos verificar que as seguintes colunas não tem nenhum dado faltante:\n",
    "# listaBOOL_semDadosFaltantes = [id, de_natureza_juridica, sg_uf, natureza_juridica_macro, de_ramo, idade_emp_cat, fl_rm]\n",
    "lista_dadosObject_COM_dadosFaltantes = ['nm_divisao', 'nm_segmento', 'fl_optante_simples', 'de_saude_tributaria','de_saude_rescencia', 'de_nivel_atividade', 'de_faixa_faturamento_estimado_grupo']\n",
    "lista_dadosObject_SEM_dadosFaltantes = ['de_natureza_juridica', 'sg_uf', 'natureza_juridica_macro', 'de_ramo', 'idade_emp_cat', 'fl_rm']"
   ]
  },
  {
   "cell_type": "code",
   "execution_count": 80,
   "metadata": {},
   "outputs": [],
   "source": [
    "# Vamos isolar \"id\"\n",
    "# Ou seja, salvar em uma variável e excluir do DataFrame (df_market_dadosObject)\n",
    "# Porque esta coluna não vai fazer parte de nenhum aprendizado, mas precisamos os valores dos \"id\"s das empresas.\n",
    "armazenando_ID = df_market_dadosObject['id']"
   ]
  },
  {
   "cell_type": "code",
   "execution_count": 81,
   "metadata": {},
   "outputs": [
    {
     "data": {
      "text/plain": [
       "['de_natureza_juridica',\n",
       " 'sg_uf',\n",
       " 'natureza_juridica_macro',\n",
       " 'de_ramo',\n",
       " 'idade_emp_cat',\n",
       " 'fl_rm',\n",
       " 'nm_divisao',\n",
       " 'nm_segmento',\n",
       " 'fl_optante_simples',\n",
       " 'de_saude_tributaria',\n",
       " 'de_saude_rescencia',\n",
       " 'de_nivel_atividade',\n",
       " 'de_faixa_faturamento_estimado_grupo']"
      ]
     },
     "execution_count": 81,
     "metadata": {},
     "output_type": "execute_result"
    }
   ],
   "source": [
    "lista_dadosObject_aux = list(df_market_dadosObject.columns)\n",
    "lista_dadosObject_aux.remove('id')\n",
    "lista_dadosObject_aux"
   ]
  },
  {
   "cell_type": "code",
   "execution_count": 82,
   "metadata": {},
   "outputs": [],
   "source": [
    "# Substituindo todos os dados numéricos faltantes por 'souNulo'\n",
    "# Dessa forma vamos conseguir usar algum algoritmo de classificacao e mesmo assim vamos saber que é NaN\n",
    "df_market_dadosObject = df_market_dadosObject.fillna('souNulo')"
   ]
  },
  {
   "cell_type": "code",
   "execution_count": 83,
   "metadata": {},
   "outputs": [
    {
     "data": {
      "text/plain": [
       "id                                     0\n",
       "de_natureza_juridica                   0\n",
       "sg_uf                                  0\n",
       "natureza_juridica_macro                0\n",
       "de_ramo                                0\n",
       "idade_emp_cat                          0\n",
       "fl_rm                                  0\n",
       "nm_divisao                             0\n",
       "nm_segmento                            0\n",
       "fl_optante_simples                     0\n",
       "de_saude_tributaria                    0\n",
       "de_saude_rescencia                     0\n",
       "de_nivel_atividade                     0\n",
       "de_faixa_faturamento_estimado_grupo    0\n",
       "dtype: int64"
      ]
     },
     "execution_count": 83,
     "metadata": {},
     "output_type": "execute_result"
    }
   ],
   "source": [
    "df_market_dadosObject.isna().sum()"
   ]
  },
  {
   "cell_type": "code",
   "execution_count": 84,
   "metadata": {},
   "outputs": [],
   "source": [
    "df_parcial_dadosObject_SEM_dadosFaltantes = pd.DataFrame(df_market_dadosObject['id'])"
   ]
  },
  {
   "cell_type": "code",
   "execution_count": 85,
   "metadata": {},
   "outputs": [
    {
     "data": {
      "text/plain": [
       "['de_natureza_juridica',\n",
       " 'sg_uf',\n",
       " 'natureza_juridica_macro',\n",
       " 'de_ramo',\n",
       " 'idade_emp_cat',\n",
       " 'fl_rm']"
      ]
     },
     "execution_count": 85,
     "metadata": {},
     "output_type": "execute_result"
    }
   ],
   "source": [
    "lista_dadosObject_SEM_dadosFaltantes"
   ]
  },
  {
   "cell_type": "code",
   "execution_count": 86,
   "metadata": {},
   "outputs": [],
   "source": [
    "# Transformando as colunas em dados numéricos e salvando num novo DataFrame\n",
    "# SOMENTE AS COLUNAS DO TIPO \"BOOL\" SEM DADOS FALTANTES!\n",
    "for x in lista_dadosObject_SEM_dadosFaltantes:\n",
    "    df_market_aux = pd.get_dummies(df_market_dadosObject[x], prefix = x)\n",
    "    df_parcial_dadosObject_SEM_dadosFaltantes = df_parcial_dadosObject_SEM_dadosFaltantes.join(df_market_aux)"
   ]
  },
  {
   "cell_type": "code",
   "execution_count": 87,
   "metadata": {},
   "outputs": [
    {
     "data": {
      "text/plain": [
       "(462298, 122)"
      ]
     },
     "execution_count": 87,
     "metadata": {},
     "output_type": "execute_result"
    }
   ],
   "source": [
    "# Verificando o foermato do DataFrame que tivemos como resultado!\n",
    "df_parcial_dadosObject_SEM_dadosFaltantes.shape"
   ]
  },
  {
   "cell_type": "code",
   "execution_count": 88,
   "metadata": {},
   "outputs": [
    {
     "data": {
      "text/html": [
       "<div>\n",
       "<style scoped>\n",
       "    .dataframe tbody tr th:only-of-type {\n",
       "        vertical-align: middle;\n",
       "    }\n",
       "\n",
       "    .dataframe tbody tr th {\n",
       "        vertical-align: top;\n",
       "    }\n",
       "\n",
       "    .dataframe thead th {\n",
       "        text-align: right;\n",
       "    }\n",
       "</style>\n",
       "<table border=\"1\" class=\"dataframe\">\n",
       "  <thead>\n",
       "    <tr style=\"text-align: right;\">\n",
       "      <th></th>\n",
       "      <th>id</th>\n",
       "      <th>de_natureza_juridica_ASSOCIACAO PRIVADA</th>\n",
       "      <th>de_natureza_juridica_AUTARQUIA ESTADUAL OU DO DISTRITO FEDERAL</th>\n",
       "      <th>de_natureza_juridica_AUTARQUIA FEDERAL</th>\n",
       "      <th>de_natureza_juridica_AUTARQUIA MUNICIPAL</th>\n",
       "      <th>de_natureza_juridica_CANDIDATO A CARGO POLITICO ELETIVO</th>\n",
       "      <th>de_natureza_juridica_CLUBE FUNDO DE INVESTIMENTO</th>\n",
       "      <th>de_natureza_juridica_COMUNIDADE INDIGENA</th>\n",
       "      <th>de_natureza_juridica_CONDOMINIO EDILICIO</th>\n",
       "      <th>de_natureza_juridica_CONSORCIO DE EMPREGADORES</th>\n",
       "      <th>...</th>\n",
       "      <th>de_ramo_TEXTEIS</th>\n",
       "      <th>de_ramo_TRANSPORTE, ARMAZENAGEM E CORREIO</th>\n",
       "      <th>idade_emp_cat_1 a 5</th>\n",
       "      <th>idade_emp_cat_10 a 15</th>\n",
       "      <th>idade_emp_cat_15 a 20</th>\n",
       "      <th>idade_emp_cat_5 a 10</th>\n",
       "      <th>idade_emp_cat_&lt;= 1</th>\n",
       "      <th>idade_emp_cat_&gt; 20</th>\n",
       "      <th>fl_rm_NAO</th>\n",
       "      <th>fl_rm_SIM</th>\n",
       "    </tr>\n",
       "  </thead>\n",
       "  <tbody>\n",
       "    <tr>\n",
       "      <th>0</th>\n",
       "      <td>a6984c3ae395090e3bee8ad63c3758b110de096d5d8195...</td>\n",
       "      <td>0</td>\n",
       "      <td>0</td>\n",
       "      <td>0</td>\n",
       "      <td>0</td>\n",
       "      <td>0</td>\n",
       "      <td>0</td>\n",
       "      <td>0</td>\n",
       "      <td>0</td>\n",
       "      <td>0</td>\n",
       "      <td>...</td>\n",
       "      <td>0</td>\n",
       "      <td>0</td>\n",
       "      <td>0</td>\n",
       "      <td>1</td>\n",
       "      <td>0</td>\n",
       "      <td>0</td>\n",
       "      <td>0</td>\n",
       "      <td>0</td>\n",
       "      <td>0</td>\n",
       "      <td>1</td>\n",
       "    </tr>\n",
       "    <tr>\n",
       "      <th>1</th>\n",
       "      <td>6178f41ade1365e44bc2c46654c2c8c0eaae27dcb476c4...</td>\n",
       "      <td>0</td>\n",
       "      <td>0</td>\n",
       "      <td>0</td>\n",
       "      <td>0</td>\n",
       "      <td>0</td>\n",
       "      <td>0</td>\n",
       "      <td>0</td>\n",
       "      <td>0</td>\n",
       "      <td>0</td>\n",
       "      <td>...</td>\n",
       "      <td>0</td>\n",
       "      <td>0</td>\n",
       "      <td>1</td>\n",
       "      <td>0</td>\n",
       "      <td>0</td>\n",
       "      <td>0</td>\n",
       "      <td>0</td>\n",
       "      <td>0</td>\n",
       "      <td>0</td>\n",
       "      <td>1</td>\n",
       "    </tr>\n",
       "    <tr>\n",
       "      <th>2</th>\n",
       "      <td>4a7e5069a397f12fdd7fd57111d6dc5d3ba558958efc02...</td>\n",
       "      <td>0</td>\n",
       "      <td>0</td>\n",
       "      <td>0</td>\n",
       "      <td>0</td>\n",
       "      <td>0</td>\n",
       "      <td>0</td>\n",
       "      <td>0</td>\n",
       "      <td>0</td>\n",
       "      <td>0</td>\n",
       "      <td>...</td>\n",
       "      <td>0</td>\n",
       "      <td>1</td>\n",
       "      <td>0</td>\n",
       "      <td>0</td>\n",
       "      <td>0</td>\n",
       "      <td>1</td>\n",
       "      <td>0</td>\n",
       "      <td>0</td>\n",
       "      <td>0</td>\n",
       "      <td>1</td>\n",
       "    </tr>\n",
       "    <tr>\n",
       "      <th>3</th>\n",
       "      <td>3348900fe63216a439d2e5238c79ddd46ede454df7b9d8...</td>\n",
       "      <td>0</td>\n",
       "      <td>0</td>\n",
       "      <td>0</td>\n",
       "      <td>0</td>\n",
       "      <td>0</td>\n",
       "      <td>0</td>\n",
       "      <td>0</td>\n",
       "      <td>0</td>\n",
       "      <td>0</td>\n",
       "      <td>...</td>\n",
       "      <td>0</td>\n",
       "      <td>0</td>\n",
       "      <td>0</td>\n",
       "      <td>0</td>\n",
       "      <td>0</td>\n",
       "      <td>1</td>\n",
       "      <td>0</td>\n",
       "      <td>0</td>\n",
       "      <td>0</td>\n",
       "      <td>1</td>\n",
       "    </tr>\n",
       "    <tr>\n",
       "      <th>4</th>\n",
       "      <td>1f9bcabc9d3173c1fe769899e4fac14b053037b953a1e4...</td>\n",
       "      <td>0</td>\n",
       "      <td>0</td>\n",
       "      <td>0</td>\n",
       "      <td>0</td>\n",
       "      <td>0</td>\n",
       "      <td>0</td>\n",
       "      <td>0</td>\n",
       "      <td>0</td>\n",
       "      <td>0</td>\n",
       "      <td>...</td>\n",
       "      <td>0</td>\n",
       "      <td>0</td>\n",
       "      <td>1</td>\n",
       "      <td>0</td>\n",
       "      <td>0</td>\n",
       "      <td>0</td>\n",
       "      <td>0</td>\n",
       "      <td>0</td>\n",
       "      <td>0</td>\n",
       "      <td>1</td>\n",
       "    </tr>\n",
       "  </tbody>\n",
       "</table>\n",
       "<p>5 rows × 122 columns</p>\n",
       "</div>"
      ],
      "text/plain": [
       "                                                  id  \\\n",
       "0  a6984c3ae395090e3bee8ad63c3758b110de096d5d8195...   \n",
       "1  6178f41ade1365e44bc2c46654c2c8c0eaae27dcb476c4...   \n",
       "2  4a7e5069a397f12fdd7fd57111d6dc5d3ba558958efc02...   \n",
       "3  3348900fe63216a439d2e5238c79ddd46ede454df7b9d8...   \n",
       "4  1f9bcabc9d3173c1fe769899e4fac14b053037b953a1e4...   \n",
       "\n",
       "   de_natureza_juridica_ASSOCIACAO PRIVADA  \\\n",
       "0                                        0   \n",
       "1                                        0   \n",
       "2                                        0   \n",
       "3                                        0   \n",
       "4                                        0   \n",
       "\n",
       "   de_natureza_juridica_AUTARQUIA ESTADUAL OU DO DISTRITO FEDERAL  \\\n",
       "0                                                  0                \n",
       "1                                                  0                \n",
       "2                                                  0                \n",
       "3                                                  0                \n",
       "4                                                  0                \n",
       "\n",
       "   de_natureza_juridica_AUTARQUIA FEDERAL  \\\n",
       "0                                       0   \n",
       "1                                       0   \n",
       "2                                       0   \n",
       "3                                       0   \n",
       "4                                       0   \n",
       "\n",
       "   de_natureza_juridica_AUTARQUIA MUNICIPAL  \\\n",
       "0                                         0   \n",
       "1                                         0   \n",
       "2                                         0   \n",
       "3                                         0   \n",
       "4                                         0   \n",
       "\n",
       "   de_natureza_juridica_CANDIDATO A CARGO POLITICO ELETIVO  \\\n",
       "0                                                  0         \n",
       "1                                                  0         \n",
       "2                                                  0         \n",
       "3                                                  0         \n",
       "4                                                  0         \n",
       "\n",
       "   de_natureza_juridica_CLUBE FUNDO DE INVESTIMENTO  \\\n",
       "0                                                 0   \n",
       "1                                                 0   \n",
       "2                                                 0   \n",
       "3                                                 0   \n",
       "4                                                 0   \n",
       "\n",
       "   de_natureza_juridica_COMUNIDADE INDIGENA  \\\n",
       "0                                         0   \n",
       "1                                         0   \n",
       "2                                         0   \n",
       "3                                         0   \n",
       "4                                         0   \n",
       "\n",
       "   de_natureza_juridica_CONDOMINIO EDILICIO  \\\n",
       "0                                         0   \n",
       "1                                         0   \n",
       "2                                         0   \n",
       "3                                         0   \n",
       "4                                         0   \n",
       "\n",
       "   de_natureza_juridica_CONSORCIO DE EMPREGADORES  ...  de_ramo_TEXTEIS  \\\n",
       "0                                               0  ...                0   \n",
       "1                                               0  ...                0   \n",
       "2                                               0  ...                0   \n",
       "3                                               0  ...                0   \n",
       "4                                               0  ...                0   \n",
       "\n",
       "   de_ramo_TRANSPORTE, ARMAZENAGEM E CORREIO  idade_emp_cat_1 a 5  \\\n",
       "0                                          0                    0   \n",
       "1                                          0                    1   \n",
       "2                                          1                    0   \n",
       "3                                          0                    0   \n",
       "4                                          0                    1   \n",
       "\n",
       "   idade_emp_cat_10 a 15  idade_emp_cat_15 a 20  idade_emp_cat_5 a 10  \\\n",
       "0                      1                      0                     0   \n",
       "1                      0                      0                     0   \n",
       "2                      0                      0                     1   \n",
       "3                      0                      0                     1   \n",
       "4                      0                      0                     0   \n",
       "\n",
       "   idade_emp_cat_<= 1  idade_emp_cat_> 20  fl_rm_NAO  fl_rm_SIM  \n",
       "0                   0                   0          0          1  \n",
       "1                   0                   0          0          1  \n",
       "2                   0                   0          0          1  \n",
       "3                   0                   0          0          1  \n",
       "4                   0                   0          0          1  \n",
       "\n",
       "[5 rows x 122 columns]"
      ]
     },
     "execution_count": 88,
     "metadata": {},
     "output_type": "execute_result"
    }
   ],
   "source": [
    "df_parcial_dadosObject_SEM_dadosFaltantes.head()"
   ]
  },
  {
   "cell_type": "code",
   "execution_count": 89,
   "metadata": {},
   "outputs": [
    {
     "data": {
      "text/plain": [
       "(462298, 122)"
      ]
     },
     "execution_count": 89,
     "metadata": {},
     "output_type": "execute_result"
    }
   ],
   "source": [
    "df_parcial_dadosObject_SEM_dadosFaltantes.shape"
   ]
  },
  {
   "cell_type": "code",
   "execution_count": 90,
   "metadata": {},
   "outputs": [],
   "source": [
    "# Precisamos excluir o \"id\" do DataFrame que vamos utilizar para realizar a classificacao\n",
    "# Porque nao queremos que \"id\" interfira.\n",
    "df_parcial_dadosObject_SEM_dadosFaltantes.drop(columns = 'id', inplace = True)"
   ]
  },
  {
   "cell_type": "code",
   "execution_count": 91,
   "metadata": {},
   "outputs": [],
   "source": [
    "# Testando de \"id\" sumiu mesmo!\n",
    "# Resultado: sim, sumiu!\n",
    "# df_parcial_dadosObject['id']"
   ]
  },
  {
   "cell_type": "code",
   "execution_count": 92,
   "metadata": {},
   "outputs": [],
   "source": [
    "# Primeiro vamos fazer uma cópia do DataFrame (df_market_todoNumerico)\n",
    "# Vamos adicionar o DataFrame resultado depois de inserir todos os dados faltantes do tipo \"bool\"\n",
    "# Adicionando o DataFrame (df_parcial_dadosObject) ao DataFrame (df_market_todoNumerico)\n",
    "# OBS: a coluna \"id\"até o momento naão esta fazendo parte de nenhum DataFrame!\n",
    "df_market_todoNumerico_COPIA = df_market_todoNumerico\n",
    "df_market_todoNumerico_COPIA = df_market_todoNumerico_COPIA.join(df_parcial_dadosObject_SEM_dadosFaltantes)"
   ]
  },
  {
   "cell_type": "code",
   "execution_count": 93,
   "metadata": {},
   "outputs": [
    {
     "data": {
      "text/plain": [
       "(462298, 130)"
      ]
     },
     "execution_count": 93,
     "metadata": {},
     "output_type": "execute_result"
    }
   ],
   "source": [
    "df_market_todoNumerico_COPIA.shape"
   ]
  },
  {
   "cell_type": "markdown",
   "metadata": {},
   "source": [
    "### >>> Informações! <<<"
   ]
  },
  {
   "cell_type": "code",
   "execution_count": 94,
   "metadata": {},
   "outputs": [],
   "source": [
    "# Vamos usar o DataFrame (df_market_todoNumerico_COPIA) para realizar as operações de descobrir os valores faltantes!\n",
    "# Este DataFrame está completo.\n",
    "# Os valores nulos foram substituidos por: 'souNulo'"
   ]
  },
  {
   "cell_type": "code",
   "execution_count": 95,
   "metadata": {},
   "outputs": [],
   "source": [
    "from sklearn import tree"
   ]
  },
  {
   "cell_type": "code",
   "execution_count": 96,
   "metadata": {},
   "outputs": [],
   "source": [
    "clf = tree.DecisionTreeClassifier()"
   ]
  },
  {
   "cell_type": "code",
   "execution_count": 97,
   "metadata": {
    "scrolled": true
   },
   "outputs": [
    {
     "data": {
      "text/plain": [
       "['nm_divisao',\n",
       " 'nm_segmento',\n",
       " 'fl_optante_simples',\n",
       " 'de_saude_tributaria',\n",
       " 'de_saude_rescencia',\n",
       " 'de_nivel_atividade',\n",
       " 'de_faixa_faturamento_estimado_grupo']"
      ]
     },
     "execution_count": 97,
     "metadata": {},
     "output_type": "execute_result"
    }
   ],
   "source": [
    "# (lista_dadosObject_COM_dadosFaltantes) : contém todas as colunas do tipo \"bool\"que tem dados faltantes\n",
    "lista_dadosObject_COM_dadosFaltantes"
   ]
  },
  {
   "cell_type": "code",
   "execution_count": 98,
   "metadata": {},
   "outputs": [],
   "source": [
    "df_market_dadosObject_COPIA = df_market_dadosObject"
   ]
  },
  {
   "cell_type": "code",
   "execution_count": 99,
   "metadata": {},
   "outputs": [],
   "source": [
    "from sklearn import preprocessing"
   ]
  },
  {
   "cell_type": "code",
   "execution_count": 100,
   "metadata": {},
   "outputs": [],
   "source": [
    "le = preprocessing.LabelEncoder()"
   ]
  },
  {
   "cell_type": "code",
   "execution_count": 101,
   "metadata": {},
   "outputs": [
    {
     "name": "stdout",
     "output_type": "stream",
     "text": [
      "Começando a coluna:  nm_divisao\n",
      "Começando a coluna:  nm_segmento\n",
      "Começando a coluna:  fl_optante_simples\n",
      "Começando a coluna:  de_saude_tributaria\n",
      "Começando a coluna:  de_saude_rescencia\n",
      "Começando a coluna:  de_nivel_atividade\n",
      "Começando a coluna:  de_faixa_faturamento_estimado_grupo\n"
     ]
    }
   ],
   "source": [
    "# Separando as Bases de TREINO e TESTE\n",
    "\n",
    "for x in lista_dadosObject_COM_dadosFaltantes:\n",
    "    print('Começando a coluna: ',x)\n",
    "    \n",
    "    df_total = df_market_todoNumerico_COPIA.join(df_market_dadosObject[x])\n",
    "\n",
    "    df_market_TN_treino = df_total[df_total[x] != 'souNulo']\n",
    "    df_market_TN_teste = df_total[df_total[x] == 'souNulo']\n",
    "    \n",
    "    # Definindo o TREINO\n",
    "    Y_TREINO_coluna = le.fit_transform(df_market_TN_treino[x])\n",
    "    X_TREINO_coluna = df_market_TN_treino.drop(columns = x)\n",
    "\n",
    "    # Definindo TESTE\n",
    "    X_TESTE_coluna = df_market_TN_teste.drop(columns = x)\n",
    "    \n",
    "    clf.fit(X_TREINO_coluna, Y_TREINO_coluna)\n",
    "    Y_PREDITO = clf.predict(X_TESTE_coluna)\n",
    "    Y_PREDITO_RESULTADO = le.inverse_transform(Y_PREDITO)\n",
    "    \n",
    "    # Substituindo 'souNulo' pelos valores calculado'\n",
    "    df_market_dadosObject_COPIA[x].replace({'souNulo': Y_PREDITO_RESULTADO}, inplace = True)\n"
   ]
  },
  {
   "cell_type": "code",
   "execution_count": 102,
   "metadata": {},
   "outputs": [],
   "source": [
    "# Agora (df_market_dadosObject_COPIA) está completa!\n",
    "# Vamos transformar este DataFrame em um dataFrame numérico com o (get_dummies)"
   ]
  },
  {
   "cell_type": "code",
   "execution_count": 103,
   "metadata": {},
   "outputs": [
    {
     "data": {
      "text/plain": [
       "Index(['id', 'de_natureza_juridica', 'sg_uf', 'natureza_juridica_macro',\n",
       "       'de_ramo', 'idade_emp_cat', 'fl_rm', 'nm_divisao', 'nm_segmento',\n",
       "       'fl_optante_simples', 'de_saude_tributaria', 'de_saude_rescencia',\n",
       "       'de_nivel_atividade', 'de_faixa_faturamento_estimado_grupo'],\n",
       "      dtype='object')"
      ]
     },
     "execution_count": 103,
     "metadata": {},
     "output_type": "execute_result"
    }
   ],
   "source": [
    "df_market_dadosObject_COPIA.columns"
   ]
  },
  {
   "cell_type": "code",
   "execution_count": 104,
   "metadata": {},
   "outputs": [],
   "source": [
    "df_market_dadosObject = df_market_dadosObject_COPIA"
   ]
  },
  {
   "cell_type": "code",
   "execution_count": 105,
   "metadata": {},
   "outputs": [],
   "source": [
    "df_market_dadosObject.drop(columns = 'id', inplace = True)"
   ]
  },
  {
   "cell_type": "code",
   "execution_count": 106,
   "metadata": {},
   "outputs": [],
   "source": [
    "df_market_dadosObject_transformado = pd.get_dummies(df_market_dadosObject)"
   ]
  },
  {
   "cell_type": "code",
   "execution_count": 107,
   "metadata": {},
   "outputs": [
    {
     "data": {
      "text/plain": [
       "(462298, 256)"
      ]
     },
     "execution_count": 107,
     "metadata": {},
     "output_type": "execute_result"
    }
   ],
   "source": [
    "df_market_dadosObject_transformado.shape"
   ]
  },
  {
   "cell_type": "code",
   "execution_count": 108,
   "metadata": {},
   "outputs": [
    {
     "data": {
      "text/plain": [
       "Index(['fl_optante_simples', 'de_natureza_juridica_ASSOCIACAO PRIVADA',\n",
       "       'de_natureza_juridica_AUTARQUIA ESTADUAL OU DO DISTRITO FEDERAL',\n",
       "       'de_natureza_juridica_AUTARQUIA FEDERAL',\n",
       "       'de_natureza_juridica_AUTARQUIA MUNICIPAL',\n",
       "       'de_natureza_juridica_CANDIDATO A CARGO POLITICO ELETIVO',\n",
       "       'de_natureza_juridica_CLUBE FUNDO DE INVESTIMENTO',\n",
       "       'de_natureza_juridica_COMUNIDADE INDIGENA',\n",
       "       'de_natureza_juridica_CONDOMINIO EDILICIO',\n",
       "       'de_natureza_juridica_CONSORCIO DE EMPREGADORES',\n",
       "       ...\n",
       "       'de_faixa_faturamento_estimado_grupo_ATE R$ 81.000,00',\n",
       "       'de_faixa_faturamento_estimado_grupo_DE R$ 1.500.000,01 A R$ 4.800.000,00',\n",
       "       'de_faixa_faturamento_estimado_grupo_DE R$ 10.000.000,01 A R$ 30.000.000,00',\n",
       "       'de_faixa_faturamento_estimado_grupo_DE R$ 100.000.000,01 A R$ 300.000.000,00',\n",
       "       'de_faixa_faturamento_estimado_grupo_DE R$ 30.000.000,01 A R$ 100.000.000,00',\n",
       "       'de_faixa_faturamento_estimado_grupo_DE R$ 300.000.000,01 A R$ 500.000.000,00',\n",
       "       'de_faixa_faturamento_estimado_grupo_DE R$ 360.000,01 A R$ 1.500.000,00',\n",
       "       'de_faixa_faturamento_estimado_grupo_DE R$ 4.800.000,01 A R$ 10.000.000,00',\n",
       "       'de_faixa_faturamento_estimado_grupo_DE R$ 500.000.000,01 A 1 BILHAO DE REAIS',\n",
       "       'de_faixa_faturamento_estimado_grupo_DE R$ 81.000,01 A R$ 360.000,00'],\n",
       "      dtype='object', length=256)"
      ]
     },
     "execution_count": 108,
     "metadata": {},
     "output_type": "execute_result"
    }
   ],
   "source": [
    "df_market_dadosObject_transformado.columns"
   ]
  },
  {
   "cell_type": "code",
   "execution_count": 109,
   "metadata": {},
   "outputs": [],
   "source": [
    "df_auxiliar_fl_optante_simples = df_market_dadosObject_transformado['fl_optante_simples']"
   ]
  },
  {
   "cell_type": "code",
   "execution_count": 110,
   "metadata": {},
   "outputs": [],
   "source": [
    "df_market_dadosObject_transformado.drop(columns= 'fl_optante_simples', inplace = True)"
   ]
  },
  {
   "cell_type": "code",
   "execution_count": 111,
   "metadata": {},
   "outputs": [
    {
     "data": {
      "text/plain": [
       "Index(['de_natureza_juridica_ASSOCIACAO PRIVADA',\n",
       "       'de_natureza_juridica_AUTARQUIA ESTADUAL OU DO DISTRITO FEDERAL',\n",
       "       'de_natureza_juridica_AUTARQUIA FEDERAL',\n",
       "       'de_natureza_juridica_AUTARQUIA MUNICIPAL',\n",
       "       'de_natureza_juridica_CANDIDATO A CARGO POLITICO ELETIVO',\n",
       "       'de_natureza_juridica_CLUBE FUNDO DE INVESTIMENTO',\n",
       "       'de_natureza_juridica_COMUNIDADE INDIGENA',\n",
       "       'de_natureza_juridica_CONDOMINIO EDILICIO',\n",
       "       'de_natureza_juridica_CONSORCIO DE EMPREGADORES',\n",
       "       'de_natureza_juridica_CONSORCIO DE SOCIEDADES',\n",
       "       ...\n",
       "       'de_faixa_faturamento_estimado_grupo_ATE R$ 81.000,00',\n",
       "       'de_faixa_faturamento_estimado_grupo_DE R$ 1.500.000,01 A R$ 4.800.000,00',\n",
       "       'de_faixa_faturamento_estimado_grupo_DE R$ 10.000.000,01 A R$ 30.000.000,00',\n",
       "       'de_faixa_faturamento_estimado_grupo_DE R$ 100.000.000,01 A R$ 300.000.000,00',\n",
       "       'de_faixa_faturamento_estimado_grupo_DE R$ 30.000.000,01 A R$ 100.000.000,00',\n",
       "       'de_faixa_faturamento_estimado_grupo_DE R$ 300.000.000,01 A R$ 500.000.000,00',\n",
       "       'de_faixa_faturamento_estimado_grupo_DE R$ 360.000,01 A R$ 1.500.000,00',\n",
       "       'de_faixa_faturamento_estimado_grupo_DE R$ 4.800.000,01 A R$ 10.000.000,00',\n",
       "       'de_faixa_faturamento_estimado_grupo_DE R$ 500.000.000,01 A 1 BILHAO DE REAIS',\n",
       "       'de_faixa_faturamento_estimado_grupo_DE R$ 81.000,01 A R$ 360.000,00'],\n",
       "      dtype='object', length=255)"
      ]
     },
     "execution_count": 111,
     "metadata": {},
     "output_type": "execute_result"
    }
   ],
   "source": [
    "df_market_dadosObject_transformado.columns"
   ]
  },
  {
   "cell_type": "code",
   "execution_count": 112,
   "metadata": {},
   "outputs": [],
   "source": [
    "df_auxiliar_fl_optante_simples = df_auxiliar_fl_optante_simples.astype(int)"
   ]
  },
  {
   "cell_type": "code",
   "execution_count": 113,
   "metadata": {},
   "outputs": [
    {
     "data": {
      "text/plain": [
       "array([1, 0])"
      ]
     },
     "execution_count": 113,
     "metadata": {},
     "output_type": "execute_result"
    }
   ],
   "source": [
    "df_auxiliar_fl_optante_simples.unique()"
   ]
  },
  {
   "cell_type": "code",
   "execution_count": 114,
   "metadata": {},
   "outputs": [],
   "source": [
    "df_market_dadosObject_transformado = df_market_dadosObject_transformado.join(df_auxiliar_fl_optante_simples)"
   ]
  },
  {
   "cell_type": "code",
   "execution_count": 115,
   "metadata": {},
   "outputs": [
    {
     "data": {
      "text/plain": [
       "(462298, 256)"
      ]
     },
     "execution_count": 115,
     "metadata": {},
     "output_type": "execute_result"
    }
   ],
   "source": [
    "df_market_dadosObject_transformado.shape"
   ]
  },
  {
   "cell_type": "code",
   "execution_count": 116,
   "metadata": {},
   "outputs": [],
   "source": [
    "# Agora todos os dados estão completos!\n",
    "# Vamos juntar todos os DataFrames!"
   ]
  },
  {
   "cell_type": "markdown",
   "metadata": {},
   "source": [
    "## JUNTANDO TODOS OS DATAFRAMES TRATADOS!"
   ]
  },
  {
   "cell_type": "code",
   "execution_count": 117,
   "metadata": {},
   "outputs": [],
   "source": [
    "# Nosso DataFrame final vai ser o (df_dadosTratados)"
   ]
  },
  {
   "cell_type": "code",
   "execution_count": 118,
   "metadata": {},
   "outputs": [],
   "source": [
    "# Primeiro estamos adicionando os valores do ID\n",
    "df_dadosTratados = pd.DataFrame(armazenando_ID)"
   ]
  },
  {
   "cell_type": "code",
   "execution_count": 119,
   "metadata": {},
   "outputs": [
    {
     "data": {
      "text/plain": [
       "(462298, 1)"
      ]
     },
     "execution_count": 119,
     "metadata": {},
     "output_type": "execute_result"
    }
   ],
   "source": [
    "df_dadosTratados.shape"
   ]
  },
  {
   "cell_type": "code",
   "execution_count": 120,
   "metadata": {},
   "outputs": [],
   "source": [
    "# Fazendo JOIN (df_dadosTratados) com os dados do tipo: \"bool\"\n",
    "df_dadosTratados = df_dadosTratados.join(df_market_dadosBool_transformado)"
   ]
  },
  {
   "cell_type": "code",
   "execution_count": 121,
   "metadata": {},
   "outputs": [],
   "source": [
    "# Fazendo JOIN (df_dadosTratados) com os dados do tipo: \"int64\" e \"float64\"\n",
    "df_dadosTratados = df_dadosTratados.join(df_market_dadosNumericos_Transformado)"
   ]
  },
  {
   "cell_type": "code",
   "execution_count": 122,
   "metadata": {},
   "outputs": [],
   "source": [
    "# Fazendo JOIN (df_dadosTratados) com os dados do tipo: object (parcial_semFaltantes)\n",
    "df_dadosTratados = df_dadosTratados.join(df_market_dadosObject_transformado)"
   ]
  },
  {
   "cell_type": "code",
   "execution_count": 123,
   "metadata": {},
   "outputs": [
    {
     "data": {
      "text/plain": [
       "(462298, 266)"
      ]
     },
     "execution_count": 123,
     "metadata": {},
     "output_type": "execute_result"
    }
   ],
   "source": [
    "df_dadosTratados.shape"
   ]
  },
  {
   "cell_type": "code",
   "execution_count": 124,
   "metadata": {},
   "outputs": [
    {
     "data": {
      "text/plain": [
       "Index(['id', 'fl_matriz', 'fl_sa', 'fl_mei', 'fl_ltda', 'fl_email',\n",
       "       'fl_telefone', 'idade_empresa_anos', 'nu_meses_rescencia',\n",
       "       'vl_faturamento_estimado_aux',\n",
       "       ...\n",
       "       'de_faixa_faturamento_estimado_grupo_DE R$ 1.500.000,01 A R$ 4.800.000,00',\n",
       "       'de_faixa_faturamento_estimado_grupo_DE R$ 10.000.000,01 A R$ 30.000.000,00',\n",
       "       'de_faixa_faturamento_estimado_grupo_DE R$ 100.000.000,01 A R$ 300.000.000,00',\n",
       "       'de_faixa_faturamento_estimado_grupo_DE R$ 30.000.000,01 A R$ 100.000.000,00',\n",
       "       'de_faixa_faturamento_estimado_grupo_DE R$ 300.000.000,01 A R$ 500.000.000,00',\n",
       "       'de_faixa_faturamento_estimado_grupo_DE R$ 360.000,01 A R$ 1.500.000,00',\n",
       "       'de_faixa_faturamento_estimado_grupo_DE R$ 4.800.000,01 A R$ 10.000.000,00',\n",
       "       'de_faixa_faturamento_estimado_grupo_DE R$ 500.000.000,01 A 1 BILHAO DE REAIS',\n",
       "       'de_faixa_faturamento_estimado_grupo_DE R$ 81.000,01 A R$ 360.000,00',\n",
       "       'fl_optante_simples'],\n",
       "      dtype='object', length=266)"
      ]
     },
     "execution_count": 124,
     "metadata": {},
     "output_type": "execute_result"
    }
   ],
   "source": [
    "df_dadosTratados.columns"
   ]
  },
  {
   "cell_type": "markdown",
   "metadata": {},
   "source": [
    "## Salvando o DataFrame numérico num arquivo para facilitar a vida!"
   ]
  },
  {
   "cell_type": "code",
   "execution_count": 125,
   "metadata": {},
   "outputs": [],
   "source": [
    "df_dadosTratados.to_csv('dataframe_populacao_tratada.csv')"
   ]
  },
  {
   "cell_type": "markdown",
   "metadata": {},
   "source": [
    "## TREINO e TESTE"
   ]
  },
  {
   "cell_type": "code",
   "execution_count": 126,
   "metadata": {},
   "outputs": [],
   "source": [
    "df_populacao = df_dadosTratados"
   ]
  },
  {
   "cell_type": "code",
   "execution_count": 127,
   "metadata": {},
   "outputs": [],
   "source": [
    "# DataFrame (df_entrada): é o DataFrame criado a partir da lista de clientes do usuário (upload arquivo)\n",
    "# Queremos apenas o valor de \"id\". As outras colunas \"não interessam, pois já temos as informações na população\n",
    "df_entrada = pd.DataFrame(df_portfolio3['id'])\n",
    "\n",
    "# Criando a coluna \"target\" no DataFrame que recebemos de entrada (que contém a lista das empresas (portfolio))\n",
    "# E atribuindo o valor target = 1\n",
    "df_entrada['target'] = 1"
   ]
  },
  {
   "cell_type": "code",
   "execution_count": 128,
   "metadata": {},
   "outputs": [
    {
     "data": {
      "text/html": [
       "<div>\n",
       "<style scoped>\n",
       "    .dataframe tbody tr th:only-of-type {\n",
       "        vertical-align: middle;\n",
       "    }\n",
       "\n",
       "    .dataframe tbody tr th {\n",
       "        vertical-align: top;\n",
       "    }\n",
       "\n",
       "    .dataframe thead th {\n",
       "        text-align: right;\n",
       "    }\n",
       "</style>\n",
       "<table border=\"1\" class=\"dataframe\">\n",
       "  <thead>\n",
       "    <tr style=\"text-align: right;\">\n",
       "      <th></th>\n",
       "      <th>id</th>\n",
       "      <th>target</th>\n",
       "    </tr>\n",
       "  </thead>\n",
       "  <tbody>\n",
       "    <tr>\n",
       "      <th>0</th>\n",
       "      <td>bb61c09449a1c1f8b78955d8b7a7f73599e78358993fe2...</td>\n",
       "      <td>1</td>\n",
       "    </tr>\n",
       "    <tr>\n",
       "      <th>1</th>\n",
       "      <td>16843c9ffb920170477118933798510d8d5f00f5c56c12...</td>\n",
       "      <td>1</td>\n",
       "    </tr>\n",
       "    <tr>\n",
       "      <th>2</th>\n",
       "      <td>1b8d092daff12bed8b3c2ab93bf5df2921865a68aca185...</td>\n",
       "      <td>1</td>\n",
       "    </tr>\n",
       "    <tr>\n",
       "      <th>3</th>\n",
       "      <td>3aafa3a1f12f483740a52956af100223333d0e3c79bf2c...</td>\n",
       "      <td>1</td>\n",
       "    </tr>\n",
       "    <tr>\n",
       "      <th>4</th>\n",
       "      <td>c60431fbca90067f105570e1e8a684bcd7048205bbf6c4...</td>\n",
       "      <td>1</td>\n",
       "    </tr>\n",
       "  </tbody>\n",
       "</table>\n",
       "</div>"
      ],
      "text/plain": [
       "                                                  id  target\n",
       "0  bb61c09449a1c1f8b78955d8b7a7f73599e78358993fe2...       1\n",
       "1  16843c9ffb920170477118933798510d8d5f00f5c56c12...       1\n",
       "2  1b8d092daff12bed8b3c2ab93bf5df2921865a68aca185...       1\n",
       "3  3aafa3a1f12f483740a52956af100223333d0e3c79bf2c...       1\n",
       "4  c60431fbca90067f105570e1e8a684bcd7048205bbf6c4...       1"
      ]
     },
     "execution_count": 128,
     "metadata": {},
     "output_type": "execute_result"
    }
   ],
   "source": [
    "df_entrada.head()"
   ]
  },
  {
   "cell_type": "code",
   "execution_count": 129,
   "metadata": {},
   "outputs": [
    {
     "data": {
      "text/plain": [
       "Index(['id', 'target'], dtype='object')"
      ]
     },
     "execution_count": 129,
     "metadata": {},
     "output_type": "execute_result"
    }
   ],
   "source": [
    "df_entrada.columns"
   ]
  },
  {
   "cell_type": "code",
   "execution_count": 130,
   "metadata": {},
   "outputs": [
    {
     "data": {
      "text/plain": [
       "(265, 2)"
      ]
     },
     "execution_count": 130,
     "metadata": {},
     "output_type": "execute_result"
    }
   ],
   "source": [
    "# Verificando o tamanho do DataFrame com as informacoes do ID do portfólio de entrada do usuário\n",
    "df_entrada.shape"
   ]
  },
  {
   "cell_type": "code",
   "execution_count": 131,
   "metadata": {},
   "outputs": [],
   "source": [
    "df_completo = pd.merge(df_populacao, df_entrada, how='outer', on ='id')"
   ]
  },
  {
   "cell_type": "code",
   "execution_count": 132,
   "metadata": {},
   "outputs": [
    {
     "data": {
      "text/plain": [
       "(462298, 267)"
      ]
     },
     "execution_count": 132,
     "metadata": {},
     "output_type": "execute_result"
    }
   ],
   "source": [
    "df_completo.shape"
   ]
  },
  {
   "cell_type": "code",
   "execution_count": 133,
   "metadata": {},
   "outputs": [
    {
     "data": {
      "text/plain": [
       "(265, 267)"
      ]
     },
     "execution_count": 133,
     "metadata": {},
     "output_type": "execute_result"
    }
   ],
   "source": [
    "# Verificando se a quantidade de linhas com \"target=1\" é a mesma do (df_entrada)\n",
    "df_completo[df_completo['target'] == 1].shape"
   ]
  },
  {
   "cell_type": "code",
   "execution_count": 134,
   "metadata": {},
   "outputs": [],
   "source": [
    "if ('Unnamed: 0'in df_completo.columns):\n",
    "    df_completo.drop(columns = 'Unnamed: 0', inplace = True)"
   ]
  },
  {
   "cell_type": "code",
   "execution_count": 135,
   "metadata": {},
   "outputs": [
    {
     "data": {
      "text/plain": [
       "(462298, 267)"
      ]
     },
     "execution_count": 135,
     "metadata": {},
     "output_type": "execute_result"
    }
   ],
   "source": [
    "df_completo.shape"
   ]
  },
  {
   "cell_type": "code",
   "execution_count": 136,
   "metadata": {},
   "outputs": [],
   "source": [
    "# Colocando zeros onde \"Target\" é NaN (ou seja, != 1)\n",
    "df_completo['target'].fillna(value = 0, inplace=True)"
   ]
  },
  {
   "cell_type": "code",
   "execution_count": 137,
   "metadata": {},
   "outputs": [
    {
     "data": {
      "text/plain": [
       "0"
      ]
     },
     "execution_count": 137,
     "metadata": {},
     "output_type": "execute_result"
    }
   ],
   "source": [
    "df_completo['target'].isna().sum()"
   ]
  },
  {
   "cell_type": "code",
   "execution_count": 138,
   "metadata": {},
   "outputs": [],
   "source": [
    "# Vamos trabalhar com o DataFrame (df_completo)"
   ]
  },
  {
   "cell_type": "markdown",
   "metadata": {},
   "source": [
    "### Definindo: TREINO e TESTE"
   ]
  },
  {
   "cell_type": "code",
   "execution_count": 139,
   "metadata": {},
   "outputs": [],
   "source": [
    "# Salvando os valores de \"id\" em (ArmazenandoID)\n",
    "#df_ArmazenandoID = df_completo['id']\n",
    "#df_completo.drop(columns = 'id', inplace=True)"
   ]
  },
  {
   "cell_type": "code",
   "execution_count": 140,
   "metadata": {},
   "outputs": [],
   "source": [
    "# Definindo a base de TREINO (portfolio): Y_treino, X_treino\n",
    "# Salvando em \"df_completo_TREINO\" as linhas do DataFrame que tem \"target = 1\"\n",
    "df_completo_TREINO = df_completo.loc[(df_completo['target'] == 1)]\n",
    "Y_treino = df_completo_TREINO['target']\n",
    "X_treino = df_completo_TREINO.drop(columns ='target')"
   ]
  },
  {
   "cell_type": "code",
   "execution_count": 141,
   "metadata": {},
   "outputs": [],
   "source": [
    "# Definindo a base de TEST: X_teste, Y_predito\n",
    "# (população, excluindo as empresas que fazem parte da lista da empresa, ou seja, \"target = 0\")\n",
    "# Salvando em \"df_result_0\" as linhas do DataFrame que tem \"target = 0\"\n",
    "df_completo_TESTE = df_completo.loc[(df_completo['target'] == 0)]\n",
    "X_teste = df_completo_TESTE.drop(columns ='target')\n",
    "# Y_predito: vai ser o resultado da previsão do Modelo"
   ]
  },
  {
   "cell_type": "code",
   "execution_count": 142,
   "metadata": {},
   "outputs": [],
   "source": [
    "#df_resultado_PARCIAL_treino = X_treino"
   ]
  },
  {
   "cell_type": "code",
   "execution_count": 143,
   "metadata": {},
   "outputs": [],
   "source": [
    "lista_ID_teste = list(X_teste['id'])\n",
    "lista_ID_treino = list(X_treino['id'])"
   ]
  },
  {
   "cell_type": "code",
   "execution_count": 144,
   "metadata": {},
   "outputs": [],
   "source": [
    "df_ID_teste = pd.DataFrame({'id': lista_ID_teste})"
   ]
  },
  {
   "cell_type": "code",
   "execution_count": 145,
   "metadata": {},
   "outputs": [],
   "source": [
    "X_teste.drop(columns = 'id', inplace = True)\n",
    "X_treino.drop(columns = 'id', inplace = True)"
   ]
  },
  {
   "cell_type": "code",
   "execution_count": 146,
   "metadata": {},
   "outputs": [
    {
     "data": {
      "text/plain": [
       "(462033, 265)"
      ]
     },
     "execution_count": 146,
     "metadata": {},
     "output_type": "execute_result"
    }
   ],
   "source": [
    "X_teste.shape"
   ]
  },
  {
   "cell_type": "markdown",
   "metadata": {},
   "source": [
    "### SVM.OneClass"
   ]
  },
  {
   "cell_type": "code",
   "execution_count": 147,
   "metadata": {},
   "outputs": [],
   "source": [
    "from sklearn.svm import OneClassSVM"
   ]
  },
  {
   "cell_type": "code",
   "execution_count": 148,
   "metadata": {},
   "outputs": [],
   "source": [
    "one_class_SVM = OneClassSVM(kernel='rbf')\n",
    "resultado_OneClass_FIT = one_class_SVM.fit(X_treino)\n",
    "resultado_OneClass_PREDICT = one_class_SVM.predict(X_teste)"
   ]
  },
  {
   "cell_type": "code",
   "execution_count": 149,
   "metadata": {},
   "outputs": [],
   "source": [
    "#resultado_OneClass_FIT"
   ]
  },
  {
   "cell_type": "code",
   "execution_count": 150,
   "metadata": {},
   "outputs": [],
   "source": [
    "#resultado_OneClass_PREDICT"
   ]
  },
  {
   "cell_type": "code",
   "execution_count": 151,
   "metadata": {},
   "outputs": [],
   "source": [
    "#df_resultado = pd.DataFrame(df_completo)"
   ]
  },
  {
   "cell_type": "code",
   "execution_count": 152,
   "metadata": {},
   "outputs": [],
   "source": [
    "df_resultado = df_ID_teste"
   ]
  },
  {
   "cell_type": "code",
   "execution_count": 153,
   "metadata": {},
   "outputs": [],
   "source": [
    "df_resultado_OneClass_PREDICT = pd.DataFrame({'resultado_OneClass_PREDICT': resultado_OneClass_PREDICT})"
   ]
  },
  {
   "cell_type": "code",
   "execution_count": 154,
   "metadata": {},
   "outputs": [
    {
     "data": {
      "text/plain": [
       "array([-1,  1])"
      ]
     },
     "execution_count": 154,
     "metadata": {},
     "output_type": "execute_result"
    }
   ],
   "source": [
    "df_resultado_OneClass_PREDICT['resultado_OneClass_PREDICT'].unique()"
   ]
  },
  {
   "cell_type": "code",
   "execution_count": 155,
   "metadata": {},
   "outputs": [],
   "source": [
    "df_resultado = df_resultado.join(df_resultado_OneClass_PREDICT)"
   ]
  },
  {
   "cell_type": "code",
   "execution_count": 156,
   "metadata": {},
   "outputs": [],
   "source": [
    "df_auxiliar_NAO = df_resultado[df_resultado['resultado_OneClass_PREDICT'] == -1]"
   ]
  },
  {
   "cell_type": "code",
   "execution_count": 157,
   "metadata": {},
   "outputs": [
    {
     "data": {
      "text/plain": [
       "(461314, 2)"
      ]
     },
     "execution_count": 157,
     "metadata": {},
     "output_type": "execute_result"
    }
   ],
   "source": [
    "df_auxiliar_NAO.shape"
   ]
  },
  {
   "cell_type": "code",
   "execution_count": 158,
   "metadata": {},
   "outputs": [],
   "source": [
    "df_auxiliar_SIM = df_resultado[df_resultado['resultado_OneClass_PREDICT'] == 1]"
   ]
  },
  {
   "cell_type": "code",
   "execution_count": 159,
   "metadata": {},
   "outputs": [
    {
     "data": {
      "text/plain": [
       "(719, 2)"
      ]
     },
     "execution_count": 159,
     "metadata": {},
     "output_type": "execute_result"
    }
   ],
   "source": [
    "df_auxiliar_SIM.shape"
   ]
  },
  {
   "cell_type": "code",
   "execution_count": 160,
   "metadata": {},
   "outputs": [],
   "source": [
    "df_recomendar = df_auxiliar_SIM['id']"
   ]
  },
  {
   "cell_type": "code",
   "execution_count": 161,
   "metadata": {},
   "outputs": [
    {
     "data": {
      "text/plain": [
       "(719,)"
      ]
     },
     "execution_count": 161,
     "metadata": {},
     "output_type": "execute_result"
    }
   ],
   "source": [
    "df_recomendar.shape"
   ]
  },
  {
   "cell_type": "code",
   "execution_count": null,
   "metadata": {},
   "outputs": [],
   "source": []
  }
 ],
 "metadata": {
  "kernelspec": {
   "display_name": "Python 3",
   "language": "python",
   "name": "python3"
  },
  "language_info": {
   "codemirror_mode": {
    "name": "ipython",
    "version": 3
   },
   "file_extension": ".py",
   "mimetype": "text/x-python",
   "name": "python",
   "nbconvert_exporter": "python",
   "pygments_lexer": "ipython3",
   "version": "3.7.6"
  }
 },
 "nbformat": 4,
 "nbformat_minor": 4
}
