{
 "cells": [
  {
   "cell_type": "markdown",
   "metadata": {},
   "source": [
    "# DESAFIO FINAL!"
   ]
  },
  {
   "cell_type": "code",
   "execution_count": 1,
   "metadata": {},
   "outputs": [],
   "source": [
    "# Importando as Bibliotecas\n",
    "\n",
    "import pandas as pd\n",
    "from pandas_profiling import ProfileReport\n",
    "from sklearn.feature_selection import RFE\n",
    "from sklearn.linear_model import LinearRegression\n",
    "from sklearn.tree import DecisionTreeClassifier\n",
    "from sklearn import svm"
   ]
  },
  {
   "cell_type": "code",
   "execution_count": 2,
   "metadata": {},
   "outputs": [],
   "source": [
    "# Lendo os arquivos\n",
    "csv_market = pd.read_csv('estaticos_market.csv')\n",
    "csv_portfolio1 = pd.read_csv('portfolio1.csv')\n",
    "csv_portfolio2 = pd.read_csv('portfolio2.csv')\n",
    "csv_portfolio3 = pd.read_csv('portfolio3.csv')\n",
    "\n",
    "# Criando DataFrame para cada um dos arquivos\n",
    "df_market = pd.DataFrame(csv_market)\n",
    "df_portfolio1 = pd.DataFrame(csv_portfolio1)\n",
    "df_portfolio2 = pd.DataFrame(csv_portfolio2)\n",
    "df_portfolio3 = pd.DataFrame(csv_portfolio3)"
   ]
  },
  {
   "cell_type": "code",
   "execution_count": 3,
   "metadata": {},
   "outputs": [
    {
     "data": {
      "text/plain": [
       "(462298, 182)"
      ]
     },
     "execution_count": 3,
     "metadata": {},
     "output_type": "execute_result"
    }
   ],
   "source": [
    "df_market.shape"
   ]
  },
  {
   "cell_type": "code",
   "execution_count": 4,
   "metadata": {},
   "outputs": [
    {
     "data": {
      "text/plain": [
       "(555, 182)"
      ]
     },
     "execution_count": 4,
     "metadata": {},
     "output_type": "execute_result"
    }
   ],
   "source": [
    "df_portfolio1.shape"
   ]
  },
  {
   "cell_type": "code",
   "execution_count": 5,
   "metadata": {},
   "outputs": [
    {
     "data": {
      "text/plain": [
       "(566, 2)"
      ]
     },
     "execution_count": 5,
     "metadata": {},
     "output_type": "execute_result"
    }
   ],
   "source": [
    "df_portfolio2.shape"
   ]
  },
  {
   "cell_type": "markdown",
   "metadata": {},
   "source": [
    "### ENTENDENDO OS DADOS"
   ]
  },
  {
   "cell_type": "markdown",
   "metadata": {},
   "source": [
    "### Tratando os Dados: Modo Geral\n",
    "#### > Excluindo as colunas com mais de 70% dados faltantes\n",
    "#### > Pandas Profiling: \n",
    "##### - Verificando as colunas que são correlacionadas entre si e excluindo uma das opções;\n",
    "##### - Excluindo colunas que tem mais de 90% de zeros."
   ]
  },
  {
   "cell_type": "code",
   "execution_count": 6,
   "metadata": {},
   "outputs": [],
   "source": [
    "# Criando DataFrame auxiliar: verificar a consistência dos dados\n",
    "df_market_tamanho = df_market.shape[0]\n",
    "df_market_consistencia = pd.DataFrame({'COLUNAS': df_market.columns, 'TIPOS': df_market.dtypes, 'FALTANTES': df_market.isna().sum(), 'FALTANTES_PERCENTUAL': round(df_market.isna().sum()/df_market_tamanho,2)})"
   ]
  },
  {
   "cell_type": "code",
   "execution_count": 7,
   "metadata": {},
   "outputs": [
    {
     "data": {
      "text/plain": [
       "(462298, 182)"
      ]
     },
     "execution_count": 7,
     "metadata": {},
     "output_type": "execute_result"
    }
   ],
   "source": [
    "df_market.shape"
   ]
  },
  {
   "cell_type": "code",
   "execution_count": 8,
   "metadata": {},
   "outputs": [
    {
     "data": {
      "text/plain": [
       "(265, 2)"
      ]
     },
     "execution_count": 8,
     "metadata": {},
     "output_type": "execute_result"
    }
   ],
   "source": [
    "df_portfolio3.shape"
   ]
  },
  {
   "cell_type": "code",
   "execution_count": 9,
   "metadata": {},
   "outputs": [],
   "source": [
    "# Acrescentando uma coluna no DataFrame para informar se algum atrituto tem mais de 70% de dados faltantes\n",
    "df_market_consistencia['TemMaisDe70%Faltantes'] = ['sim' if x > 0.7 else 'nao' for x in df_market_consistencia['FALTANTES_PERCENTUAL']]"
   ]
  },
  {
   "cell_type": "code",
   "execution_count": 10,
   "metadata": {},
   "outputs": [
    {
     "data": {
      "text/html": [
       "<div>\n",
       "<style scoped>\n",
       "    .dataframe tbody tr th:only-of-type {\n",
       "        vertical-align: middle;\n",
       "    }\n",
       "\n",
       "    .dataframe tbody tr th {\n",
       "        vertical-align: top;\n",
       "    }\n",
       "\n",
       "    .dataframe thead th {\n",
       "        text-align: right;\n",
       "    }\n",
       "</style>\n",
       "<table border=\"1\" class=\"dataframe\">\n",
       "  <thead>\n",
       "    <tr style=\"text-align: right;\">\n",
       "      <th></th>\n",
       "      <th>COLUNAS</th>\n",
       "      <th>TIPOS</th>\n",
       "      <th>FALTANTES</th>\n",
       "      <th>FALTANTES_PERCENTUAL</th>\n",
       "      <th>TemMaisDe70%Faltantes</th>\n",
       "    </tr>\n",
       "  </thead>\n",
       "  <tbody>\n",
       "    <tr>\n",
       "      <th>Unnamed: 0</th>\n",
       "      <td>Unnamed: 0</td>\n",
       "      <td>int64</td>\n",
       "      <td>0</td>\n",
       "      <td>0.0</td>\n",
       "      <td>nao</td>\n",
       "    </tr>\n",
       "    <tr>\n",
       "      <th>id</th>\n",
       "      <td>id</td>\n",
       "      <td>object</td>\n",
       "      <td>0</td>\n",
       "      <td>0.0</td>\n",
       "      <td>nao</td>\n",
       "    </tr>\n",
       "    <tr>\n",
       "      <th>fl_matriz</th>\n",
       "      <td>fl_matriz</td>\n",
       "      <td>bool</td>\n",
       "      <td>0</td>\n",
       "      <td>0.0</td>\n",
       "      <td>nao</td>\n",
       "    </tr>\n",
       "    <tr>\n",
       "      <th>de_natureza_juridica</th>\n",
       "      <td>de_natureza_juridica</td>\n",
       "      <td>object</td>\n",
       "      <td>0</td>\n",
       "      <td>0.0</td>\n",
       "      <td>nao</td>\n",
       "    </tr>\n",
       "    <tr>\n",
       "      <th>sg_uf</th>\n",
       "      <td>sg_uf</td>\n",
       "      <td>object</td>\n",
       "      <td>0</td>\n",
       "      <td>0.0</td>\n",
       "      <td>nao</td>\n",
       "    </tr>\n",
       "  </tbody>\n",
       "</table>\n",
       "</div>"
      ],
      "text/plain": [
       "                                   COLUNAS   TIPOS  FALTANTES  \\\n",
       "Unnamed: 0                      Unnamed: 0   int64          0   \n",
       "id                                      id  object          0   \n",
       "fl_matriz                        fl_matriz    bool          0   \n",
       "de_natureza_juridica  de_natureza_juridica  object          0   \n",
       "sg_uf                                sg_uf  object          0   \n",
       "\n",
       "                      FALTANTES_PERCENTUAL TemMaisDe70%Faltantes  \n",
       "Unnamed: 0                             0.0                   nao  \n",
       "id                                     0.0                   nao  \n",
       "fl_matriz                              0.0                   nao  \n",
       "de_natureza_juridica                   0.0                   nao  \n",
       "sg_uf                                  0.0                   nao  "
      ]
     },
     "execution_count": 10,
     "metadata": {},
     "output_type": "execute_result"
    }
   ],
   "source": [
    "df_market_consistencia.head()"
   ]
  },
  {
   "cell_type": "code",
   "execution_count": 11,
   "metadata": {},
   "outputs": [],
   "source": [
    "# Excluindo as colunas que tem mais de 70% de dados faltantes\n",
    "manter_semFaltantes = list(df_market_consistencia[df_market_consistencia['TemMaisDe70%Faltantes'] == 'nao']['COLUNAS'])\n",
    "df_market = df_market[manter_semFaltantes]"
   ]
  },
  {
   "cell_type": "code",
   "execution_count": 12,
   "metadata": {},
   "outputs": [
    {
     "data": {
      "text/plain": [
       "(462298, 53)"
      ]
     },
     "execution_count": 12,
     "metadata": {},
     "output_type": "execute_result"
    }
   ],
   "source": [
    "# Verificando quantas colunas excluimos\n",
    "# Descartamos 129 variáveis!\n",
    "df_market.shape"
   ]
  },
  {
   "cell_type": "code",
   "execution_count": 13,
   "metadata": {},
   "outputs": [],
   "source": [
    "# Selecionando e excluindo colunas com as seguintes caracteristicas:\n",
    "# constantes, com mais de 90% de valor 'zero'\n",
    "lista_excluir_consEzerosE50faltantes = ['vl_total_veiculos_pesados_grupo', 'vl_total_veiculos_leves_grupo']\n",
    "df_market.drop(columns = lista_excluir_consEzerosE50faltantes, inplace=True)"
   ]
  },
  {
   "cell_type": "code",
   "execution_count": 14,
   "metadata": {},
   "outputs": [
    {
     "data": {
      "text/plain": [
       "(462298, 50)"
      ]
     },
     "execution_count": 14,
     "metadata": {},
     "output_type": "execute_result"
    }
   ],
   "source": [
    "df_market.drop(columns = 'dt_situacao', inplace = True)\n",
    "df_market.shape"
   ]
  },
  {
   "cell_type": "code",
   "execution_count": 15,
   "metadata": {},
   "outputs": [
    {
     "data": {
      "text/plain": [
       "Unnamed: 0                                    0\n",
       "id                                            0\n",
       "fl_matriz                                     0\n",
       "de_natureza_juridica                          0\n",
       "sg_uf                                         0\n",
       "natureza_juridica_macro                       0\n",
       "de_ramo                                       0\n",
       "setor                                      1927\n",
       "idade_empresa_anos                            0\n",
       "idade_emp_cat                                 0\n",
       "fl_me                                         0\n",
       "fl_sa                                         0\n",
       "fl_epp                                        0\n",
       "fl_mei                                        0\n",
       "fl_ltda                                       0\n",
       "fl_st_especial                                0\n",
       "fl_email                                      0\n",
       "fl_telefone                                   0\n",
       "fl_rm                                         0\n",
       "nm_divisao                                 1927\n",
       "nm_segmento                                1927\n",
       "fl_spa                                     1927\n",
       "fl_antt                                    1927\n",
       "fl_veiculo                                 1927\n",
       "fl_optante_simples                        82713\n",
       "fl_optante_simei                          82713\n",
       "sg_uf_matriz                               1939\n",
       "de_saude_tributaria                       14851\n",
       "de_saude_rescencia                        14851\n",
       "nu_meses_rescencia                        45276\n",
       "de_nivel_atividade                        11168\n",
       "fl_simples_irregular                       1927\n",
       "empsetorcensitariofaixarendapopulacao    143829\n",
       "nm_meso_regiao                            58698\n",
       "nm_micro_regiao                           58698\n",
       "fl_passivel_iss                            1927\n",
       "qt_socios                                115091\n",
       "qt_socios_pf                             115091\n",
       "qt_socios_pj                             115091\n",
       "idade_media_socios                       151602\n",
       "idade_maxima_socios                      151602\n",
       "idade_minima_socios                      151602\n",
       "qt_socios_st_regular                     154917\n",
       "qt_socios_masculino                      267183\n",
       "qt_socios_feminino                       317269\n",
       "de_faixa_faturamento_estimado             27513\n",
       "de_faixa_faturamento_estimado_grupo       27513\n",
       "vl_faturamento_estimado_aux               27513\n",
       "vl_faturamento_estimado_grupo_aux         27513\n",
       "qt_filiais                                    0\n",
       "dtype: int64"
      ]
     },
     "execution_count": 15,
     "metadata": {},
     "output_type": "execute_result"
    }
   ],
   "source": [
    "# Verificando a quantidade de dados faltantes de cada columa\n",
    "# Resultado: temos algumas colunas com dados faltantes! Precisamos imputar dados.\n",
    "df_market.isna().sum()"
   ]
  },
  {
   "cell_type": "code",
   "execution_count": 16,
   "metadata": {},
   "outputs": [
    {
     "data": {
      "text/plain": [
       "(462298, 50)"
      ]
     },
     "execution_count": 16,
     "metadata": {},
     "output_type": "execute_result"
    }
   ],
   "source": [
    "df_market.shape"
   ]
  },
  {
   "cell_type": "markdown",
   "metadata": {},
   "source": [
    "### SEPARANDO AS COLUNAS POR TIPOS!"
   ]
  },
  {
   "cell_type": "code",
   "execution_count": 17,
   "metadata": {},
   "outputs": [
    {
     "data": {
      "text/plain": [
       "array([dtype('int64'), dtype('O'), dtype('bool'), dtype('float64')],\n",
       "      dtype=object)"
      ]
     },
     "execution_count": 17,
     "metadata": {},
     "output_type": "execute_result"
    }
   ],
   "source": [
    "# Verificando os tipos dos dados presente neste DataFrame\n",
    "df_market.dtypes.unique()"
   ]
  },
  {
   "cell_type": "code",
   "execution_count": 18,
   "metadata": {},
   "outputs": [
    {
     "data": {
      "text/html": [
       "<div>\n",
       "<style scoped>\n",
       "    .dataframe tbody tr th:only-of-type {\n",
       "        vertical-align: middle;\n",
       "    }\n",
       "\n",
       "    .dataframe tbody tr th {\n",
       "        vertical-align: top;\n",
       "    }\n",
       "\n",
       "    .dataframe thead th {\n",
       "        text-align: right;\n",
       "    }\n",
       "</style>\n",
       "<table border=\"1\" class=\"dataframe\">\n",
       "  <thead>\n",
       "    <tr style=\"text-align: right;\">\n",
       "      <th></th>\n",
       "      <th>colunas</th>\n",
       "      <th>tipos</th>\n",
       "    </tr>\n",
       "  </thead>\n",
       "  <tbody>\n",
       "    <tr>\n",
       "      <th>Unnamed: 0</th>\n",
       "      <td>Unnamed: 0</td>\n",
       "      <td>int64</td>\n",
       "    </tr>\n",
       "    <tr>\n",
       "      <th>id</th>\n",
       "      <td>id</td>\n",
       "      <td>object</td>\n",
       "    </tr>\n",
       "    <tr>\n",
       "      <th>fl_matriz</th>\n",
       "      <td>fl_matriz</td>\n",
       "      <td>bool</td>\n",
       "    </tr>\n",
       "    <tr>\n",
       "      <th>de_natureza_juridica</th>\n",
       "      <td>de_natureza_juridica</td>\n",
       "      <td>object</td>\n",
       "    </tr>\n",
       "    <tr>\n",
       "      <th>sg_uf</th>\n",
       "      <td>sg_uf</td>\n",
       "      <td>object</td>\n",
       "    </tr>\n",
       "  </tbody>\n",
       "</table>\n",
       "</div>"
      ],
      "text/plain": [
       "                                   colunas   tipos\n",
       "Unnamed: 0                      Unnamed: 0   int64\n",
       "id                                      id  object\n",
       "fl_matriz                        fl_matriz    bool\n",
       "de_natureza_juridica  de_natureza_juridica  object\n",
       "sg_uf                                sg_uf  object"
      ]
     },
     "execution_count": 18,
     "metadata": {},
     "output_type": "execute_result"
    }
   ],
   "source": [
    "df_market_tipos_aux = pd.DataFrame({'colunas': df_market.columns, 'tipos':df_market.dtypes})\n",
    "df_market_tipos_aux.head()"
   ]
  },
  {
   "cell_type": "code",
   "execution_count": 19,
   "metadata": {},
   "outputs": [],
   "source": [
    "# Separando os tipos em listas!\n",
    "lista_dadosNumericos = list(df_market_tipos_aux[(df_market_tipos_aux['tipos'] == 'int64') | (df_market_tipos_aux['tipos'] == 'float64')]['colunas'])\n",
    "lista_dadosBool = list(df_market_tipos_aux[(df_market_tipos_aux['tipos'] == 'bool')]['colunas'])\n",
    "lista_dadosObject = list(df_market_tipos_aux[(df_market_tipos_aux['tipos'] == 'object')]['colunas'])"
   ]
  },
  {
   "cell_type": "code",
   "execution_count": 20,
   "metadata": {},
   "outputs": [],
   "source": [
    "# Criando DataFrames de acordo com as listas acima!\n",
    "df_market_dadosNumericos = df_market[lista_dadosNumericos]\n",
    "df_market_dadosBool = df_market[lista_dadosBool]\n",
    "df_market_dadosObject = df_market[lista_dadosObject]\n",
    "\n",
    "# (df_market_todoNumerico)! É o DataFrame todo numérico para conseguirmos trabalhar!"
   ]
  },
  {
   "cell_type": "code",
   "execution_count": 21,
   "metadata": {},
   "outputs": [
    {
     "data": {
      "text/plain": [
       "Index(['id', 'de_natureza_juridica', 'sg_uf', 'natureza_juridica_macro',\n",
       "       'de_ramo', 'setor', 'idade_emp_cat', 'fl_rm', 'nm_divisao',\n",
       "       'nm_segmento', 'fl_spa', 'fl_antt', 'fl_veiculo', 'fl_optante_simples',\n",
       "       'fl_optante_simei', 'sg_uf_matriz', 'de_saude_tributaria',\n",
       "       'de_saude_rescencia', 'de_nivel_atividade', 'fl_simples_irregular',\n",
       "       'nm_meso_regiao', 'nm_micro_regiao', 'fl_passivel_iss',\n",
       "       'de_faixa_faturamento_estimado', 'de_faixa_faturamento_estimado_grupo'],\n",
       "      dtype='object')"
      ]
     },
     "execution_count": 21,
     "metadata": {},
     "output_type": "execute_result"
    }
   ],
   "source": [
    "df_market_dadosObject.columns"
   ]
  },
  {
   "cell_type": "markdown",
   "metadata": {},
   "source": [
    "### Trabalhando com DADOS \"bool\""
   ]
  },
  {
   "cell_type": "code",
   "execution_count": 22,
   "metadata": {},
   "outputs": [
    {
     "data": {
      "text/plain": [
       "fl_matriz         0\n",
       "fl_me             0\n",
       "fl_sa             0\n",
       "fl_epp            0\n",
       "fl_mei            0\n",
       "fl_ltda           0\n",
       "fl_st_especial    0\n",
       "fl_email          0\n",
       "fl_telefone       0\n",
       "dtype: int64"
      ]
     },
     "execution_count": 22,
     "metadata": {},
     "output_type": "execute_result"
    }
   ],
   "source": [
    "# Não temos nenhum dado faltante neste DataFrame!\n",
    "df_market_dadosBool.isna().sum()"
   ]
  },
  {
   "cell_type": "code",
   "execution_count": 23,
   "metadata": {},
   "outputs": [
    {
     "data": {
      "text/html": [
       "<div>\n",
       "<style scoped>\n",
       "    .dataframe tbody tr th:only-of-type {\n",
       "        vertical-align: middle;\n",
       "    }\n",
       "\n",
       "    .dataframe tbody tr th {\n",
       "        vertical-align: top;\n",
       "    }\n",
       "\n",
       "    .dataframe thead th {\n",
       "        text-align: right;\n",
       "    }\n",
       "</style>\n",
       "<table border=\"1\" class=\"dataframe\">\n",
       "  <thead>\n",
       "    <tr style=\"text-align: right;\">\n",
       "      <th></th>\n",
       "      <th>fl_matriz</th>\n",
       "      <th>fl_me</th>\n",
       "      <th>fl_sa</th>\n",
       "      <th>fl_epp</th>\n",
       "      <th>fl_mei</th>\n",
       "      <th>fl_ltda</th>\n",
       "      <th>fl_st_especial</th>\n",
       "      <th>fl_email</th>\n",
       "      <th>fl_telefone</th>\n",
       "    </tr>\n",
       "  </thead>\n",
       "  <tbody>\n",
       "    <tr>\n",
       "      <th>0</th>\n",
       "      <td>1</td>\n",
       "      <td>0</td>\n",
       "      <td>0</td>\n",
       "      <td>0</td>\n",
       "      <td>0</td>\n",
       "      <td>0</td>\n",
       "      <td>0</td>\n",
       "      <td>1</td>\n",
       "      <td>1</td>\n",
       "    </tr>\n",
       "    <tr>\n",
       "      <th>1</th>\n",
       "      <td>1</td>\n",
       "      <td>0</td>\n",
       "      <td>0</td>\n",
       "      <td>0</td>\n",
       "      <td>1</td>\n",
       "      <td>0</td>\n",
       "      <td>0</td>\n",
       "      <td>1</td>\n",
       "      <td>1</td>\n",
       "    </tr>\n",
       "    <tr>\n",
       "      <th>2</th>\n",
       "      <td>1</td>\n",
       "      <td>0</td>\n",
       "      <td>0</td>\n",
       "      <td>0</td>\n",
       "      <td>1</td>\n",
       "      <td>0</td>\n",
       "      <td>0</td>\n",
       "      <td>0</td>\n",
       "      <td>1</td>\n",
       "    </tr>\n",
       "    <tr>\n",
       "      <th>3</th>\n",
       "      <td>1</td>\n",
       "      <td>0</td>\n",
       "      <td>0</td>\n",
       "      <td>0</td>\n",
       "      <td>0</td>\n",
       "      <td>0</td>\n",
       "      <td>0</td>\n",
       "      <td>1</td>\n",
       "      <td>1</td>\n",
       "    </tr>\n",
       "    <tr>\n",
       "      <th>4</th>\n",
       "      <td>1</td>\n",
       "      <td>0</td>\n",
       "      <td>0</td>\n",
       "      <td>0</td>\n",
       "      <td>0</td>\n",
       "      <td>0</td>\n",
       "      <td>0</td>\n",
       "      <td>1</td>\n",
       "      <td>1</td>\n",
       "    </tr>\n",
       "  </tbody>\n",
       "</table>\n",
       "</div>"
      ],
      "text/plain": [
       "   fl_matriz  fl_me  fl_sa  fl_epp  fl_mei  fl_ltda  fl_st_especial  fl_email  \\\n",
       "0          1      0      0       0       0        0               0         1   \n",
       "1          1      0      0       0       1        0               0         1   \n",
       "2          1      0      0       0       1        0               0         0   \n",
       "3          1      0      0       0       0        0               0         1   \n",
       "4          1      0      0       0       0        0               0         1   \n",
       "\n",
       "   fl_telefone  \n",
       "0            1  \n",
       "1            1  \n",
       "2            1  \n",
       "3            1  \n",
       "4            1  "
      ]
     },
     "execution_count": 23,
     "metadata": {},
     "output_type": "execute_result"
    }
   ],
   "source": [
    "# Transformando os dados \"bool\" em \"int\"\n",
    "df_market_dadosBool_transformado = df_market_dadosBool.astype(int)\n",
    "df_market_dadosBool_transformado.head()"
   ]
  },
  {
   "cell_type": "code",
   "execution_count": 24,
   "metadata": {},
   "outputs": [],
   "source": [
    "# Adicionando (df_market_dadosBool_transformado) ao (df_market_todoNumerico)\n",
    "df_market_todoNumerico = df_market_dadosBool_transformado"
   ]
  },
  {
   "cell_type": "code",
   "execution_count": 25,
   "metadata": {},
   "outputs": [
    {
     "data": {
      "text/plain": [
       "(462298, 9)"
      ]
     },
     "execution_count": 25,
     "metadata": {},
     "output_type": "execute_result"
    }
   ],
   "source": [
    "# Verificando se o (df_market_dadosBool_transformado) foi adicionado corretamente em (df_market_todoNumerico)\n",
    "df_market_todoNumerico.shape"
   ]
  },
  {
   "cell_type": "code",
   "execution_count": 26,
   "metadata": {},
   "outputs": [
    {
     "data": {
      "text/plain": [
       "fl_matriz         0\n",
       "fl_me             0\n",
       "fl_sa             0\n",
       "fl_epp            0\n",
       "fl_mei            0\n",
       "fl_ltda           0\n",
       "fl_st_especial    0\n",
       "fl_email          0\n",
       "fl_telefone       0\n",
       "dtype: int64"
      ]
     },
     "execution_count": 26,
     "metadata": {},
     "output_type": "execute_result"
    }
   ],
   "source": [
    "# Verificando a quantidade de dados faltantes no (df_market_todoNumerico). Continua zerado. \n",
    "# RESULTADO: Nenhum dado faltante! ÓTIMO, eba :D\n",
    "df_market_todoNumerico.isna().sum()"
   ]
  },
  {
   "cell_type": "markdown",
   "metadata": {},
   "source": [
    "### Trabalhando com DADOS NUMÉRICOS : \"int64\"e \"float64\""
   ]
  },
  {
   "cell_type": "code",
   "execution_count": 27,
   "metadata": {},
   "outputs": [
    {
     "data": {
      "text/plain": [
       "Index(['fl_matriz', 'fl_me', 'fl_sa', 'fl_epp', 'fl_mei', 'fl_ltda',\n",
       "       'fl_st_especial', 'fl_email', 'fl_telefone'],\n",
       "      dtype='object')"
      ]
     },
     "execution_count": 27,
     "metadata": {},
     "output_type": "execute_result"
    }
   ],
   "source": [
    "df_market_todoNumerico.columns"
   ]
  },
  {
   "cell_type": "code",
   "execution_count": 28,
   "metadata": {},
   "outputs": [
    {
     "data": {
      "text/plain": [
       "Unnamed: 0                                    0\n",
       "idade_empresa_anos                            0\n",
       "nu_meses_rescencia                        45276\n",
       "empsetorcensitariofaixarendapopulacao    143829\n",
       "qt_socios                                115091\n",
       "qt_socios_pf                             115091\n",
       "qt_socios_pj                             115091\n",
       "idade_media_socios                       151602\n",
       "idade_maxima_socios                      151602\n",
       "idade_minima_socios                      151602\n",
       "qt_socios_st_regular                     154917\n",
       "qt_socios_masculino                      267183\n",
       "qt_socios_feminino                       317269\n",
       "vl_faturamento_estimado_aux               27513\n",
       "vl_faturamento_estimado_grupo_aux         27513\n",
       "qt_filiais                                    0\n",
       "dtype: int64"
      ]
     },
     "execution_count": 28,
     "metadata": {},
     "output_type": "execute_result"
    }
   ],
   "source": [
    "df_market_dadosNumericos.isna().sum()"
   ]
  },
  {
   "cell_type": "code",
   "execution_count": 29,
   "metadata": {},
   "outputs": [
    {
     "name": "stderr",
     "output_type": "stream",
     "text": [
      "/opt/anaconda3/lib/python3.7/site-packages/pandas/core/frame.py:3997: SettingWithCopyWarning: \n",
      "A value is trying to be set on a copy of a slice from a DataFrame\n",
      "\n",
      "See the caveats in the documentation: https://pandas.pydata.org/pandas-docs/stable/user_guide/indexing.html#returning-a-view-versus-a-copy\n",
      "  errors=errors,\n"
     ]
    }
   ],
   "source": [
    "df_market_dadosNumericos.drop(columns = 'Unnamed: 0', inplace=True)"
   ]
  },
  {
   "cell_type": "code",
   "execution_count": 30,
   "metadata": {},
   "outputs": [],
   "source": [
    "df_market_dadosNumericos_CONSISTENCIA = pd.DataFrame({'colunas': df_market_dadosNumericos.columns, 'missing_Quantidade': df_market_dadosNumericos.isna().sum()})"
   ]
  },
  {
   "cell_type": "code",
   "execution_count": 31,
   "metadata": {},
   "outputs": [
    {
     "data": {
      "text/html": [
       "<div>\n",
       "<style scoped>\n",
       "    .dataframe tbody tr th:only-of-type {\n",
       "        vertical-align: middle;\n",
       "    }\n",
       "\n",
       "    .dataframe tbody tr th {\n",
       "        vertical-align: top;\n",
       "    }\n",
       "\n",
       "    .dataframe thead th {\n",
       "        text-align: right;\n",
       "    }\n",
       "</style>\n",
       "<table border=\"1\" class=\"dataframe\">\n",
       "  <thead>\n",
       "    <tr style=\"text-align: right;\">\n",
       "      <th></th>\n",
       "      <th>colunas</th>\n",
       "      <th>missing_Quantidade</th>\n",
       "    </tr>\n",
       "  </thead>\n",
       "  <tbody>\n",
       "    <tr>\n",
       "      <th>idade_empresa_anos</th>\n",
       "      <td>idade_empresa_anos</td>\n",
       "      <td>0</td>\n",
       "    </tr>\n",
       "    <tr>\n",
       "      <th>nu_meses_rescencia</th>\n",
       "      <td>nu_meses_rescencia</td>\n",
       "      <td>45276</td>\n",
       "    </tr>\n",
       "    <tr>\n",
       "      <th>empsetorcensitariofaixarendapopulacao</th>\n",
       "      <td>empsetorcensitariofaixarendapopulacao</td>\n",
       "      <td>143829</td>\n",
       "    </tr>\n",
       "    <tr>\n",
       "      <th>qt_socios</th>\n",
       "      <td>qt_socios</td>\n",
       "      <td>115091</td>\n",
       "    </tr>\n",
       "    <tr>\n",
       "      <th>qt_socios_pf</th>\n",
       "      <td>qt_socios_pf</td>\n",
       "      <td>115091</td>\n",
       "    </tr>\n",
       "  </tbody>\n",
       "</table>\n",
       "</div>"
      ],
      "text/plain": [
       "                                                                     colunas  \\\n",
       "idade_empresa_anos                                        idade_empresa_anos   \n",
       "nu_meses_rescencia                                        nu_meses_rescencia   \n",
       "empsetorcensitariofaixarendapopulacao  empsetorcensitariofaixarendapopulacao   \n",
       "qt_socios                                                          qt_socios   \n",
       "qt_socios_pf                                                    qt_socios_pf   \n",
       "\n",
       "                                       missing_Quantidade  \n",
       "idade_empresa_anos                                      0  \n",
       "nu_meses_rescencia                                  45276  \n",
       "empsetorcensitariofaixarendapopulacao              143829  \n",
       "qt_socios                                          115091  \n",
       "qt_socios_pf                                       115091  "
      ]
     },
     "execution_count": 31,
     "metadata": {},
     "output_type": "execute_result"
    }
   ],
   "source": [
    "df_market_dadosNumericos_CONSISTENCIA.head()"
   ]
  },
  {
   "cell_type": "code",
   "execution_count": 32,
   "metadata": {},
   "outputs": [],
   "source": [
    "lista_market_dadosNumericos_SEM_Faltantes = list(df_market_dadosNumericos_CONSISTENCIA[df_market_dadosNumericos_CONSISTENCIA['missing_Quantidade'] == 0]['colunas'])"
   ]
  },
  {
   "cell_type": "code",
   "execution_count": 33,
   "metadata": {},
   "outputs": [
    {
     "data": {
      "text/plain": [
       "['idade_empresa_anos', 'qt_filiais']"
      ]
     },
     "execution_count": 33,
     "metadata": {},
     "output_type": "execute_result"
    }
   ],
   "source": [
    "lista_market_dadosNumericos_SEM_Faltantes"
   ]
  },
  {
   "cell_type": "code",
   "execution_count": 34,
   "metadata": {},
   "outputs": [],
   "source": [
    "df_market_dadosNumericos_SEM_Faltantes = pd.DataFrame(df_market_dadosNumericos[lista_market_dadosNumericos_SEM_Faltantes])"
   ]
  },
  {
   "cell_type": "code",
   "execution_count": 35,
   "metadata": {},
   "outputs": [
    {
     "data": {
      "text/html": [
       "<div>\n",
       "<style scoped>\n",
       "    .dataframe tbody tr th:only-of-type {\n",
       "        vertical-align: middle;\n",
       "    }\n",
       "\n",
       "    .dataframe tbody tr th {\n",
       "        vertical-align: top;\n",
       "    }\n",
       "\n",
       "    .dataframe thead th {\n",
       "        text-align: right;\n",
       "    }\n",
       "</style>\n",
       "<table border=\"1\" class=\"dataframe\">\n",
       "  <thead>\n",
       "    <tr style=\"text-align: right;\">\n",
       "      <th></th>\n",
       "      <th>idade_empresa_anos</th>\n",
       "      <th>qt_filiais</th>\n",
       "    </tr>\n",
       "  </thead>\n",
       "  <tbody>\n",
       "    <tr>\n",
       "      <th>0</th>\n",
       "      <td>14.457534</td>\n",
       "      <td>0</td>\n",
       "    </tr>\n",
       "    <tr>\n",
       "      <th>1</th>\n",
       "      <td>1.463014</td>\n",
       "      <td>0</td>\n",
       "    </tr>\n",
       "    <tr>\n",
       "      <th>2</th>\n",
       "      <td>7.093151</td>\n",
       "      <td>0</td>\n",
       "    </tr>\n",
       "    <tr>\n",
       "      <th>3</th>\n",
       "      <td>6.512329</td>\n",
       "      <td>0</td>\n",
       "    </tr>\n",
       "    <tr>\n",
       "      <th>4</th>\n",
       "      <td>3.200000</td>\n",
       "      <td>0</td>\n",
       "    </tr>\n",
       "  </tbody>\n",
       "</table>\n",
       "</div>"
      ],
      "text/plain": [
       "   idade_empresa_anos  qt_filiais\n",
       "0           14.457534           0\n",
       "1            1.463014           0\n",
       "2            7.093151           0\n",
       "3            6.512329           0\n",
       "4            3.200000           0"
      ]
     },
     "execution_count": 35,
     "metadata": {},
     "output_type": "execute_result"
    }
   ],
   "source": [
    "df_market_dadosNumericos_SEM_Faltantes.head()"
   ]
  },
  {
   "cell_type": "code",
   "execution_count": 36,
   "metadata": {},
   "outputs": [],
   "source": [
    "lista_market_dadosNumericos_COM_Faltantes = list(df_market_dadosNumericos_CONSISTENCIA[df_market_dadosNumericos_CONSISTENCIA['missing_Quantidade'] > 0]['colunas'])"
   ]
  },
  {
   "cell_type": "code",
   "execution_count": 37,
   "metadata": {},
   "outputs": [
    {
     "data": {
      "text/plain": [
       "['nu_meses_rescencia',\n",
       " 'empsetorcensitariofaixarendapopulacao',\n",
       " 'qt_socios',\n",
       " 'qt_socios_pf',\n",
       " 'qt_socios_pj',\n",
       " 'idade_media_socios',\n",
       " 'idade_maxima_socios',\n",
       " 'idade_minima_socios',\n",
       " 'qt_socios_st_regular',\n",
       " 'qt_socios_masculino',\n",
       " 'qt_socios_feminino',\n",
       " 'vl_faturamento_estimado_aux',\n",
       " 'vl_faturamento_estimado_grupo_aux']"
      ]
     },
     "execution_count": 37,
     "metadata": {},
     "output_type": "execute_result"
    }
   ],
   "source": [
    "lista_market_dadosNumericos_COM_Faltantes"
   ]
  },
  {
   "cell_type": "code",
   "execution_count": 38,
   "metadata": {},
   "outputs": [],
   "source": [
    "df_market_dadosNumericos_COM_Faltantes = pd.DataFrame(df_market_dadosNumericos[lista_market_dadosNumericos_COM_Faltantes])"
   ]
  },
  {
   "cell_type": "code",
   "execution_count": 39,
   "metadata": {},
   "outputs": [
    {
     "data": {
      "text/plain": [
       "(462298, 13)"
      ]
     },
     "execution_count": 39,
     "metadata": {},
     "output_type": "execute_result"
    }
   ],
   "source": [
    "df_market_dadosNumericos_COM_Faltantes.shape"
   ]
  },
  {
   "cell_type": "code",
   "execution_count": 40,
   "metadata": {},
   "outputs": [
    {
     "data": {
      "text/plain": [
       "idade_empresa_anos                            0\n",
       "nu_meses_rescencia                        45276\n",
       "empsetorcensitariofaixarendapopulacao    143829\n",
       "qt_socios                                115091\n",
       "qt_socios_pf                             115091\n",
       "qt_socios_pj                             115091\n",
       "idade_media_socios                       151602\n",
       "idade_maxima_socios                      151602\n",
       "idade_minima_socios                      151602\n",
       "qt_socios_st_regular                     154917\n",
       "qt_socios_masculino                      267183\n",
       "qt_socios_feminino                       317269\n",
       "vl_faturamento_estimado_aux               27513\n",
       "vl_faturamento_estimado_grupo_aux         27513\n",
       "qt_filiais                                    0\n",
       "dtype: int64"
      ]
     },
     "execution_count": 40,
     "metadata": {},
     "output_type": "execute_result"
    }
   ],
   "source": [
    "df_market_dadosNumericos.isna().sum()"
   ]
  },
  {
   "cell_type": "code",
   "execution_count": 41,
   "metadata": {},
   "outputs": [],
   "source": [
    "# Substituindo todos os dados numéricos faltantes por \"999999999\"\n",
    "# Dessa forma vamos conseguir usar algum algoritmo de regressão e mesmo assim vamos saber que é NaN\n",
    "df_market_dadosNumericos = df_market_dadosNumericos.fillna(999999999)"
   ]
  },
  {
   "cell_type": "code",
   "execution_count": 42,
   "metadata": {},
   "outputs": [
    {
     "data": {
      "text/plain": [
       "idade_empresa_anos                       0\n",
       "nu_meses_rescencia                       0\n",
       "empsetorcensitariofaixarendapopulacao    0\n",
       "qt_socios                                0\n",
       "qt_socios_pf                             0\n",
       "qt_socios_pj                             0\n",
       "idade_media_socios                       0\n",
       "idade_maxima_socios                      0\n",
       "idade_minima_socios                      0\n",
       "qt_socios_st_regular                     0\n",
       "qt_socios_masculino                      0\n",
       "qt_socios_feminino                       0\n",
       "vl_faturamento_estimado_aux              0\n",
       "vl_faturamento_estimado_grupo_aux        0\n",
       "qt_filiais                               0\n",
       "dtype: int64"
      ]
     },
     "execution_count": 42,
     "metadata": {},
     "output_type": "execute_result"
    }
   ],
   "source": [
    "# Testando para ver se funcionou.\n",
    "# Verificando a quantidade de dados faltantes nas colunas numéricas. Total = 0, uhuuuL\n",
    "df_market_dadosNumericos.isna().sum()"
   ]
  },
  {
   "cell_type": "code",
   "execution_count": 43,
   "metadata": {},
   "outputs": [],
   "source": [
    "# Adicionando (df_market_dadosNumericos) ao (df_market_todoNumerico)\n",
    "#df_market_todoNumerico = df_market_todoNumerico.join(df_market_dadosNumericos)"
   ]
  },
  {
   "cell_type": "code",
   "execution_count": 44,
   "metadata": {},
   "outputs": [],
   "source": [
    "# Verificando o número de linhas e colunas no DataFrame (df_market_todoNumerico)\n",
    "#df_market_todoNumerico.shape"
   ]
  },
  {
   "cell_type": "code",
   "execution_count": 45,
   "metadata": {},
   "outputs": [
    {
     "data": {
      "text/plain": [
       "(462298, 9)"
      ]
     },
     "execution_count": 45,
     "metadata": {},
     "output_type": "execute_result"
    }
   ],
   "source": [
    "df_market_todoNumerico.shape"
   ]
  },
  {
   "cell_type": "code",
   "execution_count": 46,
   "metadata": {},
   "outputs": [],
   "source": [
    "df_market_todoNumerico_COPIA_dadosNumericos = df_market_todoNumerico"
   ]
  },
  {
   "cell_type": "markdown",
   "metadata": {},
   "source": [
    "### >>> IMPUTANDO VALORES: 'int64' e 'float64' <<<"
   ]
  },
  {
   "cell_type": "code",
   "execution_count": 47,
   "metadata": {},
   "outputs": [],
   "source": [
    "from sklearn.linear_model import LinearRegression"
   ]
  },
  {
   "cell_type": "code",
   "execution_count": 48,
   "metadata": {},
   "outputs": [],
   "source": [
    "reg = LinearRegression()"
   ]
  },
  {
   "cell_type": "code",
   "execution_count": 49,
   "metadata": {},
   "outputs": [],
   "source": [
    "df_market_dadosNumerico_transformados = df_market_dadosNumericos"
   ]
  },
  {
   "cell_type": "code",
   "execution_count": 50,
   "metadata": {},
   "outputs": [
    {
     "data": {
      "text/plain": [
       "(462298, 15)"
      ]
     },
     "execution_count": 50,
     "metadata": {},
     "output_type": "execute_result"
    }
   ],
   "source": [
    "df_market_dadosNumericos.shape"
   ]
  },
  {
   "cell_type": "code",
   "execution_count": 51,
   "metadata": {},
   "outputs": [
    {
     "data": {
      "text/plain": [
       "(462298, 15)"
      ]
     },
     "execution_count": 51,
     "metadata": {},
     "output_type": "execute_result"
    }
   ],
   "source": [
    "df_market_dadosNumerico_transformados.shape"
   ]
  },
  {
   "cell_type": "code",
   "execution_count": 52,
   "metadata": {},
   "outputs": [
    {
     "name": "stdout",
     "output_type": "stream",
     "text": [
      "Começando a coluna:  nu_meses_rescencia\n",
      "Começando a coluna:  empsetorcensitariofaixarendapopulacao\n",
      "Começando a coluna:  qt_socios\n",
      "Começando a coluna:  qt_socios_pf\n",
      "Começando a coluna:  qt_socios_pj\n",
      "Começando a coluna:  idade_media_socios\n",
      "Começando a coluna:  idade_maxima_socios\n",
      "Começando a coluna:  idade_minima_socios\n",
      "Começando a coluna:  qt_socios_st_regular\n",
      "Começando a coluna:  qt_socios_masculino\n",
      "Começando a coluna:  qt_socios_feminino\n",
      "Começando a coluna:  vl_faturamento_estimado_aux\n",
      "Começando a coluna:  vl_faturamento_estimado_grupo_aux\n"
     ]
    }
   ],
   "source": [
    "# Separando as Bases de TREINO e TESTE\n",
    "\n",
    "for x in lista_market_dadosNumericos_COM_Faltantes:\n",
    "    \n",
    "    print('Começando a coluna: ',x)\n",
    "    \n",
    "    df_total = df_market_todoNumerico_COPIA_dadosNumericos.join(df_market_dadosNumericos[x])\n",
    "\n",
    "    df_market_dadosNumericos_TREINO = pd.DataFrame(df_total[df_total[x] != 999999999])\n",
    "    df_market_dadosNumericos_TESTE = pd.DataFrame(df_total[df_total[x] == 999999999])\n",
    "    \n",
    "    # Definindo o TREINO\n",
    "    Y_TREINO_coluna = df_market_dadosNumericos_TREINO[x]\n",
    "    X_TREINO_coluna = df_market_dadosNumericos_TREINO.drop(columns = x)\n",
    " \n",
    "    # Definindo TESTE\n",
    "    X_TESTE_coluna = df_market_dadosNumericos_TESTE.drop(columns = x)\n",
    "\n",
    "    reg.fit(X_TREINO_coluna, Y_TREINO_coluna)\n",
    "    Y_PREDITO = reg.predict(X_TESTE_coluna)\n",
    "    \n",
    "    # Substituindo '999999999' pelos valores calculado' no (df_market_dadosNumerico_transformados)\n",
    "    # Porque (df_market_dadosNumerico_transformados)\n",
    "    df_market_dadosNumerico_transformados[x].replace({999999999: Y_PREDITO}, inplace = True)\n"
   ]
  },
  {
   "cell_type": "code",
   "execution_count": 53,
   "metadata": {},
   "outputs": [],
   "source": [
    "df_market_todoNumerico = df_market_todoNumerico.join(df_market_dadosNumerico_transformados)"
   ]
  },
  {
   "cell_type": "code",
   "execution_count": 54,
   "metadata": {},
   "outputs": [
    {
     "data": {
      "text/plain": [
       "(462298, 24)"
      ]
     },
     "execution_count": 54,
     "metadata": {},
     "output_type": "execute_result"
    }
   ],
   "source": [
    "df_market_todoNumerico.shape"
   ]
  },
  {
   "cell_type": "code",
   "execution_count": 55,
   "metadata": {},
   "outputs": [
    {
     "data": {
      "text/plain": [
       "Index(['fl_matriz', 'fl_me', 'fl_sa', 'fl_epp', 'fl_mei', 'fl_ltda',\n",
       "       'fl_st_especial', 'fl_email', 'fl_telefone', 'idade_empresa_anos',\n",
       "       'nu_meses_rescencia', 'empsetorcensitariofaixarendapopulacao',\n",
       "       'qt_socios', 'qt_socios_pf', 'qt_socios_pj', 'idade_media_socios',\n",
       "       'idade_maxima_socios', 'idade_minima_socios', 'qt_socios_st_regular',\n",
       "       'qt_socios_masculino', 'qt_socios_feminino',\n",
       "       'vl_faturamento_estimado_aux', 'vl_faturamento_estimado_grupo_aux',\n",
       "       'qt_filiais'],\n",
       "      dtype='object')"
      ]
     },
     "execution_count": 55,
     "metadata": {},
     "output_type": "execute_result"
    }
   ],
   "source": [
    "df_market_todoNumerico.columns"
   ]
  },
  {
   "cell_type": "code",
   "execution_count": 56,
   "metadata": {},
   "outputs": [],
   "source": [
    "# Já temos no nosso DataFrame todos os valores numéricos do tipo: 'bool', 'int64, 'float64'\n",
    "# Agora vamos mexer nos dados do tipo: object!"
   ]
  },
  {
   "cell_type": "markdown",
   "metadata": {},
   "source": [
    "### >>> IMPUTANDO VALORES: 'object' <<<"
   ]
  },
  {
   "cell_type": "code",
   "execution_count": 57,
   "metadata": {},
   "outputs": [],
   "source": [
    "# Lembrando que:\n",
    "# Nosso DataFrame resultado (até o momento) é: df_market_todoNumerico\n",
    "# O DataFrame (df_market_dadosObject) é o DataFrame com todos os dados do tipo \"object\"\n",
    "# A ideia é usar um algoritmo de Classificação (ex: Árvore de Decisão) para substituir os dados faltantes\n",
    "# Estamos assumindo que os dados faltantes serão representados por: \"souNulo\""
   ]
  },
  {
   "cell_type": "code",
   "execution_count": 58,
   "metadata": {},
   "outputs": [
    {
     "data": {
      "text/plain": [
       "Index(['fl_matriz', 'fl_me', 'fl_sa', 'fl_epp', 'fl_mei', 'fl_ltda',\n",
       "       'fl_st_especial', 'fl_email', 'fl_telefone', 'idade_empresa_anos',\n",
       "       'nu_meses_rescencia', 'empsetorcensitariofaixarendapopulacao',\n",
       "       'qt_socios', 'qt_socios_pf', 'qt_socios_pj', 'idade_media_socios',\n",
       "       'idade_maxima_socios', 'idade_minima_socios', 'qt_socios_st_regular',\n",
       "       'qt_socios_masculino', 'qt_socios_feminino',\n",
       "       'vl_faturamento_estimado_aux', 'vl_faturamento_estimado_grupo_aux',\n",
       "       'qt_filiais'],\n",
       "      dtype='object')"
      ]
     },
     "execution_count": 58,
     "metadata": {},
     "output_type": "execute_result"
    }
   ],
   "source": [
    "df_market_todoNumerico.columns"
   ]
  },
  {
   "cell_type": "code",
   "execution_count": 59,
   "metadata": {},
   "outputs": [
    {
     "data": {
      "text/plain": [
       "id                                         0\n",
       "de_natureza_juridica                       0\n",
       "sg_uf                                      0\n",
       "natureza_juridica_macro                    0\n",
       "de_ramo                                    0\n",
       "setor                                   1927\n",
       "idade_emp_cat                              0\n",
       "fl_rm                                      0\n",
       "nm_divisao                              1927\n",
       "nm_segmento                             1927\n",
       "fl_spa                                  1927\n",
       "fl_antt                                 1927\n",
       "fl_veiculo                              1927\n",
       "fl_optante_simples                     82713\n",
       "fl_optante_simei                       82713\n",
       "sg_uf_matriz                            1939\n",
       "de_saude_tributaria                    14851\n",
       "de_saude_rescencia                     14851\n",
       "de_nivel_atividade                     11168\n",
       "fl_simples_irregular                    1927\n",
       "nm_meso_regiao                         58698\n",
       "nm_micro_regiao                        58698\n",
       "fl_passivel_iss                         1927\n",
       "de_faixa_faturamento_estimado          27513\n",
       "de_faixa_faturamento_estimado_grupo    27513\n",
       "dtype: int64"
      ]
     },
     "execution_count": 59,
     "metadata": {},
     "output_type": "execute_result"
    }
   ],
   "source": [
    "df_market_dadosObject.isna().sum()"
   ]
  },
  {
   "cell_type": "code",
   "execution_count": 60,
   "metadata": {},
   "outputs": [],
   "source": [
    "# Fazendo um DataFrame auxiliar para ajudar a verificar a consistencia destes dados!\n",
    "df_market_dadosObject_CONSISTENCIA = pd.DataFrame({'colunas': df_market_dadosObject.columns, 'missing_Quantidade': df_market_dadosObject.isna().sum()})"
   ]
  },
  {
   "cell_type": "code",
   "execution_count": 61,
   "metadata": {},
   "outputs": [],
   "source": [
    "# Lista com as variáveis que tem algum dado faltante\n",
    "lista_dadosObject_COM_dadosFaltantes = list(df_market_dadosObject_CONSISTENCIA[df_market_dadosObject_CONSISTENCIA['missing_Quantidade'] > 0]['colunas'])"
   ]
  },
  {
   "cell_type": "code",
   "execution_count": 62,
   "metadata": {},
   "outputs": [],
   "source": [
    "# Lista com as variáveis com nenhum dado faltante\n",
    "lista_dadosObject_SEM_dadosFaltantes = list(df_market_dadosObject_CONSISTENCIA[df_market_dadosObject_CONSISTENCIA['missing_Quantidade'] == 0]['colunas'])"
   ]
  },
  {
   "cell_type": "code",
   "execution_count": 63,
   "metadata": {},
   "outputs": [],
   "source": [
    "# Vamos isolar \"id\"\n",
    "# Ou seja, salvar em uma variável e excluir do DataFrame (df_market_dadosObject)\n",
    "# Porque esta coluna não vai fazer parte de nenhum aprendizado, mas precisamos os valores dos \"id\"s das empresas.\n",
    "armazenando_ID = df_market_dadosObject['id']"
   ]
  },
  {
   "cell_type": "code",
   "execution_count": 64,
   "metadata": {},
   "outputs": [],
   "source": [
    "#lista_dadosObject_aux = list(df_market_dadosObject.columns)\n",
    "#lista_dadosObject_aux.remove('id')\n",
    "#lista_dadosObject_aux"
   ]
  },
  {
   "cell_type": "code",
   "execution_count": 65,
   "metadata": {},
   "outputs": [],
   "source": [
    "# Substituindo todos os dados numéricos faltantes por 'souNulo'\n",
    "# Dessa forma vamos conseguir usar algum algoritmo de classificacao e mesmo assim vamos saber que é NaN\n",
    "df_market_dadosObject = df_market_dadosObject.fillna('souNulo')"
   ]
  },
  {
   "cell_type": "code",
   "execution_count": 66,
   "metadata": {},
   "outputs": [
    {
     "data": {
      "text/plain": [
       "id                                     0\n",
       "de_natureza_juridica                   0\n",
       "sg_uf                                  0\n",
       "natureza_juridica_macro                0\n",
       "de_ramo                                0\n",
       "setor                                  0\n",
       "idade_emp_cat                          0\n",
       "fl_rm                                  0\n",
       "nm_divisao                             0\n",
       "nm_segmento                            0\n",
       "fl_spa                                 0\n",
       "fl_antt                                0\n",
       "fl_veiculo                             0\n",
       "fl_optante_simples                     0\n",
       "fl_optante_simei                       0\n",
       "sg_uf_matriz                           0\n",
       "de_saude_tributaria                    0\n",
       "de_saude_rescencia                     0\n",
       "de_nivel_atividade                     0\n",
       "fl_simples_irregular                   0\n",
       "nm_meso_regiao                         0\n",
       "nm_micro_regiao                        0\n",
       "fl_passivel_iss                        0\n",
       "de_faixa_faturamento_estimado          0\n",
       "de_faixa_faturamento_estimado_grupo    0\n",
       "dtype: int64"
      ]
     },
     "execution_count": 66,
     "metadata": {},
     "output_type": "execute_result"
    }
   ],
   "source": [
    "df_market_dadosObject.isna().sum()"
   ]
  },
  {
   "cell_type": "code",
   "execution_count": 67,
   "metadata": {},
   "outputs": [
    {
     "data": {
      "text/plain": [
       "['id',\n",
       " 'de_natureza_juridica',\n",
       " 'sg_uf',\n",
       " 'natureza_juridica_macro',\n",
       " 'de_ramo',\n",
       " 'idade_emp_cat',\n",
       " 'fl_rm']"
      ]
     },
     "execution_count": 67,
     "metadata": {},
     "output_type": "execute_result"
    }
   ],
   "source": [
    "df_parcial_dadosObject_SEM_dadosFaltantes = pd.DataFrame(df_market_dadosObject['id'])\n",
    "lista_dadosObject_SEM_dadosFaltantes"
   ]
  },
  {
   "cell_type": "code",
   "execution_count": 68,
   "metadata": {},
   "outputs": [],
   "source": [
    "lista_dadosObject_SEM_dadosFaltantes.remove('id')"
   ]
  },
  {
   "cell_type": "code",
   "execution_count": 69,
   "metadata": {},
   "outputs": [
    {
     "data": {
      "text/plain": [
       "['de_natureza_juridica',\n",
       " 'sg_uf',\n",
       " 'natureza_juridica_macro',\n",
       " 'de_ramo',\n",
       " 'idade_emp_cat',\n",
       " 'fl_rm']"
      ]
     },
     "execution_count": 69,
     "metadata": {},
     "output_type": "execute_result"
    }
   ],
   "source": [
    "lista_dadosObject_SEM_dadosFaltantes"
   ]
  },
  {
   "cell_type": "code",
   "execution_count": 70,
   "metadata": {},
   "outputs": [],
   "source": [
    "# Transformando as colunas em dados numéricos e salvando num novo DataFrame\n",
    "# SOMENTE AS COLUNAS DO TIPO \"OBJECT\" SEM DADOS FALTANTES!\n",
    "\n",
    "for x in lista_dadosObject_SEM_dadosFaltantes:\n",
    "    df_market_aux = pd.get_dummies(df_market_dadosObject[x], prefix = x)\n",
    "    df_parcial_dadosObject_SEM_dadosFaltantes = df_parcial_dadosObject_SEM_dadosFaltantes.join(df_market_aux)"
   ]
  },
  {
   "cell_type": "code",
   "execution_count": 71,
   "metadata": {},
   "outputs": [
    {
     "data": {
      "text/plain": [
       "(462298, 122)"
      ]
     },
     "execution_count": 71,
     "metadata": {},
     "output_type": "execute_result"
    }
   ],
   "source": [
    "# Verificando o formato do DataFrame que tivemos como resultado!\n",
    "df_parcial_dadosObject_SEM_dadosFaltantes.shape"
   ]
  },
  {
   "cell_type": "code",
   "execution_count": 72,
   "metadata": {},
   "outputs": [],
   "source": [
    "# Precisamos excluir o \"id\" do DataFrame que vamos utilizar para realizar a classificacao\n",
    "# Porque nao queremos que \"id\" interfira.\n",
    "df_parcial_dadosObject_SEM_dadosFaltantes.drop(columns = 'id', inplace = True)"
   ]
  },
  {
   "cell_type": "code",
   "execution_count": 73,
   "metadata": {},
   "outputs": [],
   "source": [
    "# Testando de \"id\" sumiu mesmo!\n",
    "# Resultado: sim, sumiu!\n",
    "# df_parcial_dadosObject['id']"
   ]
  },
  {
   "cell_type": "code",
   "execution_count": 74,
   "metadata": {},
   "outputs": [],
   "source": [
    "# Primeiro vamos fazer uma cópia do DataFrame (df_market_todoNumerico)\n",
    "# Vamos adicionar o DataFrame resultado depois de inserir todos os dados faltantes do tipo \"bool\"\n",
    "# Adicionando o DataFrame (df_parcial_dadosObject) ao DataFrame (df_market_todoNumerico)\n",
    "# OBS: a coluna \"id\"até o momento naão esta fazendo parte de nenhum DataFrame!\n",
    "df_market_todoNumerico_COPIA_Object = df_market_todoNumerico\n",
    "df_market_todoNumerico_COPIA_Object = df_market_todoNumerico_COPIA_Object.join(df_parcial_dadosObject_SEM_dadosFaltantes)"
   ]
  },
  {
   "cell_type": "code",
   "execution_count": 75,
   "metadata": {},
   "outputs": [
    {
     "data": {
      "text/plain": [
       "(462298, 145)"
      ]
     },
     "execution_count": 75,
     "metadata": {},
     "output_type": "execute_result"
    }
   ],
   "source": [
    "df_market_todoNumerico_COPIA_Object.shape"
   ]
  },
  {
   "cell_type": "markdown",
   "metadata": {},
   "source": [
    "### >>> Informações! <<<"
   ]
  },
  {
   "cell_type": "code",
   "execution_count": 76,
   "metadata": {},
   "outputs": [],
   "source": [
    "# Vamos usar o DataFrame (df_market_todoNumerico_COPIA) para realizar as operações de descobrir os valores faltantes!\n",
    "# Este DataFrame está completo.\n",
    "# Os valores nulos foram substituidos por: 'souNulo'"
   ]
  },
  {
   "cell_type": "code",
   "execution_count": 77,
   "metadata": {},
   "outputs": [],
   "source": [
    "from sklearn import tree"
   ]
  },
  {
   "cell_type": "code",
   "execution_count": 78,
   "metadata": {},
   "outputs": [],
   "source": [
    "clf = tree.DecisionTreeClassifier()"
   ]
  },
  {
   "cell_type": "code",
   "execution_count": 79,
   "metadata": {
    "scrolled": true
   },
   "outputs": [
    {
     "data": {
      "text/plain": [
       "['setor',\n",
       " 'nm_divisao',\n",
       " 'nm_segmento',\n",
       " 'fl_spa',\n",
       " 'fl_antt',\n",
       " 'fl_veiculo',\n",
       " 'fl_optante_simples',\n",
       " 'fl_optante_simei',\n",
       " 'sg_uf_matriz',\n",
       " 'de_saude_tributaria',\n",
       " 'de_saude_rescencia',\n",
       " 'de_nivel_atividade',\n",
       " 'fl_simples_irregular',\n",
       " 'nm_meso_regiao',\n",
       " 'nm_micro_regiao',\n",
       " 'fl_passivel_iss',\n",
       " 'de_faixa_faturamento_estimado',\n",
       " 'de_faixa_faturamento_estimado_grupo']"
      ]
     },
     "execution_count": 79,
     "metadata": {},
     "output_type": "execute_result"
    }
   ],
   "source": [
    "# (lista_dadosObject_COM_dadosFaltantes) : contém todas as colunas do tipo \"bool\"que tem dados faltantes\n",
    "lista_dadosObject_COM_dadosFaltantes"
   ]
  },
  {
   "cell_type": "code",
   "execution_count": 80,
   "metadata": {},
   "outputs": [],
   "source": [
    "# Criando uma cópia do DataFrame (df_market_dadosObject)\n",
    "df_market_dadosObject_COPIA = df_market_dadosObject"
   ]
  },
  {
   "cell_type": "code",
   "execution_count": 81,
   "metadata": {},
   "outputs": [],
   "source": [
    "from sklearn import preprocessing"
   ]
  },
  {
   "cell_type": "code",
   "execution_count": 82,
   "metadata": {},
   "outputs": [],
   "source": [
    "le = preprocessing.LabelEncoder()"
   ]
  },
  {
   "cell_type": "code",
   "execution_count": 83,
   "metadata": {},
   "outputs": [
    {
     "name": "stdout",
     "output_type": "stream",
     "text": [
      "Começando a coluna:  setor\n",
      "Começando a coluna:  nm_divisao\n",
      "Começando a coluna:  nm_segmento\n",
      "Começando a coluna:  fl_spa\n",
      "Começando a coluna:  fl_antt\n",
      "Começando a coluna:  fl_veiculo\n",
      "Começando a coluna:  fl_optante_simples\n",
      "Começando a coluna:  fl_optante_simei\n",
      "Começando a coluna:  sg_uf_matriz\n",
      "Começando a coluna:  de_saude_tributaria\n",
      "Começando a coluna:  de_saude_rescencia\n",
      "Começando a coluna:  de_nivel_atividade\n",
      "Começando a coluna:  fl_simples_irregular\n",
      "Começando a coluna:  nm_meso_regiao\n",
      "Começando a coluna:  nm_micro_regiao\n",
      "Começando a coluna:  fl_passivel_iss\n",
      "Começando a coluna:  de_faixa_faturamento_estimado\n",
      "Começando a coluna:  de_faixa_faturamento_estimado_grupo\n"
     ]
    }
   ],
   "source": [
    "# Separando as Bases de TREINO e TESTE\n",
    "\n",
    "for x in lista_dadosObject_COM_dadosFaltantes:\n",
    "    print('Começando a coluna: ',x)\n",
    "    \n",
    "    df_total = df_market_todoNumerico_COPIA_Object.join(df_market_dadosObject_COPIA[x])\n",
    "\n",
    "    df_market_TN_treino = df_total[df_total[x] != 'souNulo']\n",
    "    df_market_TN_teste = df_total[df_total[x] == 'souNulo']\n",
    "    \n",
    "    # Definindo o TREINO\n",
    "    Y_TREINO_coluna = le.fit_transform(df_market_TN_treino[x])\n",
    "    X_TREINO_coluna = df_market_TN_treino.drop(columns = x)\n",
    "\n",
    "    # Definindo TESTE\n",
    "    X_TESTE_coluna = df_market_TN_teste.drop(columns = x)\n",
    "    \n",
    "    clf.fit(X_TREINO_coluna, Y_TREINO_coluna)\n",
    "    Y_PREDITO = clf.predict(X_TESTE_coluna)\n",
    "    Y_PREDITO_RESULTADO = le.inverse_transform(Y_PREDITO)\n",
    "    \n",
    "    # Substituindo 'souNulo' pelos valores calculado'\n",
    "    df_market_dadosObject_COPIA[x].replace({'souNulo': Y_PREDITO_RESULTADO}, inplace = True)\n"
   ]
  },
  {
   "cell_type": "code",
   "execution_count": 84,
   "metadata": {},
   "outputs": [],
   "source": [
    "# Agora (df_market_dadosObject_COPIA) está completa!\n",
    "# Vamos transformar este DataFrame em um dataFrame numérico com o (get_dummies)"
   ]
  },
  {
   "cell_type": "code",
   "execution_count": 85,
   "metadata": {},
   "outputs": [
    {
     "data": {
      "text/plain": [
       "Index(['id', 'de_natureza_juridica', 'sg_uf', 'natureza_juridica_macro',\n",
       "       'de_ramo', 'setor', 'idade_emp_cat', 'fl_rm', 'nm_divisao',\n",
       "       'nm_segmento', 'fl_spa', 'fl_antt', 'fl_veiculo', 'fl_optante_simples',\n",
       "       'fl_optante_simei', 'sg_uf_matriz', 'de_saude_tributaria',\n",
       "       'de_saude_rescencia', 'de_nivel_atividade', 'fl_simples_irregular',\n",
       "       'nm_meso_regiao', 'nm_micro_regiao', 'fl_passivel_iss',\n",
       "       'de_faixa_faturamento_estimado', 'de_faixa_faturamento_estimado_grupo'],\n",
       "      dtype='object')"
      ]
     },
     "execution_count": 85,
     "metadata": {},
     "output_type": "execute_result"
    }
   ],
   "source": [
    "df_market_dadosObject_COPIA.columns"
   ]
  },
  {
   "cell_type": "code",
   "execution_count": 86,
   "metadata": {},
   "outputs": [],
   "source": [
    "df_market_dadosObject_COMPLETO = df_market_dadosObject_COPIA"
   ]
  },
  {
   "cell_type": "code",
   "execution_count": 87,
   "metadata": {},
   "outputs": [],
   "source": [
    "df_market_dadosObject_COMPLETO.drop(columns = 'id', inplace = True)"
   ]
  },
  {
   "cell_type": "code",
   "execution_count": 88,
   "metadata": {},
   "outputs": [],
   "source": [
    "df_market_dadosObject_transformado = pd.get_dummies(df_market_dadosObject)"
   ]
  },
  {
   "cell_type": "code",
   "execution_count": 89,
   "metadata": {},
   "outputs": [
    {
     "data": {
      "text/plain": [
       "(462298, 398)"
      ]
     },
     "execution_count": 89,
     "metadata": {},
     "output_type": "execute_result"
    }
   ],
   "source": [
    "df_market_dadosObject_transformado.shape"
   ]
  },
  {
   "cell_type": "code",
   "execution_count": 90,
   "metadata": {},
   "outputs": [
    {
     "data": {
      "text/plain": [
       "Index(['fl_spa', 'fl_antt', 'fl_veiculo', 'fl_optante_simples',\n",
       "       'fl_optante_simei', 'fl_simples_irregular', 'fl_passivel_iss',\n",
       "       'de_natureza_juridica_ASSOCIACAO PRIVADA',\n",
       "       'de_natureza_juridica_AUTARQUIA ESTADUAL OU DO DISTRITO FEDERAL',\n",
       "       'de_natureza_juridica_AUTARQUIA FEDERAL',\n",
       "       ...\n",
       "       'de_faixa_faturamento_estimado_grupo_ATE R$ 81.000,00',\n",
       "       'de_faixa_faturamento_estimado_grupo_DE R$ 1.500.000,01 A R$ 4.800.000,00',\n",
       "       'de_faixa_faturamento_estimado_grupo_DE R$ 10.000.000,01 A R$ 30.000.000,00',\n",
       "       'de_faixa_faturamento_estimado_grupo_DE R$ 100.000.000,01 A R$ 300.000.000,00',\n",
       "       'de_faixa_faturamento_estimado_grupo_DE R$ 30.000.000,01 A R$ 100.000.000,00',\n",
       "       'de_faixa_faturamento_estimado_grupo_DE R$ 300.000.000,01 A R$ 500.000.000,00',\n",
       "       'de_faixa_faturamento_estimado_grupo_DE R$ 360.000,01 A R$ 1.500.000,00',\n",
       "       'de_faixa_faturamento_estimado_grupo_DE R$ 4.800.000,01 A R$ 10.000.000,00',\n",
       "       'de_faixa_faturamento_estimado_grupo_DE R$ 500.000.000,01 A 1 BILHAO DE REAIS',\n",
       "       'de_faixa_faturamento_estimado_grupo_DE R$ 81.000,01 A R$ 360.000,00'],\n",
       "      dtype='object', length=398)"
      ]
     },
     "execution_count": 90,
     "metadata": {},
     "output_type": "execute_result"
    }
   ],
   "source": [
    "df_market_dadosObject_transformado.columns"
   ]
  },
  {
   "cell_type": "code",
   "execution_count": 91,
   "metadata": {},
   "outputs": [
    {
     "data": {
      "text/html": [
       "<div>\n",
       "<style scoped>\n",
       "    .dataframe tbody tr th:only-of-type {\n",
       "        vertical-align: middle;\n",
       "    }\n",
       "\n",
       "    .dataframe tbody tr th {\n",
       "        vertical-align: top;\n",
       "    }\n",
       "\n",
       "    .dataframe thead th {\n",
       "        text-align: right;\n",
       "    }\n",
       "</style>\n",
       "<table border=\"1\" class=\"dataframe\">\n",
       "  <thead>\n",
       "    <tr style=\"text-align: right;\">\n",
       "      <th></th>\n",
       "      <th>fl_spa</th>\n",
       "      <th>fl_antt</th>\n",
       "      <th>fl_veiculo</th>\n",
       "      <th>fl_optante_simples</th>\n",
       "      <th>fl_optante_simei</th>\n",
       "      <th>fl_simples_irregular</th>\n",
       "      <th>fl_passivel_iss</th>\n",
       "    </tr>\n",
       "  </thead>\n",
       "  <tbody>\n",
       "    <tr>\n",
       "      <th>0</th>\n",
       "      <td>0</td>\n",
       "      <td>0</td>\n",
       "      <td>0</td>\n",
       "      <td>1</td>\n",
       "      <td>0</td>\n",
       "      <td>0</td>\n",
       "      <td>1</td>\n",
       "    </tr>\n",
       "    <tr>\n",
       "      <th>1</th>\n",
       "      <td>0</td>\n",
       "      <td>0</td>\n",
       "      <td>0</td>\n",
       "      <td>1</td>\n",
       "      <td>0</td>\n",
       "      <td>0</td>\n",
       "      <td>1</td>\n",
       "    </tr>\n",
       "    <tr>\n",
       "      <th>2</th>\n",
       "      <td>0</td>\n",
       "      <td>0</td>\n",
       "      <td>0</td>\n",
       "      <td>1</td>\n",
       "      <td>1</td>\n",
       "      <td>0</td>\n",
       "      <td>1</td>\n",
       "    </tr>\n",
       "    <tr>\n",
       "      <th>3</th>\n",
       "      <td>0</td>\n",
       "      <td>0</td>\n",
       "      <td>0</td>\n",
       "      <td>1</td>\n",
       "      <td>0</td>\n",
       "      <td>0</td>\n",
       "      <td>1</td>\n",
       "    </tr>\n",
       "    <tr>\n",
       "      <th>4</th>\n",
       "      <td>0</td>\n",
       "      <td>0</td>\n",
       "      <td>0</td>\n",
       "      <td>1</td>\n",
       "      <td>0</td>\n",
       "      <td>0</td>\n",
       "      <td>1</td>\n",
       "    </tr>\n",
       "    <tr>\n",
       "      <th>...</th>\n",
       "      <td>...</td>\n",
       "      <td>...</td>\n",
       "      <td>...</td>\n",
       "      <td>...</td>\n",
       "      <td>...</td>\n",
       "      <td>...</td>\n",
       "      <td>...</td>\n",
       "    </tr>\n",
       "    <tr>\n",
       "      <th>462293</th>\n",
       "      <td>0</td>\n",
       "      <td>0</td>\n",
       "      <td>0</td>\n",
       "      <td>1</td>\n",
       "      <td>1</td>\n",
       "      <td>0</td>\n",
       "      <td>0</td>\n",
       "    </tr>\n",
       "    <tr>\n",
       "      <th>462294</th>\n",
       "      <td>0</td>\n",
       "      <td>0</td>\n",
       "      <td>0</td>\n",
       "      <td>0</td>\n",
       "      <td>0</td>\n",
       "      <td>0</td>\n",
       "      <td>1</td>\n",
       "    </tr>\n",
       "    <tr>\n",
       "      <th>462295</th>\n",
       "      <td>0</td>\n",
       "      <td>0</td>\n",
       "      <td>0</td>\n",
       "      <td>0</td>\n",
       "      <td>0</td>\n",
       "      <td>0</td>\n",
       "      <td>1</td>\n",
       "    </tr>\n",
       "    <tr>\n",
       "      <th>462296</th>\n",
       "      <td>0</td>\n",
       "      <td>0</td>\n",
       "      <td>0</td>\n",
       "      <td>0</td>\n",
       "      <td>0</td>\n",
       "      <td>0</td>\n",
       "      <td>0</td>\n",
       "    </tr>\n",
       "    <tr>\n",
       "      <th>462297</th>\n",
       "      <td>0</td>\n",
       "      <td>0</td>\n",
       "      <td>0</td>\n",
       "      <td>1</td>\n",
       "      <td>0</td>\n",
       "      <td>0</td>\n",
       "      <td>1</td>\n",
       "    </tr>\n",
       "  </tbody>\n",
       "</table>\n",
       "<p>462298 rows × 7 columns</p>\n",
       "</div>"
      ],
      "text/plain": [
       "        fl_spa  fl_antt  fl_veiculo  fl_optante_simples  fl_optante_simei  \\\n",
       "0            0        0           0                   1                 0   \n",
       "1            0        0           0                   1                 0   \n",
       "2            0        0           0                   1                 1   \n",
       "3            0        0           0                   1                 0   \n",
       "4            0        0           0                   1                 0   \n",
       "...        ...      ...         ...                 ...               ...   \n",
       "462293       0        0           0                   1                 1   \n",
       "462294       0        0           0                   0                 0   \n",
       "462295       0        0           0                   0                 0   \n",
       "462296       0        0           0                   0                 0   \n",
       "462297       0        0           0                   1                 0   \n",
       "\n",
       "        fl_simples_irregular  fl_passivel_iss  \n",
       "0                          0                1  \n",
       "1                          0                1  \n",
       "2                          0                1  \n",
       "3                          0                1  \n",
       "4                          0                1  \n",
       "...                      ...              ...  \n",
       "462293                     0                0  \n",
       "462294                     0                1  \n",
       "462295                     0                1  \n",
       "462296                     0                0  \n",
       "462297                     0                1  \n",
       "\n",
       "[462298 rows x 7 columns]"
      ]
     },
     "execution_count": 91,
     "metadata": {},
     "output_type": "execute_result"
    }
   ],
   "source": [
    "# Verificando os dados que são do tipo 'bool'\n",
    "lista_auxiliar_bool = list(df_market_dadosObject_transformado.select_dtypes(include ='bool'))\n",
    "df_auxiliar_bool = df_market_dadosObject_transformado[lista_auxiliar_bool]\n",
    "df_auxiliar_bool.astype(int)"
   ]
  },
  {
   "cell_type": "code",
   "execution_count": 92,
   "metadata": {},
   "outputs": [],
   "source": [
    "df_market_dadosObject_transformado.drop(columns = lista_auxiliar_bool, inplace = True)"
   ]
  },
  {
   "cell_type": "code",
   "execution_count": 93,
   "metadata": {},
   "outputs": [
    {
     "data": {
      "text/plain": [
       "Index(['de_natureza_juridica_ASSOCIACAO PRIVADA',\n",
       "       'de_natureza_juridica_AUTARQUIA ESTADUAL OU DO DISTRITO FEDERAL',\n",
       "       'de_natureza_juridica_AUTARQUIA FEDERAL',\n",
       "       'de_natureza_juridica_AUTARQUIA MUNICIPAL',\n",
       "       'de_natureza_juridica_CANDIDATO A CARGO POLITICO ELETIVO',\n",
       "       'de_natureza_juridica_CLUBE FUNDO DE INVESTIMENTO',\n",
       "       'de_natureza_juridica_COMUNIDADE INDIGENA',\n",
       "       'de_natureza_juridica_CONDOMINIO EDILICIO',\n",
       "       'de_natureza_juridica_CONSORCIO DE EMPREGADORES',\n",
       "       'de_natureza_juridica_CONSORCIO DE SOCIEDADES',\n",
       "       ...\n",
       "       'de_faixa_faturamento_estimado_grupo_ATE R$ 81.000,00',\n",
       "       'de_faixa_faturamento_estimado_grupo_DE R$ 1.500.000,01 A R$ 4.800.000,00',\n",
       "       'de_faixa_faturamento_estimado_grupo_DE R$ 10.000.000,01 A R$ 30.000.000,00',\n",
       "       'de_faixa_faturamento_estimado_grupo_DE R$ 100.000.000,01 A R$ 300.000.000,00',\n",
       "       'de_faixa_faturamento_estimado_grupo_DE R$ 30.000.000,01 A R$ 100.000.000,00',\n",
       "       'de_faixa_faturamento_estimado_grupo_DE R$ 300.000.000,01 A R$ 500.000.000,00',\n",
       "       'de_faixa_faturamento_estimado_grupo_DE R$ 360.000,01 A R$ 1.500.000,00',\n",
       "       'de_faixa_faturamento_estimado_grupo_DE R$ 4.800.000,01 A R$ 10.000.000,00',\n",
       "       'de_faixa_faturamento_estimado_grupo_DE R$ 500.000.000,01 A 1 BILHAO DE REAIS',\n",
       "       'de_faixa_faturamento_estimado_grupo_DE R$ 81.000,01 A R$ 360.000,00'],\n",
       "      dtype='object', length=391)"
      ]
     },
     "execution_count": 93,
     "metadata": {},
     "output_type": "execute_result"
    }
   ],
   "source": [
    "df_market_dadosObject_transformado.columns"
   ]
  },
  {
   "cell_type": "code",
   "execution_count": 94,
   "metadata": {},
   "outputs": [],
   "source": [
    "df_market_dadosObject_transformado = df_market_dadosObject_transformado.join(df_auxiliar_bool)"
   ]
  },
  {
   "cell_type": "code",
   "execution_count": 95,
   "metadata": {},
   "outputs": [
    {
     "data": {
      "text/plain": [
       "(462298, 398)"
      ]
     },
     "execution_count": 95,
     "metadata": {},
     "output_type": "execute_result"
    }
   ],
   "source": [
    "df_market_dadosObject_transformado.shape"
   ]
  },
  {
   "cell_type": "code",
   "execution_count": 96,
   "metadata": {},
   "outputs": [],
   "source": [
    "# Agora todos os dados estão completos!\n",
    "# Vamos juntar todos os DataFrames!"
   ]
  },
  {
   "cell_type": "markdown",
   "metadata": {},
   "source": [
    "## JUNTANDO TODOS OS DATAFRAMES TRATADOS!"
   ]
  },
  {
   "cell_type": "code",
   "execution_count": 97,
   "metadata": {},
   "outputs": [],
   "source": [
    "# Nosso DataFrame final vai ser o (df_dadosTratados)"
   ]
  },
  {
   "cell_type": "code",
   "execution_count": 98,
   "metadata": {},
   "outputs": [],
   "source": [
    "# Primeiro estamos adicionando os valores do ID\n",
    "df_dadosTratados = pd.DataFrame(armazenando_ID)"
   ]
  },
  {
   "cell_type": "code",
   "execution_count": 99,
   "metadata": {},
   "outputs": [
    {
     "data": {
      "text/plain": [
       "(462298, 1)"
      ]
     },
     "execution_count": 99,
     "metadata": {},
     "output_type": "execute_result"
    }
   ],
   "source": [
    "df_dadosTratados.shape"
   ]
  },
  {
   "cell_type": "code",
   "execution_count": 100,
   "metadata": {},
   "outputs": [],
   "source": [
    "# Fazendo JOIN (df_dadosTratados) com os dados do tipo: \"bool\"\n",
    "df_dadosTratados = df_dadosTratados.join(df_market_dadosBool_transformado)"
   ]
  },
  {
   "cell_type": "code",
   "execution_count": 101,
   "metadata": {},
   "outputs": [],
   "source": [
    "# Fazendo JOIN (df_dadosTratados) com os dados do tipo: \"int64\" e \"float64\"\n",
    "df_dadosTratados = df_dadosTratados.join(df_market_dadosNumerico_transformados)"
   ]
  },
  {
   "cell_type": "code",
   "execution_count": 102,
   "metadata": {},
   "outputs": [],
   "source": [
    "# Fazendo JOIN (df_dadosTratados) com os dados do tipo: object (df_market_dadosObject_transformado)\n",
    "df_dadosTratados = df_dadosTratados.join(df_market_dadosObject_transformado)"
   ]
  },
  {
   "cell_type": "code",
   "execution_count": 103,
   "metadata": {},
   "outputs": [
    {
     "data": {
      "text/plain": [
       "(462298, 423)"
      ]
     },
     "execution_count": 103,
     "metadata": {},
     "output_type": "execute_result"
    }
   ],
   "source": [
    "df_dadosTratados.shape"
   ]
  },
  {
   "cell_type": "code",
   "execution_count": 104,
   "metadata": {},
   "outputs": [
    {
     "data": {
      "text/plain": [
       "Index(['id', 'fl_matriz', 'fl_me', 'fl_sa', 'fl_epp', 'fl_mei', 'fl_ltda',\n",
       "       'fl_st_especial', 'fl_email', 'fl_telefone',\n",
       "       ...\n",
       "       'de_faixa_faturamento_estimado_grupo_DE R$ 4.800.000,01 A R$ 10.000.000,00',\n",
       "       'de_faixa_faturamento_estimado_grupo_DE R$ 500.000.000,01 A 1 BILHAO DE REAIS',\n",
       "       'de_faixa_faturamento_estimado_grupo_DE R$ 81.000,01 A R$ 360.000,00',\n",
       "       'fl_spa', 'fl_antt', 'fl_veiculo', 'fl_optante_simples',\n",
       "       'fl_optante_simei', 'fl_simples_irregular', 'fl_passivel_iss'],\n",
       "      dtype='object', length=423)"
      ]
     },
     "execution_count": 104,
     "metadata": {},
     "output_type": "execute_result"
    }
   ],
   "source": [
    "df_dadosTratados.columns"
   ]
  },
  {
   "cell_type": "markdown",
   "metadata": {},
   "source": [
    "## Salvando o DataFrame numérico num arquivo para facilitar a vida!"
   ]
  },
  {
   "cell_type": "code",
   "execution_count": 105,
   "metadata": {},
   "outputs": [],
   "source": [
    "df_dadosTratados.to_csv('dataframe_completo.csv')"
   ]
  },
  {
   "cell_type": "code",
   "execution_count": null,
   "metadata": {},
   "outputs": [],
   "source": []
  },
  {
   "cell_type": "code",
   "execution_count": null,
   "metadata": {},
   "outputs": [],
   "source": []
  }
 ],
 "metadata": {
  "kernelspec": {
   "display_name": "Python 3",
   "language": "python",
   "name": "python3"
  },
  "language_info": {
   "codemirror_mode": {
    "name": "ipython",
    "version": 3
   },
   "file_extension": ".py",
   "mimetype": "text/x-python",
   "name": "python",
   "nbconvert_exporter": "python",
   "pygments_lexer": "ipython3",
   "version": "3.7.6"
  }
 },
 "nbformat": 4,
 "nbformat_minor": 4
}
