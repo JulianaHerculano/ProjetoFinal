{
 "cells": [
  {
   "cell_type": "markdown",
   "metadata": {},
   "source": [
    "# DESAFIO FINAL!"
   ]
  },
  {
   "cell_type": "code",
   "execution_count": 144,
   "metadata": {},
   "outputs": [],
   "source": [
    "# Importando as Bibliotecas\n",
    "\n",
    "import pandas as pd\n",
    "from pandas_profiling import ProfileReport\n",
    "from sklearn.feature_selection import RFE\n",
    "from sklearn.linear_model import LinearRegression\n",
    "from sklearn.tree import DecisionTreeClassifier\n",
    "from sklearn import svm"
   ]
  },
  {
   "cell_type": "code",
   "execution_count": 145,
   "metadata": {},
   "outputs": [],
   "source": [
    "# Lendo os arquivos\n",
    "csv_market = pd.read_csv('estaticos_market.csv')\n",
    "csv_portfolio1 = pd.read_csv('portfolio1.csv')\n",
    "csv_portfolio2 = pd.read_csv('portfolio2.csv')\n",
    "csv_portfolio3 = pd.read_csv('portfolio3.csv')\n",
    "\n",
    "# Criando DataFrame para cada um dos arquivos\n",
    "df_market = pd.DataFrame(csv_market)\n",
    "df_portfolio1 = pd.DataFrame(csv_portfolio1)\n",
    "df_portfolio2 = pd.DataFrame(csv_portfolio2)\n",
    "df_portfolio3 = pd.DataFrame(csv_portfolio3)"
   ]
  },
  {
   "cell_type": "code",
   "execution_count": 146,
   "metadata": {},
   "outputs": [
    {
     "data": {
      "text/plain": [
       "(462298, 182)"
      ]
     },
     "execution_count": 146,
     "metadata": {},
     "output_type": "execute_result"
    }
   ],
   "source": [
    "df_market.shape"
   ]
  },
  {
   "cell_type": "code",
   "execution_count": 147,
   "metadata": {},
   "outputs": [
    {
     "data": {
      "text/plain": [
       "(555, 182)"
      ]
     },
     "execution_count": 147,
     "metadata": {},
     "output_type": "execute_result"
    }
   ],
   "source": [
    "df_portfolio1.shape"
   ]
  },
  {
   "cell_type": "code",
   "execution_count": 148,
   "metadata": {},
   "outputs": [
    {
     "data": {
      "text/plain": [
       "(566, 2)"
      ]
     },
     "execution_count": 148,
     "metadata": {},
     "output_type": "execute_result"
    }
   ],
   "source": [
    "df_portfolio2.shape"
   ]
  },
  {
   "cell_type": "markdown",
   "metadata": {},
   "source": [
    "### ENTENDENDO OS DADOS"
   ]
  },
  {
   "cell_type": "markdown",
   "metadata": {},
   "source": [
    "### Tratando os Dados: Modo Geral\n",
    "#### > Excluindo as colunas com mais de 70% dados faltantes\n",
    "#### > Pandas Profiling: \n",
    "##### - Verificando as colunas que são correlacionadas entre si e excluindo uma das opções;\n",
    "##### - Excluindo colunas que tem mais de 90% de zeros."
   ]
  },
  {
   "cell_type": "code",
   "execution_count": 149,
   "metadata": {},
   "outputs": [],
   "source": [
    "# Criando DataFrame auxiliar: verificar a consistência dos dados\n",
    "df_market_tamanho = df_market.shape[0]\n",
    "df_market_consistencia = pd.DataFrame({'COLUNAS': df_market.columns, 'TIPOS': df_market.dtypes, 'FALTANTES': df_market.isna().sum(), 'FALTANTES_PERCENTUAL': round(df_market.isna().sum()/df_market_tamanho,2)})"
   ]
  },
  {
   "cell_type": "code",
   "execution_count": 150,
   "metadata": {},
   "outputs": [
    {
     "data": {
      "text/plain": [
       "(462298, 182)"
      ]
     },
     "execution_count": 150,
     "metadata": {},
     "output_type": "execute_result"
    }
   ],
   "source": [
    "df_market.shape"
   ]
  },
  {
   "cell_type": "code",
   "execution_count": 151,
   "metadata": {},
   "outputs": [
    {
     "data": {
      "text/plain": [
       "(265, 2)"
      ]
     },
     "execution_count": 151,
     "metadata": {},
     "output_type": "execute_result"
    }
   ],
   "source": [
    "df_portfolio3.shape"
   ]
  },
  {
   "cell_type": "code",
   "execution_count": 152,
   "metadata": {},
   "outputs": [],
   "source": [
    "# Acrescentando uma coluna no DataFrame para informar se algum atrituto tem mais de 70% de dados faltantes\n",
    "df_market_consistencia['TemMaisDe70%Faltantes'] = ['sim' if x > 0.7 else 'nao' for x in df_market_consistencia['FALTANTES_PERCENTUAL']]"
   ]
  },
  {
   "cell_type": "code",
   "execution_count": 153,
   "metadata": {},
   "outputs": [
    {
     "data": {
      "text/html": [
       "<div>\n",
       "<style scoped>\n",
       "    .dataframe tbody tr th:only-of-type {\n",
       "        vertical-align: middle;\n",
       "    }\n",
       "\n",
       "    .dataframe tbody tr th {\n",
       "        vertical-align: top;\n",
       "    }\n",
       "\n",
       "    .dataframe thead th {\n",
       "        text-align: right;\n",
       "    }\n",
       "</style>\n",
       "<table border=\"1\" class=\"dataframe\">\n",
       "  <thead>\n",
       "    <tr style=\"text-align: right;\">\n",
       "      <th></th>\n",
       "      <th>COLUNAS</th>\n",
       "      <th>TIPOS</th>\n",
       "      <th>FALTANTES</th>\n",
       "      <th>FALTANTES_PERCENTUAL</th>\n",
       "      <th>TemMaisDe70%Faltantes</th>\n",
       "    </tr>\n",
       "  </thead>\n",
       "  <tbody>\n",
       "    <tr>\n",
       "      <th>Unnamed: 0</th>\n",
       "      <td>Unnamed: 0</td>\n",
       "      <td>int64</td>\n",
       "      <td>0</td>\n",
       "      <td>0.0</td>\n",
       "      <td>nao</td>\n",
       "    </tr>\n",
       "    <tr>\n",
       "      <th>id</th>\n",
       "      <td>id</td>\n",
       "      <td>object</td>\n",
       "      <td>0</td>\n",
       "      <td>0.0</td>\n",
       "      <td>nao</td>\n",
       "    </tr>\n",
       "    <tr>\n",
       "      <th>fl_matriz</th>\n",
       "      <td>fl_matriz</td>\n",
       "      <td>bool</td>\n",
       "      <td>0</td>\n",
       "      <td>0.0</td>\n",
       "      <td>nao</td>\n",
       "    </tr>\n",
       "    <tr>\n",
       "      <th>de_natureza_juridica</th>\n",
       "      <td>de_natureza_juridica</td>\n",
       "      <td>object</td>\n",
       "      <td>0</td>\n",
       "      <td>0.0</td>\n",
       "      <td>nao</td>\n",
       "    </tr>\n",
       "    <tr>\n",
       "      <th>sg_uf</th>\n",
       "      <td>sg_uf</td>\n",
       "      <td>object</td>\n",
       "      <td>0</td>\n",
       "      <td>0.0</td>\n",
       "      <td>nao</td>\n",
       "    </tr>\n",
       "  </tbody>\n",
       "</table>\n",
       "</div>"
      ],
      "text/plain": [
       "                                   COLUNAS   TIPOS  FALTANTES  \\\n",
       "Unnamed: 0                      Unnamed: 0   int64          0   \n",
       "id                                      id  object          0   \n",
       "fl_matriz                        fl_matriz    bool          0   \n",
       "de_natureza_juridica  de_natureza_juridica  object          0   \n",
       "sg_uf                                sg_uf  object          0   \n",
       "\n",
       "                      FALTANTES_PERCENTUAL TemMaisDe70%Faltantes  \n",
       "Unnamed: 0                             0.0                   nao  \n",
       "id                                     0.0                   nao  \n",
       "fl_matriz                              0.0                   nao  \n",
       "de_natureza_juridica                   0.0                   nao  \n",
       "sg_uf                                  0.0                   nao  "
      ]
     },
     "execution_count": 153,
     "metadata": {},
     "output_type": "execute_result"
    }
   ],
   "source": [
    "df_market_consistencia.head()"
   ]
  },
  {
   "cell_type": "code",
   "execution_count": 154,
   "metadata": {},
   "outputs": [],
   "source": [
    "# Excluindo as colunas que tem mais de 70% de dados faltantes\n",
    "manter_semFaltantes = list(df_market_consistencia[df_market_consistencia['TemMaisDe70%Faltantes'] == 'nao']['COLUNAS'])\n",
    "df_market = df_market[manter_semFaltantes]"
   ]
  },
  {
   "cell_type": "code",
   "execution_count": 155,
   "metadata": {},
   "outputs": [
    {
     "data": {
      "text/plain": [
       "(462298, 53)"
      ]
     },
     "execution_count": 155,
     "metadata": {},
     "output_type": "execute_result"
    }
   ],
   "source": [
    "# Verificando quantas colunas excluimos\n",
    "# Descartamos 129 variáveis!\n",
    "df_market.shape"
   ]
  },
  {
   "cell_type": "code",
   "execution_count": 156,
   "metadata": {},
   "outputs": [
    {
     "data": {
      "text/plain": [
       "object     26\n",
       "float64    16\n",
       "bool        9\n",
       "int64       2\n",
       "dtype: int64"
      ]
     },
     "execution_count": 156,
     "metadata": {},
     "output_type": "execute_result"
    }
   ],
   "source": [
    "df_market.dtypes.value_counts()"
   ]
  },
  {
   "cell_type": "code",
   "execution_count": 157,
   "metadata": {},
   "outputs": [],
   "source": [
    "#profile = ProfileReport(df_market, title=\"Pandas Profiling Report\", html={'style':{'full_width':True}})"
   ]
  },
  {
   "cell_type": "code",
   "execution_count": 158,
   "metadata": {
    "scrolled": false
   },
   "outputs": [],
   "source": [
    "#profile.to_notebook_iframe()"
   ]
  },
  {
   "cell_type": "code",
   "execution_count": 159,
   "metadata": {},
   "outputs": [],
   "source": [
    "#profile.to_file(\"report_sem_70_faltantes.html\")"
   ]
  },
  {
   "cell_type": "code",
   "execution_count": 160,
   "metadata": {},
   "outputs": [],
   "source": [
    "# Selecionando e excluindo colunas com as seguintes caracteristicas:\n",
    "# constantes, com mais de 90% de valor 'zero' e mais de 50% de dados faltantes\n",
    "lista_excluir_consEzerosE50faltantes = ['fl_epp', 'vl_total_veiculos_pesados_grupo', 'vl_total_veiculos_leves_grupo', 'qt_socios_pj', 'qt_filiais', 'qt_socios_feminino', 'qt_socios_masculino']\n",
    "df_market.drop(columns = lista_excluir_consEzerosE50faltantes, inplace=True)"
   ]
  },
  {
   "cell_type": "code",
   "execution_count": 161,
   "metadata": {},
   "outputs": [
    {
     "data": {
      "text/plain": [
       "(462298, 46)"
      ]
     },
     "execution_count": 161,
     "metadata": {},
     "output_type": "execute_result"
    }
   ],
   "source": [
    "# Fomos de 53 para 46 atributos\n",
    "df_market.shape"
   ]
  },
  {
   "cell_type": "code",
   "execution_count": 162,
   "metadata": {},
   "outputs": [],
   "source": [
    "# VERIFICAR: \n",
    "# idade_maxima_socios  <---> idade_media_socios (> idade_minima_socios > ?)\n",
    "# idade_minima_socios   ---> idade_media_socios\n",
    "# PENSAR: Qual excluir?"
   ]
  },
  {
   "cell_type": "code",
   "execution_count": 163,
   "metadata": {},
   "outputs": [
    {
     "data": {
      "text/html": [
       "<div>\n",
       "<style scoped>\n",
       "    .dataframe tbody tr th:only-of-type {\n",
       "        vertical-align: middle;\n",
       "    }\n",
       "\n",
       "    .dataframe tbody tr th {\n",
       "        vertical-align: top;\n",
       "    }\n",
       "\n",
       "    .dataframe thead th {\n",
       "        text-align: right;\n",
       "    }\n",
       "</style>\n",
       "<table border=\"1\" class=\"dataframe\">\n",
       "  <thead>\n",
       "    <tr style=\"text-align: right;\">\n",
       "      <th></th>\n",
       "      <th>idade_media_socios</th>\n",
       "      <th>idade_maxima_socios</th>\n",
       "      <th>idade_minima_socios</th>\n",
       "    </tr>\n",
       "  </thead>\n",
       "  <tbody>\n",
       "    <tr>\n",
       "      <th>0</th>\n",
       "      <td>44.0</td>\n",
       "      <td>47.0</td>\n",
       "      <td>41.0</td>\n",
       "    </tr>\n",
       "    <tr>\n",
       "      <th>1</th>\n",
       "      <td>27.0</td>\n",
       "      <td>27.0</td>\n",
       "      <td>27.0</td>\n",
       "    </tr>\n",
       "    <tr>\n",
       "      <th>2</th>\n",
       "      <td>32.0</td>\n",
       "      <td>32.0</td>\n",
       "      <td>32.0</td>\n",
       "    </tr>\n",
       "    <tr>\n",
       "      <th>3</th>\n",
       "      <td>36.0</td>\n",
       "      <td>36.0</td>\n",
       "      <td>36.0</td>\n",
       "    </tr>\n",
       "    <tr>\n",
       "      <th>4</th>\n",
       "      <td>NaN</td>\n",
       "      <td>NaN</td>\n",
       "      <td>NaN</td>\n",
       "    </tr>\n",
       "  </tbody>\n",
       "</table>\n",
       "</div>"
      ],
      "text/plain": [
       "   idade_media_socios  idade_maxima_socios  idade_minima_socios\n",
       "0                44.0                 47.0                 41.0\n",
       "1                27.0                 27.0                 27.0\n",
       "2                32.0                 32.0                 32.0\n",
       "3                36.0                 36.0                 36.0\n",
       "4                 NaN                  NaN                  NaN"
      ]
     },
     "execution_count": 163,
     "metadata": {},
     "output_type": "execute_result"
    }
   ],
   "source": [
    "df_market[['idade_media_socios', 'idade_maxima_socios', 'idade_minima_socios']].head()"
   ]
  },
  {
   "cell_type": "code",
   "execution_count": 164,
   "metadata": {},
   "outputs": [
    {
     "name": "stdout",
     "output_type": "stream",
     "text": [
      "UNICOS: media [44.         27.         32.         ... 60.71428571 74.83333333\n",
      " 43.55555556]\n",
      "UNICOS: min [ 41.  27.  32.  36.  nan  63.  40.  52.  62.  47.  34.  55.  64.  24.\n",
      "  45.  26.  23.  37.  44.  25.  68.  66.  28.  30.  33.  65.  35.  46.\n",
      "  48.  31.  43.  84.  42.  53.  29.  49.  54.  59.  57.  38.  22.  75.\n",
      "  19.  51.  58.  56.  39.  21.  60.  83.  85.  50.  86.  18.  69.  79.\n",
      "  74.  61.  20.  70.  87.  72.  78.  77.  11.  76.  71.  17.  73.  67.\n",
      "  15. 104.  81.  80.  92.   8.  88.  12.  96.  94.  82.  90.  93.  16.\n",
      "  10. 110.  13.  91.  89.  14.   2.   7. 106.  97.  99.   5. 100.  98.\n",
      "   4.   6.   9. 121. 108.  95. 102. 103. 117. 127. 101.   3. 105. 111.\n",
      "  -2. 109. 112.]\n",
      "UNICOS: max [ 47.  27.  32.  36.  nan  63.  40.  52.  62.  34.  55.  64.  24.  45.\n",
      "  26.  48.  23.  37.  73.  75.  25.  41.  68.  66.  28.  30.  33.  65.\n",
      "  35.  46.  44.  61.  31.  43.  84.  54.  67.  42.  57.  29.  49.  60.\n",
      "  59.  38.  19.  53.  56.  71.  39.  21.  51.  72.  83.  58.  50.  85.\n",
      "  74.  22.  86.  18.  78.  69.  79.  20.  80.  70.  87.  76.  82.  96.\n",
      "  77.  90.  81.  89.  88.  93. 104.  92.  94.  97. 118.  17.  91. 110.\n",
      "  16.   8.  13. 106.  99.   5. 100. 101.  98.   6.   9.  14.  10.  95.\n",
      " 121.  15.  12.  11. 108. 117. 102. 103.   7. 127.   4. 125. 111. 105.\n",
      " 123. 107. 109.  -2.   3. 120. 112.]\n"
     ]
    }
   ],
   "source": [
    "print('UNICOS: media',df_market['idade_media_socios'].unique())\n",
    "print('UNICOS: min',df_market['idade_minima_socios'].unique())\n",
    "print('UNICOS: max',df_market['idade_maxima_socios'].unique())"
   ]
  },
  {
   "cell_type": "code",
   "execution_count": 165,
   "metadata": {},
   "outputs": [],
   "source": [
    "# VERIFICAR: CORRELAÇÃO\n",
    "# idade_maxima_socios  <---> idade_media_socios (> idade_minima_socios > ?)\n",
    "# idade_minima_socios   ---> idade_media_socios\n",
    "# PENSAR: Qual excluir?\n",
    "# DECISÃO: Excluir (idade_maxima_socios, idade_minima_socios)\n",
    "\n",
    "lista_excluir_corr_idade = ['idade_maxima_socios', 'idade_minima_socios']\n",
    "df_market.drop(columns = lista_excluir_corr_idade, inplace=True)"
   ]
  },
  {
   "cell_type": "code",
   "execution_count": 166,
   "metadata": {},
   "outputs": [
    {
     "data": {
      "text/plain": [
       "(462298, 44)"
      ]
     },
     "execution_count": 166,
     "metadata": {},
     "output_type": "execute_result"
    }
   ],
   "source": [
    "# Fomos de 46 para 44 colunas!\n",
    "df_market.shape"
   ]
  },
  {
   "cell_type": "code",
   "execution_count": 167,
   "metadata": {},
   "outputs": [],
   "source": [
    "# VERIFICAR: CORRELAÇÃO\n",
    "# sg_uf_matriz <---> sg_uf (mais 2 correlações)\n",
    "# DECISÃO: excluir \"sg_uf_matriz\"\n",
    "lista_excluir_corr_UF = ['sg_uf_matriz']\n",
    "df_market.drop(columns = lista_excluir_corr_UF, inplace=True)"
   ]
  },
  {
   "cell_type": "code",
   "execution_count": 168,
   "metadata": {},
   "outputs": [
    {
     "data": {
      "text/plain": [
       "(462298, 43)"
      ]
     },
     "execution_count": 168,
     "metadata": {},
     "output_type": "execute_result"
    }
   ],
   "source": [
    "# Fomos de 44 para 43!\n",
    "df_market.shape"
   ]
  },
  {
   "cell_type": "code",
   "execution_count": 169,
   "metadata": {},
   "outputs": [],
   "source": [
    "df_correlacao = df_market.corr(method='pearson')"
   ]
  },
  {
   "cell_type": "code",
   "execution_count": 170,
   "metadata": {},
   "outputs": [
    {
     "data": {
      "text/plain": [
       "Unnamed: 0                               0.002565\n",
       "fl_matriz                               -0.230071\n",
       "idade_empresa_anos                       0.105316\n",
       "fl_me                                   -0.002700\n",
       "fl_sa                                    0.342961\n",
       "fl_mei                                  -0.148889\n",
       "fl_ltda                                  0.031683\n",
       "fl_st_especial                           0.000919\n",
       "fl_email                                -0.023276\n",
       "fl_telefone                             -0.042685\n",
       "nu_meses_rescencia                       0.017897\n",
       "empsetorcensitariofaixarendapopulacao    0.044481\n",
       "qt_socios                                0.986359\n",
       "qt_socios_pf                             0.988362\n",
       "idade_media_socios                       0.066835\n",
       "qt_socios_st_regular                     1.000000\n",
       "vl_faturamento_estimado_aux              0.033405\n",
       "vl_faturamento_estimado_grupo_aux        0.807327\n",
       "Name: qt_socios_st_regular, dtype: float64"
      ]
     },
     "execution_count": 170,
     "metadata": {},
     "output_type": "execute_result"
    }
   ],
   "source": [
    "# VERIFICAR: CORRELAÇÃO\n",
    "# Resultado: altamente correlacionados: qt_socios, qt_socios_st_regular, qt_socios_pf\n",
    "# Como: (method='pearson')\n",
    "# DECISÃO: excluir: qt_socios_st_regular, qt_socios_pf\n",
    "df_correlacao = df_market.corr(method='pearson')\n",
    "df_correlacao['qt_socios_st_regular']\n"
   ]
  },
  {
   "cell_type": "code",
   "execution_count": 171,
   "metadata": {},
   "outputs": [],
   "source": [
    "# VERIFICAR: CORRELAÇÃO\n",
    "# Resultado: altamente correlacionados: qt_socios, qt_socios_st_regular, qt_socios_pf\n",
    "# Como:\n",
    "# DECISÃO: excluir: qt_socios_st_regular, qt_socios_pf\n",
    "# Executando a decisão:\n",
    "lista_excluir_corr_socios = ['qt_socios_st_regular', 'qt_socios_pf']\n",
    "df_market.drop(columns = lista_excluir_corr_socios, inplace=True)"
   ]
  },
  {
   "cell_type": "code",
   "execution_count": 172,
   "metadata": {},
   "outputs": [
    {
     "data": {
      "text/plain": [
       "(462298, 41)"
      ]
     },
     "execution_count": 172,
     "metadata": {},
     "output_type": "execute_result"
    }
   ],
   "source": [
    "# Fomos de 43 colunas para 41\n",
    "df_market.shape"
   ]
  },
  {
   "cell_type": "code",
   "execution_count": 173,
   "metadata": {},
   "outputs": [
    {
     "data": {
      "text/plain": [
       "(462298, 40)"
      ]
     },
     "execution_count": 173,
     "metadata": {},
     "output_type": "execute_result"
    }
   ],
   "source": [
    "df_market.drop(columns = 'dt_situacao', inplace = True)\n",
    "df_market.shape"
   ]
  },
  {
   "cell_type": "code",
   "execution_count": 174,
   "metadata": {},
   "outputs": [
    {
     "data": {
      "text/plain": [
       "Unnamed: 0                                    0\n",
       "id                                            0\n",
       "fl_matriz                                     0\n",
       "de_natureza_juridica                          0\n",
       "sg_uf                                         0\n",
       "natureza_juridica_macro                       0\n",
       "de_ramo                                       0\n",
       "setor                                      1927\n",
       "idade_empresa_anos                            0\n",
       "idade_emp_cat                                 0\n",
       "fl_me                                         0\n",
       "fl_sa                                         0\n",
       "fl_mei                                        0\n",
       "fl_ltda                                       0\n",
       "fl_st_especial                                0\n",
       "fl_email                                      0\n",
       "fl_telefone                                   0\n",
       "fl_rm                                         0\n",
       "nm_divisao                                 1927\n",
       "nm_segmento                                1927\n",
       "fl_spa                                     1927\n",
       "fl_antt                                    1927\n",
       "fl_veiculo                                 1927\n",
       "fl_optante_simples                        82713\n",
       "fl_optante_simei                          82713\n",
       "de_saude_tributaria                       14851\n",
       "de_saude_rescencia                        14851\n",
       "nu_meses_rescencia                        45276\n",
       "de_nivel_atividade                        11168\n",
       "fl_simples_irregular                       1927\n",
       "empsetorcensitariofaixarendapopulacao    143829\n",
       "nm_meso_regiao                            58698\n",
       "nm_micro_regiao                           58698\n",
       "fl_passivel_iss                            1927\n",
       "qt_socios                                115091\n",
       "idade_media_socios                       151602\n",
       "de_faixa_faturamento_estimado             27513\n",
       "de_faixa_faturamento_estimado_grupo       27513\n",
       "vl_faturamento_estimado_aux               27513\n",
       "vl_faturamento_estimado_grupo_aux         27513\n",
       "dtype: int64"
      ]
     },
     "execution_count": 174,
     "metadata": {},
     "output_type": "execute_result"
    }
   ],
   "source": [
    "df_market.isna().sum()"
   ]
  },
  {
   "cell_type": "code",
   "execution_count": 175,
   "metadata": {},
   "outputs": [],
   "source": [
    "# Anotações do Pandas Profiling : o que fazer considerando os dados faltantes obervados acima!\n",
    "# OBS: o que esta entre parenteses é a quantidade de dados faltantes!\n",
    "# setor (1927) <---> de_ramo (0) : excluir a coluna \"setor\"\n",
    "# nm_meso_regiao (58698) ---> sg_uf (0) : excluir coluna \"nm_meso_regiao\"\n",
    "# nm_micro_regiao(58698) ---> sg_uf (0) : excluir coluna \"nm_micro_regiao\"\n",
    "# fl_rm (0) ---> nm_micro_regiao : ok\n",
    "# natureza_juridica_macro(0) <---> de_natureza_juridica(0) : ok (por enquanto nada)\n",
    "lista_excluir_OBJ = ['setor', 'nm_meso_regiao', 'nm_micro_regiao' ]"
   ]
  },
  {
   "cell_type": "code",
   "execution_count": 176,
   "metadata": {},
   "outputs": [],
   "source": [
    "# Excluindo o que foi definido acima!\n",
    "df_market.drop(columns = lista_excluir_OBJ, inplace = True)"
   ]
  },
  {
   "cell_type": "code",
   "execution_count": 177,
   "metadata": {},
   "outputs": [
    {
     "data": {
      "text/plain": [
       "(462298, 37)"
      ]
     },
     "execution_count": 177,
     "metadata": {},
     "output_type": "execute_result"
    }
   ],
   "source": [
    "df_market.shape"
   ]
  },
  {
   "cell_type": "code",
   "execution_count": 178,
   "metadata": {},
   "outputs": [],
   "source": [
    "# Analisando os dados unicos das colunas \"que sobraram\"\n",
    "# Resultado: Excluir as seguintes colunas:\n",
    "lista_excluir_unicosEmuitos = ['fl_me', 'fl_st_especial', 'qt_socios', 'empsetorcensitariofaixarendapopulacao', 'idade_media_socios', 'de_faixa_faturamento_estimado', 'vl_faturamento_estimado_grupo_aux','fl_spa', 'fl_antt', 'fl_veiculo', 'fl_simples_irregular', 'fl_passivel_iss', 'fl_optante_simei']\n",
    "df_market.drop(columns = lista_excluir_unicosEmuitos, inplace = True)\n"
   ]
  },
  {
   "cell_type": "code",
   "execution_count": 179,
   "metadata": {},
   "outputs": [
    {
     "data": {
      "text/plain": [
       "(462298, 24)"
      ]
     },
     "execution_count": 179,
     "metadata": {},
     "output_type": "execute_result"
    }
   ],
   "source": [
    "# Verificando a quantidade de colunas \"que sobrou\"\n",
    "# Resultado: diminuir bastante! de 37 para 21\n",
    "df_market.shape"
   ]
  },
  {
   "cell_type": "code",
   "execution_count": 180,
   "metadata": {},
   "outputs": [
    {
     "data": {
      "text/plain": [
       "Unnamed: 0                                 0\n",
       "id                                         0\n",
       "fl_matriz                                  0\n",
       "de_natureza_juridica                       0\n",
       "sg_uf                                      0\n",
       "natureza_juridica_macro                    0\n",
       "de_ramo                                    0\n",
       "idade_empresa_anos                         0\n",
       "idade_emp_cat                              0\n",
       "fl_sa                                      0\n",
       "fl_mei                                     0\n",
       "fl_ltda                                    0\n",
       "fl_email                                   0\n",
       "fl_telefone                                0\n",
       "fl_rm                                      0\n",
       "nm_divisao                              1927\n",
       "nm_segmento                             1927\n",
       "fl_optante_simples                     82713\n",
       "de_saude_tributaria                    14851\n",
       "de_saude_rescencia                     14851\n",
       "nu_meses_rescencia                     45276\n",
       "de_nivel_atividade                     11168\n",
       "de_faixa_faturamento_estimado_grupo    27513\n",
       "vl_faturamento_estimado_aux            27513\n",
       "dtype: int64"
      ]
     },
     "execution_count": 180,
     "metadata": {},
     "output_type": "execute_result"
    }
   ],
   "source": [
    "# Verificando a quantidade de dados faltantes de cada columa\n",
    "# Resultado: temos algumas colunas com dados faltantes! Precisamos imputar dados.\n",
    "df_market.isna().sum()"
   ]
  },
  {
   "cell_type": "markdown",
   "metadata": {},
   "source": [
    "### SEPARANDO AS COLUNAS POR TIPOS!"
   ]
  },
  {
   "cell_type": "code",
   "execution_count": 181,
   "metadata": {},
   "outputs": [
    {
     "data": {
      "text/plain": [
       "array([dtype('int64'), dtype('O'), dtype('bool'), dtype('float64')],\n",
       "      dtype=object)"
      ]
     },
     "execution_count": 181,
     "metadata": {},
     "output_type": "execute_result"
    }
   ],
   "source": [
    "# Verificando os tipos dos dados presente neste DataFrame\n",
    "df_market.dtypes.unique()"
   ]
  },
  {
   "cell_type": "code",
   "execution_count": 182,
   "metadata": {},
   "outputs": [
    {
     "data": {
      "text/html": [
       "<div>\n",
       "<style scoped>\n",
       "    .dataframe tbody tr th:only-of-type {\n",
       "        vertical-align: middle;\n",
       "    }\n",
       "\n",
       "    .dataframe tbody tr th {\n",
       "        vertical-align: top;\n",
       "    }\n",
       "\n",
       "    .dataframe thead th {\n",
       "        text-align: right;\n",
       "    }\n",
       "</style>\n",
       "<table border=\"1\" class=\"dataframe\">\n",
       "  <thead>\n",
       "    <tr style=\"text-align: right;\">\n",
       "      <th></th>\n",
       "      <th>colunas</th>\n",
       "      <th>tipos</th>\n",
       "    </tr>\n",
       "  </thead>\n",
       "  <tbody>\n",
       "    <tr>\n",
       "      <th>Unnamed: 0</th>\n",
       "      <td>Unnamed: 0</td>\n",
       "      <td>int64</td>\n",
       "    </tr>\n",
       "    <tr>\n",
       "      <th>id</th>\n",
       "      <td>id</td>\n",
       "      <td>object</td>\n",
       "    </tr>\n",
       "    <tr>\n",
       "      <th>fl_matriz</th>\n",
       "      <td>fl_matriz</td>\n",
       "      <td>bool</td>\n",
       "    </tr>\n",
       "    <tr>\n",
       "      <th>de_natureza_juridica</th>\n",
       "      <td>de_natureza_juridica</td>\n",
       "      <td>object</td>\n",
       "    </tr>\n",
       "    <tr>\n",
       "      <th>sg_uf</th>\n",
       "      <td>sg_uf</td>\n",
       "      <td>object</td>\n",
       "    </tr>\n",
       "  </tbody>\n",
       "</table>\n",
       "</div>"
      ],
      "text/plain": [
       "                                   colunas   tipos\n",
       "Unnamed: 0                      Unnamed: 0   int64\n",
       "id                                      id  object\n",
       "fl_matriz                        fl_matriz    bool\n",
       "de_natureza_juridica  de_natureza_juridica  object\n",
       "sg_uf                                sg_uf  object"
      ]
     },
     "execution_count": 182,
     "metadata": {},
     "output_type": "execute_result"
    }
   ],
   "source": [
    "df_market_tipos_aux = pd.DataFrame({'colunas': df_market.columns, 'tipos':df_market.dtypes})\n",
    "df_market_tipos_aux.head()"
   ]
  },
  {
   "cell_type": "code",
   "execution_count": 183,
   "metadata": {},
   "outputs": [],
   "source": [
    "# Separando os tipos em listas!\n",
    "lista_dadosNumericos = list(df_market_tipos_aux[(df_market_tipos_aux['tipos'] == 'int64') | (df_market_tipos_aux['tipos'] == 'float64')]['colunas'])\n",
    "lista_dadosBool = list(df_market_tipos_aux[(df_market_tipos_aux['tipos'] == 'bool')]['colunas'])\n",
    "lista_dadosObject = list(df_market_tipos_aux[(df_market_tipos_aux['tipos'] == 'object')]['colunas'])"
   ]
  },
  {
   "cell_type": "code",
   "execution_count": 184,
   "metadata": {},
   "outputs": [],
   "source": [
    "# Criando DataFrames de acordo com as listas acima!\n",
    "df_market_dadosNumericos = df_market[lista_dadosNumericos]\n",
    "df_market_dadosBool = df_market[lista_dadosBool]\n",
    "df_market_dadosObject = df_market[lista_dadosObject]\n",
    "\n",
    "# (df_market_todoNumerico)! É o DataFrame todo numérico para conseguirmos trabalhar!"
   ]
  },
  {
   "cell_type": "code",
   "execution_count": 185,
   "metadata": {},
   "outputs": [
    {
     "data": {
      "text/plain": [
       "Index(['id', 'de_natureza_juridica', 'sg_uf', 'natureza_juridica_macro',\n",
       "       'de_ramo', 'idade_emp_cat', 'fl_rm', 'nm_divisao', 'nm_segmento',\n",
       "       'fl_optante_simples', 'de_saude_tributaria', 'de_saude_rescencia',\n",
       "       'de_nivel_atividade', 'de_faixa_faturamento_estimado_grupo'],\n",
       "      dtype='object')"
      ]
     },
     "execution_count": 185,
     "metadata": {},
     "output_type": "execute_result"
    }
   ],
   "source": [
    "df_market_dadosObject.columns"
   ]
  },
  {
   "cell_type": "markdown",
   "metadata": {},
   "source": [
    "### Trabalhando com DADOS \"bool\""
   ]
  },
  {
   "cell_type": "code",
   "execution_count": 186,
   "metadata": {},
   "outputs": [
    {
     "data": {
      "text/html": [
       "<div>\n",
       "<style scoped>\n",
       "    .dataframe tbody tr th:only-of-type {\n",
       "        vertical-align: middle;\n",
       "    }\n",
       "\n",
       "    .dataframe tbody tr th {\n",
       "        vertical-align: top;\n",
       "    }\n",
       "\n",
       "    .dataframe thead th {\n",
       "        text-align: right;\n",
       "    }\n",
       "</style>\n",
       "<table border=\"1\" class=\"dataframe\">\n",
       "  <thead>\n",
       "    <tr style=\"text-align: right;\">\n",
       "      <th></th>\n",
       "      <th>fl_matriz</th>\n",
       "      <th>fl_sa</th>\n",
       "      <th>fl_mei</th>\n",
       "      <th>fl_ltda</th>\n",
       "      <th>fl_email</th>\n",
       "      <th>fl_telefone</th>\n",
       "    </tr>\n",
       "  </thead>\n",
       "  <tbody>\n",
       "    <tr>\n",
       "      <th>0</th>\n",
       "      <td>1</td>\n",
       "      <td>0</td>\n",
       "      <td>0</td>\n",
       "      <td>0</td>\n",
       "      <td>1</td>\n",
       "      <td>1</td>\n",
       "    </tr>\n",
       "    <tr>\n",
       "      <th>1</th>\n",
       "      <td>1</td>\n",
       "      <td>0</td>\n",
       "      <td>1</td>\n",
       "      <td>0</td>\n",
       "      <td>1</td>\n",
       "      <td>1</td>\n",
       "    </tr>\n",
       "    <tr>\n",
       "      <th>2</th>\n",
       "      <td>1</td>\n",
       "      <td>0</td>\n",
       "      <td>1</td>\n",
       "      <td>0</td>\n",
       "      <td>0</td>\n",
       "      <td>1</td>\n",
       "    </tr>\n",
       "    <tr>\n",
       "      <th>3</th>\n",
       "      <td>1</td>\n",
       "      <td>0</td>\n",
       "      <td>0</td>\n",
       "      <td>0</td>\n",
       "      <td>1</td>\n",
       "      <td>1</td>\n",
       "    </tr>\n",
       "    <tr>\n",
       "      <th>4</th>\n",
       "      <td>1</td>\n",
       "      <td>0</td>\n",
       "      <td>0</td>\n",
       "      <td>0</td>\n",
       "      <td>1</td>\n",
       "      <td>1</td>\n",
       "    </tr>\n",
       "  </tbody>\n",
       "</table>\n",
       "</div>"
      ],
      "text/plain": [
       "   fl_matriz  fl_sa  fl_mei  fl_ltda  fl_email  fl_telefone\n",
       "0          1      0       0        0         1            1\n",
       "1          1      0       1        0         1            1\n",
       "2          1      0       1        0         0            1\n",
       "3          1      0       0        0         1            1\n",
       "4          1      0       0        0         1            1"
      ]
     },
     "execution_count": 186,
     "metadata": {},
     "output_type": "execute_result"
    }
   ],
   "source": [
    "# Transformando os dados \"bool\" em \"int\"\n",
    "df_market_dadosBool_transformado = df_market_dadosBool.astype(int)\n",
    "df_market_dadosBool_transformado.head()"
   ]
  },
  {
   "cell_type": "code",
   "execution_count": 187,
   "metadata": {},
   "outputs": [],
   "source": [
    "# Adicionando (df_market_dadosBool_transformado) ao (df_market_todoNumerico)\n",
    "df_market_todoNumerico = df_market_dadosBool_transformado"
   ]
  },
  {
   "cell_type": "code",
   "execution_count": 188,
   "metadata": {},
   "outputs": [
    {
     "data": {
      "text/plain": [
       "(462298, 6)"
      ]
     },
     "execution_count": 188,
     "metadata": {},
     "output_type": "execute_result"
    }
   ],
   "source": [
    "# Verificando se o (df_market_dadosBool_transformado) foi adicionado corretamente em (df_market_todoNumerico)\n",
    "df_market_todoNumerico.shape"
   ]
  },
  {
   "cell_type": "code",
   "execution_count": 189,
   "metadata": {},
   "outputs": [
    {
     "data": {
      "text/plain": [
       "fl_matriz      0\n",
       "fl_sa          0\n",
       "fl_mei         0\n",
       "fl_ltda        0\n",
       "fl_email       0\n",
       "fl_telefone    0\n",
       "dtype: int64"
      ]
     },
     "execution_count": 189,
     "metadata": {},
     "output_type": "execute_result"
    }
   ],
   "source": [
    "# Verificando a quantidade de dados faltantes no (df_market_todoNumerico). Continua zerado. ÓTIMO!\n",
    "df_market_todoNumerico.isna().sum()"
   ]
  },
  {
   "cell_type": "markdown",
   "metadata": {},
   "source": [
    "### Trabalhando com DADOS NUMÉRICOS : \"int64\"e \"float64\""
   ]
  },
  {
   "cell_type": "code",
   "execution_count": 190,
   "metadata": {},
   "outputs": [
    {
     "data": {
      "text/plain": [
       "Index(['fl_matriz', 'fl_sa', 'fl_mei', 'fl_ltda', 'fl_email', 'fl_telefone'], dtype='object')"
      ]
     },
     "execution_count": 190,
     "metadata": {},
     "output_type": "execute_result"
    }
   ],
   "source": [
    "df_market_todoNumerico.columns"
   ]
  },
  {
   "cell_type": "code",
   "execution_count": 191,
   "metadata": {},
   "outputs": [
    {
     "data": {
      "text/plain": [
       "Unnamed: 0                         0\n",
       "idade_empresa_anos                 0\n",
       "nu_meses_rescencia             45276\n",
       "vl_faturamento_estimado_aux    27513\n",
       "dtype: int64"
      ]
     },
     "execution_count": 191,
     "metadata": {},
     "output_type": "execute_result"
    }
   ],
   "source": [
    "df_market_dadosNumericos.isna().sum()"
   ]
  },
  {
   "cell_type": "code",
   "execution_count": 192,
   "metadata": {},
   "outputs": [],
   "source": [
    "# Substituindo todos os dados numéricos faltantes por \"999999999\"\n",
    "# Dessa forma vamos conseguir usar algum algoritmo de classificacao e mesmo assim vamos saber que é NaN\n",
    "df_market_dadosNumericos = df_market_dadosNumericos.fillna(999999999)"
   ]
  },
  {
   "cell_type": "code",
   "execution_count": 193,
   "metadata": {},
   "outputs": [
    {
     "data": {
      "text/plain": [
       "Unnamed: 0                     0\n",
       "idade_empresa_anos             0\n",
       "nu_meses_rescencia             0\n",
       "vl_faturamento_estimado_aux    0\n",
       "dtype: int64"
      ]
     },
     "execution_count": 193,
     "metadata": {},
     "output_type": "execute_result"
    }
   ],
   "source": [
    "# Testando para ver se funcionou.\n",
    "# Verificando a quantidade de dados faltantes nas colunas numéricas. Total = 0, uhuuuL\n",
    "df_market_dadosNumericos.isna().sum()"
   ]
  },
  {
   "cell_type": "code",
   "execution_count": 194,
   "metadata": {},
   "outputs": [],
   "source": [
    "# Adicionando (df_market_dadosNumericos) ao (df_market_todoNumerico)\n",
    "df_market_todoNumerico = df_market_todoNumerico.join(df_market_dadosNumericos)"
   ]
  },
  {
   "cell_type": "code",
   "execution_count": 195,
   "metadata": {},
   "outputs": [
    {
     "data": {
      "text/plain": [
       "(462298, 10)"
      ]
     },
     "execution_count": 195,
     "metadata": {},
     "output_type": "execute_result"
    }
   ],
   "source": [
    "# Verificando o número de linhas e colunas no DataFrame (df_market_todoNumerico)\n",
    "df_market_todoNumerico.shape"
   ]
  },
  {
   "cell_type": "markdown",
   "metadata": {},
   "source": [
    "### >>> IMPUTANDO VALORES: 'int64' e 'float64' <<<"
   ]
  },
  {
   "cell_type": "code",
   "execution_count": 196,
   "metadata": {},
   "outputs": [],
   "source": [
    "from sklearn.linear_model import LinearRegression"
   ]
  },
  {
   "cell_type": "code",
   "execution_count": 197,
   "metadata": {},
   "outputs": [],
   "source": [
    "reg = LinearRegression()"
   ]
  },
  {
   "cell_type": "markdown",
   "metadata": {},
   "source": [
    "### Coluna: nu_meses_rescencia"
   ]
  },
  {
   "cell_type": "code",
   "execution_count": 198,
   "metadata": {},
   "outputs": [],
   "source": [
    "df_market_TN_treino = df_market_todoNumerico[df_market_todoNumerico['nu_meses_rescencia'] != 999999999]\n",
    "df_market_TN_teste = df_market_todoNumerico[df_market_todoNumerico['nu_meses_rescencia'] == 999999999]"
   ]
  },
  {
   "cell_type": "code",
   "execution_count": 199,
   "metadata": {},
   "outputs": [],
   "source": [
    "# Definindo o TREINO\n",
    "Y_TREINO_df_nu_meses_rescencia = df_market_TN_treino['nu_meses_rescencia']\n",
    "X_TREINO_df_nu_meses_rescencia = df_market_TN_treino.drop(columns = 'nu_meses_rescencia')\n",
    "\n",
    "# Definindo TESTE\n",
    "X_TESTE_df_nu_meses_rescencia = df_market_TN_teste.drop(columns = 'nu_meses_rescencia')"
   ]
  },
  {
   "cell_type": "code",
   "execution_count": 200,
   "metadata": {},
   "outputs": [],
   "source": [
    "reg.fit(X_TREINO_df_nu_meses_rescencia, Y_TREINO_df_nu_meses_rescencia)\n",
    "Y_PREDITO_nu_meses_rescencia = reg.predict(X_TESTE_df_nu_meses_rescencia)"
   ]
  },
  {
   "cell_type": "code",
   "execution_count": 201,
   "metadata": {},
   "outputs": [
    {
     "data": {
      "text/html": [
       "<div>\n",
       "<style scoped>\n",
       "    .dataframe tbody tr th:only-of-type {\n",
       "        vertical-align: middle;\n",
       "    }\n",
       "\n",
       "    .dataframe tbody tr th {\n",
       "        vertical-align: top;\n",
       "    }\n",
       "\n",
       "    .dataframe thead th {\n",
       "        text-align: right;\n",
       "    }\n",
       "</style>\n",
       "<table border=\"1\" class=\"dataframe\">\n",
       "  <thead>\n",
       "    <tr style=\"text-align: right;\">\n",
       "      <th></th>\n",
       "      <th>fl_matriz</th>\n",
       "      <th>fl_sa</th>\n",
       "      <th>fl_mei</th>\n",
       "      <th>fl_ltda</th>\n",
       "      <th>fl_email</th>\n",
       "      <th>fl_telefone</th>\n",
       "      <th>Unnamed: 0</th>\n",
       "      <th>idade_empresa_anos</th>\n",
       "      <th>nu_meses_rescencia</th>\n",
       "      <th>vl_faturamento_estimado_aux</th>\n",
       "    </tr>\n",
       "  </thead>\n",
       "  <tbody>\n",
       "    <tr>\n",
       "      <th>7</th>\n",
       "      <td>1</td>\n",
       "      <td>0</td>\n",
       "      <td>1</td>\n",
       "      <td>0</td>\n",
       "      <td>1</td>\n",
       "      <td>1</td>\n",
       "      <td>7</td>\n",
       "      <td>0.052055</td>\n",
       "      <td>999999999.0</td>\n",
       "      <td>999999999.0</td>\n",
       "    </tr>\n",
       "    <tr>\n",
       "      <th>30</th>\n",
       "      <td>1</td>\n",
       "      <td>0</td>\n",
       "      <td>1</td>\n",
       "      <td>0</td>\n",
       "      <td>1</td>\n",
       "      <td>1</td>\n",
       "      <td>30</td>\n",
       "      <td>0.742466</td>\n",
       "      <td>999999999.0</td>\n",
       "      <td>210000.0</td>\n",
       "    </tr>\n",
       "    <tr>\n",
       "      <th>32</th>\n",
       "      <td>1</td>\n",
       "      <td>0</td>\n",
       "      <td>1</td>\n",
       "      <td>0</td>\n",
       "      <td>0</td>\n",
       "      <td>1</td>\n",
       "      <td>32</td>\n",
       "      <td>0.161644</td>\n",
       "      <td>999999999.0</td>\n",
       "      <td>999999999.0</td>\n",
       "    </tr>\n",
       "    <tr>\n",
       "      <th>36</th>\n",
       "      <td>1</td>\n",
       "      <td>0</td>\n",
       "      <td>0</td>\n",
       "      <td>0</td>\n",
       "      <td>1</td>\n",
       "      <td>1</td>\n",
       "      <td>36</td>\n",
       "      <td>0.375342</td>\n",
       "      <td>999999999.0</td>\n",
       "      <td>999999999.0</td>\n",
       "    </tr>\n",
       "    <tr>\n",
       "      <th>39</th>\n",
       "      <td>0</td>\n",
       "      <td>0</td>\n",
       "      <td>0</td>\n",
       "      <td>0</td>\n",
       "      <td>1</td>\n",
       "      <td>1</td>\n",
       "      <td>39</td>\n",
       "      <td>0.082192</td>\n",
       "      <td>999999999.0</td>\n",
       "      <td>0.0</td>\n",
       "    </tr>\n",
       "  </tbody>\n",
       "</table>\n",
       "</div>"
      ],
      "text/plain": [
       "    fl_matriz  fl_sa  fl_mei  fl_ltda  fl_email  fl_telefone  Unnamed: 0  \\\n",
       "7           1      0       1        0         1            1           7   \n",
       "30          1      0       1        0         1            1          30   \n",
       "32          1      0       1        0         0            1          32   \n",
       "36          1      0       0        0         1            1          36   \n",
       "39          0      0       0        0         1            1          39   \n",
       "\n",
       "    idade_empresa_anos  nu_meses_rescencia  vl_faturamento_estimado_aux  \n",
       "7             0.052055         999999999.0                  999999999.0  \n",
       "30            0.742466         999999999.0                     210000.0  \n",
       "32            0.161644         999999999.0                  999999999.0  \n",
       "36            0.375342         999999999.0                  999999999.0  \n",
       "39            0.082192         999999999.0                          0.0  "
      ]
     },
     "execution_count": 201,
     "metadata": {},
     "output_type": "execute_result"
    }
   ],
   "source": [
    "# Valores de \"nu_meses_rescencia\" antes da substituição\n",
    "df_market_todoNumerico[df_market_todoNumerico['nu_meses_rescencia'] == 999999999].head()"
   ]
  },
  {
   "cell_type": "code",
   "execution_count": 202,
   "metadata": {},
   "outputs": [],
   "source": [
    "# Substituindo '999999999' pelos valores calculado' no dataFrame (df_market_todoNumerico)\n",
    "df_market_todoNumerico['nu_meses_rescencia'].replace({999999999: Y_PREDITO_nu_meses_rescencia}, inplace = True)"
   ]
  },
  {
   "cell_type": "code",
   "execution_count": 203,
   "metadata": {},
   "outputs": [],
   "source": [
    "# Salvando o resultado da imputacão de valores em: (df_market_dadosNumericos_Transformado)\n",
    "df_market_dadosNumericos_Transformado = pd.DataFrame(df_market_dadosNumericos)"
   ]
  },
  {
   "cell_type": "code",
   "execution_count": 204,
   "metadata": {},
   "outputs": [
    {
     "data": {
      "text/html": [
       "<div>\n",
       "<style scoped>\n",
       "    .dataframe tbody tr th:only-of-type {\n",
       "        vertical-align: middle;\n",
       "    }\n",
       "\n",
       "    .dataframe tbody tr th {\n",
       "        vertical-align: top;\n",
       "    }\n",
       "\n",
       "    .dataframe thead th {\n",
       "        text-align: right;\n",
       "    }\n",
       "</style>\n",
       "<table border=\"1\" class=\"dataframe\">\n",
       "  <thead>\n",
       "    <tr style=\"text-align: right;\">\n",
       "      <th></th>\n",
       "      <th>idade_empresa_anos</th>\n",
       "      <th>nu_meses_rescencia</th>\n",
       "      <th>vl_faturamento_estimado_aux</th>\n",
       "    </tr>\n",
       "  </thead>\n",
       "  <tbody>\n",
       "    <tr>\n",
       "      <th>0</th>\n",
       "      <td>14.457534</td>\n",
       "      <td>23.0</td>\n",
       "      <td>3132172.8</td>\n",
       "    </tr>\n",
       "    <tr>\n",
       "      <th>1</th>\n",
       "      <td>1.463014</td>\n",
       "      <td>9.0</td>\n",
       "      <td>210000.0</td>\n",
       "    </tr>\n",
       "    <tr>\n",
       "      <th>2</th>\n",
       "      <td>7.093151</td>\n",
       "      <td>26.0</td>\n",
       "      <td>50000.0</td>\n",
       "    </tr>\n",
       "    <tr>\n",
       "      <th>3</th>\n",
       "      <td>6.512329</td>\n",
       "      <td>26.0</td>\n",
       "      <td>210000.0</td>\n",
       "    </tr>\n",
       "    <tr>\n",
       "      <th>4</th>\n",
       "      <td>3.200000</td>\n",
       "      <td>27.0</td>\n",
       "      <td>210000.0</td>\n",
       "    </tr>\n",
       "    <tr>\n",
       "      <th>...</th>\n",
       "      <td>...</td>\n",
       "      <td>...</td>\n",
       "      <td>...</td>\n",
       "    </tr>\n",
       "    <tr>\n",
       "      <th>462293</th>\n",
       "      <td>3.254795</td>\n",
       "      <td>22.0</td>\n",
       "      <td>50000.0</td>\n",
       "    </tr>\n",
       "    <tr>\n",
       "      <th>462294</th>\n",
       "      <td>8.953425</td>\n",
       "      <td>23.0</td>\n",
       "      <td>210000.0</td>\n",
       "    </tr>\n",
       "    <tr>\n",
       "      <th>462295</th>\n",
       "      <td>20.745205</td>\n",
       "      <td>23.0</td>\n",
       "      <td>210000.0</td>\n",
       "    </tr>\n",
       "    <tr>\n",
       "      <th>462296</th>\n",
       "      <td>1.909589</td>\n",
       "      <td>20.0</td>\n",
       "      <td>432734.4</td>\n",
       "    </tr>\n",
       "    <tr>\n",
       "      <th>462297</th>\n",
       "      <td>0.797260</td>\n",
       "      <td>999999999.0</td>\n",
       "      <td>210000.0</td>\n",
       "    </tr>\n",
       "  </tbody>\n",
       "</table>\n",
       "<p>462298 rows × 3 columns</p>\n",
       "</div>"
      ],
      "text/plain": [
       "        idade_empresa_anos  nu_meses_rescencia  vl_faturamento_estimado_aux\n",
       "0                14.457534                23.0                    3132172.8\n",
       "1                 1.463014                 9.0                     210000.0\n",
       "2                 7.093151                26.0                      50000.0\n",
       "3                 6.512329                26.0                     210000.0\n",
       "4                 3.200000                27.0                     210000.0\n",
       "...                    ...                 ...                          ...\n",
       "462293            3.254795                22.0                      50000.0\n",
       "462294            8.953425                23.0                     210000.0\n",
       "462295           20.745205                23.0                     210000.0\n",
       "462296            1.909589                20.0                     432734.4\n",
       "462297            0.797260         999999999.0                     210000.0\n",
       "\n",
       "[462298 rows x 3 columns]"
      ]
     },
     "execution_count": 204,
     "metadata": {},
     "output_type": "execute_result"
    }
   ],
   "source": [
    "df_market_dadosNumericos_Transformado.drop(columns= 'Unnamed: 0')"
   ]
  },
  {
   "cell_type": "code",
   "execution_count": 205,
   "metadata": {},
   "outputs": [],
   "source": [
    "# Substituindo '999999999' pelos valores calculado' no DataFrame (df_market_dadosNumericos)\n",
    "df_market_dadosNumericos['nu_meses_rescencia'].replace({999999999: Y_PREDITO_nu_meses_rescencia}, inplace = True)"
   ]
  },
  {
   "cell_type": "code",
   "execution_count": 206,
   "metadata": {},
   "outputs": [],
   "source": [
    "# Substituindo '999999999' pelos valores calculado' no DataFrame (df_market_dadosNumericos)\n",
    "df_market_dadosNumericos_Transformado['nu_meses_rescencia'].replace({999999999: Y_PREDITO_nu_meses_rescencia}, inplace = True)"
   ]
  },
  {
   "cell_type": "code",
   "execution_count": 207,
   "metadata": {},
   "outputs": [
    {
     "data": {
      "text/plain": [
       "24.85954582565315"
      ]
     },
     "execution_count": 207,
     "metadata": {},
     "output_type": "execute_result"
    }
   ],
   "source": [
    "# Conferindo se a substituição ocorreu!\n",
    "df_market_todoNumerico['nu_meses_rescencia'][36]"
   ]
  },
  {
   "cell_type": "code",
   "execution_count": 208,
   "metadata": {},
   "outputs": [
    {
     "data": {
      "text/plain": [
       "array([False])"
      ]
     },
     "execution_count": 208,
     "metadata": {},
     "output_type": "execute_result"
    }
   ],
   "source": [
    "# Verificando se tem alum valor '999999999'(que no caso é NaN) na coluna \"nu_meses_rescencia\" no DataFrame(df_market_todoNumerico)\n",
    "(df_market_todoNumerico['nu_meses_rescencia']== 999999999).unique()"
   ]
  },
  {
   "cell_type": "markdown",
   "metadata": {},
   "source": [
    "### Coluna: vl_faturamento_estimado_aux"
   ]
  },
  {
   "cell_type": "code",
   "execution_count": 209,
   "metadata": {},
   "outputs": [],
   "source": [
    "df_market_TN_treino = df_market_todoNumerico[df_market_todoNumerico['vl_faturamento_estimado_aux'] != 999999999]\n",
    "df_market_TN_teste = df_market_todoNumerico[df_market_todoNumerico['vl_faturamento_estimado_aux'] == 999999999]"
   ]
  },
  {
   "cell_type": "code",
   "execution_count": 210,
   "metadata": {},
   "outputs": [],
   "source": [
    "# Definindo o TREINO\n",
    "Y_TREINO_df_vl_faturamento_estimado_aux = df_market_TN_treino['vl_faturamento_estimado_aux']\n",
    "X_TREINO_df_vl_faturamento_estimado_aux = df_market_TN_treino.drop(columns = 'vl_faturamento_estimado_aux')\n",
    "\n",
    "# Definindo TESTE\n",
    "X_TESTE_df_vl_faturamento_estimado_aux = df_market_TN_teste.drop(columns = 'vl_faturamento_estimado_aux')"
   ]
  },
  {
   "cell_type": "code",
   "execution_count": 211,
   "metadata": {},
   "outputs": [],
   "source": [
    "reg.fit(X_TREINO_df_vl_faturamento_estimado_aux, Y_TREINO_df_vl_faturamento_estimado_aux)\n",
    "Y_PREDITO_vl_faturamento_estimado_aux = reg.predict(X_TESTE_df_vl_faturamento_estimado_aux)"
   ]
  },
  {
   "cell_type": "code",
   "execution_count": 212,
   "metadata": {},
   "outputs": [
    {
     "data": {
      "text/plain": [
       "array([ 69450.64326316, 728844.04336684,  62596.69643725, ...,\n",
       "       740756.23828632,  38425.85289452,  48381.03323677])"
      ]
     },
     "execution_count": 212,
     "metadata": {},
     "output_type": "execute_result"
    }
   ],
   "source": [
    "Y_PREDITO_vl_faturamento_estimado_aux = Y_PREDITO_vl_faturamento_estimado_aux * (-1)\n",
    "Y_PREDITO_vl_faturamento_estimado_aux "
   ]
  },
  {
   "cell_type": "code",
   "execution_count": 213,
   "metadata": {},
   "outputs": [
    {
     "data": {
      "text/plain": [
       "0         3132172.8\n",
       "1          210000.0\n",
       "2           50000.0\n",
       "3          210000.0\n",
       "4          210000.0\n",
       "            ...    \n",
       "462293      50000.0\n",
       "462294     210000.0\n",
       "462295     210000.0\n",
       "462296     432734.4\n",
       "462297     210000.0\n",
       "Name: vl_faturamento_estimado_aux, Length: 462298, dtype: float64"
      ]
     },
     "execution_count": 213,
     "metadata": {},
     "output_type": "execute_result"
    }
   ],
   "source": [
    "# Valores de \"nu_meses_rescencia\" antes da substituição\n",
    "df_market_todoNumerico['vl_faturamento_estimado_aux']"
   ]
  },
  {
   "cell_type": "code",
   "execution_count": 214,
   "metadata": {},
   "outputs": [],
   "source": [
    "# Substituindo '999999999' pelos valores calculado'\n",
    "df_market_todoNumerico['vl_faturamento_estimado_aux'].replace({999999999: Y_PREDITO_vl_faturamento_estimado_aux}, inplace = True)"
   ]
  },
  {
   "cell_type": "code",
   "execution_count": 215,
   "metadata": {},
   "outputs": [],
   "source": [
    "# Substituindo '999999999' pelos valores calculado' no DataFrame (df_market_dadosNumericos_Transformado)\n",
    "df_market_dadosNumericos_Transformado['vl_faturamento_estimado_aux'].replace({999999999: Y_PREDITO_vl_faturamento_estimado_aux}, inplace = True)"
   ]
  },
  {
   "cell_type": "code",
   "execution_count": 216,
   "metadata": {},
   "outputs": [],
   "source": [
    "df_market_dadosNumericos_Transformado.drop(columns = 'Unnamed: 0', inplace = True)"
   ]
  },
  {
   "cell_type": "code",
   "execution_count": 217,
   "metadata": {},
   "outputs": [
    {
     "data": {
      "text/plain": [
       "728844.0433668448"
      ]
     },
     "execution_count": 217,
     "metadata": {},
     "output_type": "execute_result"
    }
   ],
   "source": [
    "# Conferindo se a substituição ocorreu!\n",
    "df_market_todoNumerico['vl_faturamento_estimado_aux'][32]"
   ]
  },
  {
   "cell_type": "code",
   "execution_count": 218,
   "metadata": {},
   "outputs": [
    {
     "data": {
      "text/plain": [
       "array([False])"
      ]
     },
     "execution_count": 218,
     "metadata": {},
     "output_type": "execute_result"
    }
   ],
   "source": [
    "# Verificando se tem alum valor '999999999'(que no caso é NaN) na coluna \"nu_meses_rescencia\" no DataFrame(df_market_todoNumerico)\n",
    "(df_market_todoNumerico['nu_meses_rescencia']== 999999999).unique()"
   ]
  },
  {
   "cell_type": "code",
   "execution_count": 219,
   "metadata": {},
   "outputs": [
    {
     "data": {
      "text/html": [
       "<div>\n",
       "<style scoped>\n",
       "    .dataframe tbody tr th:only-of-type {\n",
       "        vertical-align: middle;\n",
       "    }\n",
       "\n",
       "    .dataframe tbody tr th {\n",
       "        vertical-align: top;\n",
       "    }\n",
       "\n",
       "    .dataframe thead th {\n",
       "        text-align: right;\n",
       "    }\n",
       "</style>\n",
       "<table border=\"1\" class=\"dataframe\">\n",
       "  <thead>\n",
       "    <tr style=\"text-align: right;\">\n",
       "      <th></th>\n",
       "      <th>fl_matriz</th>\n",
       "      <th>fl_sa</th>\n",
       "      <th>fl_mei</th>\n",
       "      <th>fl_ltda</th>\n",
       "      <th>fl_email</th>\n",
       "      <th>fl_telefone</th>\n",
       "      <th>Unnamed: 0</th>\n",
       "      <th>idade_empresa_anos</th>\n",
       "      <th>nu_meses_rescencia</th>\n",
       "      <th>vl_faturamento_estimado_aux</th>\n",
       "    </tr>\n",
       "  </thead>\n",
       "  <tbody>\n",
       "    <tr>\n",
       "      <th>0</th>\n",
       "      <td>1</td>\n",
       "      <td>0</td>\n",
       "      <td>0</td>\n",
       "      <td>0</td>\n",
       "      <td>1</td>\n",
       "      <td>1</td>\n",
       "      <td>0</td>\n",
       "      <td>14.457534</td>\n",
       "      <td>23.000000</td>\n",
       "      <td>3132172.8</td>\n",
       "    </tr>\n",
       "    <tr>\n",
       "      <th>1</th>\n",
       "      <td>1</td>\n",
       "      <td>0</td>\n",
       "      <td>1</td>\n",
       "      <td>0</td>\n",
       "      <td>1</td>\n",
       "      <td>1</td>\n",
       "      <td>1</td>\n",
       "      <td>1.463014</td>\n",
       "      <td>9.000000</td>\n",
       "      <td>210000.0</td>\n",
       "    </tr>\n",
       "    <tr>\n",
       "      <th>2</th>\n",
       "      <td>1</td>\n",
       "      <td>0</td>\n",
       "      <td>1</td>\n",
       "      <td>0</td>\n",
       "      <td>0</td>\n",
       "      <td>1</td>\n",
       "      <td>2</td>\n",
       "      <td>7.093151</td>\n",
       "      <td>26.000000</td>\n",
       "      <td>50000.0</td>\n",
       "    </tr>\n",
       "    <tr>\n",
       "      <th>3</th>\n",
       "      <td>1</td>\n",
       "      <td>0</td>\n",
       "      <td>0</td>\n",
       "      <td>0</td>\n",
       "      <td>1</td>\n",
       "      <td>1</td>\n",
       "      <td>3</td>\n",
       "      <td>6.512329</td>\n",
       "      <td>26.000000</td>\n",
       "      <td>210000.0</td>\n",
       "    </tr>\n",
       "    <tr>\n",
       "      <th>4</th>\n",
       "      <td>1</td>\n",
       "      <td>0</td>\n",
       "      <td>0</td>\n",
       "      <td>0</td>\n",
       "      <td>1</td>\n",
       "      <td>1</td>\n",
       "      <td>4</td>\n",
       "      <td>3.200000</td>\n",
       "      <td>27.000000</td>\n",
       "      <td>210000.0</td>\n",
       "    </tr>\n",
       "    <tr>\n",
       "      <th>...</th>\n",
       "      <td>...</td>\n",
       "      <td>...</td>\n",
       "      <td>...</td>\n",
       "      <td>...</td>\n",
       "      <td>...</td>\n",
       "      <td>...</td>\n",
       "      <td>...</td>\n",
       "      <td>...</td>\n",
       "      <td>...</td>\n",
       "      <td>...</td>\n",
       "    </tr>\n",
       "    <tr>\n",
       "      <th>462293</th>\n",
       "      <td>1</td>\n",
       "      <td>0</td>\n",
       "      <td>1</td>\n",
       "      <td>0</td>\n",
       "      <td>1</td>\n",
       "      <td>1</td>\n",
       "      <td>462293</td>\n",
       "      <td>3.254795</td>\n",
       "      <td>22.000000</td>\n",
       "      <td>50000.0</td>\n",
       "    </tr>\n",
       "    <tr>\n",
       "      <th>462294</th>\n",
       "      <td>1</td>\n",
       "      <td>0</td>\n",
       "      <td>0</td>\n",
       "      <td>0</td>\n",
       "      <td>0</td>\n",
       "      <td>0</td>\n",
       "      <td>462294</td>\n",
       "      <td>8.953425</td>\n",
       "      <td>23.000000</td>\n",
       "      <td>210000.0</td>\n",
       "    </tr>\n",
       "    <tr>\n",
       "      <th>462295</th>\n",
       "      <td>1</td>\n",
       "      <td>0</td>\n",
       "      <td>0</td>\n",
       "      <td>0</td>\n",
       "      <td>0</td>\n",
       "      <td>0</td>\n",
       "      <td>462295</td>\n",
       "      <td>20.745205</td>\n",
       "      <td>23.000000</td>\n",
       "      <td>210000.0</td>\n",
       "    </tr>\n",
       "    <tr>\n",
       "      <th>462296</th>\n",
       "      <td>1</td>\n",
       "      <td>0</td>\n",
       "      <td>0</td>\n",
       "      <td>0</td>\n",
       "      <td>1</td>\n",
       "      <td>0</td>\n",
       "      <td>462296</td>\n",
       "      <td>1.909589</td>\n",
       "      <td>20.000000</td>\n",
       "      <td>432734.4</td>\n",
       "    </tr>\n",
       "    <tr>\n",
       "      <th>462297</th>\n",
       "      <td>1</td>\n",
       "      <td>0</td>\n",
       "      <td>1</td>\n",
       "      <td>0</td>\n",
       "      <td>1</td>\n",
       "      <td>1</td>\n",
       "      <td>462297</td>\n",
       "      <td>0.797260</td>\n",
       "      <td>21.587832</td>\n",
       "      <td>210000.0</td>\n",
       "    </tr>\n",
       "  </tbody>\n",
       "</table>\n",
       "<p>462298 rows × 10 columns</p>\n",
       "</div>"
      ],
      "text/plain": [
       "        fl_matriz  fl_sa  fl_mei  fl_ltda  fl_email  fl_telefone  Unnamed: 0  \\\n",
       "0               1      0       0        0         1            1           0   \n",
       "1               1      0       1        0         1            1           1   \n",
       "2               1      0       1        0         0            1           2   \n",
       "3               1      0       0        0         1            1           3   \n",
       "4               1      0       0        0         1            1           4   \n",
       "...           ...    ...     ...      ...       ...          ...         ...   \n",
       "462293          1      0       1        0         1            1      462293   \n",
       "462294          1      0       0        0         0            0      462294   \n",
       "462295          1      0       0        0         0            0      462295   \n",
       "462296          1      0       0        0         1            0      462296   \n",
       "462297          1      0       1        0         1            1      462297   \n",
       "\n",
       "        idade_empresa_anos  nu_meses_rescencia  vl_faturamento_estimado_aux  \n",
       "0                14.457534           23.000000                    3132172.8  \n",
       "1                 1.463014            9.000000                     210000.0  \n",
       "2                 7.093151           26.000000                      50000.0  \n",
       "3                 6.512329           26.000000                     210000.0  \n",
       "4                 3.200000           27.000000                     210000.0  \n",
       "...                    ...                 ...                          ...  \n",
       "462293            3.254795           22.000000                      50000.0  \n",
       "462294            8.953425           23.000000                     210000.0  \n",
       "462295           20.745205           23.000000                     210000.0  \n",
       "462296            1.909589           20.000000                     432734.4  \n",
       "462297            0.797260           21.587832                     210000.0  \n",
       "\n",
       "[462298 rows x 10 columns]"
      ]
     },
     "execution_count": 219,
     "metadata": {},
     "output_type": "execute_result"
    }
   ],
   "source": [
    "df_market_todoNumerico"
   ]
  },
  {
   "cell_type": "code",
   "execution_count": 220,
   "metadata": {},
   "outputs": [],
   "source": [
    "df_market_todoNumerico.drop (columns = 'Unnamed: 0', inplace = True)"
   ]
  },
  {
   "cell_type": "code",
   "execution_count": 221,
   "metadata": {},
   "outputs": [
    {
     "data": {
      "text/plain": [
       "Index(['fl_matriz', 'fl_sa', 'fl_mei', 'fl_ltda', 'fl_email', 'fl_telefone',\n",
       "       'idade_empresa_anos', 'nu_meses_rescencia',\n",
       "       'vl_faturamento_estimado_aux'],\n",
       "      dtype='object')"
      ]
     },
     "execution_count": 221,
     "metadata": {},
     "output_type": "execute_result"
    }
   ],
   "source": [
    "df_market_todoNumerico.columns"
   ]
  },
  {
   "cell_type": "markdown",
   "metadata": {},
   "source": [
    "### >>> IMPUTANDO VALORES: 'object' <<<"
   ]
  },
  {
   "cell_type": "code",
   "execution_count": 222,
   "metadata": {},
   "outputs": [],
   "source": [
    "# Lembrando que:\n",
    "# Nosso DataFrame resultado (até o momento) é: df_market_todoNumerico\n",
    "# O DataFrame (df_market_dadosObject) é o DataFrame com todos os dados do tipo \"object\"\n",
    "# A ideia é usar um algoritmo de Classificação (ex: Árvore de Decisão) para substituir os dados faltantes\n",
    "# Estamos assumindo que os dados faltantes serão representados por: \"souNulo\""
   ]
  },
  {
   "cell_type": "code",
   "execution_count": 223,
   "metadata": {},
   "outputs": [
    {
     "data": {
      "text/plain": [
       "Index(['fl_matriz', 'fl_sa', 'fl_mei', 'fl_ltda', 'fl_email', 'fl_telefone',\n",
       "       'idade_empresa_anos', 'nu_meses_rescencia',\n",
       "       'vl_faturamento_estimado_aux'],\n",
       "      dtype='object')"
      ]
     },
     "execution_count": 223,
     "metadata": {},
     "output_type": "execute_result"
    }
   ],
   "source": [
    "df_market_todoNumerico.columns"
   ]
  },
  {
   "cell_type": "code",
   "execution_count": 224,
   "metadata": {},
   "outputs": [
    {
     "data": {
      "text/plain": [
       "id                                         0\n",
       "de_natureza_juridica                       0\n",
       "sg_uf                                      0\n",
       "natureza_juridica_macro                    0\n",
       "de_ramo                                    0\n",
       "idade_emp_cat                              0\n",
       "fl_rm                                      0\n",
       "nm_divisao                              1927\n",
       "nm_segmento                             1927\n",
       "fl_optante_simples                     82713\n",
       "de_saude_tributaria                    14851\n",
       "de_saude_rescencia                     14851\n",
       "de_nivel_atividade                     11168\n",
       "de_faixa_faturamento_estimado_grupo    27513\n",
       "dtype: int64"
      ]
     },
     "execution_count": 224,
     "metadata": {},
     "output_type": "execute_result"
    }
   ],
   "source": [
    "df_market_dadosObject.isna().sum()"
   ]
  },
  {
   "cell_type": "code",
   "execution_count": 225,
   "metadata": {},
   "outputs": [],
   "source": [
    "# Verificando a quantidade de dados faltantes no DataFrame (df_market_dadosObject).\n",
    "# Conseguimos verificar que as seguintes colunas não tem nenhum dado faltante:\n",
    "# listaBOOL_semDadosFaltantes = [id, de_natureza_juridica, sg_uf, natureza_juridica_macro, de_ramo, idade_emp_cat, fl_rm]\n",
    "lista_dadosObject_COM_dadosFaltantes = ['nm_divisao', 'nm_segmento', 'fl_optante_simples', 'de_saude_tributaria','de_saude_rescencia', 'de_nivel_atividade', 'de_faixa_faturamento_estimado_grupo']\n",
    "lista_dadosObject_SEM_dadosFaltantes = ['de_natureza_juridica', 'sg_uf', 'natureza_juridica_macro', 'de_ramo', 'idade_emp_cat', 'fl_rm']"
   ]
  },
  {
   "cell_type": "code",
   "execution_count": 226,
   "metadata": {},
   "outputs": [],
   "source": [
    "# Vamos isolar \"id\"\n",
    "# Ou seja, salvar em uma variável e excluir do DataFrame (df_market_dadosObject)\n",
    "# Porque esta coluna não vai fazer parte de nenhum aprendizado, mas precisamos os valores dos \"id\"s das empresas.\n",
    "armazenando_ID = df_market_dadosObject['id']"
   ]
  },
  {
   "cell_type": "code",
   "execution_count": 227,
   "metadata": {},
   "outputs": [
    {
     "data": {
      "text/plain": [
       "['de_natureza_juridica',\n",
       " 'sg_uf',\n",
       " 'natureza_juridica_macro',\n",
       " 'de_ramo',\n",
       " 'idade_emp_cat',\n",
       " 'fl_rm',\n",
       " 'nm_divisao',\n",
       " 'nm_segmento',\n",
       " 'fl_optante_simples',\n",
       " 'de_saude_tributaria',\n",
       " 'de_saude_rescencia',\n",
       " 'de_nivel_atividade',\n",
       " 'de_faixa_faturamento_estimado_grupo']"
      ]
     },
     "execution_count": 227,
     "metadata": {},
     "output_type": "execute_result"
    }
   ],
   "source": [
    "lista_dadosObject_aux = list(df_market_dadosObject.columns)\n",
    "lista_dadosObject_aux.remove('id')\n",
    "lista_dadosObject_aux"
   ]
  },
  {
   "cell_type": "code",
   "execution_count": 228,
   "metadata": {},
   "outputs": [],
   "source": [
    "# Substituindo todos os dados numéricos faltantes por 'souNulo'\n",
    "# Dessa forma vamos conseguir usar algum algoritmo de classificacao e mesmo assim vamos saber que é NaN\n",
    "df_market_dadosObject = df_market_dadosObject.fillna('souNulo')"
   ]
  },
  {
   "cell_type": "code",
   "execution_count": 229,
   "metadata": {},
   "outputs": [
    {
     "data": {
      "text/plain": [
       "id                                     0\n",
       "de_natureza_juridica                   0\n",
       "sg_uf                                  0\n",
       "natureza_juridica_macro                0\n",
       "de_ramo                                0\n",
       "idade_emp_cat                          0\n",
       "fl_rm                                  0\n",
       "nm_divisao                             0\n",
       "nm_segmento                            0\n",
       "fl_optante_simples                     0\n",
       "de_saude_tributaria                    0\n",
       "de_saude_rescencia                     0\n",
       "de_nivel_atividade                     0\n",
       "de_faixa_faturamento_estimado_grupo    0\n",
       "dtype: int64"
      ]
     },
     "execution_count": 229,
     "metadata": {},
     "output_type": "execute_result"
    }
   ],
   "source": [
    "df_market_dadosObject.isna().sum()"
   ]
  },
  {
   "cell_type": "code",
   "execution_count": 230,
   "metadata": {},
   "outputs": [],
   "source": [
    "df_parcial_dadosObject_SEM_dadosFaltantes = pd.DataFrame(df_market_dadosObject['id'])"
   ]
  },
  {
   "cell_type": "code",
   "execution_count": 231,
   "metadata": {},
   "outputs": [
    {
     "data": {
      "text/plain": [
       "['de_natureza_juridica',\n",
       " 'sg_uf',\n",
       " 'natureza_juridica_macro',\n",
       " 'de_ramo',\n",
       " 'idade_emp_cat',\n",
       " 'fl_rm']"
      ]
     },
     "execution_count": 231,
     "metadata": {},
     "output_type": "execute_result"
    }
   ],
   "source": [
    "lista_dadosObject_SEM_dadosFaltantes"
   ]
  },
  {
   "cell_type": "code",
   "execution_count": 232,
   "metadata": {},
   "outputs": [],
   "source": [
    "# Transformando as colunas em dados numéricos e salvando num novo DataFrame\n",
    "# SOMENTE AS COLUNAS DO TIPO \"BOOL\" SEM DADOS FALTANTES!\n",
    "for x in lista_dadosObject_SEM_dadosFaltantes:\n",
    "    df_market_aux = pd.get_dummies(df_market_dadosObject[x], prefix = x)\n",
    "    df_parcial_dadosObject_SEM_dadosFaltantes = df_parcial_dadosObject_SEM_dadosFaltantes.join(df_market_aux)"
   ]
  },
  {
   "cell_type": "code",
   "execution_count": 233,
   "metadata": {},
   "outputs": [
    {
     "data": {
      "text/plain": [
       "(462298, 122)"
      ]
     },
     "execution_count": 233,
     "metadata": {},
     "output_type": "execute_result"
    }
   ],
   "source": [
    "# Verificando o foermato do DataFrame que tivemos como resultado!\n",
    "df_parcial_dadosObject_SEM_dadosFaltantes.shape"
   ]
  },
  {
   "cell_type": "code",
   "execution_count": 234,
   "metadata": {},
   "outputs": [
    {
     "data": {
      "text/html": [
       "<div>\n",
       "<style scoped>\n",
       "    .dataframe tbody tr th:only-of-type {\n",
       "        vertical-align: middle;\n",
       "    }\n",
       "\n",
       "    .dataframe tbody tr th {\n",
       "        vertical-align: top;\n",
       "    }\n",
       "\n",
       "    .dataframe thead th {\n",
       "        text-align: right;\n",
       "    }\n",
       "</style>\n",
       "<table border=\"1\" class=\"dataframe\">\n",
       "  <thead>\n",
       "    <tr style=\"text-align: right;\">\n",
       "      <th></th>\n",
       "      <th>id</th>\n",
       "      <th>de_natureza_juridica_ASSOCIACAO PRIVADA</th>\n",
       "      <th>de_natureza_juridica_AUTARQUIA ESTADUAL OU DO DISTRITO FEDERAL</th>\n",
       "      <th>de_natureza_juridica_AUTARQUIA FEDERAL</th>\n",
       "      <th>de_natureza_juridica_AUTARQUIA MUNICIPAL</th>\n",
       "      <th>de_natureza_juridica_CANDIDATO A CARGO POLITICO ELETIVO</th>\n",
       "      <th>de_natureza_juridica_CLUBE FUNDO DE INVESTIMENTO</th>\n",
       "      <th>de_natureza_juridica_COMUNIDADE INDIGENA</th>\n",
       "      <th>de_natureza_juridica_CONDOMINIO EDILICIO</th>\n",
       "      <th>de_natureza_juridica_CONSORCIO DE EMPREGADORES</th>\n",
       "      <th>...</th>\n",
       "      <th>de_ramo_TEXTEIS</th>\n",
       "      <th>de_ramo_TRANSPORTE, ARMAZENAGEM E CORREIO</th>\n",
       "      <th>idade_emp_cat_1 a 5</th>\n",
       "      <th>idade_emp_cat_10 a 15</th>\n",
       "      <th>idade_emp_cat_15 a 20</th>\n",
       "      <th>idade_emp_cat_5 a 10</th>\n",
       "      <th>idade_emp_cat_&lt;= 1</th>\n",
       "      <th>idade_emp_cat_&gt; 20</th>\n",
       "      <th>fl_rm_NAO</th>\n",
       "      <th>fl_rm_SIM</th>\n",
       "    </tr>\n",
       "  </thead>\n",
       "  <tbody>\n",
       "    <tr>\n",
       "      <th>0</th>\n",
       "      <td>a6984c3ae395090e3bee8ad63c3758b110de096d5d8195...</td>\n",
       "      <td>0</td>\n",
       "      <td>0</td>\n",
       "      <td>0</td>\n",
       "      <td>0</td>\n",
       "      <td>0</td>\n",
       "      <td>0</td>\n",
       "      <td>0</td>\n",
       "      <td>0</td>\n",
       "      <td>0</td>\n",
       "      <td>...</td>\n",
       "      <td>0</td>\n",
       "      <td>0</td>\n",
       "      <td>0</td>\n",
       "      <td>1</td>\n",
       "      <td>0</td>\n",
       "      <td>0</td>\n",
       "      <td>0</td>\n",
       "      <td>0</td>\n",
       "      <td>0</td>\n",
       "      <td>1</td>\n",
       "    </tr>\n",
       "    <tr>\n",
       "      <th>1</th>\n",
       "      <td>6178f41ade1365e44bc2c46654c2c8c0eaae27dcb476c4...</td>\n",
       "      <td>0</td>\n",
       "      <td>0</td>\n",
       "      <td>0</td>\n",
       "      <td>0</td>\n",
       "      <td>0</td>\n",
       "      <td>0</td>\n",
       "      <td>0</td>\n",
       "      <td>0</td>\n",
       "      <td>0</td>\n",
       "      <td>...</td>\n",
       "      <td>0</td>\n",
       "      <td>0</td>\n",
       "      <td>1</td>\n",
       "      <td>0</td>\n",
       "      <td>0</td>\n",
       "      <td>0</td>\n",
       "      <td>0</td>\n",
       "      <td>0</td>\n",
       "      <td>0</td>\n",
       "      <td>1</td>\n",
       "    </tr>\n",
       "    <tr>\n",
       "      <th>2</th>\n",
       "      <td>4a7e5069a397f12fdd7fd57111d6dc5d3ba558958efc02...</td>\n",
       "      <td>0</td>\n",
       "      <td>0</td>\n",
       "      <td>0</td>\n",
       "      <td>0</td>\n",
       "      <td>0</td>\n",
       "      <td>0</td>\n",
       "      <td>0</td>\n",
       "      <td>0</td>\n",
       "      <td>0</td>\n",
       "      <td>...</td>\n",
       "      <td>0</td>\n",
       "      <td>1</td>\n",
       "      <td>0</td>\n",
       "      <td>0</td>\n",
       "      <td>0</td>\n",
       "      <td>1</td>\n",
       "      <td>0</td>\n",
       "      <td>0</td>\n",
       "      <td>0</td>\n",
       "      <td>1</td>\n",
       "    </tr>\n",
       "    <tr>\n",
       "      <th>3</th>\n",
       "      <td>3348900fe63216a439d2e5238c79ddd46ede454df7b9d8...</td>\n",
       "      <td>0</td>\n",
       "      <td>0</td>\n",
       "      <td>0</td>\n",
       "      <td>0</td>\n",
       "      <td>0</td>\n",
       "      <td>0</td>\n",
       "      <td>0</td>\n",
       "      <td>0</td>\n",
       "      <td>0</td>\n",
       "      <td>...</td>\n",
       "      <td>0</td>\n",
       "      <td>0</td>\n",
       "      <td>0</td>\n",
       "      <td>0</td>\n",
       "      <td>0</td>\n",
       "      <td>1</td>\n",
       "      <td>0</td>\n",
       "      <td>0</td>\n",
       "      <td>0</td>\n",
       "      <td>1</td>\n",
       "    </tr>\n",
       "    <tr>\n",
       "      <th>4</th>\n",
       "      <td>1f9bcabc9d3173c1fe769899e4fac14b053037b953a1e4...</td>\n",
       "      <td>0</td>\n",
       "      <td>0</td>\n",
       "      <td>0</td>\n",
       "      <td>0</td>\n",
       "      <td>0</td>\n",
       "      <td>0</td>\n",
       "      <td>0</td>\n",
       "      <td>0</td>\n",
       "      <td>0</td>\n",
       "      <td>...</td>\n",
       "      <td>0</td>\n",
       "      <td>0</td>\n",
       "      <td>1</td>\n",
       "      <td>0</td>\n",
       "      <td>0</td>\n",
       "      <td>0</td>\n",
       "      <td>0</td>\n",
       "      <td>0</td>\n",
       "      <td>0</td>\n",
       "      <td>1</td>\n",
       "    </tr>\n",
       "  </tbody>\n",
       "</table>\n",
       "<p>5 rows × 122 columns</p>\n",
       "</div>"
      ],
      "text/plain": [
       "                                                  id  \\\n",
       "0  a6984c3ae395090e3bee8ad63c3758b110de096d5d8195...   \n",
       "1  6178f41ade1365e44bc2c46654c2c8c0eaae27dcb476c4...   \n",
       "2  4a7e5069a397f12fdd7fd57111d6dc5d3ba558958efc02...   \n",
       "3  3348900fe63216a439d2e5238c79ddd46ede454df7b9d8...   \n",
       "4  1f9bcabc9d3173c1fe769899e4fac14b053037b953a1e4...   \n",
       "\n",
       "   de_natureza_juridica_ASSOCIACAO PRIVADA  \\\n",
       "0                                        0   \n",
       "1                                        0   \n",
       "2                                        0   \n",
       "3                                        0   \n",
       "4                                        0   \n",
       "\n",
       "   de_natureza_juridica_AUTARQUIA ESTADUAL OU DO DISTRITO FEDERAL  \\\n",
       "0                                                  0                \n",
       "1                                                  0                \n",
       "2                                                  0                \n",
       "3                                                  0                \n",
       "4                                                  0                \n",
       "\n",
       "   de_natureza_juridica_AUTARQUIA FEDERAL  \\\n",
       "0                                       0   \n",
       "1                                       0   \n",
       "2                                       0   \n",
       "3                                       0   \n",
       "4                                       0   \n",
       "\n",
       "   de_natureza_juridica_AUTARQUIA MUNICIPAL  \\\n",
       "0                                         0   \n",
       "1                                         0   \n",
       "2                                         0   \n",
       "3                                         0   \n",
       "4                                         0   \n",
       "\n",
       "   de_natureza_juridica_CANDIDATO A CARGO POLITICO ELETIVO  \\\n",
       "0                                                  0         \n",
       "1                                                  0         \n",
       "2                                                  0         \n",
       "3                                                  0         \n",
       "4                                                  0         \n",
       "\n",
       "   de_natureza_juridica_CLUBE FUNDO DE INVESTIMENTO  \\\n",
       "0                                                 0   \n",
       "1                                                 0   \n",
       "2                                                 0   \n",
       "3                                                 0   \n",
       "4                                                 0   \n",
       "\n",
       "   de_natureza_juridica_COMUNIDADE INDIGENA  \\\n",
       "0                                         0   \n",
       "1                                         0   \n",
       "2                                         0   \n",
       "3                                         0   \n",
       "4                                         0   \n",
       "\n",
       "   de_natureza_juridica_CONDOMINIO EDILICIO  \\\n",
       "0                                         0   \n",
       "1                                         0   \n",
       "2                                         0   \n",
       "3                                         0   \n",
       "4                                         0   \n",
       "\n",
       "   de_natureza_juridica_CONSORCIO DE EMPREGADORES  ...  de_ramo_TEXTEIS  \\\n",
       "0                                               0  ...                0   \n",
       "1                                               0  ...                0   \n",
       "2                                               0  ...                0   \n",
       "3                                               0  ...                0   \n",
       "4                                               0  ...                0   \n",
       "\n",
       "   de_ramo_TRANSPORTE, ARMAZENAGEM E CORREIO  idade_emp_cat_1 a 5  \\\n",
       "0                                          0                    0   \n",
       "1                                          0                    1   \n",
       "2                                          1                    0   \n",
       "3                                          0                    0   \n",
       "4                                          0                    1   \n",
       "\n",
       "   idade_emp_cat_10 a 15  idade_emp_cat_15 a 20  idade_emp_cat_5 a 10  \\\n",
       "0                      1                      0                     0   \n",
       "1                      0                      0                     0   \n",
       "2                      0                      0                     1   \n",
       "3                      0                      0                     1   \n",
       "4                      0                      0                     0   \n",
       "\n",
       "   idade_emp_cat_<= 1  idade_emp_cat_> 20  fl_rm_NAO  fl_rm_SIM  \n",
       "0                   0                   0          0          1  \n",
       "1                   0                   0          0          1  \n",
       "2                   0                   0          0          1  \n",
       "3                   0                   0          0          1  \n",
       "4                   0                   0          0          1  \n",
       "\n",
       "[5 rows x 122 columns]"
      ]
     },
     "execution_count": 234,
     "metadata": {},
     "output_type": "execute_result"
    }
   ],
   "source": [
    "df_parcial_dadosObject_SEM_dadosFaltantes.head()"
   ]
  },
  {
   "cell_type": "code",
   "execution_count": 235,
   "metadata": {},
   "outputs": [
    {
     "data": {
      "text/plain": [
       "(462298, 122)"
      ]
     },
     "execution_count": 235,
     "metadata": {},
     "output_type": "execute_result"
    }
   ],
   "source": [
    "df_parcial_dadosObject_SEM_dadosFaltantes.shape"
   ]
  },
  {
   "cell_type": "code",
   "execution_count": 236,
   "metadata": {},
   "outputs": [],
   "source": [
    "# Precisamos excluir o \"id\" do DataFrame que vamos utilizar para realizar a classificacao\n",
    "# Porque nao queremos que \"id\" interfira.\n",
    "df_parcial_dadosObject_SEM_dadosFaltantes.drop(columns = 'id', inplace = True)"
   ]
  },
  {
   "cell_type": "code",
   "execution_count": 237,
   "metadata": {},
   "outputs": [],
   "source": [
    "# Testando de \"id\" sumiu mesmo!\n",
    "# Resultado: sim, sumiu!\n",
    "# df_parcial_dadosObject['id']"
   ]
  },
  {
   "cell_type": "code",
   "execution_count": 238,
   "metadata": {},
   "outputs": [],
   "source": [
    "# Primeiro vamos fazer uma cópia do DataFrame (df_market_todoNumerico)\n",
    "# Vamos adicionar o DataFrame resultado depois de inserir todos os dados faltantes do tipo \"bool\"\n",
    "# Adicionando o DataFrame (df_parcial_dadosObject) ao DataFrame (df_market_todoNumerico)\n",
    "# OBS: a coluna \"id\"até o momento naão esta fazendo parte de nenhum DataFrame!\n",
    "df_market_todoNumerico_COPIA = df_market_todoNumerico\n",
    "df_market_todoNumerico_COPIA = df_market_todoNumerico_COPIA.join(df_parcial_dadosObject_SEM_dadosFaltantes)"
   ]
  },
  {
   "cell_type": "code",
   "execution_count": 239,
   "metadata": {},
   "outputs": [
    {
     "data": {
      "text/plain": [
       "(462298, 130)"
      ]
     },
     "execution_count": 239,
     "metadata": {},
     "output_type": "execute_result"
    }
   ],
   "source": [
    "df_market_todoNumerico_COPIA.shape"
   ]
  },
  {
   "cell_type": "markdown",
   "metadata": {},
   "source": [
    "### >>> Informações! <<<"
   ]
  },
  {
   "cell_type": "code",
   "execution_count": 240,
   "metadata": {},
   "outputs": [],
   "source": [
    "# Vamos usar o DataFrame (df_market_todoNumerico_COPIA) para realizar as operações de descobrir os valores faltantes!\n",
    "# Este DataFrame está completo.\n",
    "# Os valores nulos foram substituidos por: 'souNulo'"
   ]
  },
  {
   "cell_type": "code",
   "execution_count": 241,
   "metadata": {},
   "outputs": [],
   "source": [
    "from sklearn import tree"
   ]
  },
  {
   "cell_type": "code",
   "execution_count": 242,
   "metadata": {},
   "outputs": [],
   "source": [
    "clf = tree.DecisionTreeClassifier()"
   ]
  },
  {
   "cell_type": "code",
   "execution_count": 243,
   "metadata": {
    "scrolled": true
   },
   "outputs": [
    {
     "data": {
      "text/plain": [
       "['nm_divisao',\n",
       " 'nm_segmento',\n",
       " 'fl_optante_simples',\n",
       " 'de_saude_tributaria',\n",
       " 'de_saude_rescencia',\n",
       " 'de_nivel_atividade',\n",
       " 'de_faixa_faturamento_estimado_grupo']"
      ]
     },
     "execution_count": 243,
     "metadata": {},
     "output_type": "execute_result"
    }
   ],
   "source": [
    "# (lista_dadosObject_COM_dadosFaltantes) : contém todas as colunas do tipo \"bool\"que tem dados faltantes\n",
    "lista_dadosObject_COM_dadosFaltantes"
   ]
  },
  {
   "cell_type": "code",
   "execution_count": 244,
   "metadata": {},
   "outputs": [],
   "source": [
    "df_market_dadosObject_COPIA = df_market_dadosObject"
   ]
  },
  {
   "cell_type": "code",
   "execution_count": 245,
   "metadata": {},
   "outputs": [],
   "source": [
    "from sklearn import preprocessing"
   ]
  },
  {
   "cell_type": "code",
   "execution_count": 246,
   "metadata": {},
   "outputs": [],
   "source": [
    "le = preprocessing.LabelEncoder()"
   ]
  },
  {
   "cell_type": "code",
   "execution_count": 247,
   "metadata": {},
   "outputs": [
    {
     "name": "stdout",
     "output_type": "stream",
     "text": [
      "Começando a coluna:  nm_divisao\n",
      "Começando a coluna:  nm_segmento\n",
      "Começando a coluna:  fl_optante_simples\n",
      "Começando a coluna:  de_saude_tributaria\n",
      "Começando a coluna:  de_saude_rescencia\n",
      "Começando a coluna:  de_nivel_atividade\n",
      "Começando a coluna:  de_faixa_faturamento_estimado_grupo\n"
     ]
    }
   ],
   "source": [
    "# Separando as Bases de TREINO e TESTE\n",
    "\n",
    "for x in lista_dadosObject_COM_dadosFaltantes:\n",
    "    print('Começando a coluna: ',x)\n",
    "    \n",
    "    df_total = df_market_todoNumerico_COPIA.join(df_market_dadosObject[x])\n",
    "\n",
    "    df_market_TN_treino = df_total[df_total[x] != 'souNulo']\n",
    "    df_market_TN_teste = df_total[df_total[x] == 'souNulo']\n",
    "    \n",
    "    # Definindo o TREINO\n",
    "    Y_TREINO_coluna = le.fit_transform(df_market_TN_treino[x])\n",
    "    X_TREINO_coluna = df_market_TN_treino.drop(columns = x)\n",
    "\n",
    "    # Definindo TESTE\n",
    "    X_TESTE_coluna = df_market_TN_teste.drop(columns = x)\n",
    "    \n",
    "    clf.fit(X_TREINO_coluna, Y_TREINO_coluna)\n",
    "    Y_PREDITO = clf.predict(X_TESTE_coluna)\n",
    "    Y_PREDITO_RESULTADO = le.inverse_transform(Y_PREDITO)\n",
    "    \n",
    "    # Substituindo 'souNulo' pelos valores calculado'\n",
    "    df_market_dadosObject_COPIA[x].replace({'souNulo': Y_PREDITO_RESULTADO}, inplace = True)\n"
   ]
  },
  {
   "cell_type": "code",
   "execution_count": 248,
   "metadata": {},
   "outputs": [],
   "source": [
    "# Agora (df_market_dadosObject_COPIA) está completa!\n",
    "# Vamos transformar este DataFrame em um dataFrame numérico com o (get_dummies)"
   ]
  },
  {
   "cell_type": "code",
   "execution_count": 249,
   "metadata": {},
   "outputs": [
    {
     "data": {
      "text/plain": [
       "Index(['id', 'de_natureza_juridica', 'sg_uf', 'natureza_juridica_macro',\n",
       "       'de_ramo', 'idade_emp_cat', 'fl_rm', 'nm_divisao', 'nm_segmento',\n",
       "       'fl_optante_simples', 'de_saude_tributaria', 'de_saude_rescencia',\n",
       "       'de_nivel_atividade', 'de_faixa_faturamento_estimado_grupo'],\n",
       "      dtype='object')"
      ]
     },
     "execution_count": 249,
     "metadata": {},
     "output_type": "execute_result"
    }
   ],
   "source": [
    "df_market_dadosObject_COPIA.columns"
   ]
  },
  {
   "cell_type": "code",
   "execution_count": 250,
   "metadata": {},
   "outputs": [],
   "source": [
    "df_market_dadosObject = df_market_dadosObject_COPIA"
   ]
  },
  {
   "cell_type": "code",
   "execution_count": 251,
   "metadata": {},
   "outputs": [],
   "source": [
    "df_market_dadosObject.drop(columns = 'id', inplace = True)"
   ]
  },
  {
   "cell_type": "code",
   "execution_count": 252,
   "metadata": {},
   "outputs": [],
   "source": [
    "df_market_dadosObject_transformado = pd.get_dummies(df_market_dadosObject)"
   ]
  },
  {
   "cell_type": "code",
   "execution_count": 253,
   "metadata": {},
   "outputs": [
    {
     "data": {
      "text/plain": [
       "(462298, 256)"
      ]
     },
     "execution_count": 253,
     "metadata": {},
     "output_type": "execute_result"
    }
   ],
   "source": [
    "df_market_dadosObject_transformado.shape"
   ]
  },
  {
   "cell_type": "code",
   "execution_count": 254,
   "metadata": {},
   "outputs": [
    {
     "data": {
      "text/plain": [
       "Index(['fl_optante_simples', 'de_natureza_juridica_ASSOCIACAO PRIVADA',\n",
       "       'de_natureza_juridica_AUTARQUIA ESTADUAL OU DO DISTRITO FEDERAL',\n",
       "       'de_natureza_juridica_AUTARQUIA FEDERAL',\n",
       "       'de_natureza_juridica_AUTARQUIA MUNICIPAL',\n",
       "       'de_natureza_juridica_CANDIDATO A CARGO POLITICO ELETIVO',\n",
       "       'de_natureza_juridica_CLUBE FUNDO DE INVESTIMENTO',\n",
       "       'de_natureza_juridica_COMUNIDADE INDIGENA',\n",
       "       'de_natureza_juridica_CONDOMINIO EDILICIO',\n",
       "       'de_natureza_juridica_CONSORCIO DE EMPREGADORES',\n",
       "       ...\n",
       "       'de_faixa_faturamento_estimado_grupo_ATE R$ 81.000,00',\n",
       "       'de_faixa_faturamento_estimado_grupo_DE R$ 1.500.000,01 A R$ 4.800.000,00',\n",
       "       'de_faixa_faturamento_estimado_grupo_DE R$ 10.000.000,01 A R$ 30.000.000,00',\n",
       "       'de_faixa_faturamento_estimado_grupo_DE R$ 100.000.000,01 A R$ 300.000.000,00',\n",
       "       'de_faixa_faturamento_estimado_grupo_DE R$ 30.000.000,01 A R$ 100.000.000,00',\n",
       "       'de_faixa_faturamento_estimado_grupo_DE R$ 300.000.000,01 A R$ 500.000.000,00',\n",
       "       'de_faixa_faturamento_estimado_grupo_DE R$ 360.000,01 A R$ 1.500.000,00',\n",
       "       'de_faixa_faturamento_estimado_grupo_DE R$ 4.800.000,01 A R$ 10.000.000,00',\n",
       "       'de_faixa_faturamento_estimado_grupo_DE R$ 500.000.000,01 A 1 BILHAO DE REAIS',\n",
       "       'de_faixa_faturamento_estimado_grupo_DE R$ 81.000,01 A R$ 360.000,00'],\n",
       "      dtype='object', length=256)"
      ]
     },
     "execution_count": 254,
     "metadata": {},
     "output_type": "execute_result"
    }
   ],
   "source": [
    "df_market_dadosObject_transformado.columns"
   ]
  },
  {
   "cell_type": "code",
   "execution_count": 255,
   "metadata": {},
   "outputs": [],
   "source": [
    "df_auxiliar_fl_optante_simples = df_market_dadosObject_transformado['fl_optante_simples']"
   ]
  },
  {
   "cell_type": "code",
   "execution_count": 256,
   "metadata": {},
   "outputs": [],
   "source": [
    "df_market_dadosObject_transformado.drop(columns= 'fl_optante_simples', inplace = True)"
   ]
  },
  {
   "cell_type": "code",
   "execution_count": 257,
   "metadata": {},
   "outputs": [
    {
     "data": {
      "text/plain": [
       "Index(['de_natureza_juridica_ASSOCIACAO PRIVADA',\n",
       "       'de_natureza_juridica_AUTARQUIA ESTADUAL OU DO DISTRITO FEDERAL',\n",
       "       'de_natureza_juridica_AUTARQUIA FEDERAL',\n",
       "       'de_natureza_juridica_AUTARQUIA MUNICIPAL',\n",
       "       'de_natureza_juridica_CANDIDATO A CARGO POLITICO ELETIVO',\n",
       "       'de_natureza_juridica_CLUBE FUNDO DE INVESTIMENTO',\n",
       "       'de_natureza_juridica_COMUNIDADE INDIGENA',\n",
       "       'de_natureza_juridica_CONDOMINIO EDILICIO',\n",
       "       'de_natureza_juridica_CONSORCIO DE EMPREGADORES',\n",
       "       'de_natureza_juridica_CONSORCIO DE SOCIEDADES',\n",
       "       ...\n",
       "       'de_faixa_faturamento_estimado_grupo_ATE R$ 81.000,00',\n",
       "       'de_faixa_faturamento_estimado_grupo_DE R$ 1.500.000,01 A R$ 4.800.000,00',\n",
       "       'de_faixa_faturamento_estimado_grupo_DE R$ 10.000.000,01 A R$ 30.000.000,00',\n",
       "       'de_faixa_faturamento_estimado_grupo_DE R$ 100.000.000,01 A R$ 300.000.000,00',\n",
       "       'de_faixa_faturamento_estimado_grupo_DE R$ 30.000.000,01 A R$ 100.000.000,00',\n",
       "       'de_faixa_faturamento_estimado_grupo_DE R$ 300.000.000,01 A R$ 500.000.000,00',\n",
       "       'de_faixa_faturamento_estimado_grupo_DE R$ 360.000,01 A R$ 1.500.000,00',\n",
       "       'de_faixa_faturamento_estimado_grupo_DE R$ 4.800.000,01 A R$ 10.000.000,00',\n",
       "       'de_faixa_faturamento_estimado_grupo_DE R$ 500.000.000,01 A 1 BILHAO DE REAIS',\n",
       "       'de_faixa_faturamento_estimado_grupo_DE R$ 81.000,01 A R$ 360.000,00'],\n",
       "      dtype='object', length=255)"
      ]
     },
     "execution_count": 257,
     "metadata": {},
     "output_type": "execute_result"
    }
   ],
   "source": [
    "df_market_dadosObject_transformado.columns"
   ]
  },
  {
   "cell_type": "code",
   "execution_count": 258,
   "metadata": {},
   "outputs": [],
   "source": [
    "df_auxiliar_fl_optante_simples = df_auxiliar_fl_optante_simples.astype(int)"
   ]
  },
  {
   "cell_type": "code",
   "execution_count": 259,
   "metadata": {},
   "outputs": [
    {
     "data": {
      "text/plain": [
       "array([1, 0])"
      ]
     },
     "execution_count": 259,
     "metadata": {},
     "output_type": "execute_result"
    }
   ],
   "source": [
    "df_auxiliar_fl_optante_simples.unique()"
   ]
  },
  {
   "cell_type": "code",
   "execution_count": 260,
   "metadata": {},
   "outputs": [],
   "source": [
    "df_market_dadosObject_transformado = df_market_dadosObject_transformado.join(df_auxiliar_fl_optante_simples)"
   ]
  },
  {
   "cell_type": "code",
   "execution_count": 261,
   "metadata": {},
   "outputs": [
    {
     "data": {
      "text/plain": [
       "(462298, 256)"
      ]
     },
     "execution_count": 261,
     "metadata": {},
     "output_type": "execute_result"
    }
   ],
   "source": [
    "df_market_dadosObject_transformado.shape"
   ]
  },
  {
   "cell_type": "code",
   "execution_count": 262,
   "metadata": {},
   "outputs": [],
   "source": [
    "# Agora todos os dados estão completos!\n",
    "# Vamos juntar todos os DataFrames!"
   ]
  },
  {
   "cell_type": "markdown",
   "metadata": {},
   "source": [
    "## JUNTANDO TODOS OS DATAFRAMES TRATADOS!"
   ]
  },
  {
   "cell_type": "code",
   "execution_count": 263,
   "metadata": {},
   "outputs": [],
   "source": [
    "# Nosso DataFrame final vai ser o (df_dadosTratados)"
   ]
  },
  {
   "cell_type": "code",
   "execution_count": 264,
   "metadata": {},
   "outputs": [],
   "source": [
    "# Primeiro estamos adicionando os valores do ID\n",
    "df_dadosTratados = pd.DataFrame(armazenando_ID)"
   ]
  },
  {
   "cell_type": "code",
   "execution_count": 265,
   "metadata": {},
   "outputs": [
    {
     "data": {
      "text/plain": [
       "(462298, 1)"
      ]
     },
     "execution_count": 265,
     "metadata": {},
     "output_type": "execute_result"
    }
   ],
   "source": [
    "df_dadosTratados.shape"
   ]
  },
  {
   "cell_type": "code",
   "execution_count": 266,
   "metadata": {},
   "outputs": [],
   "source": [
    "# Fazendo JOIN (df_dadosTratados) com os dados do tipo: \"bool\"\n",
    "df_dadosTratados = df_dadosTratados.join(df_market_dadosBool_transformado)"
   ]
  },
  {
   "cell_type": "code",
   "execution_count": 267,
   "metadata": {},
   "outputs": [],
   "source": [
    "# Fazendo JOIN (df_dadosTratados) com os dados do tipo: \"int64\" e \"float64\"\n",
    "df_dadosTratados = df_dadosTratados.join(df_market_dadosNumericos_Transformado)"
   ]
  },
  {
   "cell_type": "code",
   "execution_count": 268,
   "metadata": {},
   "outputs": [],
   "source": [
    "# Fazendo JOIN (df_dadosTratados) com os dados do tipo: object (parcial_semFaltantes)\n",
    "df_dadosTratados = df_dadosTratados.join(df_market_dadosObject_transformado)"
   ]
  },
  {
   "cell_type": "code",
   "execution_count": 269,
   "metadata": {},
   "outputs": [
    {
     "data": {
      "text/plain": [
       "(462298, 266)"
      ]
     },
     "execution_count": 269,
     "metadata": {},
     "output_type": "execute_result"
    }
   ],
   "source": [
    "df_dadosTratados.shape"
   ]
  },
  {
   "cell_type": "code",
   "execution_count": 270,
   "metadata": {},
   "outputs": [
    {
     "data": {
      "text/plain": [
       "Index(['id', 'fl_matriz', 'fl_sa', 'fl_mei', 'fl_ltda', 'fl_email',\n",
       "       'fl_telefone', 'idade_empresa_anos', 'nu_meses_rescencia',\n",
       "       'vl_faturamento_estimado_aux',\n",
       "       ...\n",
       "       'de_faixa_faturamento_estimado_grupo_DE R$ 1.500.000,01 A R$ 4.800.000,00',\n",
       "       'de_faixa_faturamento_estimado_grupo_DE R$ 10.000.000,01 A R$ 30.000.000,00',\n",
       "       'de_faixa_faturamento_estimado_grupo_DE R$ 100.000.000,01 A R$ 300.000.000,00',\n",
       "       'de_faixa_faturamento_estimado_grupo_DE R$ 30.000.000,01 A R$ 100.000.000,00',\n",
       "       'de_faixa_faturamento_estimado_grupo_DE R$ 300.000.000,01 A R$ 500.000.000,00',\n",
       "       'de_faixa_faturamento_estimado_grupo_DE R$ 360.000,01 A R$ 1.500.000,00',\n",
       "       'de_faixa_faturamento_estimado_grupo_DE R$ 4.800.000,01 A R$ 10.000.000,00',\n",
       "       'de_faixa_faturamento_estimado_grupo_DE R$ 500.000.000,01 A 1 BILHAO DE REAIS',\n",
       "       'de_faixa_faturamento_estimado_grupo_DE R$ 81.000,01 A R$ 360.000,00',\n",
       "       'fl_optante_simples'],\n",
       "      dtype='object', length=266)"
      ]
     },
     "execution_count": 270,
     "metadata": {},
     "output_type": "execute_result"
    }
   ],
   "source": [
    "df_dadosTratados.columns"
   ]
  },
  {
   "cell_type": "markdown",
   "metadata": {},
   "source": [
    "## Salvando o DataFrame numérico num arquivo para facilitar a vida!"
   ]
  },
  {
   "cell_type": "code",
   "execution_count": 271,
   "metadata": {},
   "outputs": [],
   "source": [
    "df_dadosTratados.to_csv('dataframe_populacao_tratada.csv')"
   ]
  },
  {
   "cell_type": "code",
   "execution_count": null,
   "metadata": {},
   "outputs": [],
   "source": []
  },
  {
   "cell_type": "code",
   "execution_count": null,
   "metadata": {},
   "outputs": [],
   "source": []
  }
 ],
 "metadata": {
  "kernelspec": {
   "display_name": "Python 3",
   "language": "python",
   "name": "python3"
  },
  "language_info": {
   "codemirror_mode": {
    "name": "ipython",
    "version": 3
   },
   "file_extension": ".py",
   "mimetype": "text/x-python",
   "name": "python",
   "nbconvert_exporter": "python",
   "pygments_lexer": "ipython3",
   "version": "3.7.6"
  }
 },
 "nbformat": 4,
 "nbformat_minor": 4
}
