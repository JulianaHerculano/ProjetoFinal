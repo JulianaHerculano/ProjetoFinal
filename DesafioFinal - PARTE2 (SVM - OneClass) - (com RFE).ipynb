{
 "cells": [
  {
   "cell_type": "code",
   "execution_count": 1,
   "metadata": {},
   "outputs": [],
   "source": [
    "# Importando as Bibliotecas\n",
    "import pandas as pd\n",
    "from sklearn.svm import OneClassSVM\n",
    "from sklearn.model_selection import train_test_split"
   ]
  },
  {
   "cell_type": "code",
   "execution_count": 2,
   "metadata": {},
   "outputs": [],
   "source": [
    "# Lendo os arquivos\n",
    "csv_populacao_tratada = pd.read_csv('dataframe_completo.csv')\n",
    "csv_portfolio1 = pd.read_csv('portfolio1.csv')\n",
    "csv_portfolio2 = pd.read_csv('portfolio2.csv')\n",
    "csv_portfolio3 = pd.read_csv('portfolio3.csv')\n",
    "\n",
    "# Criando DataFrame para cada um dos arquivos\n",
    "df_populacao = pd.DataFrame(csv_populacao_tratada)\n",
    "df_portfolio1 = pd.DataFrame(csv_portfolio1)\n",
    "df_portfolio2 = pd.DataFrame(csv_portfolio2)\n",
    "df_portfolio3 = pd.DataFrame(csv_portfolio3)"
   ]
  },
  {
   "cell_type": "code",
   "execution_count": 3,
   "metadata": {},
   "outputs": [
    {
     "data": {
      "text/plain": [
       "(462298, 424)"
      ]
     },
     "execution_count": 3,
     "metadata": {},
     "output_type": "execute_result"
    }
   ],
   "source": [
    "df_populacao.shape"
   ]
  },
  {
   "cell_type": "code",
   "execution_count": 4,
   "metadata": {},
   "outputs": [
    {
     "data": {
      "text/plain": [
       "(555, 182)"
      ]
     },
     "execution_count": 4,
     "metadata": {},
     "output_type": "execute_result"
    }
   ],
   "source": [
    "df_portfolio1.shape"
   ]
  },
  {
   "cell_type": "code",
   "execution_count": 5,
   "metadata": {},
   "outputs": [
    {
     "data": {
      "text/plain": [
       "(566, 2)"
      ]
     },
     "execution_count": 5,
     "metadata": {},
     "output_type": "execute_result"
    }
   ],
   "source": [
    "df_portfolio2.shape"
   ]
  },
  {
   "cell_type": "code",
   "execution_count": 6,
   "metadata": {},
   "outputs": [
    {
     "data": {
      "text/plain": [
       "(265, 2)"
      ]
     },
     "execution_count": 6,
     "metadata": {},
     "output_type": "execute_result"
    }
   ],
   "source": [
    "df_portfolio3.shape"
   ]
  },
  {
   "cell_type": "markdown",
   "metadata": {},
   "source": [
    "## TREINO e TESTE"
   ]
  },
  {
   "cell_type": "code",
   "execution_count": 7,
   "metadata": {},
   "outputs": [],
   "source": [
    "# DataFrame (df_entrada): é o DataFrame criado a partir da lista de clientes do usuário (upload arquivo)\n",
    "# Queremos apenas o valor de \"id\". As outras colunas \"não interessam, pois já temos as informações na população\n",
    "df_entrada = pd.DataFrame(df_portfolio3['id'])\n",
    "\n",
    "# Criando a coluna \"target\" no DataFrame que recebemos de entrada (que contém a lista das empresas (portfolio))\n",
    "# E atribuindo o valor target = 1\n",
    "df_entrada['target'] = 1"
   ]
  },
  {
   "cell_type": "code",
   "execution_count": 8,
   "metadata": {},
   "outputs": [
    {
     "data": {
      "text/plain": [
       "Index(['id', 'target'], dtype='object')"
      ]
     },
     "execution_count": 8,
     "metadata": {},
     "output_type": "execute_result"
    }
   ],
   "source": [
    "df_entrada.columns"
   ]
  },
  {
   "cell_type": "code",
   "execution_count": 9,
   "metadata": {},
   "outputs": [],
   "source": [
    "df_completo = pd.merge(df_populacao, df_entrada, how='outer', on ='id')"
   ]
  },
  {
   "cell_type": "code",
   "execution_count": 10,
   "metadata": {},
   "outputs": [
    {
     "data": {
      "text/plain": [
       "(462298, 425)"
      ]
     },
     "execution_count": 10,
     "metadata": {},
     "output_type": "execute_result"
    }
   ],
   "source": [
    "df_completo.shape"
   ]
  },
  {
   "cell_type": "code",
   "execution_count": 11,
   "metadata": {},
   "outputs": [],
   "source": [
    "df_completo.drop(columns = 'Unnamed: 0', inplace = True)"
   ]
  },
  {
   "cell_type": "code",
   "execution_count": 12,
   "metadata": {},
   "outputs": [
    {
     "data": {
      "text/plain": [
       "(462298, 424)"
      ]
     },
     "execution_count": 12,
     "metadata": {},
     "output_type": "execute_result"
    }
   ],
   "source": [
    "df_completo.shape"
   ]
  },
  {
   "cell_type": "code",
   "execution_count": 13,
   "metadata": {},
   "outputs": [],
   "source": [
    "# Colocando zeros onde \"Target\" é NaN (ou seja, != 1)\n",
    "df_completo['target'].fillna(value = 0, inplace=True)"
   ]
  },
  {
   "cell_type": "code",
   "execution_count": 14,
   "metadata": {},
   "outputs": [
    {
     "data": {
      "text/plain": [
       "0"
      ]
     },
     "execution_count": 14,
     "metadata": {},
     "output_type": "execute_result"
    }
   ],
   "source": [
    "df_completo['target'].isna().sum()"
   ]
  },
  {
   "cell_type": "code",
   "execution_count": 15,
   "metadata": {},
   "outputs": [],
   "source": [
    "# Vamos trabalhar com o DataFrame (df_completo)"
   ]
  },
  {
   "cell_type": "markdown",
   "metadata": {},
   "source": [
    "## RFE !"
   ]
  },
  {
   "cell_type": "code",
   "execution_count": 16,
   "metadata": {},
   "outputs": [],
   "source": [
    "from sklearn.feature_selection import RFE\n",
    "from sklearn.linear_model import LinearRegression\n",
    "from sklearn.svm import SVR"
   ]
  },
  {
   "cell_type": "code",
   "execution_count": 17,
   "metadata": {},
   "outputs": [
    {
     "data": {
      "text/plain": [
       "(265, 2)"
      ]
     },
     "execution_count": 17,
     "metadata": {},
     "output_type": "execute_result"
    }
   ],
   "source": [
    "df_entrada.shape"
   ]
  },
  {
   "cell_type": "code",
   "execution_count": 18,
   "metadata": {},
   "outputs": [],
   "source": [
    "#df_completo_RFE = df_completo\n",
    "#df_completo_RFE.drop(columns= 'id', inplace = True)"
   ]
  },
  {
   "cell_type": "code",
   "execution_count": 19,
   "metadata": {},
   "outputs": [],
   "source": [
    "df_completo_RFE = pd.merge(df_entrada, df_populacao, how='inner', on ='id')"
   ]
  },
  {
   "cell_type": "code",
   "execution_count": 20,
   "metadata": {},
   "outputs": [],
   "source": [
    "salvando_ID = df_completo_RFE['id']"
   ]
  },
  {
   "cell_type": "code",
   "execution_count": 21,
   "metadata": {},
   "outputs": [
    {
     "data": {
      "text/html": [
       "<div>\n",
       "<style scoped>\n",
       "    .dataframe tbody tr th:only-of-type {\n",
       "        vertical-align: middle;\n",
       "    }\n",
       "\n",
       "    .dataframe tbody tr th {\n",
       "        vertical-align: top;\n",
       "    }\n",
       "\n",
       "    .dataframe thead th {\n",
       "        text-align: right;\n",
       "    }\n",
       "</style>\n",
       "<table border=\"1\" class=\"dataframe\">\n",
       "  <thead>\n",
       "    <tr style=\"text-align: right;\">\n",
       "      <th></th>\n",
       "      <th>id</th>\n",
       "    </tr>\n",
       "  </thead>\n",
       "  <tbody>\n",
       "    <tr>\n",
       "      <th>0</th>\n",
       "      <td>bb61c09449a1c1f8b78955d8b7a7f73599e78358993fe2...</td>\n",
       "    </tr>\n",
       "    <tr>\n",
       "      <th>1</th>\n",
       "      <td>16843c9ffb920170477118933798510d8d5f00f5c56c12...</td>\n",
       "    </tr>\n",
       "    <tr>\n",
       "      <th>2</th>\n",
       "      <td>1b8d092daff12bed8b3c2ab93bf5df2921865a68aca185...</td>\n",
       "    </tr>\n",
       "    <tr>\n",
       "      <th>3</th>\n",
       "      <td>3aafa3a1f12f483740a52956af100223333d0e3c79bf2c...</td>\n",
       "    </tr>\n",
       "    <tr>\n",
       "      <th>4</th>\n",
       "      <td>c60431fbca90067f105570e1e8a684bcd7048205bbf6c4...</td>\n",
       "    </tr>\n",
       "  </tbody>\n",
       "</table>\n",
       "</div>"
      ],
      "text/plain": [
       "                                                  id\n",
       "0  bb61c09449a1c1f8b78955d8b7a7f73599e78358993fe2...\n",
       "1  16843c9ffb920170477118933798510d8d5f00f5c56c12...\n",
       "2  1b8d092daff12bed8b3c2ab93bf5df2921865a68aca185...\n",
       "3  3aafa3a1f12f483740a52956af100223333d0e3c79bf2c...\n",
       "4  c60431fbca90067f105570e1e8a684bcd7048205bbf6c4..."
      ]
     },
     "execution_count": 21,
     "metadata": {},
     "output_type": "execute_result"
    }
   ],
   "source": [
    "df_ID = pd.DataFrame({'id': salvando_ID})\n",
    "df_ID.head()"
   ]
  },
  {
   "cell_type": "code",
   "execution_count": 22,
   "metadata": {},
   "outputs": [],
   "source": [
    "df_completo_RFE.drop(columns = 'id', inplace = True)"
   ]
  },
  {
   "cell_type": "code",
   "execution_count": 23,
   "metadata": {},
   "outputs": [
    {
     "data": {
      "text/plain": [
       "(265, 424)"
      ]
     },
     "execution_count": 23,
     "metadata": {},
     "output_type": "execute_result"
    }
   ],
   "source": [
    "df_completo_RFE.shape"
   ]
  },
  {
   "cell_type": "code",
   "execution_count": 24,
   "metadata": {},
   "outputs": [],
   "source": [
    "Y_treino_RFE = df_completo_RFE['target']\n",
    "X_treino_RFE = df_completo_RFE.drop(columns = 'target')"
   ]
  },
  {
   "cell_type": "code",
   "execution_count": 25,
   "metadata": {},
   "outputs": [],
   "source": [
    "#reg= LinearRegression()\n",
    "#reg.fit(X_train, y_train)\n",
    "#rfe = RFE(reg)\n",
    "#rfe.fit(X_train, y_train)"
   ]
  },
  {
   "cell_type": "code",
   "execution_count": 26,
   "metadata": {},
   "outputs": [],
   "source": [
    "estimator = SVR(kernel=\"linear\")"
   ]
  },
  {
   "cell_type": "code",
   "execution_count": 27,
   "metadata": {},
   "outputs": [],
   "source": [
    "selector = RFE(estimator)"
   ]
  },
  {
   "cell_type": "code",
   "execution_count": 28,
   "metadata": {},
   "outputs": [],
   "source": [
    "selecionadas = selector.fit(X_treino_RFE, Y_treino_RFE)"
   ]
  },
  {
   "cell_type": "code",
   "execution_count": 29,
   "metadata": {},
   "outputs": [
    {
     "data": {
      "text/plain": [
       "RFE(estimator=SVR(C=1.0, cache_size=200, coef0=0.0, degree=3, epsilon=0.1,\n",
       "                  gamma='scale', kernel='linear', max_iter=-1, shrinking=True,\n",
       "                  tol=0.001, verbose=False),\n",
       "    n_features_to_select=None, step=1, verbose=0)"
      ]
     },
     "execution_count": 29,
     "metadata": {},
     "output_type": "execute_result"
    }
   ],
   "source": [
    "selecionadas"
   ]
  },
  {
   "cell_type": "code",
   "execution_count": 30,
   "metadata": {},
   "outputs": [],
   "source": [
    "df_colunas_RFE_auxiliar = pd.DataFrame({'coluna': X_treino_RFE.columns, 'bool': selector.get_support()})\n",
    "lista_colunas_NAO_selecionadas = list(df_colunas_RFE_auxiliar[df_colunas_RFE_auxiliar['bool'] == False]['coluna'])"
   ]
  },
  {
   "cell_type": "code",
   "execution_count": 31,
   "metadata": {},
   "outputs": [
    {
     "data": {
      "text/plain": [
       "212"
      ]
     },
     "execution_count": 31,
     "metadata": {},
     "output_type": "execute_result"
    }
   ],
   "source": [
    "len(lista_colunas_NAO_selecionadas)"
   ]
  },
  {
   "cell_type": "markdown",
   "metadata": {},
   "source": [
    "### Preparando o dataFrame para usarmos!"
   ]
  },
  {
   "cell_type": "code",
   "execution_count": 32,
   "metadata": {},
   "outputs": [],
   "source": [
    "df_completo_AUX = df_completo"
   ]
  },
  {
   "cell_type": "code",
   "execution_count": 33,
   "metadata": {},
   "outputs": [
    {
     "data": {
      "text/plain": [
       "(462298, 424)"
      ]
     },
     "execution_count": 33,
     "metadata": {},
     "output_type": "execute_result"
    }
   ],
   "source": [
    "df_completo_AUX.shape"
   ]
  },
  {
   "cell_type": "code",
   "execution_count": 34,
   "metadata": {},
   "outputs": [],
   "source": [
    "lista_colunas_NAO_selecionadas.remove('Unnamed: 0')"
   ]
  },
  {
   "cell_type": "code",
   "execution_count": 35,
   "metadata": {},
   "outputs": [],
   "source": [
    "df_colunasSelecionadas = df_completo_AUX.drop(columns = lista_colunas_NAO_selecionadas)"
   ]
  },
  {
   "cell_type": "code",
   "execution_count": 36,
   "metadata": {},
   "outputs": [
    {
     "data": {
      "text/plain": [
       "(462298, 213)"
      ]
     },
     "execution_count": 36,
     "metadata": {},
     "output_type": "execute_result"
    }
   ],
   "source": [
    "df_colunasSelecionadas.shape"
   ]
  },
  {
   "cell_type": "code",
   "execution_count": 37,
   "metadata": {},
   "outputs": [
    {
     "data": {
      "text/plain": [
       "Index(['id',\n",
       "       'nm_divisao_FABRICACAO DE VEICULOS AUTOMOTORES REBOQUES E CARROCERIAS',\n",
       "       'nm_divisao_IMPRESSAO E REPRODUCAO DE GRAVACOES',\n",
       "       'nm_divisao_MANUTENCAO REPARACAO E INSTALACAO DE MAQUINAS E EQUIPAMENTOS',\n",
       "       'nm_divisao_METALURGIA', 'nm_divisao_OBRAS DE INFRA ESTRUTURA',\n",
       "       'nm_divisao_ORGANISMOS INTERNACIONAIS E OUTRAS INSTITUICOES EXTRATERRITORIAIS',\n",
       "       'nm_divisao_OUTRAS ATIVIDADES DE SERVICOS PESSOAIS',\n",
       "       'nm_divisao_OUTRAS ATIVIDADES PROFISSIONAIS CIENTIFICAS E TECNICAS',\n",
       "       'nm_divisao_PESCA E AQUICULTURA',\n",
       "       ...\n",
       "       'de_faixa_faturamento_estimado_grupo_DE R$ 500.000.000,01 A 1 BILHAO DE REAIS',\n",
       "       'de_faixa_faturamento_estimado_grupo_DE R$ 81.000,01 A R$ 360.000,00',\n",
       "       'fl_spa', 'fl_antt', 'fl_veiculo', 'fl_optante_simples',\n",
       "       'fl_optante_simei', 'fl_simples_irregular', 'fl_passivel_iss',\n",
       "       'target'],\n",
       "      dtype='object', length=213)"
      ]
     },
     "execution_count": 37,
     "metadata": {},
     "output_type": "execute_result"
    }
   ],
   "source": [
    "df_colunasSelecionadas.columns"
   ]
  },
  {
   "cell_type": "markdown",
   "metadata": {},
   "source": [
    "### Avaliando: SVM.OneClass : TREINO e TESTE + SVM.OneClass\n",
    "#### Vou juntar todas as partes aqui para conseguir avaliar o algoritmo com os portfolios passados!"
   ]
  },
  {
   "cell_type": "markdown",
   "metadata": {},
   "source": [
    "#### TREINO e TESTE"
   ]
  },
  {
   "cell_type": "code",
   "execution_count": 38,
   "metadata": {},
   "outputs": [],
   "source": [
    "df_completo = df_colunasSelecionadas"
   ]
  },
  {
   "cell_type": "code",
   "execution_count": 39,
   "metadata": {},
   "outputs": [
    {
     "data": {
      "text/plain": [
       "(462298, 213)"
      ]
     },
     "execution_count": 39,
     "metadata": {},
     "output_type": "execute_result"
    }
   ],
   "source": [
    "df_completo.shape"
   ]
  },
  {
   "cell_type": "code",
   "execution_count": 40,
   "metadata": {},
   "outputs": [],
   "source": [
    "# Salvando os valores de \"id\" em (ArmazenandoID)\n",
    "ArmazenandoID = df_completo['id']\n",
    "#df_completo.drop(columns = 'id', inplace=True)"
   ]
  },
  {
   "cell_type": "code",
   "execution_count": 41,
   "metadata": {},
   "outputs": [],
   "source": [
    "# Definindo a base de TREINO (portfolio): Y_treino, X_treino\n",
    "# Salvando em \"df_completo_TREINO\" as linhas do DataFrame que tem \"target = 1\"\n",
    "df_completo_TREINO = df_completo.loc[(df_completo['target'] == 1)]\n",
    "\n",
    "Y_treino = df_completo_TREINO['target']\n",
    "X_treino = df_completo_TREINO.drop(columns ='target')"
   ]
  },
  {
   "cell_type": "code",
   "execution_count": 42,
   "metadata": {},
   "outputs": [],
   "source": [
    "X_treino_split, X_teste_split, Y_treino_split, Y_teste_split = train_test_split(X_treino, Y_treino, test_size=0.2)"
   ]
  },
  {
   "cell_type": "code",
   "execution_count": 43,
   "metadata": {},
   "outputs": [
    {
     "data": {
      "text/plain": [
       "(212, 212)"
      ]
     },
     "execution_count": 43,
     "metadata": {},
     "output_type": "execute_result"
    }
   ],
   "source": [
    "X_treino_split.shape"
   ]
  },
  {
   "cell_type": "code",
   "execution_count": 44,
   "metadata": {},
   "outputs": [
    {
     "data": {
      "text/plain": [
       "(53, 212)"
      ]
     },
     "execution_count": 44,
     "metadata": {},
     "output_type": "execute_result"
    }
   ],
   "source": [
    "X_teste_split.shape"
   ]
  },
  {
   "cell_type": "code",
   "execution_count": 45,
   "metadata": {},
   "outputs": [
    {
     "data": {
      "text/plain": [
       "(212,)"
      ]
     },
     "execution_count": 45,
     "metadata": {},
     "output_type": "execute_result"
    }
   ],
   "source": [
    "Y_treino_split.shape"
   ]
  },
  {
   "cell_type": "code",
   "execution_count": 46,
   "metadata": {},
   "outputs": [
    {
     "data": {
      "text/plain": [
       "(53,)"
      ]
     },
     "execution_count": 46,
     "metadata": {},
     "output_type": "execute_result"
    }
   ],
   "source": [
    "Y_teste_split.shape"
   ]
  },
  {
   "cell_type": "code",
   "execution_count": 47,
   "metadata": {},
   "outputs": [],
   "source": [
    "Y_treino = Y_treino_split\n",
    "X_treino = X_treino_split"
   ]
  },
  {
   "cell_type": "code",
   "execution_count": 48,
   "metadata": {},
   "outputs": [],
   "source": [
    "lista_ID_X_TREINO = list(X_treino['id'])"
   ]
  },
  {
   "cell_type": "code",
   "execution_count": 49,
   "metadata": {},
   "outputs": [],
   "source": [
    "df_lista_ID_X_TREINO = pd.DataFrame({'id': lista_ID_X_TREINO})"
   ]
  },
  {
   "cell_type": "code",
   "execution_count": 50,
   "metadata": {},
   "outputs": [],
   "source": [
    "# Definindo a base de TEST: X_teste, Y_predito\n",
    "# (população, excluindo as empresas que fazem parte da lista da empresa, ou seja, \"target = 0\")\n",
    "# Salvando em \"df_result_0\" as linhas do DataFrame que tem \"target = 0\"\n",
    "df_completo_TESTE = df_completo.loc[(df_completo['target'] == 0)]\n",
    "X_teste = df_completo_TESTE.drop(columns ='target')\n",
    "# Y_predito: vai ser o resultado da previsão do Modelo"
   ]
  },
  {
   "cell_type": "code",
   "execution_count": 51,
   "metadata": {},
   "outputs": [
    {
     "data": {
      "text/plain": [
       "(53, 212)"
      ]
     },
     "execution_count": 51,
     "metadata": {},
     "output_type": "execute_result"
    }
   ],
   "source": [
    "X_teste_split.shape"
   ]
  },
  {
   "cell_type": "code",
   "execution_count": 52,
   "metadata": {},
   "outputs": [
    {
     "data": {
      "text/plain": [
       "(53,)"
      ]
     },
     "execution_count": 52,
     "metadata": {},
     "output_type": "execute_result"
    }
   ],
   "source": [
    "Y_teste_split.shape"
   ]
  },
  {
   "cell_type": "code",
   "execution_count": 53,
   "metadata": {},
   "outputs": [
    {
     "data": {
      "text/plain": [
       "Index(['id',\n",
       "       'nm_divisao_FABRICACAO DE VEICULOS AUTOMOTORES REBOQUES E CARROCERIAS',\n",
       "       'nm_divisao_IMPRESSAO E REPRODUCAO DE GRAVACOES',\n",
       "       'nm_divisao_MANUTENCAO REPARACAO E INSTALACAO DE MAQUINAS E EQUIPAMENTOS',\n",
       "       'nm_divisao_METALURGIA', 'nm_divisao_OBRAS DE INFRA ESTRUTURA',\n",
       "       'nm_divisao_ORGANISMOS INTERNACIONAIS E OUTRAS INSTITUICOES EXTRATERRITORIAIS',\n",
       "       'nm_divisao_OUTRAS ATIVIDADES DE SERVICOS PESSOAIS',\n",
       "       'nm_divisao_OUTRAS ATIVIDADES PROFISSIONAIS CIENTIFICAS E TECNICAS',\n",
       "       'nm_divisao_PESCA E AQUICULTURA',\n",
       "       ...\n",
       "       'de_faixa_faturamento_estimado_grupo_DE R$ 4.800.000,01 A R$ 10.000.000,00',\n",
       "       'de_faixa_faturamento_estimado_grupo_DE R$ 500.000.000,01 A 1 BILHAO DE REAIS',\n",
       "       'de_faixa_faturamento_estimado_grupo_DE R$ 81.000,01 A R$ 360.000,00',\n",
       "       'fl_spa', 'fl_antt', 'fl_veiculo', 'fl_optante_simples',\n",
       "       'fl_optante_simei', 'fl_simples_irregular', 'fl_passivel_iss'],\n",
       "      dtype='object', length=212)"
      ]
     },
     "execution_count": 53,
     "metadata": {},
     "output_type": "execute_result"
    }
   ],
   "source": [
    "X_teste.columns"
   ]
  },
  {
   "cell_type": "code",
   "execution_count": 54,
   "metadata": {},
   "outputs": [],
   "source": [
    "lista_X_ID_TESTE_split = list(X_teste_split['id'])\n",
    "lista_X_ID_TREINO_split = list(X_treino_split['id'])"
   ]
  },
  {
   "cell_type": "code",
   "execution_count": 55,
   "metadata": {},
   "outputs": [],
   "source": [
    "df_X_ID_TESTE_split = pd.DataFrame({'id': lista_X_ID_TESTE_split})\n",
    "df_X_ID_TREINO_split = pd.DataFrame({'id': lista_X_ID_TREINO_split})"
   ]
  },
  {
   "cell_type": "code",
   "execution_count": 56,
   "metadata": {},
   "outputs": [
    {
     "data": {
      "text/plain": [
       "(212, 1)"
      ]
     },
     "execution_count": 56,
     "metadata": {},
     "output_type": "execute_result"
    }
   ],
   "source": [
    "df_X_ID_TREINO_split.shape"
   ]
  },
  {
   "cell_type": "code",
   "execution_count": 57,
   "metadata": {},
   "outputs": [
    {
     "data": {
      "text/html": [
       "<div>\n",
       "<style scoped>\n",
       "    .dataframe tbody tr th:only-of-type {\n",
       "        vertical-align: middle;\n",
       "    }\n",
       "\n",
       "    .dataframe tbody tr th {\n",
       "        vertical-align: top;\n",
       "    }\n",
       "\n",
       "    .dataframe thead th {\n",
       "        text-align: right;\n",
       "    }\n",
       "</style>\n",
       "<table border=\"1\" class=\"dataframe\">\n",
       "  <thead>\n",
       "    <tr style=\"text-align: right;\">\n",
       "      <th></th>\n",
       "      <th>id</th>\n",
       "    </tr>\n",
       "  </thead>\n",
       "  <tbody>\n",
       "    <tr>\n",
       "      <th>0</th>\n",
       "      <td>694225b2e4d36734474c4b0ea6ca5b5280fb2099ead533...</td>\n",
       "    </tr>\n",
       "    <tr>\n",
       "      <th>1</th>\n",
       "      <td>7439f14e03954c2a82546b23ffed0777fb72c1c1ce91b3...</td>\n",
       "    </tr>\n",
       "    <tr>\n",
       "      <th>2</th>\n",
       "      <td>feb9c97a3f694c22a919d9544c433da92d34d5717b43d5...</td>\n",
       "    </tr>\n",
       "    <tr>\n",
       "      <th>3</th>\n",
       "      <td>e4f7de0e8a799d4482c84b938c8f644475447bd69c4076...</td>\n",
       "    </tr>\n",
       "    <tr>\n",
       "      <th>4</th>\n",
       "      <td>81cca75e9a1f5677aa6743e46d1ee0ceaab045977ecc9c...</td>\n",
       "    </tr>\n",
       "  </tbody>\n",
       "</table>\n",
       "</div>"
      ],
      "text/plain": [
       "                                                  id\n",
       "0  694225b2e4d36734474c4b0ea6ca5b5280fb2099ead533...\n",
       "1  7439f14e03954c2a82546b23ffed0777fb72c1c1ce91b3...\n",
       "2  feb9c97a3f694c22a919d9544c433da92d34d5717b43d5...\n",
       "3  e4f7de0e8a799d4482c84b938c8f644475447bd69c4076...\n",
       "4  81cca75e9a1f5677aa6743e46d1ee0ceaab045977ecc9c..."
      ]
     },
     "execution_count": 57,
     "metadata": {},
     "output_type": "execute_result"
    }
   ],
   "source": [
    "df_X_ID_TESTE_split.head()"
   ]
  },
  {
   "cell_type": "code",
   "execution_count": 58,
   "metadata": {},
   "outputs": [
    {
     "data": {
      "text/plain": [
       "(462033, 212)"
      ]
     },
     "execution_count": 58,
     "metadata": {},
     "output_type": "execute_result"
    }
   ],
   "source": [
    "X_teste.shape"
   ]
  },
  {
   "cell_type": "code",
   "execution_count": 59,
   "metadata": {},
   "outputs": [],
   "source": [
    "# (X_teste_split): DataFrame teste dos treino COM 20% do portfolio\n",
    "# (X_teste) com (df_X_teste_split)\n",
    "Frames = (X_teste, X_teste_split)\n",
    "X_teste_final = pd.concat(Frames)"
   ]
  },
  {
   "cell_type": "code",
   "execution_count": 60,
   "metadata": {},
   "outputs": [
    {
     "data": {
      "text/html": [
       "<div>\n",
       "<style scoped>\n",
       "    .dataframe tbody tr th:only-of-type {\n",
       "        vertical-align: middle;\n",
       "    }\n",
       "\n",
       "    .dataframe tbody tr th {\n",
       "        vertical-align: top;\n",
       "    }\n",
       "\n",
       "    .dataframe thead th {\n",
       "        text-align: right;\n",
       "    }\n",
       "</style>\n",
       "<table border=\"1\" class=\"dataframe\">\n",
       "  <thead>\n",
       "    <tr style=\"text-align: right;\">\n",
       "      <th></th>\n",
       "      <th>id</th>\n",
       "      <th>nm_divisao_FABRICACAO DE VEICULOS AUTOMOTORES REBOQUES E CARROCERIAS</th>\n",
       "      <th>nm_divisao_IMPRESSAO E REPRODUCAO DE GRAVACOES</th>\n",
       "      <th>nm_divisao_MANUTENCAO REPARACAO E INSTALACAO DE MAQUINAS E EQUIPAMENTOS</th>\n",
       "      <th>nm_divisao_METALURGIA</th>\n",
       "      <th>nm_divisao_OBRAS DE INFRA ESTRUTURA</th>\n",
       "      <th>nm_divisao_ORGANISMOS INTERNACIONAIS E OUTRAS INSTITUICOES EXTRATERRITORIAIS</th>\n",
       "      <th>nm_divisao_OUTRAS ATIVIDADES DE SERVICOS PESSOAIS</th>\n",
       "      <th>nm_divisao_OUTRAS ATIVIDADES PROFISSIONAIS CIENTIFICAS E TECNICAS</th>\n",
       "      <th>nm_divisao_PESCA E AQUICULTURA</th>\n",
       "      <th>...</th>\n",
       "      <th>de_faixa_faturamento_estimado_grupo_DE R$ 4.800.000,01 A R$ 10.000.000,00</th>\n",
       "      <th>de_faixa_faturamento_estimado_grupo_DE R$ 500.000.000,01 A 1 BILHAO DE REAIS</th>\n",
       "      <th>de_faixa_faturamento_estimado_grupo_DE R$ 81.000,01 A R$ 360.000,00</th>\n",
       "      <th>fl_spa</th>\n",
       "      <th>fl_antt</th>\n",
       "      <th>fl_veiculo</th>\n",
       "      <th>fl_optante_simples</th>\n",
       "      <th>fl_optante_simei</th>\n",
       "      <th>fl_simples_irregular</th>\n",
       "      <th>fl_passivel_iss</th>\n",
       "    </tr>\n",
       "  </thead>\n",
       "  <tbody>\n",
       "    <tr>\n",
       "      <th>0</th>\n",
       "      <td>a6984c3ae395090e3bee8ad63c3758b110de096d5d8195...</td>\n",
       "      <td>0</td>\n",
       "      <td>0</td>\n",
       "      <td>0</td>\n",
       "      <td>0</td>\n",
       "      <td>0</td>\n",
       "      <td>0</td>\n",
       "      <td>0</td>\n",
       "      <td>0</td>\n",
       "      <td>0</td>\n",
       "      <td>...</td>\n",
       "      <td>0</td>\n",
       "      <td>0</td>\n",
       "      <td>0</td>\n",
       "      <td>False</td>\n",
       "      <td>False</td>\n",
       "      <td>False</td>\n",
       "      <td>True</td>\n",
       "      <td>False</td>\n",
       "      <td>False</td>\n",
       "      <td>True</td>\n",
       "    </tr>\n",
       "    <tr>\n",
       "      <th>1</th>\n",
       "      <td>6178f41ade1365e44bc2c46654c2c8c0eaae27dcb476c4...</td>\n",
       "      <td>0</td>\n",
       "      <td>0</td>\n",
       "      <td>0</td>\n",
       "      <td>0</td>\n",
       "      <td>0</td>\n",
       "      <td>0</td>\n",
       "      <td>0</td>\n",
       "      <td>0</td>\n",
       "      <td>0</td>\n",
       "      <td>...</td>\n",
       "      <td>0</td>\n",
       "      <td>0</td>\n",
       "      <td>1</td>\n",
       "      <td>False</td>\n",
       "      <td>False</td>\n",
       "      <td>False</td>\n",
       "      <td>True</td>\n",
       "      <td>False</td>\n",
       "      <td>False</td>\n",
       "      <td>True</td>\n",
       "    </tr>\n",
       "    <tr>\n",
       "      <th>2</th>\n",
       "      <td>4a7e5069a397f12fdd7fd57111d6dc5d3ba558958efc02...</td>\n",
       "      <td>0</td>\n",
       "      <td>0</td>\n",
       "      <td>0</td>\n",
       "      <td>0</td>\n",
       "      <td>0</td>\n",
       "      <td>0</td>\n",
       "      <td>0</td>\n",
       "      <td>0</td>\n",
       "      <td>0</td>\n",
       "      <td>...</td>\n",
       "      <td>0</td>\n",
       "      <td>0</td>\n",
       "      <td>0</td>\n",
       "      <td>False</td>\n",
       "      <td>False</td>\n",
       "      <td>False</td>\n",
       "      <td>True</td>\n",
       "      <td>True</td>\n",
       "      <td>False</td>\n",
       "      <td>True</td>\n",
       "    </tr>\n",
       "    <tr>\n",
       "      <th>3</th>\n",
       "      <td>3348900fe63216a439d2e5238c79ddd46ede454df7b9d8...</td>\n",
       "      <td>0</td>\n",
       "      <td>0</td>\n",
       "      <td>0</td>\n",
       "      <td>0</td>\n",
       "      <td>0</td>\n",
       "      <td>0</td>\n",
       "      <td>0</td>\n",
       "      <td>0</td>\n",
       "      <td>0</td>\n",
       "      <td>...</td>\n",
       "      <td>0</td>\n",
       "      <td>0</td>\n",
       "      <td>1</td>\n",
       "      <td>False</td>\n",
       "      <td>False</td>\n",
       "      <td>False</td>\n",
       "      <td>True</td>\n",
       "      <td>False</td>\n",
       "      <td>False</td>\n",
       "      <td>True</td>\n",
       "    </tr>\n",
       "    <tr>\n",
       "      <th>4</th>\n",
       "      <td>1f9bcabc9d3173c1fe769899e4fac14b053037b953a1e4...</td>\n",
       "      <td>0</td>\n",
       "      <td>0</td>\n",
       "      <td>0</td>\n",
       "      <td>0</td>\n",
       "      <td>0</td>\n",
       "      <td>0</td>\n",
       "      <td>0</td>\n",
       "      <td>0</td>\n",
       "      <td>0</td>\n",
       "      <td>...</td>\n",
       "      <td>0</td>\n",
       "      <td>0</td>\n",
       "      <td>1</td>\n",
       "      <td>False</td>\n",
       "      <td>False</td>\n",
       "      <td>False</td>\n",
       "      <td>True</td>\n",
       "      <td>False</td>\n",
       "      <td>False</td>\n",
       "      <td>True</td>\n",
       "    </tr>\n",
       "    <tr>\n",
       "      <th>...</th>\n",
       "      <td>...</td>\n",
       "      <td>...</td>\n",
       "      <td>...</td>\n",
       "      <td>...</td>\n",
       "      <td>...</td>\n",
       "      <td>...</td>\n",
       "      <td>...</td>\n",
       "      <td>...</td>\n",
       "      <td>...</td>\n",
       "      <td>...</td>\n",
       "      <td>...</td>\n",
       "      <td>...</td>\n",
       "      <td>...</td>\n",
       "      <td>...</td>\n",
       "      <td>...</td>\n",
       "      <td>...</td>\n",
       "      <td>...</td>\n",
       "      <td>...</td>\n",
       "      <td>...</td>\n",
       "      <td>...</td>\n",
       "      <td>...</td>\n",
       "    </tr>\n",
       "    <tr>\n",
       "      <th>326439</th>\n",
       "      <td>7989fef9fa0fe79c7281e0169b0c1e489f811a60b4cdb8...</td>\n",
       "      <td>0</td>\n",
       "      <td>0</td>\n",
       "      <td>0</td>\n",
       "      <td>0</td>\n",
       "      <td>0</td>\n",
       "      <td>0</td>\n",
       "      <td>0</td>\n",
       "      <td>0</td>\n",
       "      <td>0</td>\n",
       "      <td>...</td>\n",
       "      <td>0</td>\n",
       "      <td>0</td>\n",
       "      <td>0</td>\n",
       "      <td>False</td>\n",
       "      <td>False</td>\n",
       "      <td>True</td>\n",
       "      <td>False</td>\n",
       "      <td>False</td>\n",
       "      <td>False</td>\n",
       "      <td>True</td>\n",
       "    </tr>\n",
       "    <tr>\n",
       "      <th>442475</th>\n",
       "      <td>80f32ad2298718d2214f5d10b3aff79cd4f12f58aefe31...</td>\n",
       "      <td>0</td>\n",
       "      <td>0</td>\n",
       "      <td>0</td>\n",
       "      <td>0</td>\n",
       "      <td>0</td>\n",
       "      <td>0</td>\n",
       "      <td>0</td>\n",
       "      <td>0</td>\n",
       "      <td>0</td>\n",
       "      <td>...</td>\n",
       "      <td>0</td>\n",
       "      <td>1</td>\n",
       "      <td>0</td>\n",
       "      <td>False</td>\n",
       "      <td>False</td>\n",
       "      <td>True</td>\n",
       "      <td>False</td>\n",
       "      <td>False</td>\n",
       "      <td>False</td>\n",
       "      <td>True</td>\n",
       "    </tr>\n",
       "    <tr>\n",
       "      <th>20562</th>\n",
       "      <td>bd4595e9ea66e85ecbbef094bb74a0d1ffec143312c6d6...</td>\n",
       "      <td>0</td>\n",
       "      <td>0</td>\n",
       "      <td>0</td>\n",
       "      <td>0</td>\n",
       "      <td>0</td>\n",
       "      <td>0</td>\n",
       "      <td>0</td>\n",
       "      <td>0</td>\n",
       "      <td>0</td>\n",
       "      <td>...</td>\n",
       "      <td>0</td>\n",
       "      <td>0</td>\n",
       "      <td>0</td>\n",
       "      <td>False</td>\n",
       "      <td>False</td>\n",
       "      <td>True</td>\n",
       "      <td>False</td>\n",
       "      <td>False</td>\n",
       "      <td>False</td>\n",
       "      <td>True</td>\n",
       "    </tr>\n",
       "    <tr>\n",
       "      <th>318343</th>\n",
       "      <td>6e6243cba08ab5987f7aabf57abd8058a6bfd9ca02cbe6...</td>\n",
       "      <td>0</td>\n",
       "      <td>0</td>\n",
       "      <td>0</td>\n",
       "      <td>0</td>\n",
       "      <td>0</td>\n",
       "      <td>0</td>\n",
       "      <td>0</td>\n",
       "      <td>0</td>\n",
       "      <td>0</td>\n",
       "      <td>...</td>\n",
       "      <td>0</td>\n",
       "      <td>0</td>\n",
       "      <td>0</td>\n",
       "      <td>False</td>\n",
       "      <td>False</td>\n",
       "      <td>True</td>\n",
       "      <td>False</td>\n",
       "      <td>False</td>\n",
       "      <td>False</td>\n",
       "      <td>True</td>\n",
       "    </tr>\n",
       "    <tr>\n",
       "      <th>354177</th>\n",
       "      <td>634cb7f2ee28a473333226e251624dd97c2fe9fb7ae93d...</td>\n",
       "      <td>0</td>\n",
       "      <td>0</td>\n",
       "      <td>0</td>\n",
       "      <td>0</td>\n",
       "      <td>0</td>\n",
       "      <td>0</td>\n",
       "      <td>0</td>\n",
       "      <td>0</td>\n",
       "      <td>0</td>\n",
       "      <td>...</td>\n",
       "      <td>0</td>\n",
       "      <td>0</td>\n",
       "      <td>0</td>\n",
       "      <td>False</td>\n",
       "      <td>False</td>\n",
       "      <td>True</td>\n",
       "      <td>False</td>\n",
       "      <td>False</td>\n",
       "      <td>False</td>\n",
       "      <td>True</td>\n",
       "    </tr>\n",
       "  </tbody>\n",
       "</table>\n",
       "<p>462086 rows × 212 columns</p>\n",
       "</div>"
      ],
      "text/plain": [
       "                                                       id  \\\n",
       "0       a6984c3ae395090e3bee8ad63c3758b110de096d5d8195...   \n",
       "1       6178f41ade1365e44bc2c46654c2c8c0eaae27dcb476c4...   \n",
       "2       4a7e5069a397f12fdd7fd57111d6dc5d3ba558958efc02...   \n",
       "3       3348900fe63216a439d2e5238c79ddd46ede454df7b9d8...   \n",
       "4       1f9bcabc9d3173c1fe769899e4fac14b053037b953a1e4...   \n",
       "...                                                   ...   \n",
       "326439  7989fef9fa0fe79c7281e0169b0c1e489f811a60b4cdb8...   \n",
       "442475  80f32ad2298718d2214f5d10b3aff79cd4f12f58aefe31...   \n",
       "20562   bd4595e9ea66e85ecbbef094bb74a0d1ffec143312c6d6...   \n",
       "318343  6e6243cba08ab5987f7aabf57abd8058a6bfd9ca02cbe6...   \n",
       "354177  634cb7f2ee28a473333226e251624dd97c2fe9fb7ae93d...   \n",
       "\n",
       "        nm_divisao_FABRICACAO DE VEICULOS AUTOMOTORES REBOQUES E CARROCERIAS  \\\n",
       "0                                                       0                      \n",
       "1                                                       0                      \n",
       "2                                                       0                      \n",
       "3                                                       0                      \n",
       "4                                                       0                      \n",
       "...                                                   ...                      \n",
       "326439                                                  0                      \n",
       "442475                                                  0                      \n",
       "20562                                                   0                      \n",
       "318343                                                  0                      \n",
       "354177                                                  0                      \n",
       "\n",
       "        nm_divisao_IMPRESSAO E REPRODUCAO DE GRAVACOES  \\\n",
       "0                                                    0   \n",
       "1                                                    0   \n",
       "2                                                    0   \n",
       "3                                                    0   \n",
       "4                                                    0   \n",
       "...                                                ...   \n",
       "326439                                               0   \n",
       "442475                                               0   \n",
       "20562                                                0   \n",
       "318343                                               0   \n",
       "354177                                               0   \n",
       "\n",
       "        nm_divisao_MANUTENCAO REPARACAO E INSTALACAO DE MAQUINAS E EQUIPAMENTOS  \\\n",
       "0                                                       0                         \n",
       "1                                                       0                         \n",
       "2                                                       0                         \n",
       "3                                                       0                         \n",
       "4                                                       0                         \n",
       "...                                                   ...                         \n",
       "326439                                                  0                         \n",
       "442475                                                  0                         \n",
       "20562                                                   0                         \n",
       "318343                                                  0                         \n",
       "354177                                                  0                         \n",
       "\n",
       "        nm_divisao_METALURGIA  nm_divisao_OBRAS DE INFRA ESTRUTURA  \\\n",
       "0                           0                                    0   \n",
       "1                           0                                    0   \n",
       "2                           0                                    0   \n",
       "3                           0                                    0   \n",
       "4                           0                                    0   \n",
       "...                       ...                                  ...   \n",
       "326439                      0                                    0   \n",
       "442475                      0                                    0   \n",
       "20562                       0                                    0   \n",
       "318343                      0                                    0   \n",
       "354177                      0                                    0   \n",
       "\n",
       "        nm_divisao_ORGANISMOS INTERNACIONAIS E OUTRAS INSTITUICOES EXTRATERRITORIAIS  \\\n",
       "0                                                       0                              \n",
       "1                                                       0                              \n",
       "2                                                       0                              \n",
       "3                                                       0                              \n",
       "4                                                       0                              \n",
       "...                                                   ...                              \n",
       "326439                                                  0                              \n",
       "442475                                                  0                              \n",
       "20562                                                   0                              \n",
       "318343                                                  0                              \n",
       "354177                                                  0                              \n",
       "\n",
       "        nm_divisao_OUTRAS ATIVIDADES DE SERVICOS PESSOAIS  \\\n",
       "0                                                       0   \n",
       "1                                                       0   \n",
       "2                                                       0   \n",
       "3                                                       0   \n",
       "4                                                       0   \n",
       "...                                                   ...   \n",
       "326439                                                  0   \n",
       "442475                                                  0   \n",
       "20562                                                   0   \n",
       "318343                                                  0   \n",
       "354177                                                  0   \n",
       "\n",
       "        nm_divisao_OUTRAS ATIVIDADES PROFISSIONAIS CIENTIFICAS E TECNICAS  \\\n",
       "0                                                       0                   \n",
       "1                                                       0                   \n",
       "2                                                       0                   \n",
       "3                                                       0                   \n",
       "4                                                       0                   \n",
       "...                                                   ...                   \n",
       "326439                                                  0                   \n",
       "442475                                                  0                   \n",
       "20562                                                   0                   \n",
       "318343                                                  0                   \n",
       "354177                                                  0                   \n",
       "\n",
       "        nm_divisao_PESCA E AQUICULTURA  ...  \\\n",
       "0                                    0  ...   \n",
       "1                                    0  ...   \n",
       "2                                    0  ...   \n",
       "3                                    0  ...   \n",
       "4                                    0  ...   \n",
       "...                                ...  ...   \n",
       "326439                               0  ...   \n",
       "442475                               0  ...   \n",
       "20562                                0  ...   \n",
       "318343                               0  ...   \n",
       "354177                               0  ...   \n",
       "\n",
       "        de_faixa_faturamento_estimado_grupo_DE R$ 4.800.000,01 A R$ 10.000.000,00  \\\n",
       "0                                                       0                           \n",
       "1                                                       0                           \n",
       "2                                                       0                           \n",
       "3                                                       0                           \n",
       "4                                                       0                           \n",
       "...                                                   ...                           \n",
       "326439                                                  0                           \n",
       "442475                                                  0                           \n",
       "20562                                                   0                           \n",
       "318343                                                  0                           \n",
       "354177                                                  0                           \n",
       "\n",
       "        de_faixa_faturamento_estimado_grupo_DE R$ 500.000.000,01 A 1 BILHAO DE REAIS  \\\n",
       "0                                                       0                              \n",
       "1                                                       0                              \n",
       "2                                                       0                              \n",
       "3                                                       0                              \n",
       "4                                                       0                              \n",
       "...                                                   ...                              \n",
       "326439                                                  0                              \n",
       "442475                                                  1                              \n",
       "20562                                                   0                              \n",
       "318343                                                  0                              \n",
       "354177                                                  0                              \n",
       "\n",
       "        de_faixa_faturamento_estimado_grupo_DE R$ 81.000,01 A R$ 360.000,00  \\\n",
       "0                                                       0                     \n",
       "1                                                       1                     \n",
       "2                                                       0                     \n",
       "3                                                       1                     \n",
       "4                                                       1                     \n",
       "...                                                   ...                     \n",
       "326439                                                  0                     \n",
       "442475                                                  0                     \n",
       "20562                                                   0                     \n",
       "318343                                                  0                     \n",
       "354177                                                  0                     \n",
       "\n",
       "        fl_spa  fl_antt  fl_veiculo  fl_optante_simples  fl_optante_simei  \\\n",
       "0        False    False       False                True             False   \n",
       "1        False    False       False                True             False   \n",
       "2        False    False       False                True              True   \n",
       "3        False    False       False                True             False   \n",
       "4        False    False       False                True             False   \n",
       "...        ...      ...         ...                 ...               ...   \n",
       "326439   False    False        True               False             False   \n",
       "442475   False    False        True               False             False   \n",
       "20562    False    False        True               False             False   \n",
       "318343   False    False        True               False             False   \n",
       "354177   False    False        True               False             False   \n",
       "\n",
       "        fl_simples_irregular  fl_passivel_iss  \n",
       "0                      False             True  \n",
       "1                      False             True  \n",
       "2                      False             True  \n",
       "3                      False             True  \n",
       "4                      False             True  \n",
       "...                      ...              ...  \n",
       "326439                 False             True  \n",
       "442475                 False             True  \n",
       "20562                  False             True  \n",
       "318343                 False             True  \n",
       "354177                 False             True  \n",
       "\n",
       "[462086 rows x 212 columns]"
      ]
     },
     "execution_count": 60,
     "metadata": {},
     "output_type": "execute_result"
    }
   ],
   "source": [
    "X_teste_final"
   ]
  },
  {
   "cell_type": "code",
   "execution_count": 61,
   "metadata": {},
   "outputs": [],
   "source": [
    "lista_ID_X_teste_Final = list(X_teste_final['id'])"
   ]
  },
  {
   "cell_type": "code",
   "execution_count": 62,
   "metadata": {},
   "outputs": [],
   "source": [
    "# DataFrame com uma única coluna \"id\" com os ids de todos as colunas em \"TREINO\"\n",
    "df_lista_ID_X_teste_Final = pd.DataFrame({'id': lista_ID_X_teste_Final})"
   ]
  },
  {
   "cell_type": "code",
   "execution_count": 63,
   "metadata": {},
   "outputs": [
    {
     "data": {
      "text/plain": [
       "Index(['id'], dtype='object')"
      ]
     },
     "execution_count": 63,
     "metadata": {},
     "output_type": "execute_result"
    }
   ],
   "source": [
    "df_lista_ID_X_teste_Final.columns"
   ]
  },
  {
   "cell_type": "code",
   "execution_count": 64,
   "metadata": {},
   "outputs": [
    {
     "data": {
      "text/plain": [
       "(462086, 212)"
      ]
     },
     "execution_count": 64,
     "metadata": {},
     "output_type": "execute_result"
    }
   ],
   "source": [
    "X_teste_final.shape"
   ]
  },
  {
   "cell_type": "code",
   "execution_count": 65,
   "metadata": {},
   "outputs": [],
   "source": [
    "# Lembrando que os \"ids\" estão armazenados em (lista_ID_X_teste_Final)/(df_lista_ID_X_teste_Final)\n",
    "X_teste_final.drop(columns = 'id', inplace =True)"
   ]
  },
  {
   "cell_type": "code",
   "execution_count": 66,
   "metadata": {},
   "outputs": [
    {
     "data": {
      "text/plain": [
       "(462086, 211)"
      ]
     },
     "execution_count": 66,
     "metadata": {},
     "output_type": "execute_result"
    }
   ],
   "source": [
    "X_teste_final.shape"
   ]
  },
  {
   "cell_type": "code",
   "execution_count": 67,
   "metadata": {},
   "outputs": [],
   "source": [
    "# Lembrando que os \"ids\"estão armazenados em (lista_ID_X_TREINO)/(df_lista_ID_X_TREINO)\n",
    "X_treino.drop(columns = 'id', inplace =True)"
   ]
  },
  {
   "cell_type": "code",
   "execution_count": 68,
   "metadata": {},
   "outputs": [
    {
     "data": {
      "text/plain": [
       "(212, 211)"
      ]
     },
     "execution_count": 68,
     "metadata": {},
     "output_type": "execute_result"
    }
   ],
   "source": [
    "X_treino.shape"
   ]
  },
  {
   "cell_type": "code",
   "execution_count": 69,
   "metadata": {},
   "outputs": [
    {
     "data": {
      "text/plain": [
       "nm_divisao_FABRICACAO DE VEICULOS AUTOMOTORES REBOQUES E CARROCERIAS       0\n",
       "nm_divisao_IMPRESSAO E REPRODUCAO DE GRAVACOES                             0\n",
       "nm_divisao_MANUTENCAO REPARACAO E INSTALACAO DE MAQUINAS E EQUIPAMENTOS    0\n",
       "nm_divisao_METALURGIA                                                      0\n",
       "nm_divisao_OBRAS DE INFRA ESTRUTURA                                        0\n",
       "                                                                          ..\n",
       "fl_veiculo                                                                 0\n",
       "fl_optante_simples                                                         0\n",
       "fl_optante_simei                                                           0\n",
       "fl_simples_irregular                                                       0\n",
       "fl_passivel_iss                                                            0\n",
       "Length: 211, dtype: int64"
      ]
     },
     "execution_count": 69,
     "metadata": {},
     "output_type": "execute_result"
    }
   ],
   "source": [
    "X_teste_final.isna().sum()"
   ]
  },
  {
   "cell_type": "markdown",
   "metadata": {},
   "source": [
    "#### OneClass.SVM"
   ]
  },
  {
   "cell_type": "code",
   "execution_count": 70,
   "metadata": {},
   "outputs": [],
   "source": [
    "# OneClass.SVM\n",
    "one_class_SVM = OneClassSVM(kernel='rbf')\n",
    "resultado_OneClass_FIT = one_class_SVM.fit(X_treino)\n",
    "resultado_OneClass_PREDICT = one_class_SVM.predict(X_teste_final)"
   ]
  },
  {
   "cell_type": "markdown",
   "metadata": {},
   "source": [
    "#### Analisando o Resultado!"
   ]
  },
  {
   "cell_type": "code",
   "execution_count": 71,
   "metadata": {},
   "outputs": [],
   "source": [
    "# df_ArmazenandoID.head()"
   ]
  },
  {
   "cell_type": "code",
   "execution_count": 72,
   "metadata": {},
   "outputs": [],
   "source": [
    "# Criando o DataFrame (df_resultado) e igualamos ao (df_ArmazenandoID)\n",
    "# Falta: adicionar o (df_completo) ao (df_resultado)\n",
    "# Falta: adicionar o resultado predito! (df_resultado_OneClass_PREDICT, DataFrame com uma única coluna)\n",
    "df_resultado = pd.DataFrame(df_lista_ID_X_teste_Final)"
   ]
  },
  {
   "cell_type": "code",
   "execution_count": 73,
   "metadata": {},
   "outputs": [],
   "source": [
    "# Juntando o DataFrame (df_resultado) com com DataFrame (df_completo)\n",
    "# df_resultado = df_resultado.join(df_completo)"
   ]
  },
  {
   "cell_type": "code",
   "execution_count": 74,
   "metadata": {},
   "outputs": [],
   "source": [
    "# Criando um DataFrame com uma única coluna que contém o resultado predito!\n",
    "df_resultado_OneClass_PREDICT = pd.DataFrame({'resultado_OneClass_PREDICT': resultado_OneClass_PREDICT})"
   ]
  },
  {
   "cell_type": "code",
   "execution_count": 75,
   "metadata": {},
   "outputs": [],
   "source": [
    "# Juntando o DataFrame (df_resultado) com com DataFrame (resultado_OneClass_PREDICT)\n",
    "df_resultado = df_resultado.join(df_resultado_OneClass_PREDICT)"
   ]
  },
  {
   "cell_type": "code",
   "execution_count": 76,
   "metadata": {},
   "outputs": [
    {
     "data": {
      "text/html": [
       "<div>\n",
       "<style scoped>\n",
       "    .dataframe tbody tr th:only-of-type {\n",
       "        vertical-align: middle;\n",
       "    }\n",
       "\n",
       "    .dataframe tbody tr th {\n",
       "        vertical-align: top;\n",
       "    }\n",
       "\n",
       "    .dataframe thead th {\n",
       "        text-align: right;\n",
       "    }\n",
       "</style>\n",
       "<table border=\"1\" class=\"dataframe\">\n",
       "  <thead>\n",
       "    <tr style=\"text-align: right;\">\n",
       "      <th></th>\n",
       "      <th>id</th>\n",
       "      <th>resultado_OneClass_PREDICT</th>\n",
       "    </tr>\n",
       "  </thead>\n",
       "  <tbody>\n",
       "    <tr>\n",
       "      <th>0</th>\n",
       "      <td>a6984c3ae395090e3bee8ad63c3758b110de096d5d8195...</td>\n",
       "      <td>-1</td>\n",
       "    </tr>\n",
       "    <tr>\n",
       "      <th>1</th>\n",
       "      <td>6178f41ade1365e44bc2c46654c2c8c0eaae27dcb476c4...</td>\n",
       "      <td>-1</td>\n",
       "    </tr>\n",
       "    <tr>\n",
       "      <th>2</th>\n",
       "      <td>4a7e5069a397f12fdd7fd57111d6dc5d3ba558958efc02...</td>\n",
       "      <td>-1</td>\n",
       "    </tr>\n",
       "    <tr>\n",
       "      <th>3</th>\n",
       "      <td>3348900fe63216a439d2e5238c79ddd46ede454df7b9d8...</td>\n",
       "      <td>-1</td>\n",
       "    </tr>\n",
       "    <tr>\n",
       "      <th>4</th>\n",
       "      <td>1f9bcabc9d3173c1fe769899e4fac14b053037b953a1e4...</td>\n",
       "      <td>-1</td>\n",
       "    </tr>\n",
       "  </tbody>\n",
       "</table>\n",
       "</div>"
      ],
      "text/plain": [
       "                                                  id  \\\n",
       "0  a6984c3ae395090e3bee8ad63c3758b110de096d5d8195...   \n",
       "1  6178f41ade1365e44bc2c46654c2c8c0eaae27dcb476c4...   \n",
       "2  4a7e5069a397f12fdd7fd57111d6dc5d3ba558958efc02...   \n",
       "3  3348900fe63216a439d2e5238c79ddd46ede454df7b9d8...   \n",
       "4  1f9bcabc9d3173c1fe769899e4fac14b053037b953a1e4...   \n",
       "\n",
       "   resultado_OneClass_PREDICT  \n",
       "0                          -1  \n",
       "1                          -1  \n",
       "2                          -1  \n",
       "3                          -1  \n",
       "4                          -1  "
      ]
     },
     "execution_count": 76,
     "metadata": {},
     "output_type": "execute_result"
    }
   ],
   "source": [
    "df_resultado.head()"
   ]
  },
  {
   "cell_type": "code",
   "execution_count": 77,
   "metadata": {},
   "outputs": [],
   "source": [
    "# Pronto, agora temos um DataFrame (df_resultado) com os valores de: ID, resultadoPredict\n",
    "# Agora temos que avaliar qual a % dos valores do portfolio foram preditas!\n",
    "\n",
    "# Lembrando que (lista_X_teste_split)/(df_X_teste_split):\n",
    "# É a LISTA com 20% dos \"ids\" presente no portfolio de entrada que \"se juntaram a população\"\n",
    "# É o DataFrame com 20% dos \"ids\" presente no portfolio de entrada que \"se juntaram a população\""
   ]
  },
  {
   "cell_type": "code",
   "execution_count": 78,
   "metadata": {},
   "outputs": [],
   "source": [
    "# O DataFrame (df_X_TESTE_split) contém os \"ids\" ...\n",
    "# ... corresponde aos 20% dos \"ids\" presente no portfólio de entrada que estavam na população\n",
    "\n",
    "# OBJETIVO: Calcular\n",
    "# Como:\n",
    "# SOMAR: quantidade de '1'em df_vamosAnalisar['resultado_OneClass_PREDICT']\n",
    "# Calcular %: SomaDos1 / Tamanho total\n",
    "#df_vamosAnalisar = df_resultado.loc[df_resultado['id'] == lista_ID_70_portfolioEntrada]"
   ]
  },
  {
   "cell_type": "code",
   "execution_count": 79,
   "metadata": {},
   "outputs": [],
   "source": [
    "#df_X_TESTE_split"
   ]
  },
  {
   "cell_type": "code",
   "execution_count": 80,
   "metadata": {},
   "outputs": [
    {
     "data": {
      "text/plain": [
       "Index(['id', 'resultado_OneClass_PREDICT'], dtype='object')"
      ]
     },
     "execution_count": 80,
     "metadata": {},
     "output_type": "execute_result"
    }
   ],
   "source": [
    "df_resultado.columns"
   ]
  },
  {
   "cell_type": "code",
   "execution_count": 81,
   "metadata": {},
   "outputs": [
    {
     "data": {
      "text/plain": [
       "array([-1,  1])"
      ]
     },
     "execution_count": 81,
     "metadata": {},
     "output_type": "execute_result"
    }
   ],
   "source": [
    "# Os resultados de (resultado_OneClass_PREDICT) são (-1 e 1)\n",
    "df_resultado['resultado_OneClass_PREDICT'].unique()"
   ]
  },
  {
   "cell_type": "code",
   "execution_count": 82,
   "metadata": {},
   "outputs": [],
   "source": [
    "# Vamos substituir os valores -1 por 0\n",
    "df_resultado['resultado_OneClass_PREDICT'].replace({-1: 0}, inplace = True)"
   ]
  },
  {
   "cell_type": "code",
   "execution_count": 83,
   "metadata": {},
   "outputs": [
    {
     "data": {
      "text/plain": [
       "array([0, 1])"
      ]
     },
     "execution_count": 83,
     "metadata": {},
     "output_type": "execute_result"
    }
   ],
   "source": [
    "# Testando para ver se mudamos os valores resultado de (-1 e 1) para (0 e 1)\n",
    "# Resposta: Ficou ótimo :D\n",
    "df_resultado['resultado_OneClass_PREDICT'].unique()"
   ]
  },
  {
   "cell_type": "code",
   "execution_count": 84,
   "metadata": {},
   "outputs": [],
   "source": [
    "df_axu = pd.DataFrame()"
   ]
  },
  {
   "cell_type": "code",
   "execution_count": 85,
   "metadata": {},
   "outputs": [],
   "source": [
    "valorTotal = 0\n",
    "tamanho = len(lista_X_ID_TESTE_split)\n",
    "\n",
    "lista = []\n",
    "for x in lista_X_ID_TESTE_split:\n",
    "    # print('x',x)\n",
    "    valor = list(df_resultado[df_resultado['id'] == x]['resultado_OneClass_PREDICT'])\n",
    "    valorTotal = valorTotal + valor[0]\n"
   ]
  },
  {
   "cell_type": "code",
   "execution_count": 86,
   "metadata": {},
   "outputs": [
    {
     "name": "stdout",
     "output_type": "stream",
     "text": [
      "O % de acerto foi:  0.41509433962264153\n"
     ]
    }
   ],
   "source": [
    "# Verificando % dos 53 que eu já sabia que fazia parte!\n",
    "acerto = (valorTotal/tamanho)\n",
    "print('O % de acerto foi: ', acerto)"
   ]
  },
  {
   "cell_type": "code",
   "execution_count": null,
   "metadata": {},
   "outputs": [],
   "source": []
  },
  {
   "cell_type": "code",
   "execution_count": null,
   "metadata": {},
   "outputs": [],
   "source": []
  },
  {
   "cell_type": "code",
   "execution_count": null,
   "metadata": {},
   "outputs": [],
   "source": []
  },
  {
   "cell_type": "code",
   "execution_count": null,
   "metadata": {},
   "outputs": [],
   "source": []
  },
  {
   "cell_type": "code",
   "execution_count": null,
   "metadata": {},
   "outputs": [],
   "source": []
  }
 ],
 "metadata": {
  "kernelspec": {
   "display_name": "Python 3",
   "language": "python",
   "name": "python3"
  },
  "language_info": {
   "codemirror_mode": {
    "name": "ipython",
    "version": 3
   },
   "file_extension": ".py",
   "mimetype": "text/x-python",
   "name": "python",
   "nbconvert_exporter": "python",
   "pygments_lexer": "ipython3",
   "version": "3.7.6"
  }
 },
 "nbformat": 4,
 "nbformat_minor": 4
}
